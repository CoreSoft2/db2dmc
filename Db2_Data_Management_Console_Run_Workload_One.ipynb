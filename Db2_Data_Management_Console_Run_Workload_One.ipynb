{
 "cells": [
  {
   "cell_type": "markdown",
   "metadata": {},
   "source": [
    "# Run SQL Workloads\n",
    "\n",
    "This Jupyter Notebook contains code to run SQL workloads across databases. \n",
    "\n",
    "The Db2 Data Management Console is more than a graphical user interface. It is a set of microservices that you can use to build custom applications to automate your use of Db2.\n",
    "\n",
    "This Jupyter Notebook contains examples of how to use the Open APIs and the composable interface that are available in the Db2 Data Management Console. Everything in the User Interface is also available through an open and fully documented RESTful Services API. The full set of APIs are documented as part of the Db2 Data Management Console user interface. In this hands on lab you can connect to the documentation directly through this link: [Db2 Data Management Console RESTful APIs](http://localhost:11080/dbapi/api/index_enterprise.html). \n",
    "\n",
    "You can also embed elements of the full user interface into an IFrame by constructing the appropriate URL.\n",
    "\n",
    "This hands on lab will be calling the Db2 Data Management Console as a service. However you can explore it through the user interface as well. Just click on the following link to try out the console that is already and setup in this lab: http://localhost:11080/console. If you have not already logged in you can use the following:\n",
    "* Userid: db2inst1\n",
    "* Password: db2inst1"
   ]
  },
  {
   "cell_type": "markdown",
   "metadata": {},
   "source": [
    "### Import Helper Classes\n",
    "For more information on these classes, see the lab: [Automate Db2 with Open Console Services](http://localhost:8888/notebooks/Db2_Data_Management_Console_Overview.ipynb)"
   ]
  },
  {
   "cell_type": "code",
   "execution_count": 1,
   "metadata": {},
   "outputs": [],
   "source": [
    "%run ./dmc_setup.ipynb"
   ]
  },
  {
   "cell_type": "markdown",
   "metadata": {},
   "source": [
    "### Db2 Data Management Console Connection\n",
    "To connect to the Db2 Data Management Console service you need to provide the URL, the service name (v4) and profile the console user name and password as well as the name of the connection profile used in the console to connect to the database you want to work with. For this lab we are assuming that the following values are used for the connection:\n",
    "* Userid: db2inst1\n",
    "* Password: db2inst1\n",
    "* Connection: sample\n",
    "\n",
    "**Note:** If the Db2 Data Management Console has not completed initialization, the connection below will fail. Wait for a few moments and then try it again."
   ]
  },
  {
   "cell_type": "code",
   "execution_count": 2,
   "metadata": {},
   "outputs": [
    {
     "name": "stdout",
     "output_type": "stream",
     "text": [
      "Token Created\n"
     ]
    }
   ],
   "source": [
    "# Connect to the Db2 Data Management Console service\n",
    "Console  = 'http://localhost:11080'\n",
    "profile  = 'SAMPLE'\n",
    "user     = 'DB2INST1'\n",
    "password = 'db2inst1'\n",
    "\n",
    "# Set up the required connection\n",
    "profileURL = \"?profile=\"+profile\n",
    "databaseAPI = Db2(Console+'/dbapi/v4')\n",
    "\n",
    "if databaseAPI.authenticate(user, password, profile) :\n",
    "    print(\"Token Created\")\n",
    "else : \n",
    "    print(\"Token Creation Failed\")\n",
    "database = Console"
   ]
  },
  {
   "cell_type": "markdown",
   "metadata": {},
   "source": [
    "### Confirm the connection\n",
    "To confirm that your connection is working you can check the status of the moitoring service. You can also check your console connection to get the details of the specific database connection you are working with. Since your console user id and password may be limited as to which databases they can access you need to provide the connection profile name to drill down on any detailed information for the database."
   ]
  },
  {
   "cell_type": "code",
   "execution_count": 3,
   "metadata": {},
   "outputs": [
    {
     "name": "stdout",
     "output_type": "stream",
     "text": [
      "{'name': 'SAMPLE', 'disableDataCollection': 'false', 'databaseVersion': '11.5.0', 'databaseName': 'SAMPLE', 'timeZone': '-50000', 'DB2Instance': 'db2inst1', 'db2license': 'AESE,DEC', 'isInstPureScale': 'false', 'databaseVersion_VRMF': '11.5.0.0', 'sslConnection': 'false', 'userProfileRole': 'OWNER', 'timeZoneDiff': '0', 'host': 'localhost', '_PROFILE_INIT_': 'true', 'dataServerType': 'DB2LUW', 'port': '50000', 'URL': 'jdbc:db2://localhost:50000/SAMPLE', 'edition': 'AESE,DEC', 'isInstPartitionable': 'false', 'dataServerExternalType': 'DB2LUW', 'capabilities': '[\"DSM_ENTERPRISE_LUW\"]', 'OSType': 'Linux', 'location': ''}\n"
     ]
    }
   ],
   "source": [
    "# List Monitoring Profile\n",
    "r = databaseAPI.getProfile(profile)\n",
    "json = databaseAPI.getJSON(r)\n",
    "print(json)"
   ]
  },
  {
   "cell_type": "markdown",
   "metadata": {},
   "source": [
    "### SQL Scripts Used to Generate Work\n",
    "We are going to define a few scripts that we will use during this lab. "
   ]
  },
  {
   "cell_type": "code",
   "execution_count": 4,
   "metadata": {},
   "outputs": [
    {
     "name": "stdout",
     "output_type": "stream",
     "text": [
      "Defined Workload 1 Script\n"
     ]
    }
   ],
   "source": [
    "sqlScriptWorkload1 = \\\n",
    "'''\n",
    "WITH SALARYBY (DEPTNO, TOTAL) AS\n",
    "    (SELECT DEPT.DEPTNO DNO, SUM(BIGINT(EMP.SALARY)) TOTAL_SALARY\n",
    "        FROM EMPLOYEES EMP, DEPARTMENTS DEPT\n",
    "        WHERE DEPT.DEPTNO = EMP.DEPTNO AND EMP.SALARY > 190000\n",
    "        GROUP BY DEPT.DEPTNO\n",
    "        ORDER BY DNO)\n",
    "SELECT DEPT.DEPTNAME NAME, SALARYBY.TOTAL COST, DEPT.REVENUE, DEPT.REVENUE-SALARYBY.TOTAL PROFIT\n",
    "FROM SALARYBY, DEPARTMENTS DEPT\n",
    "WHERE DEPT.DEPTNO = SALARYBY.DEPTNO\n",
    "AND REVENUE > TOTAL\n",
    "ORDER BY PROFIT\n",
    "'''\n",
    "print(\"Defined Workload 1 Script\")"
   ]
  },
  {
   "cell_type": "code",
   "execution_count": 5,
   "metadata": {},
   "outputs": [
    {
     "name": "stdout",
     "output_type": "stream",
     "text": [
      "Defined Workload 2 Script\n"
     ]
    }
   ],
   "source": [
    "sqlScriptWorkload2 = \\\n",
    "'''\n",
    "SELECT DEPT.DEPTNO DNO, SUM(FLOAT(EMP.SALARY)) TOTAL_SALARY\n",
    "  FROM EMPLOYEES EMP, DEPARTMENTS DEPT \n",
    "  WHERE DEPT.DEPTNO = EMP.DEPTNO \n",
    "      AND EMP.SALARY < 50000\n",
    "      AND YEAR(EMP.HIREDATA) > 2010\n",
    "  GROUP BY DEPT.DEPTNO\n",
    "  ORDER BY DNO;\n",
    "\n",
    "SELECT DEPT.DEPTNO DNO, SUM(FLOAT(EMP.SALARY)) TOTAL_SALARY\n",
    "  FROM EMPLOYEES EMP, DEPARTMENTS DEPT \n",
    "  WHERE DEPT.DEPTNO = EMP.DEPTNO \n",
    "      AND EMP.SALARY < 190000\n",
    "      AND YEAR(EMP.HIREDATA) > 2010\n",
    "  GROUP BY DEPT.DEPTNO\n",
    "  ORDER BY DNO;\n",
    "\n",
    "SELECT DEPT.DEPTNO, DEPT.REVENUE\n",
    "  FROM DEPARTMENTS DEPT WHERE DEPT.REVENUE > 450000000;\n",
    "'''\n",
    "print(\"Defined Workload 2 Script\")"
   ]
  },
  {
   "cell_type": "markdown",
   "metadata": {},
   "source": [
    "### Creating a Routine to Run an SQL Script\n",
    "To make things easier we can create reusable routines that will included everything we have developed so far. By running the next two steps, you create two routines that you can call by passing parameters to them. \n",
    "\n",
    "While we could create a single routine to run SQL and then display the results, we are creating two different routines so that we can display the results differently later in the lab. "
   ]
  },
  {
   "cell_type": "code",
   "execution_count": 6,
   "metadata": {},
   "outputs": [
    {
     "name": "stdout",
     "output_type": "stream",
     "text": [
      "runSQL routine defined\n"
     ]
    }
   ],
   "source": [
    "def runSQL(profile,user, password, sqlText):\n",
    "    \n",
    "    if databaseAPI.authenticate(user, password, profile) :\n",
    "\n",
    "        # Run the SQL Script and return the runID for later reference \n",
    "        runID = databaseAPI.getJSON(databaseAPI.runSQL(sqlText))['id'] \n",
    "\n",
    "        # See if there are any results yet for this job\n",
    "        json = databaseAPI.getJSON(databaseAPI.getSQLJobResult(runID))\n",
    "        \n",
    "        # If the REST call returns an error return the json with the error to the calling routine\n",
    "        if 'errors' in json :\n",
    "            return json\n",
    "        # Append the results from each statement in the script to the overall combined JSON result set\n",
    "        fulljson = json\n",
    "\n",
    "        while json['results'] != [] or (json['status'] != \"completed\" and json['status'] != \"failed\") :\n",
    "            json = databaseAPI.getJSON(databaseAPI.getSQLJobResult(runID))\n",
    "\n",
    "            # Get the results from each statement as they return and append the results to the full JSON \n",
    "            for results in json['results'] :\n",
    "                fulljson['results'].append(results)\n",
    "            # Wait 250 ms for more results\n",
    "            time.sleep(0.25) \n",
    "        return fulljson\n",
    "    else :\n",
    "        print('Could not authenticate')\n",
    "print('runSQL routine defined')"
   ]
  },
  {
   "cell_type": "code",
   "execution_count": 7,
   "metadata": {},
   "outputs": [
    {
     "name": "stdout",
     "output_type": "stream",
     "text": [
      "displayResults routine defined\n"
     ]
    }
   ],
   "source": [
    "def displayResults(json):\n",
    "\n",
    "    for results in json['results']:\n",
    "        print('Statement: '+str(results['index'])+': '+results['command'])\n",
    "        print('Runtime ms: '+str(results['runtime_seconds']*1000))\n",
    "        if 'error' in results : \n",
    "            print(results['error'])\n",
    "        elif 'rows' in results :\n",
    "            df = pd.DataFrame(results['rows'],columns=results['columns'])\n",
    "            print(df)\n",
    "        else :\n",
    "            print('No errors. Row Affected: '+str(results['rows_affected']))\n",
    "        print()\n",
    "print('displayResults routine defined')"
   ]
  },
  {
   "cell_type": "markdown",
   "metadata": {},
   "source": [
    "### Running multiple scripts across multiple databases - Summarized Results\n",
    "Now that we have our tables created on both databases, we can run workloads and measure their performance. By repeatedly running the scripts across multiple databases in a single Db2 instance we can simulate a real database environemt. \n",
    "\n",
    "Instead of using the displayResults routine we are going to capture runtime metrics for each run of the SQL Query workloads so that we can analyze performance. The appendResults routine builds this dataframe with each pass.\n",
    "\n",
    "runScripts lets use define the database connection profiles we want to run against, the scripts to run, and now many times to repeat the runs for each profile and for each script."
   ]
  },
  {
   "cell_type": "code",
   "execution_count": 8,
   "metadata": {},
   "outputs": [
    {
     "name": "stdout",
     "output_type": "stream",
     "text": [
      "appendResults routine defined\n"
     ]
    }
   ],
   "source": [
    "# This routine builds up a Data Frame containing the run results as we run workloads across databases\n",
    "def appendResults(df, profile, json) :\n",
    "    \n",
    "    error = ''\n",
    "    rows = 0\n",
    "    if 'error' in json :\n",
    "        print('SQL Service Failed')\n",
    "    else :\n",
    "        for results in json['results']:\n",
    "            if 'error' in results : \n",
    "                error = results['error']\n",
    "            if 'rows_affected' in results : \n",
    "                rows = results['rows_affected']\n",
    "            df = df.append({'profile':profile,'index':results['index'], 'statement':results['command'], 'error':error, 'rows_affected': rows, 'runtime_ms':(results['runtime_seconds']*1000)}, ignore_index=True)\n",
    "        return df\n",
    "print('appendResults routine defined')"
   ]
  },
  {
   "cell_type": "code",
   "execution_count": 9,
   "metadata": {},
   "outputs": [
    {
     "name": "stdout",
     "output_type": "stream",
     "text": [
      "runScripts routine defined\n"
     ]
    }
   ],
   "source": [
    "# This routine runs multistatment scripts across multiple databases. \n",
    "# The scripts are run repeatedly for each profile (database)\n",
    "def runScripts(profileList, scriptList, user, password, profileReps, scriptReps) :\n",
    "\n",
    "    df = pd.DataFrame(columns=['profile', 'index', 'statement', 'error', 'rows_affected', 'runtime_ms'])\n",
    "    \n",
    "    for x in range(0, profileReps):\n",
    "        print(\"Running repetition: \"+str(x))\n",
    "        for profile in profileList :\n",
    "            print(\"  Running scripts against: \"+profile)\n",
    "            for y in range(0, scriptReps) :\n",
    "                print(\"    Running script repetition: \"+str(y))\n",
    "                for script in scriptList :\n",
    "                    json = runSQL(profile, user, password, script)\n",
    "                    while 'errors' in json:\n",
    "                        print('    * Trying again *')\n",
    "                        json = runSQL(profile, user, password, script)\n",
    "                    df = appendResults(df, profile, json)\n",
    "                        \n",
    "    return df\n",
    "print('runScripts routine defined')"
   ]
  },
  {
   "cell_type": "markdown",
   "metadata": {},
   "source": [
    "The next cell loops through a list of databases as well as a list of scripts and run then repeatedly. You an set the number of times the scripts are run against each database and the number of times the runs against both databases is repeated."
   ]
  },
  {
   "cell_type": "code",
   "execution_count": 10,
   "metadata": {},
   "outputs": [
    {
     "name": "stdout",
     "output_type": "stream",
     "text": [
      "Running repetition: 0\n",
      "  Running scripts against: SAMPLE\n",
      "    Running script repetition: 0\n",
      "    Running script repetition: 1\n",
      "    Running script repetition: 2\n",
      "    Running script repetition: 3\n",
      "    Running script repetition: 4\n",
      "  Running scripts against: HISTORY\n",
      "    Running script repetition: 0\n",
      "    Running script repetition: 1\n",
      "    Running script repetition: 2\n",
      "    Running script repetition: 3\n",
      "    Running script repetition: 4\n",
      "Running repetition: 1\n",
      "  Running scripts against: SAMPLE\n",
      "    Running script repetition: 0\n",
      "    Running script repetition: 1\n",
      "    Running script repetition: 2\n",
      "    Running script repetition: 3\n",
      "    Running script repetition: 4\n",
      "    * Trying again *\n",
      "  Running scripts against: HISTORY\n",
      "    Running script repetition: 0\n",
      "    Running script repetition: 1\n",
      "    Running script repetition: 2\n",
      "    Running script repetition: 3\n",
      "    Running script repetition: 4\n",
      "Running repetition: 2\n",
      "  Running scripts against: SAMPLE\n",
      "    Running script repetition: 0\n",
      "    Running script repetition: 1\n",
      "    Running script repetition: 2\n",
      "    Running script repetition: 3\n",
      "    Running script repetition: 4\n",
      "  Running scripts against: HISTORY\n",
      "    Running script repetition: 0\n",
      "    Running script repetition: 1\n",
      "    Running script repetition: 2\n",
      "    Running script repetition: 3\n",
      "    Running script repetition: 4\n",
      "Running repetition: 3\n",
      "  Running scripts against: SAMPLE\n",
      "    Running script repetition: 0\n",
      "    Running script repetition: 1\n",
      "    Running script repetition: 2\n",
      "    Running script repetition: 3\n",
      "    Running script repetition: 4\n",
      "  Running scripts against: HISTORY\n",
      "    Running script repetition: 0\n",
      "    Running script repetition: 1\n",
      "    Running script repetition: 2\n",
      "    Running script repetition: 3\n",
      "    Running script repetition: 4\n",
      "Running repetition: 4\n",
      "  Running scripts against: SAMPLE\n",
      "    Running script repetition: 0\n",
      "    * Trying again *\n",
      "    Running script repetition: 1\n",
      "    Running script repetition: 2\n",
      "    Running script repetition: 3\n",
      "    Running script repetition: 4\n",
      "  Running scripts against: HISTORY\n",
      "    Running script repetition: 0\n",
      "    Running script repetition: 1\n",
      "    Running script repetition: 2\n",
      "    Running script repetition: 3\n",
      "    Running script repetition: 4\n",
      "Running repetition: 5\n",
      "  Running scripts against: SAMPLE\n",
      "    Running script repetition: 0\n",
      "    Running script repetition: 1\n",
      "    Running script repetition: 2\n",
      "    Running script repetition: 3\n",
      "    Running script repetition: 4\n",
      "  Running scripts against: HISTORY\n",
      "    Running script repetition: 0\n",
      "    Running script repetition: 1\n",
      "    Running script repetition: 2\n",
      "    Running script repetition: 3\n",
      "    Running script repetition: 4\n",
      "Running repetition: 6\n",
      "  Running scripts against: SAMPLE\n",
      "    Running script repetition: 0\n",
      "    Running script repetition: 1\n",
      "    Running script repetition: 2\n",
      "    Running script repetition: 3\n",
      "    Running script repetition: 4\n",
      "  Running scripts against: HISTORY\n",
      "    Running script repetition: 0\n",
      "    Running script repetition: 1\n",
      "    Running script repetition: 2\n",
      "    Running script repetition: 3\n",
      "    Running script repetition: 4\n",
      "Running repetition: 7\n",
      "  Running scripts against: SAMPLE\n",
      "    Running script repetition: 0\n",
      "    Running script repetition: 1\n",
      "    Running script repetition: 2\n",
      "    Running script repetition: 3\n",
      "    Running script repetition: 4\n",
      "  Running scripts against: HISTORY\n",
      "    Running script repetition: 0\n",
      "    Running script repetition: 1\n",
      "    Running script repetition: 2\n",
      "    Running script repetition: 3\n",
      "    Running script repetition: 4\n",
      "Running repetition: 8\n",
      "  Running scripts against: SAMPLE\n",
      "    Running script repetition: 0\n",
      "    Running script repetition: 1\n",
      "    Running script repetition: 2\n",
      "    Running script repetition: 3\n",
      "    Running script repetition: 4\n",
      "  Running scripts against: HISTORY\n",
      "    Running script repetition: 0\n",
      "    Running script repetition: 1\n",
      "    Running script repetition: 2\n",
      "    Running script repetition: 3\n",
      "    Running script repetition: 4\n",
      "Running repetition: 9\n",
      "  Running scripts against: SAMPLE\n",
      "    Running script repetition: 0\n",
      "    Running script repetition: 1\n",
      "    Running script repetition: 2\n",
      "    Running script repetition: 3\n",
      "    Running script repetition: 4\n",
      "  Running scripts against: HISTORY\n",
      "    Running script repetition: 0\n",
      "    Running script repetition: 1\n",
      "    * Trying again *\n",
      "    Running script repetition: 2\n",
      "    Running script repetition: 3\n",
      "    Running script repetition: 4\n",
      "Running repetition: 10\n",
      "  Running scripts against: SAMPLE\n",
      "    Running script repetition: 0\n",
      "    Running script repetition: 1\n",
      "    Running script repetition: 2\n",
      "    Running script repetition: 3\n",
      "    Running script repetition: 4\n",
      "  Running scripts against: HISTORY\n",
      "    Running script repetition: 0\n",
      "    Running script repetition: 1\n",
      "    Running script repetition: 2\n",
      "    Running script repetition: 3\n",
      "    Running script repetition: 4\n",
      "Running repetition: 11\n",
      "  Running scripts against: SAMPLE\n",
      "    Running script repetition: 0\n",
      "    Running script repetition: 1\n",
      "    Running script repetition: 2\n",
      "    Running script repetition: 3\n",
      "    Running script repetition: 4\n",
      "  Running scripts against: HISTORY\n",
      "    Running script repetition: 0\n",
      "    Running script repetition: 1\n",
      "    Running script repetition: 2\n",
      "    Running script repetition: 3\n",
      "    Running script repetition: 4\n",
      "Running repetition: 12\n",
      "  Running scripts against: SAMPLE\n",
      "    Running script repetition: 0\n",
      "    Running script repetition: 1\n",
      "    Running script repetition: 2\n",
      "    Running script repetition: 3\n",
      "    Running script repetition: 4\n",
      "  Running scripts against: HISTORY\n",
      "    Running script repetition: 0\n",
      "    Running script repetition: 1\n",
      "    Running script repetition: 2\n",
      "    Running script repetition: 3\n",
      "    Running script repetition: 4\n",
      "Running repetition: 13\n",
      "  Running scripts against: SAMPLE\n",
      "    Running script repetition: 0\n",
      "    Running script repetition: 1\n",
      "    Running script repetition: 2\n",
      "    Running script repetition: 3\n",
      "    Running script repetition: 4\n",
      "  Running scripts against: HISTORY\n",
      "    Running script repetition: 0\n",
      "    Running script repetition: 1\n",
      "    Running script repetition: 2\n",
      "    Running script repetition: 3\n",
      "    Running script repetition: 4\n",
      "Running repetition: 14\n",
      "  Running scripts against: SAMPLE\n",
      "    Running script repetition: 0\n",
      "    Running script repetition: 1\n",
      "    Running script repetition: 2\n",
      "    Running script repetition: 3\n",
      "    Running script repetition: 4\n",
      "  Running scripts against: HISTORY\n",
      "    Running script repetition: 0\n",
      "    Running script repetition: 1\n",
      "    Running script repetition: 2\n",
      "    Running script repetition: 3\n",
      "    Running script repetition: 4\n",
      "Running repetition: 15\n",
      "  Running scripts against: SAMPLE\n",
      "    Running script repetition: 0\n",
      "    Running script repetition: 1\n",
      "    Running script repetition: 2\n",
      "    Running script repetition: 3\n",
      "    Running script repetition: 4\n",
      "  Running scripts against: HISTORY\n",
      "    Running script repetition: 0\n",
      "    Running script repetition: 1\n",
      "    Running script repetition: 2\n",
      "    Running script repetition: 3\n",
      "    Running script repetition: 4\n",
      "Running repetition: 16\n",
      "  Running scripts against: SAMPLE\n",
      "    Running script repetition: 0\n",
      "    Running script repetition: 1\n",
      "    Running script repetition: 2\n",
      "    * Trying again *\n",
      "    Running script repetition: 3\n",
      "    Running script repetition: 4\n",
      "  Running scripts against: HISTORY\n",
      "    Running script repetition: 0\n",
      "    Running script repetition: 1\n",
      "    Running script repetition: 2\n",
      "    Running script repetition: 3\n",
      "    Running script repetition: 4\n",
      "Running repetition: 17\n",
      "  Running scripts against: SAMPLE\n",
      "    Running script repetition: 0\n",
      "    Running script repetition: 1\n",
      "    Running script repetition: 2\n",
      "    Running script repetition: 3\n",
      "    Running script repetition: 4\n",
      "  Running scripts against: HISTORY\n",
      "    Running script repetition: 0\n",
      "    Running script repetition: 1\n",
      "    Running script repetition: 2\n",
      "    Running script repetition: 3\n",
      "    Running script repetition: 4\n",
      "Running repetition: 18\n",
      "  Running scripts against: SAMPLE\n",
      "    Running script repetition: 0\n",
      "    Running script repetition: 1\n",
      "    Running script repetition: 2\n",
      "    Running script repetition: 3\n",
      "    Running script repetition: 4\n",
      "  Running scripts against: HISTORY\n",
      "    Running script repetition: 0\n",
      "    Running script repetition: 1\n",
      "    Running script repetition: 2\n",
      "    Running script repetition: 3\n",
      "    Running script repetition: 4\n",
      "Running repetition: 19\n",
      "  Running scripts against: SAMPLE\n",
      "    Running script repetition: 0\n",
      "    Running script repetition: 1\n"
     ]
    },
    {
     "name": "stdout",
     "output_type": "stream",
     "text": [
      "    Running script repetition: 2\n",
      "    Running script repetition: 3\n",
      "    Running script repetition: 4\n",
      "  Running scripts against: HISTORY\n",
      "    Running script repetition: 0\n",
      "    Running script repetition: 1\n",
      "    Running script repetition: 2\n",
      "    Running script repetition: 3\n",
      "    Running script repetition: 4\n"
     ]
    },
    {
     "data": {
      "text/html": [
       "<div>\n",
       "<style scoped>\n",
       "    .dataframe tbody tr th:only-of-type {\n",
       "        vertical-align: middle;\n",
       "    }\n",
       "\n",
       "    .dataframe tbody tr th {\n",
       "        vertical-align: top;\n",
       "    }\n",
       "\n",
       "    .dataframe thead th {\n",
       "        text-align: right;\n",
       "    }\n",
       "</style>\n",
       "<table border=\"1\" class=\"dataframe\">\n",
       "  <thead>\n",
       "    <tr style=\"text-align: right;\">\n",
       "      <th></th>\n",
       "      <th>profile</th>\n",
       "      <th>index</th>\n",
       "      <th>statement</th>\n",
       "      <th>error</th>\n",
       "      <th>rows_affected</th>\n",
       "      <th>runtime_ms</th>\n",
       "    </tr>\n",
       "  </thead>\n",
       "  <tbody>\n",
       "    <tr>\n",
       "      <td>0</td>\n",
       "      <td>SAMPLE</td>\n",
       "      <td>0</td>\n",
       "      <td>WITH SALARYBY (DEPTNO, TOTAL) AS\\n    (SELECT ...</td>\n",
       "      <td></td>\n",
       "      <td>0</td>\n",
       "      <td>446.999997</td>\n",
       "    </tr>\n",
       "    <tr>\n",
       "      <td>1</td>\n",
       "      <td>SAMPLE</td>\n",
       "      <td>0</td>\n",
       "      <td>SELECT DEPT.DEPTNO DNO, SUM(FLOAT(EMP.SALARY))...</td>\n",
       "      <td></td>\n",
       "      <td>0</td>\n",
       "      <td>1480.000019</td>\n",
       "    </tr>\n",
       "    <tr>\n",
       "      <td>2</td>\n",
       "      <td>SAMPLE</td>\n",
       "      <td>1</td>\n",
       "      <td>SELECT DEPT.DEPTNO DNO, SUM(FLOAT(EMP.SALARY))...</td>\n",
       "      <td></td>\n",
       "      <td>0</td>\n",
       "      <td>759.999990</td>\n",
       "    </tr>\n",
       "    <tr>\n",
       "      <td>3</td>\n",
       "      <td>SAMPLE</td>\n",
       "      <td>2</td>\n",
       "      <td>SELECT DEPT.DEPTNO, DEPT.REVENUE\\n  FROM DEPAR...</td>\n",
       "      <td></td>\n",
       "      <td>0</td>\n",
       "      <td>3.000000</td>\n",
       "    </tr>\n",
       "    <tr>\n",
       "      <td>4</td>\n",
       "      <td>SAMPLE</td>\n",
       "      <td>0</td>\n",
       "      <td>WITH SALARYBY (DEPTNO, TOTAL) AS\\n    (SELECT ...</td>\n",
       "      <td></td>\n",
       "      <td>0</td>\n",
       "      <td>601.999998</td>\n",
       "    </tr>\n",
       "    <tr>\n",
       "      <td>...</td>\n",
       "      <td>...</td>\n",
       "      <td>...</td>\n",
       "      <td>...</td>\n",
       "      <td>...</td>\n",
       "      <td>...</td>\n",
       "      <td>...</td>\n",
       "    </tr>\n",
       "    <tr>\n",
       "      <td>797</td>\n",
       "      <td>HISTORY</td>\n",
       "      <td>2</td>\n",
       "      <td>SELECT DEPT.DEPTNO, DEPT.REVENUE\\n  FROM DEPAR...</td>\n",
       "      <td></td>\n",
       "      <td>0</td>\n",
       "      <td>1.000000</td>\n",
       "    </tr>\n",
       "    <tr>\n",
       "      <td>798</td>\n",
       "      <td>HISTORY</td>\n",
       "      <td>0</td>\n",
       "      <td>WITH SALARYBY (DEPTNO, TOTAL) AS\\n    (SELECT ...</td>\n",
       "      <td></td>\n",
       "      <td>0</td>\n",
       "      <td>347.999990</td>\n",
       "    </tr>\n",
       "    <tr>\n",
       "      <td>799</td>\n",
       "      <td>HISTORY</td>\n",
       "      <td>0</td>\n",
       "      <td>SELECT DEPT.DEPTNO DNO, SUM(FLOAT(EMP.SALARY))...</td>\n",
       "      <td></td>\n",
       "      <td>0</td>\n",
       "      <td>219.999999</td>\n",
       "    </tr>\n",
       "    <tr>\n",
       "      <td>800</td>\n",
       "      <td>HISTORY</td>\n",
       "      <td>1</td>\n",
       "      <td>SELECT DEPT.DEPTNO DNO, SUM(FLOAT(EMP.SALARY))...</td>\n",
       "      <td></td>\n",
       "      <td>0</td>\n",
       "      <td>321.000010</td>\n",
       "    </tr>\n",
       "    <tr>\n",
       "      <td>801</td>\n",
       "      <td>HISTORY</td>\n",
       "      <td>2</td>\n",
       "      <td>SELECT DEPT.DEPTNO, DEPT.REVENUE\\n  FROM DEPAR...</td>\n",
       "      <td></td>\n",
       "      <td>0</td>\n",
       "      <td>1.000000</td>\n",
       "    </tr>\n",
       "  </tbody>\n",
       "</table>\n",
       "<p>802 rows × 6 columns</p>\n",
       "</div>"
      ],
      "text/plain": [
       "     profile index                                          statement error  \\\n",
       "0     SAMPLE     0  WITH SALARYBY (DEPTNO, TOTAL) AS\\n    (SELECT ...         \n",
       "1     SAMPLE     0  SELECT DEPT.DEPTNO DNO, SUM(FLOAT(EMP.SALARY))...         \n",
       "2     SAMPLE     1  SELECT DEPT.DEPTNO DNO, SUM(FLOAT(EMP.SALARY))...         \n",
       "3     SAMPLE     2  SELECT DEPT.DEPTNO, DEPT.REVENUE\\n  FROM DEPAR...         \n",
       "4     SAMPLE     0  WITH SALARYBY (DEPTNO, TOTAL) AS\\n    (SELECT ...         \n",
       "..       ...   ...                                                ...   ...   \n",
       "797  HISTORY     2  SELECT DEPT.DEPTNO, DEPT.REVENUE\\n  FROM DEPAR...         \n",
       "798  HISTORY     0  WITH SALARYBY (DEPTNO, TOTAL) AS\\n    (SELECT ...         \n",
       "799  HISTORY     0  SELECT DEPT.DEPTNO DNO, SUM(FLOAT(EMP.SALARY))...         \n",
       "800  HISTORY     1  SELECT DEPT.DEPTNO DNO, SUM(FLOAT(EMP.SALARY))...         \n",
       "801  HISTORY     2  SELECT DEPT.DEPTNO, DEPT.REVENUE\\n  FROM DEPAR...         \n",
       "\n",
       "    rows_affected   runtime_ms  \n",
       "0               0   446.999997  \n",
       "1               0  1480.000019  \n",
       "2               0   759.999990  \n",
       "3               0     3.000000  \n",
       "4               0   601.999998  \n",
       "..            ...          ...  \n",
       "797             0     1.000000  \n",
       "798             0   347.999990  \n",
       "799             0   219.999999  \n",
       "800             0   321.000010  \n",
       "801             0     1.000000  \n",
       "\n",
       "[802 rows x 6 columns]"
      ]
     },
     "metadata": {},
     "output_type": "display_data"
    }
   ],
   "source": [
    "profileList = ['SAMPLE','HISTORY']\n",
    "scriptList = [sqlScriptWorkload1, sqlScriptWorkload2]\n",
    "user = 'DB2INST1'\n",
    "password = 'db2inst1'\n",
    "profileReps = 20\n",
    "scriptReps = 5\n",
    "\n",
    "df = runScripts(profileList, scriptList, user, password, profileReps, scriptReps)\n",
    "\n",
    "display(df)"
   ]
  },
  {
   "cell_type": "markdown",
   "metadata": {},
   "source": [
    "### Analyze Results\n",
    "Now we can use the results in the dataframe to look at the results statistically. First we can see the average runtime for each statement across the databases."
   ]
  },
  {
   "cell_type": "code",
   "execution_count": 11,
   "metadata": {},
   "outputs": [
    {
     "name": "stdout",
     "output_type": "stream",
     "text": [
      "Mean runtime in ms\n",
      "                                                                                                      runtime_ms\n",
      "statement                                                                                                       \n",
      "SELECT DEPT.DEPTNO DNO, SUM(FLOAT(EMP.SALARY)) TOTAL_SALARY\\n  FROM EMPLOYEES EMP, DEPARTMENTS DE...  573.940299\n",
      "SELECT DEPT.DEPTNO DNO, SUM(FLOAT(EMP.SALARY)) TOTAL_SALARY\\n  FROM EMPLOYEES EMP, DEPARTMENTS DE...  529.363183\n",
      "SELECT DEPT.DEPTNO, DEPT.REVENUE\\n  FROM DEPARTMENTS DEPT WHERE DEPT.REVENUE > 450000000                1.785000\n",
      "WITH SALARYBY (DEPTNO, TOTAL) AS\\n    (SELECT DEPT.DEPTNO DNO, SUM(BIGINT(EMP.SALARY)) TOTAL_SALA...  412.579999\n"
     ]
    }
   ],
   "source": [
    "print('Mean runtime in ms')\n",
    "pd.set_option('display.max_colwidth', 100)\n",
    "stmtMean = df.groupby(['statement']).mean()\n",
    "print(stmtMean)"
   ]
  },
  {
   "cell_type": "markdown",
   "metadata": {},
   "source": [
    "We can also display the total runtime for each statement across databases."
   ]
  },
  {
   "cell_type": "code",
   "execution_count": 12,
   "metadata": {},
   "outputs": [
    {
     "name": "stdout",
     "output_type": "stream",
     "text": [
      "Total runtime in ms\n",
      "                                                                                                         runtime_ms\n",
      "statement                                                                                                          \n",
      "SELECT DEPT.DEPTNO DNO, SUM(FLOAT(EMP.SALARY)) TOTAL_SALARY\\n  FROM EMPLOYEES EMP, DEPARTMENTS DE...  115362.000003\n",
      "SELECT DEPT.DEPTNO DNO, SUM(FLOAT(EMP.SALARY)) TOTAL_SALARY\\n  FROM EMPLOYEES EMP, DEPARTMENTS DE...  106401.999876\n",
      "SELECT DEPT.DEPTNO, DEPT.REVENUE\\n  FROM DEPARTMENTS DEPT WHERE DEPT.REVENUE > 450000000                 357.000011\n",
      "WITH SALARYBY (DEPTNO, TOTAL) AS\\n    (SELECT DEPT.DEPTNO DNO, SUM(BIGINT(EMP.SALARY)) TOTAL_SALA...   82515.999869\n"
     ]
    }
   ],
   "source": [
    "print('Total runtime in ms')\n",
    "pd.set_option('display.max_colwidth', 100)\n",
    "stmtSum = df.groupby(['statement']).sum()\n",
    "print(stmtSum)"
   ]
  },
  {
   "cell_type": "markdown",
   "metadata": {},
   "source": [
    "We can even graph the total run time for all the statements can compare database performance. Since there are more rows in the employees table in the SAMPLE database it takes longer for the queries to run."
   ]
  },
  {
   "cell_type": "code",
   "execution_count": 13,
   "metadata": {},
   "outputs": [
    {
     "name": "stdout",
     "output_type": "stream",
     "text": [
      "Mean runtime in ms\n"
     ]
    },
    {
     "data": {
      "image/png": "[encoded data removed]",
      "text/plain": [
       "<Figure size 432x288 with 1 Axes>"
      ]
     },
     "metadata": {
      "needs_background": "light"
     },
     "output_type": "display_data"
    }
   ],
   "source": [
    "print('Mean runtime in ms')\n",
    "pd.set_option('display.max_colwidth', 100)\n",
    "profileSum = df.groupby(['profile']).sum()\n",
    "profileSum.plot(kind='bar')\n",
    "plt.show()"
   ]
  },
  {
   "cell_type": "markdown",
   "metadata": {},
   "source": [
    "#### Credits: IBM 2019, Peter Kohlmann [kohlmann@ca.ibm.com]"
   ]
  }
 ],
 "metadata": {
  "kernelspec": {
   "display_name": "Python 3",
   "language": "python",
   "name": "python3"
  },
  "language_info": {
   "codemirror_mode": {
    "name": "ipython",
    "version": 3
   },
   "file_extension": ".py",
   "mimetype": "text/x-python",
   "name": "python",
   "nbconvert_exporter": "python",
   "pygments_lexer": "ipython3",
   "version": "3.7.4"
  }
 },
 "nbformat": 4,
 "nbformat_minor": 2
}
