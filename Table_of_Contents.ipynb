{
 "cells": [
  {
   "cell_type": "markdown",
   "metadata": {},
   "source": [
    "[![](./media/dte-header.jpg)](https://www.ibm.com/demos/collection/db2-database/)\n",
    "<a id=\"top\">"
   ]
  },
  {
   "cell_type": "markdown",
   "metadata": {},
   "source": [
    "# Using the Open Db2 Data Management Console RESTful Service APIs \n",
    "Welcome to this Db2 Data Management Console lab that highlights the RESTful services of the console. This lab uses Jupyter notebooks to demonstrate these features. If you are not familiar with the use of Jupyter notebooks or Python, the following notebooks will guide you through their usage. You can find a copy of these notebooks at https://github.com/Db2-DTE-POC/db2dmc."
   ]
  },
  {
   "cell_type": "markdown",
   "metadata": {},
   "source": [
    "<div style=\"font-family: 'IBM Plex Sans';\"> \n",
    "<table style=\"float:left; width: 620px; height: 235px; border-spacing: 10px; border-collapse: separate; table-layout: fixed\"> \n",
    "    <td style=\"padding: 15px; text-align:left; vertical-align: text-top; background-color:#F7F7F7; width: 300px; height: 250px;\"> \n",
    "        <div style=\"height: 75px\"><p style=\"font-size: 24px\">An Introduction to Jupyter Notebooks</div> \n",
    "        <div style=\"height: 125px\"><p style=\"font-size: 14px\"> \n",
    "             If you are not familiar with the use of Jupyter notebooks or Python, the following notebook  \n",
    "             will guide you through their usage. \n",
    "        </div> \n",
    "        <div style=\"height: 25px\"><p style=\"font-size: 12px; text-align: right\"> \n",
    "            <img style=\"display: inline-block;\"src=\"./media/clock.png\">&nbsp;10min \n",
    "        </div> \n",
    "        <div style=\"height: 10px\"><p style=\"font-size: 12px; text-align: right\"> \n",
    "             <a href=\"http://localhost:8888/notebooks/An_Introduction_to_Jupyter_Notebooks.ipynb\"> \n",
    "                 <img style=\"display: inline-block;\"src=\"./media/arrowblue.png\"></a>             \n",
    "        </div>             \n",
    "    </td> \n",
    "    <td style=\"padding: 15px; text-align:left; vertical-align: text-top; background-color:#F7F7F7; width: 300px; height:250px\"> \n",
    "        <div style=\"height: 75px\"><p style=\"font-size: 24px\">Db2 Magic Commands</div> \n",
    "        <div style=\"height: 125px\"><p style=\"font-size: 14px\"> \n",
    "             Db2 Magic commands are used in all of the notebooks used in this lab.  \n",
    "             The following notebook provides a tutorial on basics of using the Db2 magic commands. \n",
    "        </div> \n",
    "        <div style=\"height: 25px\"><p style=\"font-size: 12px; text-align: right\"> \n",
    "            <img style=\"display: inline-block;\"src=\"./media/clock.png\">&nbsp;10min \n",
    "        </div>   \n",
    "        <div style=\"height: 10px\"><p style=\"font-size: 12px; text-align: right\"> \n",
    "             <a href=\"http://localhost:8888/notebooks/Db2_Jupyter_Extensions_Tutorial.ipynb\"> \n",
    "                 <img style=\"display: inline-block;\"src=\"./media/arrowblue.png\"></a>             \n",
    "        </div>             \n",
    "    </td> \n",
    "</table> \n",
    "</div>"
   ]
  },
  {
   "cell_type": "markdown",
   "metadata": {},
   "source": [
    "Everything we do through the Db2 Data Management Console interface goes through a new RESTful API that is open and available. That includes APIs to run SQL, Manage Database Objects and Privileges, Monitor performance, load data and files and configure all aspects of the console. The following lab illustrates the use of these RESTful APIs. "
   ]
  },
  {
   "cell_type": "markdown",
   "metadata": {},
   "source": [
    "<!-- Row 1 -->\n",
    "<div style=\"font-family: 'IBM Plex Sans';\">\n",
    "<table style=\"float:left; width: 620px; height: 235px; border-spacing: 10px; border-collapse: separate; table-layout: fixed\">\n",
    "    <td style=\"padding: 15px; text-align:left; vertical-align: text-top; background-color:#F7F7F7; width: 300px; height: 250px;\">\n",
    "        <div style=\"height: 75px\"><p style=\"font-size: 24px\">\n",
    "<!-- Title -->\n",
    "Db2 SQL with RESTful Services\n",
    "        </div>\n",
    "        <div style=\"height: 125px\"><p style=\"font-size: 14px\">\n",
    "<!-- Description -->\n",
    "The Db2 Data Management Console includes a number of RESTful services including those which allow for SQL execution. This lab takes the user through the steps required to query Db2 using RESTful APIs.\n",
    "        </div>\n",
    "        <div style=\"height: 25px\"><p style=\"font-size: 12px; text-align: right\">\n",
    "            <img style=\"display: inline-block;\"src=\"./media/clock.png\">&nbsp;\n",
    "<!-- Duration -->\n",
    "15 min\n",
    "        </div>\n",
    "        <div style=\"height: 10px\"><p style=\"font-size: 12px; text-align: right\">\n",
    "<!-- URL -->            \n",
    "<a href=\"http://localhost:8888/notebooks/Db2_RESTful_APIS.ipynb\">\n",
    "                 <img style=\"display: inline-block;\"src=\"./media/arrowblue.png\"></a>            \n",
    "        </div>            \n",
    "    </td>  \n",
    "    <td style=\"padding: 15px; text-align:left; vertical-align: text-top; background-color:#F7F7F7; width: 300px; height: 250px;\">\n",
    "        <div style=\"height: 75px\"><p style=\"font-size: 24px\">\n",
    "<!-- Title -->\n",
    "Automate Db2 with Open Console Services\n",
    "        </div>\n",
    "        <div style=\"height: 120px\"><p style=\"font-size: 14px\">\n",
    "<!-- Description -->\n",
    "This lab contains examples of how to use the Open APIs and composable interfaces that is available through the Db2 Data Management Console service. Everything in the User Interface is also available through an open and fully documented RESTful Services API. \n",
    "        </div>\n",
    "        <div style=\"height: 25px\"><p style=\"font-size: 12px; text-align: right\">\n",
    "            <img style=\"display: inline-block;\"src=\"./media/clock.png\">&nbsp;\n",
    "<!-- Duration -->            \n",
    "30 min\n",
    "        </div>\n",
    "        <div style=\"height: 10px\"><p style=\"font-size: 12px; text-align: right\">\n",
    "<!-- URL -->\n",
    "<a href=\"http://localhost:8888/notebooks/Db2_Data_Management_Console_Overview.ipynb\">\n",
    "                 <img style=\"display: inline-block;\"src=\"./media/arrowblue.png\"></a>            \n",
    "        </div>        \n",
    "    </td>    \n",
    "    <td style=\"padding: 15px; text-align:left; vertical-align: text-top; background-color:#F7F7F7; width: 300px; height: 250px;\">\n",
    "        <div style=\"height: 75px\"><p style=\"font-size: 24px\">\n",
    "<!-- Title -->\n",
    "Analyzing SQL Workloads\n",
    "        </div>\n",
    "        <div style=\"height: 125px\"><p style=\"font-size: 14px\">\n",
    "<!-- Description -->\n",
    "This lab uses more adanced techniques to analyze SQL workloads and individual statements. Run workloads in batch across databases to compare performance across Db2 services. Learn how to embed the interactive Visual Explain tool into your Jupyter notebooks.\n",
    "        </div>\n",
    "        <div style=\"height: 25px\"><p style=\"font-size: 12px; text-align: right\">\n",
    "            <img style=\"display: inline-block;\"src=\"./media/clock.png\">&nbsp;\n",
    "<!-- Duration -->\n",
    "30 min\n",
    "        </div>\n",
    "        <div style=\"height: 10px\"><p style=\"font-size: 12px; text-align: right\">\n",
    "<!-- URL -->            \n",
    "<a href=\"http://localhost:8888/notebooks/Db2_Data_Management_Console_SQL.ipynb\">\n",
    "                 <img style=\"display: inline-block;\"src=\"./media/arrowblue.png\"></a>            \n",
    "        </div>            \n",
    "    </td>     \n",
    "    <td style=\"padding: 15px; text-align:left; vertical-align: text-top; background-color:#F7F7F7; width: 300px; height: 250px;\">\n",
    "        <div style=\"height: 75px\"><p style=\"font-size: 24px\">\n",
    "<!-- Title -->\n",
    "Managing the Console Settings\n",
    "        </div>\n",
    "        <div style=\"height: 125px\"><p style=\"font-size: 14px\">\n",
    "<!-- Description -->\n",
    "This lab uses more adanced techniques to analyze SQL workloads and individual statements. Run workloads in batch across databases to compare performance across Db2 services. Learn how to embed the interactive Visual Explain tool into your Jupyter notebooks.\n",
    "        </div>\n",
    "        <div style=\"height: 25px\"><p style=\"font-size: 12px; text-align: right\">\n",
    "            <img style=\"display: inline-block;\"src=\"./media/clock.png\">&nbsp;\n",
    "<!-- Duration -->\n",
    "30 min\n",
    "        </div>\n",
    "        <div style=\"height: 10px\"><p style=\"font-size: 12px; text-align: right\">\n",
    "<!-- URL -->            \n",
    "<a href=\"http://localhost:8888/notebooks/Db2_Data_Management_Console_SQL.ipynb\">\n",
    "                 <img style=\"display: inline-block;\"src=\"./media/arrowblue.png\"></a>            \n",
    "        </div>            \n",
    "    </td>     \n",
    "</table>\n",
    "</div>"
   ]
  },
  {
   "cell_type": "markdown",
   "metadata": {},
   "source": [
    "#### Questions and Comments: Peter Kohlmann [kohlmann@ca.ibm.com], George Baklarz [baklarz@ca.ibm.com]"
   ]
  },
  {
   "cell_type": "code",
   "execution_count": null,
   "metadata": {},
   "outputs": [],
   "source": []
  }
 ],
 "metadata": {
  "kernelspec": {
   "display_name": "Python 3",
   "language": "python",
   "name": "python3"
  },
  "language_info": {
   "codemirror_mode": {
    "name": "ipython",
    "version": 3
   },
   "file_extension": ".py",
   "mimetype": "text/x-python",
   "name": "python",
   "nbconvert_exporter": "python",
   "pygments_lexer": "ipython3",
   "version": "3.7.4"
  }
 },
 "nbformat": 4,
 "nbformat_minor": 2
}
