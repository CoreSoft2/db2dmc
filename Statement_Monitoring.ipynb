{
 "cells": [
  {
   "cell_type": "markdown",
   "metadata": {},
   "source": [
    "# Monitor SQL Statements - DRAFT\n",
    "\n",
    "SQL statements are at the core of a relational database. A history of the when and how\n",
    "those statements were executed can be the key solving problems and improving\n",
    "performance. Understanding which statements were running at any given time can give\n",
    "a broad group of user roles insight into what was driving the behavior of the database.\n",
    "\n",
    "For more technically focused DBA's or Developers, if your users complain that the\n",
    "database was running slowly, you will eventually need to know the work going on at that\n",
    "time. Even if you determine that the problem was due to locking contention, or a sudden\n",
    "spike in CPU usage, or that the DB was running out of free log space, you need to know\n",
    "which statements were running at the same time the problem occurred. \n",
    "\n",
    "For business focused Data Administrators, you can also use a complete statement history to measure\n",
    "data access and resource use by business or application area. You can use that to\n",
    "charge for use.\n",
    "\n",
    "Having insight into the statements the database executing right now, can help you\n",
    "identify runaway queries that are locking up database resources. Understanding which\n",
    "statements use the most system resources, or that run most often, will let you\n",
    "understand which statements to focus on for the biggest impact. Having a detailed\n",
    "history of all the statements that have run on your system lets you:\n",
    "* Identify applications and users based on SQL\n",
    "* See exactly which statements need your attention for tuning or optimization\n",
    "* Allow you to audit actions against the database\n",
    "* Chargeback individual users, departments or application owners for what they use\n",
    "\n",
    "The Db2 Data Management Console supports different kinds of statement monitoring. Each has its\n",
    "own purpose and strength. Understanding how each works and how to use the Db2 Console\n",
    "to get the most out of each will help you be more successful in determining the\n",
    "root cause of problems, see opportunities for improvement and even to build custom\n",
    "systems for audit or charge-back."
   ]
  },
  {
   "cell_type": "markdown",
   "metadata": {},
   "source": [
    "## Using the Console and Open APIs\n",
    "This Jupyter Notebook contains examples of how to use the Open APIs and the composable interface that are available in the Db2 Data Management Console. Everything in the User Interface is also available through an open and fully documented RESTful Services API. The full set of APIs are documented as part of the Db2 Data Management Console user interface. In this hands on lab you can connect to the documentation directly through this link: [Db2 Data Management Console RESTful APIs](http://localhost:11080/dbapi/api/index_enterprise.html). \n",
    "\n",
    "This hands on lab will be calling the Db2 Data Management Console as a service. However you can explore it through the user interface as well. Just click on the following link to try out the console that is already and setup in this lab: http://localhost:11080/console. If you have not already logged in you can use the following:\n",
    "* Userid: db2inst1\n",
    "* Password: db2inst1"
   ]
  },
  {
   "cell_type": "markdown",
   "metadata": {},
   "source": [
    "## Running a Sample Statements and Workloads\n",
    "This Jupyter Notebook demonstrates how to do different kinds of statement monitoring using real workloads. You create data, run SQL statements and learn how to monitor those statements using:'\n",
    "\n",
    "1. In-Flight Statement Monitoring using In-Memory Metrics\n",
    "2. Package Cache Statement Monitoring using In-Memory Metrics\n",
    "3. Individual Statement History Monitoring using Event Monitoring'\n",
    "\n",
    "But before we can monitor SQL statement or a workload we need to run those statements and workload."
   ]
  },
  {
   "cell_type": "markdown",
   "metadata": {},
   "source": [
    "### Import Helper Classes\n",
    "To set up to run statements and workloads we need a core set of Jupyter Routines. For more information on these classes, see the lab: [Automate Db2 with Open Console Services](http://localhost:8888/notebooks/Db2_Data_Management_Console_Overview.ipynb)"
   ]
  },
  {
   "cell_type": "code",
   "execution_count": 1,
   "metadata": {},
   "outputs": [
    {
     "data": {
      "application/javascript": [
       "\n",
       "// Scan the entire notebook for cells that have refresh tags and execute them\n",
       "\n",
       "window.findCellIndicesByTag = function findCellIndicesByTag(tagName) {\n",
       "  return (Jupyter.notebook.get_cells()\n",
       "    .filter(\n",
       "      ({metadata: {tags}}) => tags && tags.includes(tagName)\n",
       "    )\n",
       "    .map((cell) => Jupyter.notebook.find_cell_index(cell))\n",
       "  );\n",
       "};\n",
       "\n",
       "window.refresh = function runRefreshCells() {\n",
       "    var c = window.findCellIndicesByTag('refresh');\n",
       "    Jupyter.notebook.execute_cells(c);\n",
       "};\n",
       "\n",
       "\n",
       "// Search for a Markdown cell that contains a comment line with the name of the code we are looking for\n",
       "\n",
       "window.copySearch = function copySearch(id) {\n",
       "    var cells = Jupyter.notebook.get_cells();\n",
       "    for(var i in cells) {\n",
       "        var cell = cells[i];\n",
       "        if (cell['cell_type'] == 'markdown') {\n",
       "            var text = cell.get_text();\n",
       "            var n = text.search(\"<!--\"+id+\"-->\");\n",
       "            if (n != -1) {  \n",
       "                var content = text.replace(/(^<!.*-->.*\\n?)|(```.*\\n?)/g, \"\");\n",
       "                navigator.clipboard.writeText(content);  \n",
       "                return\n",
       "                }\n",
       "        }\n",
       "    }\n",
       "    navigator.clipboard.writeText(\"Cell \" + id + \" not found\"); \n",
       "}\n",
       "\n",
       "// Highlight the background of the current cell and copy the contents onto the clipboard\n",
       "\n",
       "window.clipline = function clipline(codeIndex) {\n",
       "    var cell = document.getElementById(codeIndex);\n",
       "    var code = cell.textContent;\n",
       "    var parent = cell.parentNode;\n",
       "    parent.style.backgroundColor = \"#6699FF\"; // backcolor\n",
       "    navigator.clipboard.writeText(code);\n",
       "}\n",
       "\n",
       "window.reset = function reset(codeIndex) {\n",
       "    var cell = document.getElementById(codeIndex);\n",
       "    var parent = cell.parentNode;\n",
       "    parent.style.backgroundColor = \"#F2F2F2\" // backcolor\n",
       "}\n"
      ],
      "text/plain": [
       "<IPython.core.display.Javascript object>"
      ]
     },
     "metadata": {},
     "output_type": "display_data"
    },
    {
     "data": {
      "application/javascript": [
       "window.refresh()"
      ],
      "text/plain": [
       "<IPython.core.display.Javascript object>"
      ]
     },
     "metadata": {},
     "output_type": "display_data"
    }
   ],
   "source": [
    "%run refresh.ipynb\n",
    "%run ./dmc_workload_setup.ipynb\n",
    "Console  = 'http://localhost:11080'\n",
    "Db2Console = Db2(Console+'/dbapi/v4')"
   ]
  },
  {
   "cell_type": "code",
   "execution_count": null,
   "metadata": {},
   "outputs": [],
   "source": [
    "profile = 'SAMPLE'\n",
    "script = 'SELECT TABNAME FROM SYSCAT.TABLES; SELECT INDNAME FROM SYSCAT.INDEXES'\n",
    "user = 'DB2INST1'\n",
    "password = 'db2inst1'\n",
    "rowsReturnedLimit = 5\n",
    "json = Db2Console.runSQLScript(profile, user, password, script, rowsReturnedLimit)\n",
    "Db2Console.displayScriptResults(json)"
   ]
  },
  {
   "cell_type": "code",
   "execution_count": null,
   "metadata": {
    "hide_input": true
   },
   "outputs": [],
   "source": [
    "profileList = ['SAMPLE','HISTORY']\n",
    "user = 'DB2INST1'\n",
    "password = 'db2inst1'\n",
    "script1 = 'SELECT TABNAME FROM SYSCAT.TABLES; SELECT INDNAME FROM SYSCAT.INDEXES'\n",
    "script2 = 'SELECT * FROM SYSCAT.TABLES; SELECT * FROM SYSCAT.INDEXES'\n",
    "scriptList = [script1, script2]\n",
    "profileReps = 2\n",
    "scriptReps = 2\n",
    "\n",
    "df = Db2Console.batchScript(profileList, scriptList, user, password, profileReps, scriptReps)\n",
    "display(df.head(5))"
   ]
  },
  {
   "cell_type": "code",
   "execution_count": null,
   "metadata": {},
   "outputs": [],
   "source": [
    "profile = 'SAMPLE'\n",
    "user = 'DB2INST1'\n",
    "password = 'db2inst1'\n",
    "Db2Console.authenticate(user, password, profile)\n",
    "r = Db2Console.getCurrentPackageCacheList(\"false\")\n",
    "if (Db2Console.getStatusCode(r)==200):\n",
    "    json = Db2Console.getJSON(r)\n",
    "    if json['count'] > 0:  \n",
    "        df = pd.DataFrame(json_normalize(json['resources']))\n",
    "        df = df.sort_values(by='stmt_exec_time_ms', ascending=False)\n",
    "        if df.empty == True :\n",
    "            print(\"No statements in the package cache\")\n",
    "        else :\n",
    "            display(df[['stmt_text','stmt_exec_time_ms','stmtid']])\n",
    "    else: \n",
    "        print('No data returned') \n",
    "else:\n",
    "    print(Db2Console.getStatusCode(r))"
   ]
  },
  {
   "cell_type": "code",
   "execution_count": null,
   "metadata": {},
   "outputs": [],
   "source": [
    "profile = 'SAMPLE'\n",
    "user = 'DB2INST1'\n",
    "password = 'db2inst1'\n",
    "topX = 10\n",
    "\n",
    "print(profile+' Package Cache top: '+str(topX))\n",
    "Db2Console.getCurrentPackageCacheListDF(profile, user, password, topX)"
   ]
  },
  {
   "cell_type": "code",
   "execution_count": null,
   "metadata": {},
   "outputs": [],
   "source": [
    "profileList = ['SAMPLE']\n",
    "user = 'DB2INST1'\n",
    "password = 'db2inst1'\n",
    "script1 = 'SELECT TABNAME FROM SYSCAT.TABLES; SELECT INDNAME FROM SYSCAT.INDEXES'\n",
    "script2 = 'SELECT * FROM SYSCAT.TABLES; SELECT * FROM SYSCAT.INDEXES'\n",
    "scriptList = [script1, script2]\n",
    "profileReps = 2\n",
    "scriptReps = 2\n",
    "\n",
    "df = Db2Console.batchScript(profileList, scriptList, user, password, profileReps, scriptReps)\n",
    "print(profile+' Package Cache top 10')\n",
    "Db2Console.getCurrentPackageCacheListDF(profile, user, password)"
   ]
  },
  {
   "cell_type": "code",
   "execution_count": null,
   "metadata": {},
   "outputs": [],
   "source": [
    "profile = 'SAMPLE'\n",
    "user = 'DB2INST1'\n",
    "password = 'db2inst1'\n",
    "endTime = int(time.time())*1000\n",
    "oneHour = 3600000\n",
    "startTime = endTime - (oneHour *12)\n",
    "isAverage = 'true' ## false returns Total Runtime\n",
    "topX = 10\n",
    "\n",
    "print(profile+' Package Cache top: '+str(topX)+' by average runtime')\n",
    "Db2Console.getPackageCacheStatementHistory(profile, user, password, startTime, endTime, isAverage)"
   ]
  },
  {
   "cell_type": "markdown",
   "metadata": {},
   "source": [
    "### Analyze Results\n",
    "Now we can use the results in the dataframe to look at the results statistically. First we can see the average runtime for each statement across the databases."
   ]
  },
  {
   "cell_type": "code",
   "execution_count": null,
   "metadata": {},
   "outputs": [],
   "source": [
    "print('Mean runtime in ms')\n",
    "pd.set_option('display.max_colwidth', 100)\n",
    "stmtMean = df.groupby(['statement']).mean()\n",
    "print(stmtMean)"
   ]
  },
  {
   "cell_type": "markdown",
   "metadata": {},
   "source": [
    "We can also display the total runtime for each statement across databases."
   ]
  },
  {
   "cell_type": "code",
   "execution_count": null,
   "metadata": {},
   "outputs": [],
   "source": [
    "print('Total runtime in ms')\n",
    "pd.set_option('display.max_colwidth', 100)\n",
    "stmtSum = df.groupby(['statement']).sum()\n",
    "print(stmtSum)"
   ]
  },
  {
   "cell_type": "code",
   "execution_count": null,
   "metadata": {},
   "outputs": [],
   "source": [
    "longRunningQuery = \\\n",
    "'''\n",
    "select SYSIBM.SYSTABLES.* from \n",
    "SYSIBM.SYSTABLES,\n",
    "SYSIBM  .SYSCOLUMNS,\n",
    "SYSIBM  .SYSINDEXES,\n",
    "SYSIBM  .SYSVIEWS,\n",
    "SYSIBM  .SYSVIEWDEP,\n",
    "SYSIBM  .SYSPLAN,\n",
    "SYSIBM  .SYSPLANDEP,\n",
    "SYSIBM  .SYSSECTION,\n",
    "SYSIBM  .SYSSTMT,\n",
    "SYSIBM  .SYSPLANAUTH,\n",
    "SYSIBM  .SYSTABAUTH,\n",
    "SYSIBM  .SYSINDEXAUTH,\n",
    "SYSIBM  .SYSRELS,\n",
    "SYSIBM  .SYSROUTINES,\n",
    "SYSIBM  .SYSROUTINEPARMS,\n",
    "SYSIBM  .SYSTABCONST,\n",
    "SYSIBM  .SYSKEYCOLUSE,\n",
    "SYSIBM  .SYSCONSTDEP\n",
    "'''\n",
    "\n",
    "profile = 'SAMPLE'\n",
    "user = 'DB2INST1'\n",
    "password = 'db2inst1'\n",
    "json = Db2Console.runSQLScript(profile, user, password, longRunningQuery)\n",
    "Db2Console.displayScriptResults(json)"
   ]
  },
  {
   "cell_type": "code",
   "execution_count": null,
   "metadata": {},
   "outputs": [],
   "source": [
    "URL = Console+'/console/?mode=compact#monitor/inflight_executions?profile=SAMPLE'\n",
    "print(URL)\n",
    "IFrame(URL, width=1400, height=500)"
   ]
  },
  {
   "cell_type": "code",
   "execution_count": null,
   "metadata": {},
   "outputs": [],
   "source": [
    "http://localhost:11080/dbapi/v4/metrics/statements/inflight_executions/current/list?include_sys=false&limit=100&offset=0&sort=-entry_time\n",
    "http://localhost:11080/dbapi/v4/metrics/applications/23603/uow/1/inflight_executions/1"
   ]
  },
  {
   "cell_type": "code",
   "execution_count": null,
   "metadata": {},
   "outputs": [],
   "source": [
    "def addEmployeesStatement(startingENO, addENO) :\n",
    "    addMoreRows = \\\n",
    "    'INSERT INTO EMPLOYEES ' \\\n",
    "    'WITH DT(ENO) AS (VALUES('+str(startingENO)+') UNION ALL SELECT ENO+1 FROM DT WHERE ENO < '+str(startingENO+addENO-1)+')' \\\n",
    "    '''\n",
    "        SELECT ENO,\n",
    "        RAND() * 500,\n",
    "        TRANSLATE(CHAR(INTEGER(RAND()+500000)),\n",
    "        CASE MOD(ENO,5) WHEN 0 THEN 'aeiou' || 'bcdfg'\n",
    "            WHEN 1 THEN 'aeiou' || 'hjklm'\n",
    "            WHEN 2 THEN 'aeiou' || 'npqrs'\n",
    "            WHEN 3 THEN 'fredr' || 'annab'\n",
    "            ELSE 'aeiou' || 'twxyz' END,\n",
    "            '1234567890') AS LASTNAME,\n",
    "       CURRENT DATE - (RAND()*10957) DAYS AS HIREDATE,\n",
    "       INTEGER(1000*RAND()*200) AS SALARY\n",
    "       FROM DT;\n",
    "    UPDATE  DEPARTMENTS SET REVENUE = REVENUE + INT(100*RAND()*50);    \n",
    "    '''\n",
    "    return addMoreRows\n",
    "print(\"Defined Add More Rows String Routine\")"
   ]
  },
  {
   "cell_type": "code",
   "execution_count": null,
   "metadata": {},
   "outputs": [],
   "source": [
    "def maxEmployees(profile) :\n",
    "    json = Db2Console.runSQLScript(profile, user, password, 'SELECT MAX(ENO) AS COUNT FROM EMPLOYEES')\n",
    "    return json['results'][0]['rows'][0][0]\n",
    "\n",
    "profileList = ['SAMPLE','HISTORY']\n",
    "for profile in profileList :\n",
    "    print(profile + \": \" + maxEmployees(profile))"
   ]
  },
  {
   "cell_type": "code",
   "execution_count": null,
   "metadata": {},
   "outputs": [],
   "source": [
    "def addEmployees(profile, rows) :\n",
    "    json = Db2Console.runSQLScript(profile, user, password, addEmployeesStatement(int(maxEmployees(profile))+1, addRows))\n",
    "    while 'errors' in json:\n",
    "        print('    * Trying again *')\n",
    "        json = Db2Console.runSQLScript(profile, user, password, addEmployees(int(maxEmployees(profile))+1, addRows))\n",
    "    print(str(json['results'][0]['rows_affected']) + ' rows added to ' + profile)"
   ]
  },
  {
   "cell_type": "code",
   "execution_count": null,
   "metadata": {},
   "outputs": [],
   "source": [
    "sqlScriptWorkload1 = \\\n",
    "'''\n",
    "WITH SALARYBY (DEPTNO, TOTAL) AS\n",
    "    (SELECT DEPT.DEPTNO DNO, SUM(BIGINT(EMP.SALARY)) TOTAL_SALARY\n",
    "        FROM EMPLOYEES EMP, DEPARTMENTS DEPT\n",
    "        WHERE DEPT.DEPTNO = EMP.DEPTNO AND EMP.SALARY > 190000\n",
    "        GROUP BY DEPT.DEPTNO\n",
    "        ORDER BY DNO)\n",
    "SELECT DEPT.DEPTNAME NAME, SALARYBY.TOTAL COST, DEPT.REVENUE, DEPT.REVENUE-SALARYBY.TOTAL PROFIT\n",
    "FROM SALARYBY, DEPARTMENTS DEPT\n",
    "WHERE DEPT.DEPTNO = SALARYBY.DEPTNO\n",
    "AND REVENUE > TOTAL\n",
    "ORDER BY PROFIT\n",
    "'''\n",
    "print(\"Defined Workload 1 Script\")"
   ]
  },
  {
   "cell_type": "code",
   "execution_count": null,
   "metadata": {},
   "outputs": [],
   "source": [
    "sqlScriptWorkload2 = \\\n",
    "'''\n",
    "SELECT DEPT.DEPTNO DNO, SUM(FLOAT(EMP.SALARY)) TOTAL_SALARY\n",
    "  FROM EMPLOYEES EMP, DEPARTMENTS DEPT \n",
    "  WHERE DEPT.DEPTNO = EMP.DEPTNO \n",
    "      AND EMP.SALARY < 50000\n",
    "      AND YEAR(EMP.HIREDATA) > 2010\n",
    "  GROUP BY DEPT.DEPTNO\n",
    "  ORDER BY DNO;\n",
    "\n",
    "SELECT DEPT.DEPTNO DNO, SUM(FLOAT(EMP.SALARY)) TOTAL_SALARY\n",
    "  FROM EMPLOYEES EMP, DEPARTMENTS DEPT \n",
    "  WHERE DEPT.DEPTNO = EMP.DEPTNO \n",
    "      AND EMP.SALARY < 190000\n",
    "      AND YEAR(EMP.HIREDATA) > 2010\n",
    "  GROUP BY DEPT.DEPTNO\n",
    "  ORDER BY DNO;\n",
    "\n",
    "SELECT DEPT.DEPTNO, DEPT.REVENUE\n",
    "  FROM DEPARTMENTS DEPT WHERE DEPT.REVENUE > 450000000;\n",
    "'''\n",
    "print(\"Defined Workload 2 Script\")"
   ]
  },
  {
   "cell_type": "code",
   "execution_count": null,
   "metadata": {
    "scrolled": false
   },
   "outputs": [],
   "source": [
    "import logging\n",
    "import threading\n",
    "import time\n",
    "import concurrent.futures\n",
    "\n",
    "def thread_function(name):\n",
    "    logging.info(\"Thread %s: starting\", name)\n",
    "    profileList = ['SAMPLE','HISTORY']\n",
    "    user = 'DB2INST1'\n",
    "    password = 'db2inst1'\n",
    "    scriptList = [sqlScriptWorkload1, sqlScriptWorkload2]\n",
    "    profileReps = 2\n",
    "    scriptReps = 2\n",
    "\n",
    "    df = Db2Console.batchScript(profileList, scriptList, user, password, profileReps, scriptReps)\n",
    "    display(df.head(10))\n",
    "    logging.info(\"Thread %s: finishing\", name)\n",
    "\n",
    "if __name__ == \"__main__\":\n",
    "    format = \"%(asctime)s: %(message)s\"\n",
    "    logging.basicConfig(format=format, level=logging.INFO,\n",
    "                        datefmt=\"%H:%M:%S\")\n",
    "\n",
    "    with concurrent.futures.ThreadPoolExecutor(max_workers=2) as executor:\n",
    "        executor.map(thread_function, range(2))"
   ]
  },
  {
   "cell_type": "markdown",
   "metadata": {
    "hide_input": false
   },
   "source": [
    "We can even graph the total run time for all the statements can compare database performance. Since there are more rows in the employees table in the SAMPLE database it takes longer for the queries to run."
   ]
  },
  {
   "cell_type": "code",
   "execution_count": 2,
   "metadata": {
    "hide_input": true,
    "tags": [
     "refresh"
    ]
   },
   "outputs": [
    {
     "data": {
      "text/html": [
       "<div style=\"margin-left: 35px; border-style: solid; border-width: 1px; background-color:#F2F2F2; padding: 10px;\" >\n",
       "<pre id=111 onmousedown=\"window.clipline(111)\" onmouseup=\"window.reset(111)\">\n",
       "CREATE BUFFERPOOL CONSOLEPOOL ALL DBPARTITIONNUMS SIZE 1000 AUTOMATIC PAGESIZE 32768;\n",
       "CREATE DATABASE PARTITION GROUP CONSOLEGROUP ON ALL DBPARTITIONNUMS;\n",
       "CREATE TABLESPACE TS4MONITOR IN CONSOLEGROUP PAGESIZE 32768 MANAGED BY AUTOMATIC STORAGE AUTORESIZE YES INITIALSIZE 100M MAXSIZE 2G BUFFERPOOL CONSOLEPOOL;\n",
       "CREATE TEMPORARY TABLESPACE TEMPSPACE2 PAGESIZE 32K MANAGED BY AUTOMATIC STORAGE EXTENTSIZE 4 BUFFERPOOL CONSOLEPOOL;\n",
       "</pre>\n",
       "</div>\n"
      ],
      "text/plain": [
       "<IPython.core.display.HTML object>"
      ]
     },
     "metadata": {},
     "output_type": "display_data"
    }
   ],
   "source": [
    "%%html\n",
    "<div style=\"margin-left: 35px; border-style: solid; border-width: 1px; background-color:#F2F2F2; padding: 10px;\" >\n",
    "<pre id=111 onmousedown=\"window.clipline(111)\" onmouseup=\"window.reset(111)\">\n",
    "CREATE BUFFERPOOL CONSOLEPOOL ALL DBPARTITIONNUMS SIZE 1000 AUTOMATIC PAGESIZE 32768;\n",
    "CREATE DATABASE PARTITION GROUP CONSOLEGROUP ON ALL DBPARTITIONNUMS;\n",
    "CREATE TABLESPACE TS4MONITOR IN CONSOLEGROUP PAGESIZE 32768 MANAGED BY AUTOMATIC STORAGE AUTORESIZE YES INITIALSIZE 100M MAXSIZE 2G BUFFERPOOL CONSOLEPOOL;\n",
    "CREATE TEMPORARY TABLESPACE TEMPSPACE2 PAGESIZE 32K MANAGED BY AUTOMATIC STORAGE EXTENTSIZE 4 BUFFERPOOL CONSOLEPOOL;\n",
    "</pre>\n",
    "</div>"
   ]
  },
  {
   "cell_type": "code",
   "execution_count": null,
   "metadata": {},
   "outputs": [],
   "source": [
    "def createEventMonitorSpace(profile, user, password) :\n",
    "    createEventMonitorSpace = \\\n",
    "    '''\n",
    "    CREATE BUFFERPOOL CONSOLEPOOL ALL DBPARTITIONNUMS SIZE 1000 AUTOMATIC PAGESIZE 32768;\n",
    "    CREATE DATABASE PARTITION GROUP CONSOLEGROUP ON ALL DBPARTITIONNUMS;\n",
    "    CREATE TABLESPACE TS4MONITOR IN CONSOLEGROUP PAGESIZE 32768 MANAGED BY AUTOMATIC STORAGE AUTORESIZE YES INITIALSIZE 100M MAXSIZE 2G BUFFERPOOL CONSOLEPOOL;\n",
    "    CREATE TEMPORARY TABLESPACE TEMPSPACE2 PAGESIZE 32K MANAGED BY AUTOMATIC STORAGE EXTENTSIZE 4 BUFFERPOOL CONSOLEPOOL;\n",
    "    '''\n",
    "    json = Db2Console.runSQLScript(profile, user, password, createEventMonitorSpace)\n",
    "    Db2Console.displayScriptResults(json)"
   ]
  },
  {
   "cell_type": "code",
   "execution_count": null,
   "metadata": {
    "hide_input": false,
    "scrolled": true
   },
   "outputs": [],
   "source": [
    "profile = 'HISTORY'\n",
    "user = 'DB2INST1'\n",
    "password = 'db2inst1'\n",
    "createEventMonitorSpace(profile, user, password)"
   ]
  },
  {
   "cell_type": "code",
   "execution_count": 3,
   "metadata": {
    "hide_input": true,
    "tags": [
     "refresh"
    ]
   },
   "outputs": [
    {
     "data": {
      "text/html": [
       "<div style=\"margin-left: 35px; border-style: solid; border-width: 1px; background-color:#F2F2F2; padding: 10px;\" >\n",
       "<pre id=111 onmousedown=\"window.clipline(111)\" onmouseup=\"window.reset(111)\">\n",
       "CREATE WORKLOAD workload APPLNAME('applicationName')\n",
       "</pre>\n",
       "</div>\n"
      ],
      "text/plain": [
       "<IPython.core.display.HTML object>"
      ]
     },
     "metadata": {},
     "output_type": "display_data"
    }
   ],
   "source": [
    "%%html\n",
    "<div style=\"margin-left: 35px; border-style: solid; border-width: 1px; background-color:#F2F2F2; padding: 10px;\" >\n",
    "<pre id=111 onmousedown=\"window.clipline(111)\" onmouseup=\"window.reset(111)\">\n",
    "CREATE WORKLOAD workload APPLNAME('applicationName')\n",
    "</pre>\n",
    "</div>"
   ]
  },
  {
   "cell_type": "code",
   "execution_count": null,
   "metadata": {},
   "outputs": [],
   "source": [
    "def createWorkload(profile, user, password, workload, applicationName) :\n",
    "    stmt = \"CREATE WORKLOAD \"+workload+\" APPLNAME('\"+applicationName+\"');\"\n",
    "    Db2Console.displayScriptResults(Db2Console.runSQLScript(profile, user, password, stmt))"
   ]
  },
  {
   "cell_type": "code",
   "execution_count": null,
   "metadata": {},
   "outputs": [],
   "source": [
    "profile = 'HISTORY'\n",
    "user = 'DB2INST1'\n",
    "password = 'db2inst1'\n",
    "workload = 'SQLEDITOR'\n",
    "enableWorkloadStatementMonitoring(profile, user, password, workload)\n",
    "enableAggregateMonitoring(profile, user, password, workload)"
   ]
  },
  {
   "cell_type": "code",
   "execution_count": 4,
   "metadata": {
    "hide_input": true,
    "tags": [
     "refresh"
    ]
   },
   "outputs": [
    {
     "data": {
      "text/html": [
       "<div style=\"margin-left: 35px; border-style: solid; border-width: 1px; background-color:#F2F2F2; padding: 10px;\" >\n",
       "<pre id=111 onmousedown=\"window.clipline(111)\" onmouseup=\"window.reset(111)\">\n",
       "CREATE WORKLOAD CONSOLE_WORKLOAD APPLNAME ('UC_*');\n",
       "</pre>\n",
       "</div>\n"
      ],
      "text/plain": [
       "<IPython.core.display.HTML object>"
      ]
     },
     "metadata": {},
     "output_type": "display_data"
    }
   ],
   "source": [
    "%%html\n",
    "<div style=\"margin-left: 35px; border-style: solid; border-width: 1px; background-color:#F2F2F2; padding: 10px;\" >\n",
    "<pre id=111 onmousedown=\"window.clipline(111)\" onmouseup=\"window.reset(111)\">\n",
    "CREATE WORKLOAD CONSOLE_WORKLOAD APPLNAME ('UC_*');\n",
    "</pre>\n",
    "</div>"
   ]
  },
  {
   "cell_type": "code",
   "execution_count": null,
   "metadata": {
    "hide_input": false
   },
   "outputs": [],
   "source": [
    "def stopCollectionMonitoringSQL(profile, user, password) :\n",
    "    stmt = \"CREATE WORKLOAD CONSOLE_WORKLOAD APPLNAME ('UC_*');\"\n",
    "    Db2Console.displayScriptResults(Db2Console.runSQLScript(profile, user, password, stmt))"
   ]
  },
  {
   "cell_type": "code",
   "execution_count": 5,
   "metadata": {
    "hide_input": true,
    "tags": [
     "refresh"
    ]
   },
   "outputs": [
    {
     "data": {
      "text/html": [
       "<div style=\"margin-left: 35px; border-style: solid; border-width: 1px; background-color:#F2F2F2; padding: 10px;\" >\n",
       "<pre id=111 onmousedown=\"window.clipline(111)\" onmouseup=\"window.reset(111)\">\n",
       "ALTER WORKLOAD workload DISABLE;\n",
       "DROP WORKLOAD workload;\n",
       "</pre>\n",
       "</div>\n"
      ],
      "text/plain": [
       "<IPython.core.display.HTML object>"
      ]
     },
     "metadata": {},
     "output_type": "display_data"
    }
   ],
   "source": [
    "%%html\n",
    "<div style=\"margin-left: 35px; border-style: solid; border-width: 1px; background-color:#F2F2F2; padding: 10px;\" >\n",
    "<pre id=111 onmousedown=\"window.clipline(111)\" onmouseup=\"window.reset(111)\">\n",
    "ALTER WORKLOAD workload DISABLE;\n",
    "DROP WORKLOAD workload;\n",
    "</pre>\n",
    "</div>"
   ]
  },
  {
   "cell_type": "code",
   "execution_count": null,
   "metadata": {},
   "outputs": [],
   "source": [
    "def dropWorkload(profile, user, password, workload) :\n",
    "    stmt = \\\n",
    "    'ALTER WORKLOAD '+workload+' DISABLE;' \\\n",
    "    'DROP WORKLOAD '+workload+';'\n",
    "    Db2Console.displayScriptResults(Db2Console.runSQLScript(profile, user, password, stmt))"
   ]
  },
  {
   "cell_type": "code",
   "execution_count": 6,
   "metadata": {
    "hide_input": true,
    "tags": [
     "refresh"
    ]
   },
   "outputs": [
    {
     "data": {
      "text/html": [
       "<div style=\"margin-left: 35px; border-style: solid; border-width: 1px; background-color:#F2F2F2; padding: 10px;\" >\n",
       "<pre id=111 onmousedown=\"window.clipline(111)\" onmouseup=\"window.reset(111)\">\n",
       "ALTER WORKLOAD workload COLLECT ACTIVITY DATA ON COORDINATOR WITH DETAILS;\n",
       "</pre>\n",
       "</div>\n"
      ],
      "text/plain": [
       "<IPython.core.display.HTML object>"
      ]
     },
     "metadata": {},
     "output_type": "display_data"
    }
   ],
   "source": [
    "%%html\n",
    "<div style=\"margin-left: 35px; border-style: solid; border-width: 1px; background-color:#F2F2F2; padding: 10px;\" >\n",
    "<pre id=111 onmousedown=\"window.clipline(111)\" onmouseup=\"window.reset(111)\">\n",
    "ALTER WORKLOAD workload COLLECT ACTIVITY DATA ON COORDINATOR WITH DETAILS;\n",
    "</pre>\n",
    "</div>"
   ]
  },
  {
   "cell_type": "code",
   "execution_count": null,
   "metadata": {},
   "outputs": [],
   "source": [
    "def enableWorkloadStatementMonitoring(profile, user, password, workload) :\n",
    "    stmt = 'ALTER WORKLOAD '+workload+' COLLECT ACTIVITY DATA ON COORDINATOR WITH DETAILS;'\n",
    "    Db2Console.displayScriptResults(Db2Console.runSQLScript(profile, user, password, stmt))"
   ]
  },
  {
   "cell_type": "code",
   "execution_count": 7,
   "metadata": {
    "hide_input": true,
    "tags": [
     "refresh"
    ]
   },
   "outputs": [
    {
     "data": {
      "text/html": [
       "<div style=\"margin-left: 35px; border-style: solid; border-width: 1px; background-color:#F2F2F2; padding: 10px;\" >\n",
       "<pre id=111 onmousedown=\"window.clipline(111)\" onmouseup=\"window.reset(111)\">\n",
       "ALTER WORKLOAD workload COLLECT AGGREGATE ACTIVITY DATA BASE;\n",
       "</pre>\n",
       "</div>\n"
      ],
      "text/plain": [
       "<IPython.core.display.HTML object>"
      ]
     },
     "metadata": {},
     "output_type": "display_data"
    }
   ],
   "source": [
    "%%html\n",
    "<div style=\"margin-left: 35px; border-style: solid; border-width: 1px; background-color:#F2F2F2; padding: 10px;\" >\n",
    "<pre id=111 onmousedown=\"window.clipline(111)\" onmouseup=\"window.reset(111)\">\n",
    "ALTER WORKLOAD workload COLLECT AGGREGATE ACTIVITY DATA BASE;\n",
    "</pre>\n",
    "</div>"
   ]
  },
  {
   "cell_type": "code",
   "execution_count": null,
   "metadata": {},
   "outputs": [],
   "source": [
    "def enableAggregateMonitoring(profile, user, password, workload) :\n",
    "    stmt = 'ALTER WORKLOAD '+workload+' COLLECT AGGREGATE ACTIVITY DATA BASE;'\n",
    "    Db2Console.displayScriptResults(Db2Console.runSQLScript(profile, user, password, stmt))"
   ]
  },
  {
   "cell_type": "code",
   "execution_count": 8,
   "metadata": {
    "hide_input": true,
    "tags": [
     "refresh"
    ]
   },
   "outputs": [
    {
     "data": {
      "text/html": [
       "<div style=\"margin-left: 35px; border-style: solid; border-width: 1px; background-color:#F2F2F2; padding: 10px;\" >\n",
       "<pre id=111 onmousedown=\"window.clipline(111)\" onmouseup=\"window.reset(111)\">\n",
       "ALTER WORKLOAD workload COLLECT ACTIVITY DATA NONE;\n",
       "</pre>\n",
       "</div>\n"
      ],
      "text/plain": [
       "<IPython.core.display.HTML object>"
      ]
     },
     "metadata": {},
     "output_type": "display_data"
    }
   ],
   "source": [
    "%%html\n",
    "<div style=\"margin-left: 35px; border-style: solid; border-width: 1px; background-color:#F2F2F2; padding: 10px;\" >\n",
    "<pre id=111 onmousedown=\"window.clipline(111)\" onmouseup=\"window.reset(111)\">\n",
    "ALTER WORKLOAD workload COLLECT ACTIVITY DATA NONE;\n",
    "</pre>\n",
    "</div>"
   ]
  },
  {
   "cell_type": "code",
   "execution_count": null,
   "metadata": {},
   "outputs": [],
   "source": [
    "def disableWorkloadStatementMonitoring(profile, user, password, workload) :\n",
    "    stmt = 'ALTER WORKLOAD '+workload+' COLLECT ACTIVITY DATA NONE;'\n",
    "    Db2Console.displayScriptResults(Db2Console.runSQLScript(profile, user, password, stmt))"
   ]
  },
  {
   "cell_type": "code",
   "execution_count": 9,
   "metadata": {
    "hide_input": true,
    "tags": [
     "refresh"
    ]
   },
   "outputs": [
    {
     "data": {
      "text/html": [
       "<div style=\"margin-left: 35px; border-style: solid; border-width: 1px; background-color:#F2F2F2; padding: 10px;\" >\n",
       "<pre id=111 onmousedown=\"window.clipline(111)\" onmouseup=\"window.reset(111)\">\n",
       "ALTER WORKLOAD workload COLLECT AGGREGATE ACTIVITY DATA NONE;\n",
       "</pre>\n",
       "</div>\n"
      ],
      "text/plain": [
       "<IPython.core.display.HTML object>"
      ]
     },
     "metadata": {},
     "output_type": "display_data"
    }
   ],
   "source": [
    "%%html\n",
    "<div style=\"margin-left: 35px; border-style: solid; border-width: 1px; background-color:#F2F2F2; padding: 10px;\" >\n",
    "<pre id=111 onmousedown=\"window.clipline(111)\" onmouseup=\"window.reset(111)\">\n",
    "ALTER WORKLOAD workload COLLECT AGGREGATE ACTIVITY DATA NONE;\n",
    "</pre>\n",
    "</div>"
   ]
  },
  {
   "cell_type": "code",
   "execution_count": null,
   "metadata": {},
   "outputs": [],
   "source": [
    "def disableAggregateMonitoring(profile, user, password, workload) :\n",
    "    stmt = 'ALTER WORKLOAD '+workload+' COLLECT AGGREGATE ACTIVITY DATA NONE;'\n",
    "    Db2Console.displayScriptResults(Db2Console.runSQLScript(profile, user, password, stmt))"
   ]
  },
  {
   "cell_type": "code",
   "execution_count": null,
   "metadata": {},
   "outputs": [],
   "source": [
    "profile = 'HISTORY'\n",
    "user = 'DB2INST1'\n",
    "password = 'db2inst1'\n",
    "workload = 'SQLEDITOR'\n",
    "applicationName = 'SQLEditor'\n",
    "createWorkload(profile, user, password, workload, applicationName)\n",
    "enableWorkloadStatementMonitoring(profile, user, password, workload)\n",
    "enableAggregateMonitoring(profile, user, password, workload)"
   ]
  },
  {
   "cell_type": "code",
   "execution_count": null,
   "metadata": {},
   "outputs": [],
   "source": [
    "profile = 'HISTORY'\n",
    "user = 'DB2INST1'\n",
    "password = 'db2inst1'\n",
    "workload = 'SQLEDITOR'\n",
    "dropWorkload(profile, user, password, workload)"
   ]
  },
  {
   "cell_type": "code",
   "execution_count": null,
   "metadata": {},
   "outputs": [],
   "source": [
    "profile = 'HISTORY'\n",
    "user = 'DB2INST1'\n",
    "password = 'db2inst1'\n",
    "workload = 'SQLEDITOR'\n",
    "disableWorkloadStatementMonitoring(profile, user, password, workload)\n",
    "disableAggregateMonitoring(profile, user, password, workload)"
   ]
  },
  {
   "cell_type": "code",
   "execution_count": null,
   "metadata": {},
   "outputs": [],
   "source": [
    "profile = 'HISTORY'\n",
    "user = 'DB2INST1'\n",
    "password = 'db2inst1'\n",
    "workload = 'SQLEDITOR'\n",
    "enableWorkloadStatementMonitoring(profile, user, password, workload)\n",
    "enableAggregateMonitoring(profile, user, password, workload)"
   ]
  },
  {
   "cell_type": "code",
   "execution_count": null,
   "metadata": {},
   "outputs": [],
   "source": [
    "profile = 'SAMPLE'\n",
    "user = 'DB2INST1'\n",
    "password = 'db2inst1'\n",
    "stopCollectionMonitoringSQL(profile, user, password)"
   ]
  },
  {
   "cell_type": "markdown",
   "metadata": {},
   "source": [
    "#### Credits: IBM 2019, Peter Kohlmann [kohlmann@ca.ibm.com]"
   ]
  }
 ],
 "metadata": {
  "celltoolbar": "Tags",
  "kernelspec": {
   "display_name": "Python 3",
   "language": "python",
   "name": "python3"
  },
  "language_info": {
   "codemirror_mode": {
    "name": "ipython",
    "version": 3
   },
   "file_extension": ".py",
   "mimetype": "text/x-python",
   "name": "python",
   "nbconvert_exporter": "python",
   "pygments_lexer": "ipython3",
   "version": "3.7.4"
  }
 },
 "nbformat": 4,
 "nbformat_minor": 2
}
