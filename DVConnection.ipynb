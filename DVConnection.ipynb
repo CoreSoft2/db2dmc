{
 "cells": [
  {
   "cell_type": "markdown",
   "metadata": {},
   "source": [
    "# DRAFT- IBM CPD DV Connection - DRAFT\n"
   ]
  },
  {
   "cell_type": "markdown",
   "metadata": {},
   "source": [
    "### Where to find this sample online\n",
    "You can find a copy of this notebook at https://github.com/Db2-DTE-POC/db2dmc."
   ]
  },
  {
   "cell_type": "markdown",
   "metadata": {},
   "source": [
    "### First we will import a few helper classes\n",
    "We need to pull in a few standard Python libraries so that we can work with REST, JSON and a library called Pandas. Pandas lets us work with DataFrames, which are a very powerful way to work with tabular data in Python. "
   ]
  },
  {
   "cell_type": "code",
   "execution_count": 1,
   "metadata": {},
   "outputs": [],
   "source": [
    "# Import the class libraries \n",
    "import requests\n",
    "import ssl\n",
    "import json\n",
    "from pprint import pprint\n",
    "from requests import Response\n",
    "import pandas as pd\n",
    "import time\n",
    "from requests.packages.urllib3.exceptions import InsecureRequestWarning\n",
    "requests.packages.urllib3.disable_warnings(InsecureRequestWarning)\n",
    "from IPython.display import IFrame\n",
    "from IPython.display import display, HTML\n",
    "from pandas.io.json import json_normalize\n",
    "%matplotlib inline\n",
    "import matplotlib\n",
    "import matplotlib.pyplot as plt"
   ]
  },
  {
   "cell_type": "markdown",
   "metadata": {},
   "source": [
    "### The Db2 Class\n",
    "Next we will create a Db2 helper class that will encapsulate the Rest API calls that we can use to directly access the Db2 Data Management Console service without having to use the user interface. \n",
    "\n",
    "To access the service we need to first authenticate with the service and create a reusable token that we can use for each call to the service. This ensures that we don't have to provide a userID and password each time we run a command. The token makes sure this is secure. \n",
    "\n",
    "Each request is constructed of several parts. First, the URL and the API identify how to connect to the service. Second the REST service request that identifies the request and the options. For example '/metrics/applications/connections/current/list'. And finally some complex requests also include a JSON payload. For example running SQL includes a JSON object that identifies the script, statement delimiters, the maximum number of rows in the results set as well as what do if a statement fails.\n",
    "\n",
    "The full set of APIs are documents as part of the Db2 Data Management Console user interface. In this hands on lab you can connect to that directly through this link: [Db2 Data Management Console RESTful APIs](http://localhost:11080/dbapi/api/index_enterprise.html). "
   ]
  },
  {
   "cell_type": "code",
   "execution_count": 2,
   "metadata": {},
   "outputs": [],
   "source": [
    "# Run the Db2 Class library\n",
    "# Used to construct and reuse an Autentication Key\n",
    "# Used to construct RESTAPI URLs and JSON payloads\n",
    "class Db2():\n",
    "    \n",
    "    def __init__(self, url, verify = False, proxies=None, ):\n",
    "        self.url = url\n",
    "        self.proxies = proxies\n",
    "        self.verify = verify\n",
    "\n",
    "    def authenticate(self, api, userid, password):\n",
    "        \n",
    "        credentials = {'username':userid, 'password':password}\n",
    "        r = requests.post(self.url+api+'/preauth/signin', verify=self.verify, json=credentials, proxies=self.proxies)\n",
    "        if (r.status_code == 200):\n",
    "            bearerToken = \"Bearer \" + r.cookies[\"ibm-private-cloud-session\"]\n",
    "            self.headers = {'Content-Type':\"application/json\", 'Accept':\"application/json\", 'Authorization': bearerToken, 'Cache-Control': \"no-cache\"}\n",
    "        else:\n",
    "            print ('Unable to authenticate, no bearer token obtained')\n",
    "        \n",
    "    def printResponse(self, r, code):\n",
    "        if (r.status_code == code):\n",
    "            pprint(r.json())\n",
    "        else:\n",
    "            print (r.status_code)\n",
    "            print (r.content)\n",
    "    \n",
    "    def getRequest(self, api, json=None):\n",
    "        return requests.get(self.url+api, verify = self.verify, headers=self.headers, proxies = self.proxies, json=json)\n",
    "\n",
    "    def postRequest(self, api, json=None):\n",
    "        return requests.post(self.url+api, verify = self.verify, headers=self.headers, proxies = self.proxies, json=json) \n",
    "        \n",
    "    def getStatusCode(self, response):\n",
    "        return (response.status_code)\n",
    "\n",
    "    def getJSON(self, response):\n",
    "        return (response.json())\n",
    "    \n",
    "    def getDataSources(self):\n",
    "        return self.getRequest('/icp4data-databases/dv/zen/dvapiserver/v1/dv/datasource_nodes')\n",
    "    \n",
    "    def getSchemas(self):\n",
    "        return self.getRequest('/icp4data-databases/dv/zen/dbapi/v4/schemas')\n",
    "    \n",
    "    def runSQL(self, script, limit=10, separator=';', stopOnError=False):\n",
    "        sqlJob = {'commands': script, 'limit':limit, 'separator':separator, 'stop_on_error':str(stopOnError)}\n",
    "        return self.postRequest('/icp4data-databases/dv/zen/dbapi/v4/sql_jobs',sqlJob)\n",
    "        \n",
    "    def getSQLJobResult(self, jobid):\n",
    "        return self.getRequest('/icp4data-databases/dv/zen/dbapi/v4/sql_jobs/'+jobid)\n",
    "       \n",
    "    def getSearchViewList(self, searchtext, show_systems=\"false\"):\n",
    "        return self.getRequest('/icp4data-databases/dv/zen/dbapi/v4/admin/schemas/obj_type/view?search_name='+searchtext+'&show_systems='+str(show_systems)+'&rows_return=200');\n",
    "    \n",
    "    def getSearchTableList(self, searchtext):\n",
    "        return self.getRequest('/icp4data-databases/dv/zen/dbapi/v4/admin/schemas/obj_type/table?search_name='+searchtext+'&show_systems=true&rows_return=100');\n",
    "               \n",
    "    def postSearchObjects(self, obj_type, search_text, rows_return=100, show_systems='false', is_ascend='true'):     \n",
    "        json = {\"search_name\":search_text,\"rows_return\":rows_return,\"show_systems\":show_systems,\"obj_type\":obj_type,\"filters_match\":\"ALL\",\"filters\":[]}       \n",
    "        return self.postRequest('/icp4data-databases/dv/zen/dbapi/v4/admin/'+str(obj_type)+'s',json);\n",
    "            \n",
    "    def getTablesInSchema(self, schema):\n",
    "        return self.getRequest('/icp4data-databases/dv/zen/dbapi/v4/schemas/'+str(schema)+'/tables'); "
   ]
  },
  {
   "cell_type": "code",
   "execution_count": 3,
   "metadata": {},
   "outputs": [
    {
     "name": "stdout",
     "output_type": "stream",
     "text": [
      "runSQL routine defined\n"
     ]
    }
   ],
   "source": [
    "def runSQL(sqlText):\n",
    "\n",
    "    # Run the SQL Script and return the runID for later reference \n",
    "    runID = databaseAPI.getJSON(databaseAPI.runSQL(sqlText))['id'] \n",
    "\n",
    "    # See if there are any results yet for this job\n",
    "    json = databaseAPI.getJSON(databaseAPI.getSQLJobResult(runID))\n",
    "\n",
    "    # If the REST call returns an error return the json with the error to the calling routine\n",
    "    if 'errors' in json :\n",
    "        return json\n",
    "    # Append the results from each statement in the script to the overall combined JSON result set\n",
    "    fulljson = json\n",
    "\n",
    "    while json['results'] != [] or (json['status'] != \"completed\" and json['status'] != \"failed\") :\n",
    "        json = databaseAPI.getJSON(databaseAPI.getSQLJobResult(runID))\n",
    "\n",
    "        # Get the results from each statement as they return and append the results to the full JSON \n",
    "        for results in json['results'] :\n",
    "            fulljson['results'].append(results)\n",
    "        # Wait 250 ms for more results\n",
    "        time.sleep(0.25) \n",
    "    return fulljson\n",
    "\n",
    "print('runSQL routine defined')"
   ]
  },
  {
   "cell_type": "code",
   "execution_count": 4,
   "metadata": {},
   "outputs": [
    {
     "name": "stdout",
     "output_type": "stream",
     "text": [
      "displayResults routine defined\n"
     ]
    }
   ],
   "source": [
    "def displayResults(json):\n",
    "\n",
    "    for results in json['results']:\n",
    "        print('Statement: '+str(results['index'])+': '+results['command'])\n",
    "        print('Runtime ms: '+str(results['runtime_seconds']*1000))\n",
    "        if 'error' in results : \n",
    "            print(results['error'])\n",
    "        elif 'rows' in results :\n",
    "            df = pd.DataFrame(results['rows'],columns=results['columns'])\n",
    "            print(df)\n",
    "        else :\n",
    "            print('No errors. Row Affected: '+str(results['rows_affected']))\n",
    "        print()\n",
    "print('displayResults routine defined')"
   ]
  },
  {
   "cell_type": "markdown",
   "metadata": {},
   "source": [
    "## Establishing a Connection to the Console"
   ]
  },
  {
   "cell_type": "markdown",
   "metadata": {},
   "source": [
    "### Example Connections\n",
    "To connect to the Db2 Data Management Console service you need to provide the URL, the service name (v4) and profile the console user name and password as well as the name of the connection profile used in the console to connect to the database you want to work with. For this lab we are assuming that the following values are used for the connection:\n",
    "* Userid: db2inst1\n",
    "* Password: db2inst1\n",
    "* Connection: sample\n",
    "\n",
    "**Note:** If the Db2 Data Management Console has not completed initialization, the connection below will fail. Wait for a few moments and then try it again."
   ]
  },
  {
   "cell_type": "code",
   "execution_count": 5,
   "metadata": {},
   "outputs": [],
   "source": [
    "# Connect to the Db2 Data Management Console service\n",
    "Console  = 'https://zen-cpd-zen.apps.sre-dal10-demosundari-ga-02.demo.ibmcloud.com'\n",
    "user     = 'admin'\n",
    "password = '1qaz!QAZ'\n",
    "\n",
    "# Set up the required connection\n",
    "databaseAPI = Db2(Console)\n",
    "api = '/v1'\n",
    "databaseAPI.authenticate(api, user, password)\n",
    "database = Console"
   ]
  },
  {
   "cell_type": "code",
   "execution_count": 6,
   "metadata": {},
   "outputs": [
    {
     "name": "stdout",
     "output_type": "stream",
     "text": [
      "<Response [200]>\n",
      "agent_class, dataSources, dscount, hostname, is_docker, node_description, node_name, os_user, port\n"
     ]
    },
    {
     "data": {
      "text/html": [
       "<div>\n",
       "<style scoped>\n",
       "    .dataframe tbody tr th:only-of-type {\n",
       "        vertical-align: middle;\n",
       "    }\n",
       "\n",
       "    .dataframe tbody tr th {\n",
       "        vertical-align: top;\n",
       "    }\n",
       "\n",
       "    .dataframe thead th {\n",
       "        text-align: right;\n",
       "    }\n",
       "</style>\n",
       "<table border=\"1\" class=\"dataframe\">\n",
       "  <thead>\n",
       "    <tr style=\"text-align: right;\">\n",
       "      <th></th>\n",
       "      <th>agent_class</th>\n",
       "      <th>dataSources</th>\n",
       "      <th>dscount</th>\n",
       "      <th>hostname</th>\n",
       "      <th>is_docker</th>\n",
       "      <th>node_description</th>\n",
       "      <th>node_name</th>\n",
       "      <th>os_user</th>\n",
       "      <th>port</th>\n",
       "    </tr>\n",
       "  </thead>\n",
       "  <tbody>\n",
       "    <tr>\n",
       "      <td>0</td>\n",
       "      <td>H</td>\n",
       "      <td>None</td>\n",
       "      <td>0</td>\n",
       "      <td>dv-0</td>\n",
       "      <td>N</td>\n",
       "      <td>Not specified</td>\n",
       "      <td>AdminNode</td>\n",
       "      <td>bigsql</td>\n",
       "      <td>6414</td>\n",
       "    </tr>\n",
       "    <tr>\n",
       "      <td>1</td>\n",
       "      <td>H</td>\n",
       "      <td>[{'cid': 'DB210000', 'dbname': 'BANK', 'srchos...</td>\n",
       "      <td>1</td>\n",
       "      <td>dv-0</td>\n",
       "      <td>N</td>\n",
       "      <td>Not specified</td>\n",
       "      <td>qpendpoint_3:6417</td>\n",
       "      <td>bigsql</td>\n",
       "      <td>6417</td>\n",
       "    </tr>\n",
       "    <tr>\n",
       "      <td>2</td>\n",
       "      <td>H</td>\n",
       "      <td>None</td>\n",
       "      <td>0</td>\n",
       "      <td>dv-0</td>\n",
       "      <td>N</td>\n",
       "      <td>Not specified</td>\n",
       "      <td>qpendpoint_4:6418</td>\n",
       "      <td>bigsql</td>\n",
       "      <td>6418</td>\n",
       "    </tr>\n",
       "    <tr>\n",
       "      <td>3</td>\n",
       "      <td>H</td>\n",
       "      <td>None</td>\n",
       "      <td>0</td>\n",
       "      <td>dv-0</td>\n",
       "      <td>N</td>\n",
       "      <td>Not specified</td>\n",
       "      <td>qpendpoint_2:6416</td>\n",
       "      <td>bigsql</td>\n",
       "      <td>6416</td>\n",
       "    </tr>\n",
       "    <tr>\n",
       "      <td>4</td>\n",
       "      <td>H</td>\n",
       "      <td>None</td>\n",
       "      <td>0</td>\n",
       "      <td>dv-0</td>\n",
       "      <td>N</td>\n",
       "      <td>Not specified</td>\n",
       "      <td>qpendpoint_5:6419</td>\n",
       "      <td>bigsql</td>\n",
       "      <td>6419</td>\n",
       "    </tr>\n",
       "    <tr>\n",
       "      <td>5</td>\n",
       "      <td>H</td>\n",
       "      <td>[{'cid': 'DB210003', 'dbname': 'MORTGAGE', 'sr...</td>\n",
       "      <td>1</td>\n",
       "      <td>dv-0</td>\n",
       "      <td>N</td>\n",
       "      <td>Not specified</td>\n",
       "      <td>qpendpoint_1:6415</td>\n",
       "      <td>bigsql</td>\n",
       "      <td>6415</td>\n",
       "    </tr>\n",
       "  </tbody>\n",
       "</table>\n",
       "</div>"
      ],
      "text/plain": [
       "  agent_class                                        dataSources dscount  \\\n",
       "0           H                                               None       0   \n",
       "1           H  [{'cid': 'DB210000', 'dbname': 'BANK', 'srchos...       1   \n",
       "2           H                                               None       0   \n",
       "3           H                                               None       0   \n",
       "4           H                                               None       0   \n",
       "5           H  [{'cid': 'DB210003', 'dbname': 'MORTGAGE', 'sr...       1   \n",
       "\n",
       "  hostname is_docker node_description          node_name os_user  port  \n",
       "0     dv-0         N    Not specified          AdminNode  bigsql  6414  \n",
       "1     dv-0         N    Not specified  qpendpoint_3:6417  bigsql  6417  \n",
       "2     dv-0         N    Not specified  qpendpoint_4:6418  bigsql  6418  \n",
       "3     dv-0         N    Not specified  qpendpoint_2:6416  bigsql  6416  \n",
       "4     dv-0         N    Not specified  qpendpoint_5:6419  bigsql  6419  \n",
       "5     dv-0         N    Not specified  qpendpoint_1:6415  bigsql  6415  "
      ]
     },
     "metadata": {},
     "output_type": "display_data"
    }
   ],
   "source": [
    "r = databaseAPI.getDataSources()\n",
    "print(r)\n",
    "if (databaseAPI.getStatusCode(r)==200):\n",
    "    json = databaseAPI.getJSON(r)\n",
    "    df = pd.DataFrame(json_normalize(json))\n",
    "    print(', '.join(list(df)))\n",
    "    display(df)\n",
    "else:\n",
    "    print(databaseAPI.getStatusCode(r))  "
   ]
  },
  {
   "cell_type": "code",
   "execution_count": 7,
   "metadata": {},
   "outputs": [
    {
     "name": "stdout",
     "output_type": "stream",
     "text": [
      "Statement: 0: SELECT TABSCHEMA, TABNAME FROM SYSCAT.TABLES\n",
      "Runtime ms: 128.9999932050705\n",
      "    TABSCHEMA            TABNAME\n",
      "0  IBMCONSOLE    TEMPLATE_CONFIG\n",
      "1  IBMCONSOLE           USERCRED\n",
      "2  IBMCONSOLE  USER_PROFILE_PRIV\n",
      "3    QPLEXSYS            DIAGLOG\n",
      "4    QPLEXSYS      ENDPOINTSTATS\n",
      "5    QPLEXSYS          EXPLAINDS\n",
      "6    QPLEXSYS      INSTANCE_INFO\n",
      "7    QPLEXSYS          LISTNODES\n",
      "8    QPLEXSYS           LISTRDBC\n",
      "9    QPLEXSYS        LISTSOURCES\n",
      "\n",
      "Statement: 1: SELECT INDSCHEMA, INDNAME FROM SYSCAT.INDEXES\n",
      "Runtime ms: 2.0000000949949026\n",
      "  INDSCHEMA             INDNAME\n",
      "0  SYSIBM       INDNODEGROUPS02\n",
      "1  SYSIBM    INDPARTITIONMAPS01\n",
      "2  SYSIBM     INDPASSTHRUAUTH01\n",
      "3  SYSIBM     INDPASSTHRUAUTH02\n",
      "4  SYSIBM     INDPASSTHRUAUTH03\n",
      "5  SYSIBM     INDPASSTHRUAUTH04\n",
      "6  SYSIBM          INDPERIODS01\n",
      "7  SYSIBM          INDPERIODS02\n",
      "8  SYSIBM             INDPLAN01\n",
      "9  SYSIBM             INDPLAN02\n",
      "\n"
     ]
    }
   ],
   "source": [
    "sqlText = \\\n",
    "'''\n",
    "SELECT TABSCHEMA, TABNAME FROM SYSCAT.TABLES; \n",
    "SELECT INDSCHEMA, INDNAME FROM SYSCAT.INDEXES;\n",
    "'''\n",
    "\n",
    "displayResults(runSQL(sqlText))"
   ]
  },
  {
   "cell_type": "markdown",
   "metadata": {},
   "source": [
    "## Object Exploration"
   ]
  },
  {
   "cell_type": "markdown",
   "metadata": {},
   "source": [
    "### List the Available Schemas in the Database"
   ]
  },
  {
   "cell_type": "markdown",
   "metadata": {},
   "source": [
    "You can get the list of schemas through a REST service call. In this example the service call text was defined in the Db2 class at the start of the notebook. By default it includes both user and catalog schemas. \n",
    "\n",
    "If the call is successful it will return a 200 status code. The API call returns a JSON structure that we turn into a DataFrame using the normalize function. You can then list the columns of data available in the Data Frame and display the first 10 rows in the data frame. \n",
    "\n",
    "Many of the examples below list the columns available in the dataframe to make it easier for you to adapt the examples to your own needs. "
   ]
  },
  {
   "cell_type": "code",
   "execution_count": 8,
   "metadata": {},
   "outputs": [
    {
     "name": "stdout",
     "output_type": "stream",
     "text": [
      "definertype, name\n"
     ]
    },
    {
     "data": {
      "text/html": [
       "<div>\n",
       "<style scoped>\n",
       "    .dataframe tbody tr th:only-of-type {\n",
       "        vertical-align: middle;\n",
       "    }\n",
       "\n",
       "    .dataframe tbody tr th {\n",
       "        vertical-align: top;\n",
       "    }\n",
       "\n",
       "    .dataframe thead th {\n",
       "        text-align: right;\n",
       "    }\n",
       "</style>\n",
       "<table border=\"1\" class=\"dataframe\">\n",
       "  <thead>\n",
       "    <tr style=\"text-align: right;\">\n",
       "      <th></th>\n",
       "      <th>name</th>\n",
       "    </tr>\n",
       "  </thead>\n",
       "  <tbody>\n",
       "    <tr>\n",
       "      <td>0</td>\n",
       "      <td>BIGSQL</td>\n",
       "    </tr>\n",
       "    <tr>\n",
       "      <td>1</td>\n",
       "      <td>CACHESYS</td>\n",
       "    </tr>\n",
       "    <tr>\n",
       "      <td>2</td>\n",
       "      <td>DEFAULT</td>\n",
       "    </tr>\n",
       "    <tr>\n",
       "      <td>3</td>\n",
       "      <td>IBMCONSOLE</td>\n",
       "    </tr>\n",
       "    <tr>\n",
       "      <td>4</td>\n",
       "      <td>NULLID</td>\n",
       "    </tr>\n",
       "    <tr>\n",
       "      <td>5</td>\n",
       "      <td>QPLEXSYS</td>\n",
       "    </tr>\n",
       "    <tr>\n",
       "      <td>6</td>\n",
       "      <td>SQLJ</td>\n",
       "    </tr>\n",
       "    <tr>\n",
       "      <td>7</td>\n",
       "      <td>SYSCAT</td>\n",
       "    </tr>\n",
       "    <tr>\n",
       "      <td>8</td>\n",
       "      <td>SYSFUN</td>\n",
       "    </tr>\n",
       "    <tr>\n",
       "      <td>9</td>\n",
       "      <td>SYSHADOOP</td>\n",
       "    </tr>\n",
       "  </tbody>\n",
       "</table>\n",
       "</div>"
      ],
      "text/plain": [
       "         name\n",
       "0      BIGSQL\n",
       "1    CACHESYS\n",
       "2     DEFAULT\n",
       "3  IBMCONSOLE\n",
       "4      NULLID\n",
       "5    QPLEXSYS\n",
       "6        SQLJ\n",
       "7      SYSCAT\n",
       "8      SYSFUN\n",
       "9   SYSHADOOP"
      ]
     },
     "metadata": {},
     "output_type": "display_data"
    }
   ],
   "source": [
    "r = databaseAPI.getSchemas()\n",
    "if (databaseAPI.getStatusCode(r)==200):\n",
    "    json = databaseAPI.getJSON(r)\n",
    "    df = pd.DataFrame(json_normalize(json['resources']))\n",
    "    print(', '.join(list(df)))\n",
    "    display(df[['name']].head(10))\n",
    "else:\n",
    "    print(databaseAPI.getStatusCode(r))   "
   ]
  },
  {
   "cell_type": "code",
   "execution_count": null,
   "metadata": {},
   "outputs": [],
   "source": [
    "#Run SQL Statement and Retrieve the identifier used to track the run\n",
    "\n",
    "# Define the SQL to Run\n",
    "sqlText = 'select TABSCHEMA, TABNAME from syscat.tables'\n",
    "\n",
    "# Run SQL throught the Console SQL Editor REST Service\n",
    "r = databaseAPI.runSQL(sqlText)\n",
    "\n",
    "# Retrieve the run identifier from the SQL Editor Service\n",
    "runID = databaseAPI.getJSON(r)['id'] \n",
    "\n",
    "# Using the saved runID retrieve a JSON description of the run\n",
    "json = databaseAPI.getJSON(databaseAPI.getSQLJobResult(runID)) \n",
    "\n",
    "# Extract the status of the run from the JSON return and print the runID as well as its status\n",
    "if json['results'] == [] :\n",
    "    print(runID+\" \"+json['status']) \n",
    "else :\n",
    "    print('JSON Results')\n",
    "    print(json['results']) "
   ]
  },
  {
   "cell_type": "code",
   "execution_count": null,
   "metadata": {},
   "outputs": [],
   "source": [
    "# ONLY RUN THIS STEP IF THERE WERE NO RESULTS FROM THE PREVIOUS STEP\n",
    "# Even if the status is running. You need to extract and process the results before you get more results.\n",
    "# Once you have retrieved the results you cannot run the same call a second time successfully.\n",
    "# The JSON structure is only available on the first call.\n",
    "json = databaseAPI.getJSON(databaseAPI.getSQLJobResult(runID))\n",
    "print(json)"
   ]
  },
  {
   "cell_type": "code",
   "execution_count": null,
   "metadata": {},
   "outputs": [],
   "source": [
    "if json['results'] != []:\n",
    "        results = json['results'][0]\n",
    "        if 'error' in results : \n",
    "            print(results['error'])\n",
    "        elif 'rows' in results :\n",
    "            df = pd.DataFrame(results['rows'],columns=results['columns'])\n",
    "            print(df)\n",
    "        else :\n",
    "            print('No errors. No results')"
   ]
  },
  {
   "cell_type": "markdown",
   "metadata": {},
   "source": [
    "### Next Steps\n",
    "Try the [Analysing SQL Workloads](http://localhost:8888/notebooks/Db2_Data_Management_Console_SQL.ipynb). It contains extensive examples on how to run workloads that contain multiple SQL Statements across multiple databases and then measure their performance. \n",
    "\n",
    "Also try building some of your own reports based on the examples in this hands on lab. There are additional functions included in the Db2 class that we haven't explored yet in this lab. You can also include the Db2 class into your own notebook by including the [dmc_setup notebook](http://localhost:8888/notebooks/dmc_setup.ipynb)"
   ]
  },
  {
   "cell_type": "markdown",
   "metadata": {},
   "source": [
    "#### Credits: IBM 2019, Peter Kohlmann [kohlmann@ca.ibm.com]"
   ]
  }
 ],
 "metadata": {
  "kernelspec": {
   "display_name": "Python 3",
   "language": "python",
   "name": "python3"
  },
  "language_info": {
   "codemirror_mode": {
    "name": "ipython",
    "version": 3
   },
   "file_extension": ".py",
   "mimetype": "text/x-python",
   "name": "python",
   "nbconvert_exporter": "python",
   "pygments_lexer": "ipython3",
   "version": "3.7.4"
  }
 },
 "nbformat": 4,
 "nbformat_minor": 2
}
