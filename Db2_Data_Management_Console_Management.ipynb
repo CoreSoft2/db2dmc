{
 "cells": [
  {
   "cell_type": "markdown",
   "metadata": {},
   "source": [
    "# DRAFT - Managing the Db2 Data Management Console - DRAFT\n",
    "\n",
    "This Jupyter Notebook contains examples of how to setup and manage the Db2 Data Management Console. It covers how to add additional users using database authentication, how to explore and manage connections and setup and manage monitoring profiles.\n",
    "\n",
    "The Db2 Data Management Console is more than a graphical user interface. It is a set of microservices that you can use to build custom applications to automate your use of Db2.\n",
    "\n",
    "This Jupyter Notebook contains examples of how to use the Open APIs and the composable interface that are available in the Db2 Data Management Console. Everything in the User Interface is also available through an open and fully documented RESTful Services API. The full set of APIs are documented as part of the Db2 Data Management Console user interface. In this hands on lab you can connect to the documentation directly through this link: [Db2 Data Management Console RESTful APIs](http://localhost:11080/dbapi/api/index_enterprise.html). \n",
    "\n",
    "You can also embed elements of the full user interface into an IFrame by constructing the appropriate URL.\n",
    "\n",
    "This hands on lab will be calling the Db2 Data Management Console as a service. However you can explore it through the user interface as well. Just click on the following link to try out the console that is already and setup in this lab: http://localhost:11080/console. If you have not already logged in you can use the following:\n",
    "* Userid: db2inst1\n",
    "* Password: db2inst1"
   ]
  },
  {
   "cell_type": "markdown",
   "metadata": {},
   "source": [
    "### Import Helper Classes\n",
    "For more information on these classes, see the Lab on Automate Db2 with Open Console Services"
   ]
  },
  {
   "cell_type": "markdown",
   "metadata": {},
   "source": [
    "### The Console Class\n",
    "Next we will create a Console helper class that will encapsulate the Rest API calls that we can use to directly access the Db2 Data Management Console service without having to use the user interface. \n",
    "\n",
    "To access the service we need to first authenticate with the service and create a reusable token that we can use for each call to the service. This ensures that we don't have to provide a userID and password each time we run a command. The token makes sure this is secure. \n",
    "\n",
    "Each request is constructed of several parts. First, the URL and the API identify how to connect to the service. Second the REST service request that identifies the request and the options. For example '/metrics/applications/connections/current/list'. And finally some complex requests also include a JSON payload. For example running SQL includes a JSON object that identifies the script, statement delimiters, the maximum number of rows in the results set as well as what do if a statement fails.\n",
    "\n",
    "The full set of APIs are documents as part of the Db2 Data Management Console user interface. In this hands on lab you can connect to that directly through this link: [Db2 Data Management Console RESTful APIs](http://localhost:11080/dbapi/api/index_enterprise.html). "
   ]
  },
  {
   "cell_type": "markdown",
   "metadata": {},
   "source": [
    "### First we will import a few helper classes\n",
    "We need to pull in a few standard Python libraries so that we can work with REST, JSON and a library called Pandas. Pandas lets us work with DataFrames, which are a very powerful way to work with tabular data in Python. "
   ]
  },
  {
   "cell_type": "code",
   "execution_count": 1,
   "metadata": {},
   "outputs": [],
   "source": [
    "# Import the class libraries \n",
    "import requests\n",
    "import ssl\n",
    "import json\n",
    "from pprint import pprint\n",
    "from requests import Response\n",
    "import pandas as pd\n",
    "import time\n",
    "from requests.packages.urllib3.exceptions import InsecureRequestWarning\n",
    "requests.packages.urllib3.disable_warnings(InsecureRequestWarning)\n",
    "from IPython.display import IFrame\n",
    "from IPython.display import display, HTML\n",
    "from pandas.io.json import json_normalize\n",
    "%matplotlib inline\n",
    "import matplotlib\n",
    "import matplotlib.pyplot as plt"
   ]
  },
  {
   "cell_type": "code",
   "execution_count": 2,
   "metadata": {},
   "outputs": [],
   "source": [
    "# Run the Db2 Class library\n",
    "# Used to construct and reuse an Autentication Key\n",
    "# Used to construct RESTAPI URLs and JSON payloads\n",
    "class Db2Console():\n",
    "    \n",
    "    def __init__(self, url, verify = False, proxies=None, ):\n",
    "        self.url = url\n",
    "        self.proxies = proxies\n",
    "        self.verify = verify\n",
    "\n",
    "    def authenticate(self, userid, password, profile=\"\"):\n",
    "        credentials = {'userid':userid, 'password':password}\n",
    "        r = requests.post(self.url+'/auth/tokens', verify=self.verify, json=credentials, proxies=self.proxies)\n",
    "        if (r.status_code == 200):\n",
    "            bearerToken = r.json()['token']\n",
    "            if profile == \"\":\n",
    "                self.headers = {'Authorization': 'Bearer'+ ' '+bearerToken}\n",
    "                return True;\n",
    "            else:\n",
    "                self.headers = {'Authorization': 'Bearer'+ ' '+bearerToken, 'X-DB-Profile': profile}\n",
    "                return True;\n",
    "        else:\n",
    "            print ('Unable to authenticate, no bearer token obtained')\n",
    "            return False;\n",
    "        \n",
    "    def printResponse(self, r, code):\n",
    "        if (r.status_code == code):\n",
    "            pprint(r.json())\n",
    "        else:\n",
    "            print (r.status_code)\n",
    "            print (r.content)\n",
    "    \n",
    "    def getRequest(self, api, json=None):\n",
    "        return requests.get(self.url+api, verify = self.verify, headers=self.headers, proxies = self.proxies, json=json)\n",
    "\n",
    "    def postRequest(self, api, json=None):\n",
    "        return requests.post(self.url+api, verify = self.verify, headers=self.headers, proxies = self.proxies, json=json) \n",
    "    \n",
    "    def deleteRequest(self, api, json=None):\n",
    "        return requests.delete(self.url+api, verify = self.verify, headers=self.headers, proxies = self.proxies, json=json) \n",
    "    \n",
    "    def putRequest(self, api, json=None):\n",
    "        return requests.put(self.url+api, verify = self.verify, headers=self.headers, proxies = self.proxies, json=json) \n",
    "        \n",
    "    def getStatusCode(self, response):\n",
    "        return (response.status_code)\n",
    "\n",
    "    def getJSON(self, response):\n",
    "        return (response.json())\n",
    "    \n",
    "    def runSQL(self, script, limit=10, separator=';', stopOnError=False):\n",
    "        sqlJob = {'commands': script, 'limit':limit, 'separator':separator, 'stop_on_error':str(stopOnError)}\n",
    "        return self.postRequest('/sql_jobs',sqlJob)\n",
    "        \n",
    "    def getSQLJobResult(self, jobid):\n",
    "        return self.getRequest('/sql_jobs/'+jobid)\n",
    "    \n",
    "    def getUserPriviledges(self, profile=''):\n",
    "        if profile == '' :\n",
    "            return self.getRequest('/userProfilePrivileges')\n",
    "        else : \n",
    "            return self.getRequest('/userProfilePrivileges/'+profile)\n",
    "    \n",
    "    def assignUserPrivileges(self, profile, user):\n",
    "        json = [{'profileName': profile, 'USER':[user], 'OWNER':[]}]\n",
    "        return self.postRequest('/userProfilePrivileges?action=assign', json) \n",
    " \n",
    "    def assignOwnerPrivileges(self, profile, owner):\n",
    "        json = [{'profileName': profile, 'USER':[], 'OWNER':[owner]}]\n",
    "        return self.postRequest('/userProfilePrivileges?action=assign', json) \n",
    "    \n",
    "    def revokeProfilePrivileges(self, profile, user):\n",
    "        json = [{'profileName': profile, 'USER':[user]}]\n",
    "        return self.postRequest('/userProfilePrivileges?action=revoke', json) \n",
    "\n",
    "    def getProfile(self,profile):\n",
    "        return self.getRequest('/dbprofiles/'+profile)    \n",
    "    \n",
    "    def getMonitorStatus(self):\n",
    "        return self.getRequest('/monitor') \n",
    "    \n",
    "    def getConsoleProfiles(self):\n",
    "        return self.getRequest('/dbprofiles')  \n",
    "    \n",
    "    def getConsoleRepository(self):\n",
    "        return self.getRequest('/repository')    \n",
    "\n",
    "    def getExportConsoleProfiles(self):\n",
    "        return self.getRequest('/dbprofiles/transfer/export?exportCred=true')\n",
    "    \n",
    "    def postConnectionProfile(self, connectionName, dbName, port, host, userid, password, comment):\n",
    "        json = {\"name\":connectionName,\"location\":\"\",\"databaseName\":dbName,\"dataServerType\":\"DB2LUW\",\"port\":port,\"host\":host,\"URL\":\"jdbc:db2://\"+host+\":\"+port+\"/\"+dbName+\":retrieveMessagesFromServerOnGetMessage=true;\",\"sslConnection\":\"false\",\"disableDataCollection\":\"false\",\"collectionCred\":{\"securityMechanism\":\"3\",\"user\":userid,\"password\":password},\"operationCred\":{\"securityMechanism\":\"3\",\"user\":userid,\"password\":password,\"saveOperationCred\":\"true\"},\"comment\":comment}\n",
    "        return self.postRequest('/dbprofiles', json)\n",
    "    \n",
    "    def putConnectionProfileUpdate(self, connectionName, dbName, port, host, userid, password, comment):\n",
    "        json = {\"name\":connectionName,\"location\":\"\",\"databaseName\":dbName,\"dataServerType\":\"DB2LUW\",\"port\":port,\"host\":host,\"URL\":\"jdbc:db2://\"+host+\":\"+port+\"/\"+dbName+\":retrieveMessagesFromServerOnGetMessage=true;\",\"sslConnection\":\"false\",\"disableDataCollection\":\"false\",\"collectionCred\":{\"securityMechanism\":\"3\",\"user\":userid,\"password\":password},\"operationCred\":{\"securityMechanism\":\"3\",\"user\":userid,\"password\":password,\"saveOperationCred\":\"true\"},\"comment\":comment}\n",
    "        return self.putRequest('/dbprofiles/'+connectionName, json)\n",
    "    \n",
    "    def postTestConnection(self, dbName, port, host, userid, password):\n",
    "        json = {\"name\":\"\",\"location\":\"\",\"databaseName\":dbName,\"dataServerType\":\"DB2LUW\",\"port\":port,\"host\":host,\"URL\":\"jdbc:db2://\"+host+\":\"+port+\"/\"+dbName+\":retrieveMessagesFromServerOnGetMessage=true;\",\"sslConnection\":\"false\",\"disableDataCollection\":\"false\",\"operationCred\":{\"securityMechanism\":\"3\",\"user\":userid,\"password\":password}}\n",
    "        return self.postRequest('/dbprofiles/testConnection', json)\n",
    "    \n",
    "    def deleteConnectionProfile(self, connectionName):\n",
    "        return self.deleteRequest('/dbprofiles/'+connectionName)\n",
    "\n",
    "    def getMonitoringProfiles(self):\n",
    "        return self.getRequest('/monitorprofile/front')\n",
    "    \n",
    "    def getMonitoringProfile(self, profileID):\n",
    "        return self.getRequest('/monitorprofile/front/'+profileID)\n",
    "    \n",
    "    def putMonitoringProfile(self, profileID, json):\n",
    "        return self.putRequest('/monitorprofile/front/'+profileID, json)   \n",
    "    \n",
    "    def getProfileIndex(self, name):\n",
    "        r = self.getMonitoringProfiles()\n",
    "        if (self.getStatusCode(r)==200):\n",
    "            json = self.getJSON(r) \n",
    "            profileList = pd.DataFrame(json_normalize(json['resources']))[['name','id']]\n",
    "            profileList.set_index('name',inplace=True)\n",
    "            index = profileList.loc[profileName][0]\n",
    "            return(index)\n",
    "        else:\n",
    "            print(self.getStatusCode(r)) "
   ]
  },
  {
   "cell_type": "markdown",
   "metadata": {},
   "source": [
    "### Db2 Data Management Console Connection\n",
    "To connect to the Db2 Data Management Console service you need to provide the URL, the service name (v4) and profile the console user name and password as well as the name of the connection profile used in the console to connect to the database you want to work with. For this lab we are assuming that the following values are used for the connection:\n",
    "* Userid: db2inst1\n",
    "* Password: db2inst1\n",
    "* Connection: sample\n",
    "\n",
    "**Note:** If the Db2 Data Management Console has not completed initialization, the connection below will fail. Wait for a few moments and then try it again."
   ]
  },
  {
   "cell_type": "code",
   "execution_count": 11,
   "metadata": {},
   "outputs": [
    {
     "name": "stdout",
     "output_type": "stream",
     "text": [
      "Token Created\n"
     ]
    }
   ],
   "source": [
    "# Connect to the Db2 Data Management Console service\n",
    "Console  = 'http://localhost:11080'\n",
    "user     = 'DB2INST1'\n",
    "password = 'db2inst1'\n",
    "\n",
    "# Set up the required connection\n",
    "databaseAPI = Db2Console(Console+'/dbapi/v4')\n",
    "if databaseAPI.authenticate(user, password) :\n",
    "    print(\"Token Created\")\n",
    "else : \n",
    "    print(\"Token Creation Failed\")\n",
    "database = Console"
   ]
  },
  {
   "cell_type": "markdown",
   "metadata": {},
   "source": [
    "### Confirm the connection\n",
    "To confirm that your connection is working you can the Console connection profiles."
   ]
  },
  {
   "cell_type": "code",
   "execution_count": 4,
   "metadata": {},
   "outputs": [
    {
     "data": {
      "text/html": [
       "<div>\n",
       "<style scoped>\n",
       "    .dataframe tbody tr th:only-of-type {\n",
       "        vertical-align: middle;\n",
       "    }\n",
       "\n",
       "    .dataframe tbody tr th {\n",
       "        vertical-align: top;\n",
       "    }\n",
       "\n",
       "    .dataframe thead th {\n",
       "        text-align: right;\n",
       "    }\n",
       "</style>\n",
       "<table border=\"1\" class=\"dataframe\">\n",
       "  <thead>\n",
       "    <tr style=\"text-align: right;\">\n",
       "      <th></th>\n",
       "      <th>name</th>\n",
       "      <th>disableDataCollection</th>\n",
       "      <th>databaseVersion</th>\n",
       "      <th>databaseName</th>\n",
       "      <th>timeZone</th>\n",
       "      <th>databaseVersion_VRMF</th>\n",
       "      <th>sslConnection</th>\n",
       "      <th>userProfileRole</th>\n",
       "      <th>host</th>\n",
       "      <th>_PROFILE_INIT_</th>\n",
       "      <th>dataServerType</th>\n",
       "      <th>port</th>\n",
       "      <th>edition</th>\n",
       "      <th>dataServerExternalType</th>\n",
       "      <th>capabilities</th>\n",
       "      <th>location</th>\n",
       "      <th>tag</th>\n",
       "    </tr>\n",
       "  </thead>\n",
       "  <tbody>\n",
       "    <tr>\n",
       "      <td>0</td>\n",
       "      <td>SAMPLE</td>\n",
       "      <td>false</td>\n",
       "      <td>11.5.0</td>\n",
       "      <td>SAMPLE</td>\n",
       "      <td>-50000</td>\n",
       "      <td>11.5.0.0</td>\n",
       "      <td>false</td>\n",
       "      <td>OWNER</td>\n",
       "      <td>localhost</td>\n",
       "      <td>true</td>\n",
       "      <td>DB2LUW</td>\n",
       "      <td>50000</td>\n",
       "      <td>AESE,DEC</td>\n",
       "      <td>DB2LUW</td>\n",
       "      <td>[\"DSM_ENTERPRISE_LUW\"]</td>\n",
       "      <td></td>\n",
       "      <td>NaN</td>\n",
       "    </tr>\n",
       "    <tr>\n",
       "      <td>1</td>\n",
       "      <td>HISTORY</td>\n",
       "      <td>false</td>\n",
       "      <td>11.5.0</td>\n",
       "      <td>HISTORY</td>\n",
       "      <td>-50000</td>\n",
       "      <td>11.5.0.0</td>\n",
       "      <td>false</td>\n",
       "      <td>OWNER</td>\n",
       "      <td>localhost</td>\n",
       "      <td>true</td>\n",
       "      <td>DB2LUW</td>\n",
       "      <td>50000</td>\n",
       "      <td>AESE,DEC</td>\n",
       "      <td>DB2LUW</td>\n",
       "      <td>[\"DSM_ENTERPRISE_LUW\"]</td>\n",
       "      <td></td>\n",
       "      <td>[HOT]</td>\n",
       "    </tr>\n",
       "  </tbody>\n",
       "</table>\n",
       "</div>"
      ],
      "text/plain": [
       "      name disableDataCollection databaseVersion databaseName timeZone  \\\n",
       "0   SAMPLE                 false          11.5.0       SAMPLE   -50000   \n",
       "1  HISTORY                 false          11.5.0      HISTORY   -50000   \n",
       "\n",
       "  databaseVersion_VRMF sslConnection userProfileRole       host  \\\n",
       "0             11.5.0.0         false           OWNER  localhost   \n",
       "1             11.5.0.0         false           OWNER  localhost   \n",
       "\n",
       "  _PROFILE_INIT_ dataServerType   port   edition dataServerExternalType  \\\n",
       "0           true         DB2LUW  50000  AESE,DEC                 DB2LUW   \n",
       "1           true         DB2LUW  50000  AESE,DEC                 DB2LUW   \n",
       "\n",
       "             capabilities location    tag  \n",
       "0  [\"DSM_ENTERPRISE_LUW\"]             NaN  \n",
       "1  [\"DSM_ENTERPRISE_LUW\"]           [HOT]  "
      ]
     },
     "metadata": {},
     "output_type": "display_data"
    }
   ],
   "source": [
    "# Get Console Connection Profiles\n",
    "r = databaseAPI.getConsoleProfiles()\n",
    "if (databaseAPI.getStatusCode(r)==200):\n",
    "    json = databaseAPI.getJSON(r)\n",
    "    display(pd.DataFrame(json_normalize(json)))\n",
    "else:\n",
    "    print(databaseAPI.getStatusCode(r))      "
   ]
  },
  {
   "cell_type": "markdown",
   "metadata": {},
   "source": [
    "### Get Repository Configuration\n",
    "You can also get details on the repository configuration. You can see that we are using a local database name HISTORY to store all the monitoring data collected by the console. "
   ]
  },
  {
   "cell_type": "code",
   "execution_count": 5,
   "metadata": {},
   "outputs": [
    {
     "data": {
      "text/html": [
       "<div>\n",
       "<style scoped>\n",
       "    .dataframe tbody tr th:only-of-type {\n",
       "        vertical-align: middle;\n",
       "    }\n",
       "\n",
       "    .dataframe tbody tr th {\n",
       "        vertical-align: top;\n",
       "    }\n",
       "\n",
       "    .dataframe thead th {\n",
       "        text-align: right;\n",
       "    }\n",
       "</style>\n",
       "<table border=\"1\" class=\"dataframe\">\n",
       "  <thead>\n",
       "    <tr style=\"text-align: right;\">\n",
       "      <th></th>\n",
       "      <th>0</th>\n",
       "    </tr>\n",
       "  </thead>\n",
       "  <tbody>\n",
       "    <tr>\n",
       "      <td>databaseName</td>\n",
       "      <td>history</td>\n",
       "    </tr>\n",
       "    <tr>\n",
       "      <td>status</td>\n",
       "      <td>active</td>\n",
       "    </tr>\n",
       "    <tr>\n",
       "      <td>host</td>\n",
       "      <td>localhost</td>\n",
       "    </tr>\n",
       "    <tr>\n",
       "      <td>port</td>\n",
       "      <td>50000</td>\n",
       "    </tr>\n",
       "    <tr>\n",
       "      <td>collectionCred.user</td>\n",
       "      <td>db2inst1</td>\n",
       "    </tr>\n",
       "  </tbody>\n",
       "</table>\n",
       "</div>"
      ],
      "text/plain": [
       "                             0\n",
       "databaseName           history\n",
       "status                  active\n",
       "host                 localhost\n",
       "port                     50000\n",
       "collectionCred.user   db2inst1"
      ]
     },
     "metadata": {},
     "output_type": "display_data"
    }
   ],
   "source": [
    "# Get Console Repository Configuration\n",
    "r = databaseAPI.getConsoleRepository()\n",
    "if (databaseAPI.getStatusCode(r)==200):\n",
    "    json = databaseAPI.getJSON(r) \n",
    "    display(pd.DataFrame(json_normalize(json)[['databaseName','status','host','port','collectionCred.user']]).transpose())\n",
    "else:\n",
    "    print(databaseAPI.getStatusCode(r))      "
   ]
  },
  {
   "cell_type": "markdown",
   "metadata": {},
   "source": [
    "### Running SQL Routines\n",
    "We need to run some SQL scripts later in the lab. So run the next two cells. They define routines that run SQL scripts and display the results of those scripts. If you want to learn more about how these routines were developed, check out the [Analyzing SQL Workloads notebook](http://localhost:8888/notebooks/Db2_Data_Management_Console_SQL.ipynb)."
   ]
  },
  {
   "cell_type": "code",
   "execution_count": 6,
   "metadata": {},
   "outputs": [
    {
     "name": "stdout",
     "output_type": "stream",
     "text": [
      "runSQL routine defined\n"
     ]
    }
   ],
   "source": [
    "def runSQL(profile,user, password, sqlText):\n",
    "    \n",
    "    if databaseAPI.authenticate(user, password, profile) :\n",
    "\n",
    "        runID = databaseAPI.getJSON(databaseAPI.runSQL(sqlText))['id'] \n",
    "\n",
    "        json = databaseAPI.getJSON(databaseAPI.getSQLJobResult(runID))\n",
    "        while 'results' not in json :\n",
    "                json = databaseAPI.getJSON(databaseAPI.getSQLJobResult(runID))\n",
    "        fulljson = json\n",
    "\n",
    "        while json['results'] != [] or (json['status'] != \"completed\" and json['status'] != \"failed\") :\n",
    "            json = databaseAPI.getJSON(databaseAPI.getSQLJobResult(runID))\n",
    "            while 'results' not in json :\n",
    "                json = databaseAPI.getJSON(databaseAPI.getSQLJobResult(runID))\n",
    "            for results in json['results'] :\n",
    "                fulljson['results'].append(results)\n",
    "            time.sleep(1) \n",
    "        return fulljson\n",
    "    else :\n",
    "        print('Could not authenticate')\n",
    "print('runSQL routine defined')"
   ]
  },
  {
   "cell_type": "code",
   "execution_count": 7,
   "metadata": {},
   "outputs": [
    {
     "name": "stdout",
     "output_type": "stream",
     "text": [
      "displayResults routine defined\n"
     ]
    }
   ],
   "source": [
    "def displayResults(json):\n",
    "\n",
    "    for results in json['results']:\n",
    "        print('Statement: '+str(results['index'])+': '+results['command'])\n",
    "        if 'error' in results : \n",
    "            print(results['error'])\n",
    "        elif 'rows' in results :\n",
    "            df = pd.DataFrame(results['rows'],columns=results['columns'])\n",
    "            print(df)\n",
    "        else :\n",
    "            print('No errors. Row Affected: '+str(results['rows_affected']))\n",
    "        print()\n",
    "print('displayResults routine defined')"
   ]
  },
  {
   "cell_type": "markdown",
   "metadata": {},
   "source": [
    "## Setting up Repository Authentication"
   ]
  },
  {
   "cell_type": "markdown",
   "metadata": {},
   "source": [
    "### Reviewing current console authentication and switching to repository authentication"
   ]
  },
  {
   "cell_type": "markdown",
   "metadata": {},
   "source": [
    "Let's start by looking at the current authentication settings in the console. To see the authentication settings you can either:\n",
    "\n",
    "Use the full console to switch to Repository Database Authentication:\n",
    "1. Click the link http://localhost:11080/console\n",
    "2. Click the gear icon at the top right of the page\n",
    "3. Select **Repository Setting**\n",
    "\n",
    "Use the embedded page from the console to switch to Repostory Database Authentication\n",
    "1. Run the cell below"
   ]
  },
  {
   "cell_type": "code",
   "execution_count": 8,
   "metadata": {},
   "outputs": [
    {
     "data": {
      "text/html": [
       "\n",
       "        <iframe\n",
       "            width=\"1400\"\n",
       "            height=\"300\"\n",
       "            src=\"http://localhost:11080/console/?mode=compact#settings/authentication\"\n",
       "            frameborder=\"0\"\n",
       "            allowfullscreen\n",
       "        ></iframe>\n",
       "        "
      ],
      "text/plain": [
       "<IPython.lib.display.IFrame at 0x7fe9c2efee50>"
      ]
     },
     "execution_count": 8,
     "metadata": {},
     "output_type": "execute_result"
    }
   ],
   "source": [
    "IFrame(database+'/console/?mode=compact#settings/authentication', width=1400, height=300)"
   ]
  },
  {
   "cell_type": "markdown",
   "metadata": {},
   "source": [
    "To support multiple users you need a way to authenticate those other users. There are two choices. \n",
    "1. **Repository Database Authentication**. This delegates the authentication of console users to the Db2 repository database used by the console to store historical monitoring data. \n",
    "2. **LDAP**. This delegates the authentication to an external LDAP service.\n",
    "In this example we use the Repository Database to authenticate console users. You associate console users and administrators to Db2 Authorities, Groups, UDFs or Role. \n",
    "\n",
    "In this lab we are going to setup the first option, Repository Database Authentication. \n",
    "\n",
    "Before switching to Repository Database Authentication lets create some new users in the operating system that Db2 can recognize. "
   ]
  },
  {
   "cell_type": "markdown",
   "metadata": {},
   "source": [
    "### Adding Operating System Users\n",
    "The repository database uses standard Db2 authentiation. The simpiliest way to set this up is to use the userid authentication that is built into the operating system that your Db2 database is running on. \n",
    "\n",
    "To add new users to the console you need to add new users to your operating system. \n",
    "\n",
    "In this hands-on lab you can create those new users through the Linux settings console. ![Linux Settings](https://raw.githubusercontent.com/Db2-DTE-POC/db2dmc/master/media/LinuxSettings.png \"Linux Settings\")\n",
    "\n",
    "1. Click the **Linux Settings** Icon\n",
    "2. Click **Users** in the menu on the left side of the page\n",
    "3. Click **Unlock** at the top right side of the page\n",
    "4. Enter the DB2POC password **dmc2020pot**.\n",
    "5. Click **Add User...** at the top-right of the page\n",
    "6. Type **Peter** into the **Full Name** and the **Username** fields.\n",
    "7. Click **Set a password now**\n",
    "8. Enter **DataConsole** into the **password field**\n",
    "9. Click **Add** at the top-right of the page\n",
    "\n",
    "Repeat steps 5 to 9 for the following new users:\n",
    "1. **Paul**\n",
    "2. **Mary**"
   ]
  },
  {
   "cell_type": "markdown",
   "metadata": {},
   "source": [
    "### Adding Users to the Console using Repository Authentication\n",
    "Now that you have three new users lets add them grant them database authorities and CONSOLE roles. The following cell will grant a user to either an Admin or User role (CONSOLE_ADM, CONSOLE_USR). "
   ]
  },
  {
   "cell_type": "code",
   "execution_count": 24,
   "metadata": {},
   "outputs": [
    {
     "data": {
      "text/html": [
       "<div>\n",
       "<style scoped>\n",
       "    .dataframe tbody tr th:only-of-type {\n",
       "        vertical-align: middle;\n",
       "    }\n",
       "\n",
       "    .dataframe tbody tr th {\n",
       "        vertical-align: top;\n",
       "    }\n",
       "\n",
       "    .dataframe thead th {\n",
       "        text-align: right;\n",
       "    }\n",
       "</style>\n",
       "<table border=\"1\" class=\"dataframe\">\n",
       "  <thead>\n",
       "    <tr style=\"text-align: right;\">\n",
       "      <th></th>\n",
       "      <th>newUser</th>\n",
       "      <th>Type</th>\n",
       "    </tr>\n",
       "  </thead>\n",
       "  <tbody>\n",
       "    <tr>\n",
       "      <td>0</td>\n",
       "      <td>PETER</td>\n",
       "      <td>Admin</td>\n",
       "    </tr>\n",
       "    <tr>\n",
       "      <td>1</td>\n",
       "      <td>PAUL</td>\n",
       "      <td>User</td>\n",
       "    </tr>\n",
       "    <tr>\n",
       "      <td>2</td>\n",
       "      <td>MARY</td>\n",
       "      <td>User</td>\n",
       "    </tr>\n",
       "  </tbody>\n",
       "</table>\n",
       "</div>"
      ],
      "text/plain": [
       "  newUser   Type\n",
       "0   PETER  Admin\n",
       "1    PAUL   User\n",
       "2    MARY   User"
      ]
     },
     "metadata": {},
     "output_type": "display_data"
    },
    {
     "name": "stdout",
     "output_type": "stream",
     "text": [
      "Adding User: PETER\n",
      "Statement: 0: GRANT DBADM, CREATETAB, BINDADD, CONNECT, CREATE_NOT_FENCED, IMPLICIT_SCHEMA, LOAD ON DATABASE TO USER \"PETER\"\n",
      "No errors. Row Affected: 0\n",
      "\n",
      "Statement: 1: GRANT ROLE \"CONSOLE_ADM\" TO USER \"PETER\"\n",
      "No errors. Row Affected: 0\n",
      "\n",
      "Adding User: PAUL\n",
      "Statement: 0: GRANT DBADM, CREATETAB, BINDADD, CONNECT, CREATE_NOT_FENCED, IMPLICIT_SCHEMA, LOAD ON DATABASE TO USER \"PAUL\"\n",
      "No errors. Row Affected: 0\n",
      "\n",
      "Statement: 1: GRANT ROLE \"CONSOLE_USR\" TO USER \"PAUL\"\n",
      "No errors. Row Affected: 0\n",
      "\n",
      "Adding User: MARY\n",
      "Statement: 0: GRANT DBADM, CREATETAB, BINDADD, CONNECT, CREATE_NOT_FENCED, IMPLICIT_SCHEMA, LOAD ON DATABASE TO USER \"MARY\"\n",
      "No errors. Row Affected: 0\n",
      "\n",
      "Statement: 1: GRANT ROLE \"CONSOLE_USR\" TO USER \"MARY\"\n",
      "No errors. Row Affected: 0\n",
      "\n",
      "done\n"
     ]
    }
   ],
   "source": [
    "userList = {'newUser':['PETER', 'PAUL', 'MARY'], 'Type':['Admin', 'User', 'User']} \n",
    "userListDF = pd.DataFrame(userList) \n",
    "display(userListDF)\n",
    "  \n",
    "user = 'DB2INST1'\n",
    "password = 'db2inst1'\n",
    "profile = 'HISTORY'\n",
    "\n",
    "for row in range(0, len(userListDF)):\n",
    "    Type = userListDF['Type'].iloc[row]\n",
    "    newUser = userListDF['newUser'].iloc[row]\n",
    "    \n",
    "    script = 'GRANT DBADM, CREATETAB, BINDADD, CONNECT, CREATE_NOT_FENCED, IMPLICIT_SCHEMA, LOAD ON DATABASE TO USER \"'+newUser+'\";'\n",
    "    if userListDF['Type'].iloc[row] == 'Admin' :\n",
    "        script = script + 'GRANT ROLE \"CONSOLE_ADM\" TO USER \"'+newUser+'\";'\n",
    "    else : \n",
    "        script = script + 'GRANT ROLE \"CONSOLE_USR\" TO USER \"'+newUser+'\";'        \n",
    "    print('Adding User: '+newUser)\n",
    "    displayResults(runSQL(profile, user, password, script))\n",
    "print('done')"
   ]
  },
  {
   "cell_type": "markdown",
   "metadata": {},
   "source": [
    "### Switch Authentication Method in the Console\n",
    "Next that we can users that are assigned to the correct role, we can switch from using the single default user to using Repository Database authentication for multiple users. You can do this through the Db2 Data Management Console and navigating to the **Repository Setting** page or by running the next cell below. Pick one of the two methods below to get to the Repository Settings page. Then follow the 10 steps to change the authentication method.\n",
    "\n",
    "Use the full console to switch to Repository Database Authentication:\n",
    "1. Click the link http://localhost:11080/console\n",
    "2. Click the gear icon at the top right of the page\n",
    "3. Select **Repository Setting**\n",
    "\n",
    "Use the embedded page from the console to switch to Repostory Database Authentication\n",
    "1. Run the cell below\n",
    "\n",
    "Now configure the console to use the Repository database to authenticate users. \n",
    "1. Select **Repository** from the list of available Authentiation Types.\n",
    "2. Scroll down and select **Db2 Roles** from the list of User role matting methods\n",
    "3. Enter CONSOLE_ADM in the Admin roles field\n",
    "4. Enter CONSOLE_USR in the User roles field\n",
    "5. Click Next\n",
    "6. Enter **db2inst1** in the Test user ID field\n",
    "7. Enter **db2inst1** in the Test user password field\n",
    "8. Click **Test**. You should see confirmation that the test succeeded\n",
    "9. Select **Save** at the bottom right of the page. A confirmation dialog appears.\n",
    "10. Click **Yes**. You should now see that Repository authentication is set and enabled successfully.\n"
   ]
  },
  {
   "cell_type": "code",
   "execution_count": 15,
   "metadata": {},
   "outputs": [
    {
     "data": {
      "text/html": [
       "\n",
       "        <iframe\n",
       "            width=\"1400\"\n",
       "            height=\"500\"\n",
       "            src=\"http://localhost:11080/console/?mode=compact#settings/authentication\"\n",
       "            frameborder=\"0\"\n",
       "            allowfullscreen\n",
       "        ></iframe>\n",
       "        "
      ],
      "text/plain": [
       "<IPython.lib.display.IFrame at 0x7fe9c3838fd0>"
      ]
     },
     "execution_count": 15,
     "metadata": {},
     "output_type": "execute_result"
    }
   ],
   "source": [
    "IFrame(database+'/console/?mode=compact#settings/authentication', width=1400, height=500)"
   ]
  },
  {
   "cell_type": "markdown",
   "metadata": {},
   "source": [
    "### Test the new users\n",
    "To test the new user and authentication method you can log out and into the console and you can run the cell below. \n",
    "\n",
    "1. Open the console http://localhost:11080/console\n",
    "2. Click the user icon at the very top right of the screen\n",
    "3. Select **sign out** a confirmation dialog appears\n",
    "4. Select **Yes**\n",
    "5. Enter **Peter** in the use field\n",
    "6. Enter **dmc2020pot** in the password field"
   ]
  },
  {
   "cell_type": "markdown",
   "metadata": {},
   "source": [
    "This next cell runs a simple query through the console service using one of the new users. "
   ]
  },
  {
   "cell_type": "code",
   "execution_count": 29,
   "metadata": {},
   "outputs": [
    {
     "name": "stdout",
     "output_type": "stream",
     "text": [
      "Statement: 0: select TABSCHEMA, TABNAME from syscat.tables\n",
      "    TABSCHEMA                         TABNAME\n",
      "0    DB2INST1                     DEPARTMENTS\n",
      "1    DB2INST1                       EMPLOYEES\n",
      "2    DB2INST1                       PERSONNEL\n",
      "3  IBMCONSOLE                ACCESS_PLAN_DATA\n",
      "4  IBMCONSOLE             ADMIN_EDITOR_RESULT\n",
      "5  IBMCONSOLE            ADMIN_EDITOR_SCRIPTS\n",
      "6  IBMCONSOLE     ADMIN_EDITOR_SCRIPTS_OPTION\n",
      "7  IBMCONSOLE  ADMIN_EDITOR_SCRIPTS_SUBSCRIBE\n",
      "8  IBMCONSOLE                           ALERT\n",
      "9  IBMCONSOLE                ALERT_PROPERTIES\n",
      "\n"
     ]
    }
   ],
   "source": [
    "sql = 'select TABSCHEMA, TABNAME from syscat.tables'\n",
    "displayResults(runSQL('HISTORY', 'Peter', 'dmc2020pot', sql))"
   ]
  },
  {
   "cell_type": "markdown",
   "metadata": {},
   "source": [
    "## Manage Console User Priviledges\n",
    "In the console you can control which users can access specific database connections. These are divided into Owners, who can grant privleges, and users who can only use the connection."
   ]
  },
  {
   "cell_type": "markdown",
   "metadata": {},
   "source": [
    "### Get User Connection Profile Privileges\n",
    "The next cell lets you control exactly which users can have specific databases. You can also access this through the console **Users and Privileges** settings page in the main console. "
   ]
  },
  {
   "cell_type": "code",
   "execution_count": 30,
   "metadata": {},
   "outputs": [
    {
     "data": {
      "text/html": [
       "\n",
       "        <iframe\n",
       "            width=\"1400\"\n",
       "            height=\"300\"\n",
       "            src=\"http://localhost:11080/console/?mode=compact#settings/users\"\n",
       "            frameborder=\"0\"\n",
       "            allowfullscreen\n",
       "        ></iframe>\n",
       "        "
      ],
      "text/plain": [
       "<IPython.lib.display.IFrame at 0x7fe9c2ed9e10>"
      ]
     },
     "execution_count": 30,
     "metadata": {},
     "output_type": "execute_result"
    }
   ],
   "source": [
    "IFrame(database+'/console/?mode=compact#settings/users', width=1400, height=300)"
   ]
  },
  {
   "cell_type": "markdown",
   "metadata": {},
   "source": [
    "If you have a lot to users and databases to manage it may be useful to script these changes. The next cell include and example of how to retrieve the current privileges through the console APIs. "
   ]
  },
  {
   "cell_type": "code",
   "execution_count": 31,
   "metadata": {},
   "outputs": [
    {
     "data": {
      "text/html": [
       "<div>\n",
       "<style scoped>\n",
       "    .dataframe tbody tr th:only-of-type {\n",
       "        vertical-align: middle;\n",
       "    }\n",
       "\n",
       "    .dataframe tbody tr th {\n",
       "        vertical-align: top;\n",
       "    }\n",
       "\n",
       "    .dataframe thead th {\n",
       "        text-align: right;\n",
       "    }\n",
       "</style>\n",
       "<table border=\"1\" class=\"dataframe\">\n",
       "  <thead>\n",
       "    <tr style=\"text-align: right;\">\n",
       "      <th></th>\n",
       "      <th>profileName</th>\n",
       "      <th>OWNER</th>\n",
       "      <th>USER</th>\n",
       "    </tr>\n",
       "  </thead>\n",
       "  <tbody>\n",
       "    <tr>\n",
       "      <td>0</td>\n",
       "      <td>SAMPLE</td>\n",
       "      <td>[owner, db2inst1, user]</td>\n",
       "      <td>[db2pot, dmcusr]</td>\n",
       "    </tr>\n",
       "    <tr>\n",
       "      <td>1</td>\n",
       "      <td>HISTORY</td>\n",
       "      <td>[owner, db2inst1, user]</td>\n",
       "      <td>[db2pot, dmcusr]</td>\n",
       "    </tr>\n",
       "  </tbody>\n",
       "</table>\n",
       "</div>"
      ],
      "text/plain": [
       "  profileName                    OWNER              USER\n",
       "0      SAMPLE  [owner, db2inst1, user]  [db2pot, dmcusr]\n",
       "1     HISTORY  [owner, db2inst1, user]  [db2pot, dmcusr]"
      ]
     },
     "metadata": {},
     "output_type": "display_data"
    }
   ],
   "source": [
    "# Get User Connection Profile Privleges\n",
    "r = databaseAPI.getUserPriviledges()\n",
    "if (databaseAPI.getStatusCode(r)==200):\n",
    "    json = databaseAPI.getJSON(r)\n",
    "    display(pd.DataFrame(json_normalize(json)))\n",
    "else:\n",
    "    print(databaseAPI.getStatusCode(r))      "
   ]
  },
  {
   "cell_type": "markdown",
   "metadata": {},
   "source": [
    "### Change User Connection Profile Privileges\n",
    "If you have a lot of changes to make at once, the following cells are examples of how to script changes to multiple user and database connection priviledges. The first two cells in this section define reusable routines that let you add and revoke privileges with a single call. "
   ]
  },
  {
   "cell_type": "code",
   "execution_count": 33,
   "metadata": {},
   "outputs": [
    {
     "name": "stdout",
     "output_type": "stream",
     "text": [
      "Created routine to add profile privileges\n"
     ]
    }
   ],
   "source": [
    "# Change User Connection Profile Privileges\n",
    "def addProfilePrivileges(profile, name, userType) :\n",
    "\n",
    "    if userType == 'user' : \n",
    "        r = databaseAPI.assignUserPrivileges(profile, name)\n",
    "    else: \n",
    "        r = databaseAPI.assignOwnerPrivileges(profile, name)\n",
    "\n",
    "    if (databaseAPI.getStatusCode(r)==201):\n",
    "        print(name+' added to: '+profile+\" as a new \"+userType+\".\")\n",
    "    else:\n",
    "        print(databaseAPI.getStatusCode(r)) \n",
    "    \n",
    "print('Created routine to add profile privileges')"
   ]
  },
  {
   "cell_type": "code",
   "execution_count": 34,
   "metadata": {},
   "outputs": [
    {
     "name": "stdout",
     "output_type": "stream",
     "text": [
      "Created routine to revoke profile privileges\n"
     ]
    }
   ],
   "source": [
    "# Revoke User Connection Profile Privileges\n",
    "def revokeProfilePrivileges(profile, name) :\n",
    "\n",
    "    r = databaseAPI.revokeProfilePrivileges(profile, name)\n",
    "\n",
    "    if (databaseAPI.getStatusCode(r)==201):\n",
    "        print(name+' privilege revoked from: '+profile)\n",
    "    else:\n",
    "        print(databaseAPI.getStatusCode(r)) \n",
    "    \n",
    "print('Created routine to revoke profile privileges')"
   ]
  },
  {
   "cell_type": "code",
   "execution_count": 35,
   "metadata": {},
   "outputs": [
    {
     "name": "stdout",
     "output_type": "stream",
     "text": [
      "PAUL added to: HISTORY as a new owner.\n"
     ]
    }
   ],
   "source": [
    "addProfilePrivileges('HISTORY', 'PAUL', 'owner')"
   ]
  },
  {
   "cell_type": "code",
   "execution_count": 36,
   "metadata": {},
   "outputs": [
    {
     "name": "stdout",
     "output_type": "stream",
     "text": [
      "PAUL privilege revoked from: HISTORY\n"
     ]
    }
   ],
   "source": [
    "revokeProfilePrivileges('HISTORY', 'PAUL')"
   ]
  },
  {
   "cell_type": "markdown",
   "metadata": {},
   "source": [
    "### Making Mutliple Changes at once\n",
    "These next two examples, show how to process an entire list of changes through a simple loop. Both to grant and revoke user privileges. "
   ]
  },
  {
   "cell_type": "code",
   "execution_count": 37,
   "metadata": {},
   "outputs": [
    {
     "data": {
      "text/html": [
       "<div>\n",
       "<style scoped>\n",
       "    .dataframe tbody tr th:only-of-type {\n",
       "        vertical-align: middle;\n",
       "    }\n",
       "\n",
       "    .dataframe tbody tr th {\n",
       "        vertical-align: top;\n",
       "    }\n",
       "\n",
       "    .dataframe thead th {\n",
       "        text-align: right;\n",
       "    }\n",
       "</style>\n",
       "<table border=\"1\" class=\"dataframe\">\n",
       "  <thead>\n",
       "    <tr style=\"text-align: right;\">\n",
       "      <th></th>\n",
       "      <th>userName</th>\n",
       "      <th>Profile</th>\n",
       "      <th>Type</th>\n",
       "    </tr>\n",
       "  </thead>\n",
       "  <tbody>\n",
       "    <tr>\n",
       "      <td>0</td>\n",
       "      <td>PETER</td>\n",
       "      <td>HISTORY</td>\n",
       "      <td>owner</td>\n",
       "    </tr>\n",
       "    <tr>\n",
       "      <td>1</td>\n",
       "      <td>PAUL</td>\n",
       "      <td>HISTORY</td>\n",
       "      <td>user</td>\n",
       "    </tr>\n",
       "    <tr>\n",
       "      <td>2</td>\n",
       "      <td>MARY</td>\n",
       "      <td>HISTORY</td>\n",
       "      <td>user</td>\n",
       "    </tr>\n",
       "    <tr>\n",
       "      <td>3</td>\n",
       "      <td>PETER</td>\n",
       "      <td>SAMPLE</td>\n",
       "      <td>owner</td>\n",
       "    </tr>\n",
       "    <tr>\n",
       "      <td>4</td>\n",
       "      <td>PAUL</td>\n",
       "      <td>SAMPLE</td>\n",
       "      <td>user</td>\n",
       "    </tr>\n",
       "    <tr>\n",
       "      <td>5</td>\n",
       "      <td>MARY</td>\n",
       "      <td>SAMPLE</td>\n",
       "      <td>user</td>\n",
       "    </tr>\n",
       "  </tbody>\n",
       "</table>\n",
       "</div>"
      ],
      "text/plain": [
       "  userName  Profile   Type\n",
       "0    PETER  HISTORY  owner\n",
       "1     PAUL  HISTORY   user\n",
       "2     MARY  HISTORY   user\n",
       "3    PETER   SAMPLE  owner\n",
       "4     PAUL   SAMPLE   user\n",
       "5     MARY   SAMPLE   user"
      ]
     },
     "metadata": {},
     "output_type": "display_data"
    },
    {
     "name": "stdout",
     "output_type": "stream",
     "text": [
      "PETER added to: HISTORY as a new owner.\n",
      "PAUL added to: HISTORY as a new user.\n",
      "MARY added to: HISTORY as a new user.\n",
      "PETER added to: SAMPLE as a new owner.\n",
      "PAUL added to: SAMPLE as a new user.\n",
      "MARY added to: SAMPLE as a new user.\n",
      "done\n"
     ]
    }
   ],
   "source": [
    "userList = {'userName':['PETER', 'PAUL', 'MARY', 'PETER', 'PAUL', 'MARY'], 'Profile':['HISTORY', 'HISTORY', 'HISTORY', 'SAMPLE', 'SAMPLE','SAMPLE'],'Type':['owner', 'user', 'user', 'owner', 'user', 'user']} \n",
    "userListDF = pd.DataFrame(userList) \n",
    "display(userListDF)\n",
    "\n",
    "for row in range(0, len(userListDF)):\n",
    "    profile = userListDF['Profile'].iloc[row]\n",
    "    userType = userListDF['Type'].iloc[row]\n",
    "    name = userListDF['userName'].iloc[row]   \n",
    "    addProfilePrivileges(profile, name, userType)\n",
    "print('done')"
   ]
  },
  {
   "cell_type": "code",
   "execution_count": 38,
   "metadata": {},
   "outputs": [
    {
     "data": {
      "text/html": [
       "<div>\n",
       "<style scoped>\n",
       "    .dataframe tbody tr th:only-of-type {\n",
       "        vertical-align: middle;\n",
       "    }\n",
       "\n",
       "    .dataframe tbody tr th {\n",
       "        vertical-align: top;\n",
       "    }\n",
       "\n",
       "    .dataframe thead th {\n",
       "        text-align: right;\n",
       "    }\n",
       "</style>\n",
       "<table border=\"1\" class=\"dataframe\">\n",
       "  <thead>\n",
       "    <tr style=\"text-align: right;\">\n",
       "      <th></th>\n",
       "      <th>userName</th>\n",
       "      <th>Profile</th>\n",
       "    </tr>\n",
       "  </thead>\n",
       "  <tbody>\n",
       "    <tr>\n",
       "      <td>0</td>\n",
       "      <td>PETER</td>\n",
       "      <td>HISTORY</td>\n",
       "    </tr>\n",
       "    <tr>\n",
       "      <td>1</td>\n",
       "      <td>PAUL</td>\n",
       "      <td>HISTORY</td>\n",
       "    </tr>\n",
       "    <tr>\n",
       "      <td>2</td>\n",
       "      <td>MARY</td>\n",
       "      <td>HISTORY</td>\n",
       "    </tr>\n",
       "    <tr>\n",
       "      <td>3</td>\n",
       "      <td>PETER</td>\n",
       "      <td>SAMPLE</td>\n",
       "    </tr>\n",
       "    <tr>\n",
       "      <td>4</td>\n",
       "      <td>PAUL</td>\n",
       "      <td>SAMPLE</td>\n",
       "    </tr>\n",
       "    <tr>\n",
       "      <td>5</td>\n",
       "      <td>MARY</td>\n",
       "      <td>SAMPLE</td>\n",
       "    </tr>\n",
       "  </tbody>\n",
       "</table>\n",
       "</div>"
      ],
      "text/plain": [
       "  userName  Profile\n",
       "0    PETER  HISTORY\n",
       "1     PAUL  HISTORY\n",
       "2     MARY  HISTORY\n",
       "3    PETER   SAMPLE\n",
       "4     PAUL   SAMPLE\n",
       "5     MARY   SAMPLE"
      ]
     },
     "metadata": {},
     "output_type": "display_data"
    },
    {
     "name": "stdout",
     "output_type": "stream",
     "text": [
      "PETER privilege revoked from: HISTORY\n",
      "PAUL privilege revoked from: HISTORY\n",
      "MARY privilege revoked from: HISTORY\n",
      "PETER privilege revoked from: SAMPLE\n",
      "PAUL privilege revoked from: SAMPLE\n",
      "MARY privilege revoked from: SAMPLE\n",
      "done\n"
     ]
    }
   ],
   "source": [
    "userList = {'userName':['PETER', 'PAUL', 'MARY', 'PETER', 'PAUL', 'MARY'], 'Profile':['HISTORY', 'HISTORY', 'HISTORY', 'SAMPLE', 'SAMPLE','SAMPLE']} \n",
    "userListDF = pd.DataFrame(userList) \n",
    "display(userListDF)\n",
    "\n",
    "for row in range(0, len(userListDF)):\n",
    "    profile = userListDF['Profile'].iloc[row]\n",
    "    name = userListDF['userName'].iloc[row]   \n",
    "    revokeProfilePrivileges(profile, name)\n",
    "print('done')\n"
   ]
  },
  {
   "cell_type": "markdown",
   "metadata": {},
   "source": [
    "### Adding Connection Profiles"
   ]
  },
  {
   "cell_type": "markdown",
   "metadata": {},
   "source": [
    "Let's start by checking the list of current database profiles available in the console."
   ]
  },
  {
   "cell_type": "code",
   "execution_count": null,
   "metadata": {},
   "outputs": [],
   "source": [
    "IFrame(database+'/console/?mode=compact#connection/manager', width=1400, height=300)"
   ]
  },
  {
   "cell_type": "code",
   "execution_count": null,
   "metadata": {},
   "outputs": [],
   "source": [
    "# Get Console Connection Profiles\n",
    "r = databaseAPI.getConsoleProfiles()\n",
    "if (databaseAPI.getStatusCode(r)==200):\n",
    "    json = databaseAPI.getJSON(r)\n",
    "    display(pd.DataFrame(json_normalize(json)))\n",
    "else:\n",
    "    print(databaseAPI.getStatusCode(r))      "
   ]
  },
  {
   "cell_type": "code",
   "execution_count": null,
   "metadata": {},
   "outputs": [],
   "source": [
    "# Export Console Connection Profiles\n",
    "r = databaseAPI.getExportConsoleProfiles()\n",
    "\n",
    "if (databaseAPI.getStatusCode(r)==200):\n",
    "    with open('connectionProfile.csv','wb') as file:\n",
    "        file.write(r.content)\n",
    "else:\n",
    "    print(databaseAPI.getStatusCode(r))  "
   ]
  },
  {
   "cell_type": "code",
   "execution_count": null,
   "metadata": {},
   "outputs": [],
   "source": [
    "# Import Console Connection Profile\n",
    "df = pd.read_csv(\"connectionProfile.csv\") \n",
    "df = df.drop(df.index[1]) #Drop the second row\n",
    "df = df.iloc[:, :-1] # Drop the last column\n",
    "display(df)"
   ]
  },
  {
   "cell_type": "code",
   "execution_count": null,
   "metadata": {},
   "outputs": [],
   "source": [
    "# Extract Connection Credentials\n"
   ]
  },
  {
   "cell_type": "markdown",
   "metadata": {},
   "source": [
    "### Re-enable the original setup administrator account"
   ]
  },
  {
   "cell_type": "markdown",
   "metadata": {},
   "source": [
    "The setup administrator account is automatically disabled when the administrator account is configured the authentication settings. However, during emergency situations (for example, when the configured LDAP server is down, or the entries of administrator accounts are removed or renamed) when none of the administrator account is available to log into the console, it becomes necessary to re-enable the setup administrator account.\n",
    "\n",
    "To re-enable setup administrator account:\n",
    "1. Click the **Files** icon at the bottom left of the screen\n",
    "2. Select the **Home** directory\n",
    "3. Select the **dmc** directory\n",
    "3. Select the **Config** directory\n",
    "4. Select the **dewebserver_override.properties** file\n",
    "5. Hit the **Enter** key\n",
    "6. In the file editor change the property value named **auth** to **superAdmin** (auth=superAdmin, no spaces before or after)\n",
    "7. Click **Save** at the top right of the editor screen\n",
    "8. If necessary log out of the IBM Db2 Data Management Console and log in with the setup administrator account.\n",
    "    Userid: db2inst1\n",
    "    Password: db2inst1\n",
    "9. Navigate to Authentication Setting page and configure the authentication settings. You should see that the settings have returned to the default configuration."
   ]
  },
  {
   "cell_type": "markdown",
   "metadata": {},
   "source": [
    "### Encrypt a password"
   ]
  },
  {
   "cell_type": "markdown",
   "metadata": {},
   "source": [
    "Anytime that the Db2 Data Management Console stores a password, it encrypts it using a routine included with the console. You can access this yourself through the command line. \n",
    "\n",
    "To encrypt a password:\n",
    "1. Click the **Terminal** icon at the bottom left of the screen\n",
    "2. Go to the directory where the console is installed by running the following command\n",
    "    cd dmc\n",
    "2. Enter the following command where the NewPassword id **db2inst1**\n",
    "```\n",
    "dsutil/bin/crypt.sh db2inst1\n",
    "```    \n",
    "3. Copy the encrypted password by highlighting it with your mouse, right click and select Copy."
   ]
  },
  {
   "cell_type": "markdown",
   "metadata": {},
   "source": [
    "### Create a new Db2 Database"
   ]
  },
  {
   "cell_type": "markdown",
   "metadata": {},
   "source": [
    "To create a new Db2 database you need to access the Db2 Terminal:\n",
    "\n",
    "1. Click the **Terminal** icon at the bottom left of the screen\n",
    "2. Switch to the DB2INST1 USER by running the following command\n",
    "```\n",
    "su - db2inst1\n",
    "```\n",
    "3. Enter the password **db2inst1**\n",
    "4. Create a database with the following command where **dbone** is the name of the new database\n",
    "```\n",
    "db2 create database dbone\n",
    "```"
   ]
  },
  {
   "cell_type": "markdown",
   "metadata": {},
   "source": [
    "### Create a new Database Connection Profile through the User Interface"
   ]
  },
  {
   "cell_type": "code",
   "execution_count": null,
   "metadata": {},
   "outputs": [],
   "source": [
    "IFrame(database+'/console/?mode=compact#connection/manager/add', width=1400, height=500)"
   ]
  },
  {
   "cell_type": "markdown",
   "metadata": {},
   "source": [
    "### List the current Connection Profiles"
   ]
  },
  {
   "cell_type": "code",
   "execution_count": null,
   "metadata": {},
   "outputs": [],
   "source": [
    "# Get Console Connection Profiles\n",
    "r = databaseAPI.getConsoleProfiles()\n",
    "if (databaseAPI.getStatusCode(r)==200):\n",
    "    json = databaseAPI.getJSON(r)\n",
    "    display(pd.DataFrame(json_normalize(json)))\n",
    "else:\n",
    "    print(databaseAPI.getStatusCode(r))      "
   ]
  },
  {
   "cell_type": "markdown",
   "metadata": {},
   "source": [
    "### Check Connection Information without Creating a new Profile"
   ]
  },
  {
   "cell_type": "code",
   "execution_count": null,
   "metadata": {},
   "outputs": [],
   "source": [
    "dbName = 'dbone'\n",
    "port = '50000'\n",
    "host = 'localhost'\n",
    "userid = 'db2inst1'\n",
    "password = 'db2inst1'\n",
    "r = databaseAPI.postTestConnection(dbName, port, host, userid, password)\n",
    "if (databaseAPI.getStatusCode(r)==200):\n",
    "    print(databaseAPI.getJSON(r))\n",
    "else:\n",
    "    print(databaseAPI.getStatusCode(r)) "
   ]
  },
  {
   "cell_type": "markdown",
   "metadata": {},
   "source": [
    "### Create a new Database Connection Profile"
   ]
  },
  {
   "cell_type": "code",
   "execution_count": null,
   "metadata": {},
   "outputs": [],
   "source": [
    "connectionName = 'dbOneNew3'\n",
    "dbName = 'dbone'\n",
    "port = '50000'\n",
    "host = 'localhost'\n",
    "userid = 'db2inst1'\n",
    "password = 'db2inst1'\n",
    "comment = 'new connection profile test'\n",
    "r = databaseAPI.postConnectionProfile(connectionName, dbName, port, host, userid, password, comment)\n",
    "if (databaseAPI.getStatusCode(r)==201):\n",
    "    print(\"Created connection profile \"+connectionName)\n",
    "else:\n",
    "    print(databaseAPI.getStatusCode(r)) "
   ]
  },
  {
   "cell_type": "markdown",
   "metadata": {},
   "source": [
    "### List the current Connection Profiles"
   ]
  },
  {
   "cell_type": "code",
   "execution_count": null,
   "metadata": {},
   "outputs": [],
   "source": [
    "# Get Console Connection Profiles\n",
    "r = databaseAPI.getConsoleProfiles()\n",
    "if (databaseAPI.getStatusCode(r)==200):\n",
    "    json = databaseAPI.getJSON(r)\n",
    "    display(pd.DataFrame(json_normalize(json)))\n",
    "else:\n",
    "    print(databaseAPI.getStatusCode(r))      "
   ]
  },
  {
   "cell_type": "markdown",
   "metadata": {},
   "source": [
    "### Delete a connection profile"
   ]
  },
  {
   "cell_type": "code",
   "execution_count": null,
   "metadata": {},
   "outputs": [],
   "source": [
    "connectionName = 'dbOneNew3'\n",
    "\n",
    "r = databaseAPI.deleteConnectionProfile(connectionName)\n",
    "if (databaseAPI.getStatusCode(r)==200):\n",
    "    print(\"Deleted connection profile \"+connectionName)\n",
    "else:\n",
    "    print(databaseAPI.getStatusCode(r)) "
   ]
  },
  {
   "cell_type": "markdown",
   "metadata": {},
   "source": [
    "### Update an Existing Database Connection Profile"
   ]
  },
  {
   "cell_type": "code",
   "execution_count": null,
   "metadata": {},
   "outputs": [],
   "source": [
    "connectionName = 'dbOneNew2'\n",
    "dbName = 'dbone'\n",
    "port = '50000'\n",
    "host = 'localhost'\n",
    "userid = 'db2inst1'\n",
    "password = 'db2inst1'\n",
    "comment = 'Updated Comment'\n",
    "r = databaseAPI.putConnectionProfileUpdate(connectionName, dbName, port, host, userid, password, comment)\n",
    "if (databaseAPI.getStatusCode(r)==200):\n",
    "    print(\"Updated connection profile \"+connectionName)\n",
    "else:\n",
    "    print(databaseAPI.getStatusCode(r)) "
   ]
  },
  {
   "cell_type": "markdown",
   "metadata": {},
   "source": [
    "### List Monitor Profiles"
   ]
  },
  {
   "cell_type": "code",
   "execution_count": null,
   "metadata": {},
   "outputs": [],
   "source": [
    "IFrame(database+'/console/?mode=compact#monitorprofile', width=1400, height=300)"
   ]
  },
  {
   "cell_type": "code",
   "execution_count": null,
   "metadata": {},
   "outputs": [],
   "source": [
    "r = databaseAPI.getMonitoringProfiles()\n",
    "if (databaseAPI.getStatusCode(r)==200):\n",
    "    json = databaseAPI.getJSON(r) \n",
    "    profileList = pd.DataFrame(json_normalize(json['resources']))\n",
    "    display(profileList)\n",
    "else:\n",
    "    print(databaseAPI.getStatusCode(r)) "
   ]
  },
  {
   "cell_type": "markdown",
   "metadata": {
    "slideshow": {
     "slide_type": "fragment"
    }
   },
   "source": [
    "### Get a Monitor Profile"
   ]
  },
  {
   "cell_type": "code",
   "execution_count": null,
   "metadata": {
    "scrolled": false
   },
   "outputs": [],
   "source": [
    "profileName = \"Test\"\n",
    "profileID = str(databaseAPI.getProfileIndex(profileName))\n",
    "r = databaseAPI.getMonitoringProfile(profileID)\n",
    "if (databaseAPI.getStatusCode(r)==200):\n",
    "    json = databaseAPI.getJSON(r) \n",
    "    print(json['base_info'])\n",
    "    print(json['monitor_config']['common_settings'])\n",
    "else:\n",
    "    print(databaseAPI.getStatusCode(r))    "
   ]
  },
  {
   "cell_type": "markdown",
   "metadata": {
    "slideshow": {
     "slide_type": "fragment"
    }
   },
   "source": [
    "### Change a Monitoring Profile"
   ]
  },
  {
   "cell_type": "code",
   "execution_count": null,
   "metadata": {},
   "outputs": [],
   "source": [
    "profileName = \"Test\"\n",
    "\n",
    "# Get the existing json for the monitoring profile\n",
    "profileID = str(databaseAPI.getProfileIndex(profileName))\n",
    "r = databaseAPI.getMonitoringProfile(profileID)\n",
    "if (databaseAPI.getStatusCode(r)==200):\n",
    "    json = databaseAPI.getJSON(r) \n",
    "else:\n",
    "    print(databaseAPI.getStatusCode(r))    \n",
    "\n",
    "# Change the json that describes the list of databases assigned to this monitoring profile\n",
    "json['base_info']['assign_database_list'] = \"dbOneNew2,Fred\"\n",
    "json['monitor_config']['common_settings']['collect_data_every'] = 10  \n",
    "\n",
    "# Put the updated profile back\n",
    "r = databaseAPI.putMonitoringProfile(profileID, json)\n",
    "if (databaseAPI.getStatusCode(r)==200):\n",
    "    print(profileName+' Monitoring Profile Updated')\n",
    "    print(json['base_info'])\n",
    "    print(json['monitor_config']['common_settings'])\n",
    "else:\n",
    "    print(databaseAPI.getStatusCode(r)) "
   ]
  },
  {
   "cell_type": "markdown",
   "metadata": {},
   "source": [
    "#### Credits: IBM 2019, Peter Kohlmann [kohlmann@ca.ibm.com]"
   ]
  }
 ],
 "metadata": {
  "kernelspec": {
   "display_name": "Python 3",
   "language": "python",
   "name": "python3"
  },
  "language_info": {
   "codemirror_mode": {
    "name": "ipython",
    "version": 3
   },
   "file_extension": ".py",
   "mimetype": "text/x-python",
   "name": "python",
   "nbconvert_exporter": "python",
   "pygments_lexer": "ipython3",
   "version": "3.7.4"
  }
 },
 "nbformat": 4,
 "nbformat_minor": 2
}
