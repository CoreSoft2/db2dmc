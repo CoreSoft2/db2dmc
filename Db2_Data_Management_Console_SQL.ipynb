{
 "cells": [
  {
   "cell_type": "markdown",
   "metadata": {},
   "source": [
    "# Analyzing SQL Workloads\n",
    "\n",
    "This Jupyter Notebook contains examples of how to use the Open APIs to run SQL and use Visual Exaplain in the Db2 Data Management Console. "
   ]
  },
  {
   "cell_type": "markdown",
   "metadata": {},
   "source": [
    "### Import Helper Classes\n",
    "For more information on these classes, see the Lab on Automate Db2 with Open Console Services"
   ]
  },
  {
   "cell_type": "code",
   "execution_count": 1,
   "metadata": {},
   "outputs": [],
   "source": [
    "%run ./dmc_setup.ipynb"
   ]
  },
  {
   "cell_type": "markdown",
   "metadata": {},
   "source": [
    "### Db2 Data Management Console Connection\n",
    "To connect to the Db2 Data Management Console service you need to provide the URL, the service name (v4) and profile the console user name and password as well as the name of the connection profile used in the console to connect to the database you want to work with. For this lab we are assuming that the following values are used for the connection:\n",
    "* Userid: db2inst1\n",
    "* Password: db2inst1\n",
    "* Connection: sample\n",
    "\n",
    "**Note:** If the Db2 Data Management Console has not completed initialization, the connection below will fail. Wait for a few moments and then try it again."
   ]
  },
  {
   "cell_type": "code",
   "execution_count": 2,
   "metadata": {},
   "outputs": [
    {
     "name": "stdout",
     "output_type": "stream",
     "text": [
      "Token Created\n"
     ]
    }
   ],
   "source": [
    "# Connect to the Db2 Data Management Console service\n",
    "Console  = 'http://localhost:11080'\n",
    "profile  = 'SAMPLE'\n",
    "user     = 'DB2INST1'\n",
    "password = 'db2inst1'\n",
    "\n",
    "# Set up the required connection\n",
    "profileURL = \"?profile=\"+profile\n",
    "databaseAPI = Db2(Console+'/dbapi/v4')\n",
    "\n",
    "if databaseAPI.authenticate(user, password, profile) :\n",
    "    print(\"Token Created\")\n",
    "else : \n",
    "    print(\"Token Creation Failed\")\n",
    "database = Console"
   ]
  },
  {
   "cell_type": "markdown",
   "metadata": {},
   "source": [
    "### Confirm the connection\n",
    "To confirm that your connection is working you can check the status of the moitoring service. You can also check your console connection to get the details of the specific database connection you are working with. Since your console user id and password are may be limited as to which databases they can access you need to provide the connection profile name to drill down on any detailed information for the database."
   ]
  },
  {
   "cell_type": "code",
   "execution_count": 3,
   "metadata": {},
   "outputs": [
    {
     "name": "stdout",
     "output_type": "stream",
     "text": [
      "{'name': 'SAMPLE', 'disableDataCollection': 'false', 'databaseVersion': '11.5.0', 'databaseName': 'SAMPLE', 'timeZone': '-50000', 'DB2Instance': 'db2inst1', 'db2license': 'AESE,DEC', 'isInstPureScale': 'false', 'databaseVersion_VRMF': '11.5.0.0', 'sslConnection': 'false', 'userProfileRole': 'OWNER', 'timeZoneDiff': '0', 'host': 'localhost', '_PROFILE_INIT_': 'true', 'dataServerType': 'DB2LUW', 'port': '50000', 'URL': 'jdbc:db2://localhost:50000/SAMPLE', 'edition': 'AESE,DEC', 'isInstPartitionable': 'false', 'dataServerExternalType': 'DB2LUW', 'capabilities': '[\"DSM_ENTERPRISE_LUW\"]', 'OSType': 'Linux', 'location': '', 'tag': ['HOT']}\n"
     ]
    }
   ],
   "source": [
    "# List Monitoring Profile\n",
    "r = databaseAPI.getProfile(profile)\n",
    "json = databaseAPI.getJSON(r)\n",
    "print(json)"
   ]
  },
  {
   "cell_type": "markdown",
   "metadata": {},
   "source": [
    "### Using the Db2 class to run SQL\n",
    "You can use the console API to run single SQL statement or sets of statements in a single call. A step by step explanation of running SQL through the Db2 Data Management Console SQL service is available in the [Db2 SQL with RESTful Services](http://localhost:8888/notebooks/Db2_RESTful_APIS.ipynb) Jupyter notebook. These examples use the Db2 class defined in [dmc_setup.ipynb](http://localhost:8888/notebooks/dmc_setup.ipynb). The Db2 class takes care of creating a reusable authentication key from your login information. It includes two routines **runSQL** and **getSQLJobResult** that make submitting SQL scripts easy. **runSQL** uses the console service to run one or more statements in the background, saving the result. **getSQLJobResult** lets you access the results of each statement.  "
   ]
  },
  {
   "cell_type": "markdown",
   "metadata": {},
   "source": [
    "In this first example we will run a single statement. The first step defines a single statement, runs the SQL and retrieves a unique id to identify the SQL running in the background. Using that id you can check the job results to see if it is still running or complete. "
   ]
  },
  {
   "cell_type": "code",
   "execution_count": 4,
   "metadata": {},
   "outputs": [
    {
     "name": "stdout",
     "output_type": "stream",
     "text": [
      "1576017452343_726745000 running\n"
     ]
    }
   ],
   "source": [
    "#Run SQL Statement and Retrieve the identifier used to track the run\n",
    "\n",
    "# Define the SQL to Run\n",
    "sqlText = 'select TABSCHEMA, TABNAME from syscat.tables'\n",
    "\n",
    "# Run SQL throught the Console SQL Editor REST Service\n",
    "r = databaseAPI.runSQL(sqlText)\n",
    "\n",
    "# Retrieve the run identifier from the SQL Editor Service\n",
    "runID = databaseAPI.getJSON(r)['id'] \n",
    "\n",
    "# Using the saved runID retrieve a JSON description of the run\n",
    "json = databaseAPI.getJSON(databaseAPI.getSQLJobResult(runID)) \n",
    "\n",
    "# Extract the status of the run from the JSON return and print the runID as well as its status\n",
    "print(runID+\" \"+json['status']) "
   ]
  },
  {
   "cell_type": "markdown",
   "metadata": {},
   "source": [
    "In the next step we check that the statement has finished running. Then we check for three possible conditions. First,there was an error in the SQL Statement. If so we print the error message. Second, the statement ran successfully and there is a result set. If so we print out the results as a table. And third, there were no errors but also no results were returned. Try running different SQL Statements to see the different results. "
   ]
  },
  {
   "cell_type": "code",
   "execution_count": 5,
   "metadata": {},
   "outputs": [
    {
     "name": "stdout",
     "output_type": "stream",
     "text": [
      "{'id': '1576017452343_726745000', 'results': [{'exceed_size': 'yes', 'rows_count': 11, 'runtime_seconds': 0.013000000268220901, 'columns': ['TABSCHEMA', 'TABNAME'], 'columns_type': ['string', 'string'], 'limit': 10, 'index': 0, 'rows': [['DB2INST1', 'ACT'], ['DB2INST1', 'AS_EMP'], ['DB2INST1', 'BASE_EMP_TXS'], ['DB2INST1', 'CENTRAL_LINE'], ['DB2INST1', 'CL_SCHED'], ['DB2INST1', 'CUSTOMERS'], ['DB2INST1', 'DEMO_TABLE'], ['DB2INST1', 'DEPARTMENT'], ['DB2INST1', 'DEPARTMENTS'], ['DB2INST1', 'DEPT']], 'command': 'select TABSCHEMA, TABNAME from syscat.tables'}], 'status': 'completed'}\n"
     ]
    }
   ],
   "source": [
    "# ONLY RUN THIS STEP IF THE STATEMENT DID NOT COMPLETE IN THE PREVIOUS STEP\n",
    "# Repeat this step until you see that the statement completed\n",
    "# Once you have retrieved the results you cannot run the same call a second time successfully.\n",
    "# The JSON structure is only available on the first call.\n",
    "json = databaseAPI.getJSON(databaseAPI.getSQLJobResult(runID))\n",
    "print(json)"
   ]
  },
  {
   "cell_type": "markdown",
   "metadata": {},
   "source": [
    "Now let us unpack the JSON that was returned above. The code below checks that the statement completed and the checks for errors. If there are no errors and rows were returned in a result set then the rows are extracted to a dataframe and displayed. Dataframes are a very powerful part of the Python Panda's library. They let us easily manupulate data sets that come back from Db2. "
   ]
  },
  {
   "cell_type": "code",
   "execution_count": 6,
   "metadata": {},
   "outputs": [
    {
     "name": "stdout",
     "output_type": "stream",
     "text": [
      "  TABSCHEMA       TABNAME\n",
      "0  DB2INST1           ACT\n",
      "1  DB2INST1        AS_EMP\n",
      "2  DB2INST1  BASE_EMP_TXS\n",
      "3  DB2INST1  CENTRAL_LINE\n",
      "4  DB2INST1      CL_SCHED\n",
      "5  DB2INST1     CUSTOMERS\n",
      "6  DB2INST1    DEMO_TABLE\n",
      "7  DB2INST1    DEPARTMENT\n",
      "8  DB2INST1   DEPARTMENTS\n",
      "9  DB2INST1          DEPT\n"
     ]
    }
   ],
   "source": [
    "if json['results'] != []:\n",
    "        results = json['results'][0]\n",
    "        if 'error' in results : \n",
    "            print(results['error'])\n",
    "        elif 'rows' in results :\n",
    "            df = pd.DataFrame(results['rows'],columns=results['columns'])\n",
    "            print(df)\n",
    "        else :\n",
    "            print('No errors. No results')"
   ]
  },
  {
   "cell_type": "markdown",
   "metadata": {},
   "source": [
    "You do not want to have to continously check to see if a statement is complete. So let us use a simple loop to do the checking for us. "
   ]
  },
  {
   "cell_type": "code",
   "execution_count": 7,
   "metadata": {},
   "outputs": [
    {
     "name": "stdout",
     "output_type": "stream",
     "text": [
      "Run Identifier: 1576017459970_118463755\n",
      "  TABSCHEMA       TABNAME\n",
      "0  DB2INST1           ACT\n",
      "1  DB2INST1        AS_EMP\n",
      "2  DB2INST1  BASE_EMP_TXS\n",
      "3  DB2INST1  CENTRAL_LINE\n",
      "4  DB2INST1      CL_SCHED\n",
      "5  DB2INST1     CUSTOMERS\n",
      "6  DB2INST1    DEMO_TABLE\n",
      "7  DB2INST1    DEPARTMENT\n",
      "8  DB2INST1   DEPARTMENTS\n",
      "9  DB2INST1          DEPT\n"
     ]
    }
   ],
   "source": [
    "# Run SQL Statement and Retrieve the identifier used to track the run\n",
    "sqlText = 'select TABSCHEMA, TABNAME from syscat.tables'\n",
    "runID = databaseAPI.getJSON(databaseAPI.runSQL(sqlText))['id'] \n",
    "print('Run Identifier: '+str(runID))\n",
    "\n",
    "# Check to see if the statement finished running\n",
    "json = databaseAPI.getJSON(databaseAPI.getSQLJobResult(runID))\n",
    "\n",
    "# If the statement still has not finished wait in one second intervals\n",
    "# we check for results because depending on timing it is possible to retrieve results without the status being complete.\n",
    "# Once we retrieve the results there are removed from the service. \n",
    "while json['results'] == [] :\n",
    "    json = databaseAPI.getJSON(databaseAPI.getSQLJobResult(runID))\n",
    "    time.sleep(1) \n",
    "    \n",
    "# Assuming we only have one statement, unpack the results    \n",
    "results = json['results'][0]\n",
    "if 'error' in results : \n",
    "    print(results['error'])\n",
    "elif 'rows' in results :\n",
    "    df = pd.DataFrame(results['rows'],columns=results['columns'])\n",
    "    print(df)\n",
    "else :\n",
    "    print('No errors. No results')"
   ]
  },
  {
   "cell_type": "markdown",
   "metadata": {},
   "source": [
    "### SQL Scripts Used in the Lab\n",
    "We are going to define a few scripts that we will use during this lab. The first two will define tables that are used during the rest of the lab. The third defines a workload we will reuse. Notice that these scripts contain multiple SQL statements. We are going to have to update our code to handle that."
   ]
  },
  {
   "cell_type": "code",
   "execution_count": 8,
   "metadata": {},
   "outputs": [],
   "source": [
    "sqlScriptCreateEmployee = \\\n",
    "'''\n",
    "CREATE TABLE IF NOT EXISTS EMPLOYEES (ENO INTEGER, DEPTNO INTEGER, LASTNAME VARCHAR(30),\n",
    "    HIREDATA DATE, SALARY INTEGER);\n",
    "\n",
    "INSERT INTO EMPLOYEES\n",
    "-- generate 500000 records\n",
    "    WITH DT(ENO) AS (VALUES(1) UNION ALL SELECT ENO+1 FROM DT WHERE ENO < 500000)\n",
    "\n",
    "-- Now, use the generated records in DT to create other columns\n",
    "-- of the employee record.\n",
    "    SELECT ENO,\n",
    "    RAND() * 500,\n",
    "    TRANSLATE(CHAR(INTEGER(RAND()+500000)),\n",
    "    CASE MOD(ENO,5) WHEN 0 THEN 'aeiou' || 'bcdfg'\n",
    "        WHEN 1 THEN 'aeiou' || 'hjklm'\n",
    "        WHEN 2 THEN 'aeiou' || 'npqrs'\n",
    "        WHEN 3 THEN 'fredr' || 'annab'\n",
    "        ELSE 'aeiou' || 'twxyz' END,\n",
    "        '1234567890') AS LASTNAME,\n",
    "   CURRENT DATE - (RAND()*10957) DAYS AS HIREDATE,\n",
    "   INTEGER(1000*RAND()*200) AS SALARY\n",
    "   FROM DT;\n",
    "\n",
    "SELECT COUNT FROM EMPLOYEES;\n",
    "\n",
    "SELECT * FROM EMPLOYEES ORDER BY ENO;\n",
    "'''"
   ]
  },
  {
   "cell_type": "code",
   "execution_count": 9,
   "metadata": {},
   "outputs": [],
   "source": [
    "sqlScriptCreateDepartment = \\\n",
    "'''\n",
    "CREATE TABLE IF NOT EXISTS DEPARTMENTS (DEPTNO INTEGER, DEPTNAME VARCHAR(30), REVENUE INTEGER);\n",
    "\n",
    "INSERT INTO DEPARTMENTS\n",
    "-- generate 500 department records\n",
    "WITH DT(DEPTNO) AS (VALUES(1) UNION ALL SELECT DEPTNO+1 FROM DT WHERE DEPTNO < 500 )\n",
    "\n",
    "    SELECT DEPTNO,\n",
    "        TRANSLATE(CHAR(INTEGER(RAND()+500000)),\n",
    "            CASE MOD(DEPTNO,5) WHEN 0 THEN 'aeiou' || 'bcdfg'\n",
    "                WHEN 1 THEN 'aeiou' || 'hjklm'\n",
    "                WHEN 2 THEN 'aeiou' || 'npqrs'\n",
    "                WHEN 3 THEN 'fredr' || 'annab'\n",
    "                ELSE 'aeiou' || 'twxyz' END,\n",
    "                '1234567890') AS DEPTNAME,\n",
    "        INTEGER(10000*RAND()*50000) AS REVENUE\n",
    "        FROM DT;\n",
    "\n",
    "SELECT COUNT FROM DEPARTMENTS;\n",
    "\n",
    "SELECT * FROM DEPARTMENTS;\n",
    "'''"
   ]
  },
  {
   "cell_type": "code",
   "execution_count": 10,
   "metadata": {},
   "outputs": [],
   "source": [
    "sqlScriptWorkload1 = \\\n",
    "'''\n",
    "WITH SALARYBY (DEPTNO, TOTAL) AS\n",
    "    (SELECT DEPT.DEPTNO DNO, SUM(BIGINT(EMP.SALARY)) TOTAL_SALARY\n",
    "        FROM EMPLOYEES EMP, DEPARTMENTS DEPT\n",
    "        WHERE DEPT.DEPTNO = EMP.DEPTNO AND EMP.SALARY > 190000\n",
    "        GROUP BY DEPT.DEPTNO\n",
    "        ORDER BY DNO)\n",
    "SELECT DEPT.DEPTNAME NAME, SALARYBY.TOTAL COST, DEPT.REVENUE, DEPT.REVENUE-SALARYBY.TOTAL PROFIT\n",
    "FROM SALARYBY, DEPARTMENTS DEPT\n",
    "WHERE DEPT.DEPTNO = SALARYBY.DEPTNO\n",
    "AND REVENUE > TOTAL\n",
    "ORDER BY PROFIT\n",
    "'''"
   ]
  },
  {
   "cell_type": "code",
   "execution_count": 11,
   "metadata": {},
   "outputs": [],
   "source": [
    "sqlScriptWorkload2 = \\\n",
    "'''\n",
    "SELECT DEPT.DEPTNO DNO, SUM(FLOAT(EMP.SALARY)) TOTAL_SALARY\n",
    "  FROM EMPLOYEES EMP, DEPARTMENTS DEPT \n",
    "  WHERE DEPT.DEPTNO = EMP.DEPTNO AND EMP.SALARY < 50000\n",
    "  GROUP BY DEPT.DEPTNO\n",
    "  ORDER BY DNO;\n",
    "\n",
    "SELECT DEPT.DEPTNO DNO, SUM(FLOAT(EMP.SALARY)) TOTAL_SALARY\n",
    "  FROM EMPLOYEES EMP, DEPARTMENTS DEPT \n",
    "  WHERE DEPT.DEPTNO = EMP.DEPTNO AND EMP.SALARY < 190000\n",
    "  GROUP BY DEPT.DEPTNO\n",
    "  ORDER BY DNO;\n",
    "\n",
    "SELECT DEPT.DEPTNO, DEPT.REVENUE\n",
    "  FROM DEPARTMENTS DEPT WHERE DEPT.REVENUE > 450000000;\n",
    "'''"
   ]
  },
  {
   "cell_type": "markdown",
   "metadata": {},
   "source": [
    "### Running Multiple SQL Statements in a Single Script\n",
    "In the following example we run multiple statements in a single API call. When the statement is started we get a run handle we can use to access the results of the SQL execution. Running the script works the same as running a single statement. However, retrieving results is more complex. Each time you check for results you may get the results of one or more statements. Like before, you can only retrieve the results for each statement once. "
   ]
  },
  {
   "cell_type": "code",
   "execution_count": 12,
   "metadata": {},
   "outputs": [
    {
     "name": "stdout",
     "output_type": "stream",
     "text": [
      "1576017468460_1369547729\n"
     ]
    }
   ],
   "source": [
    "# Run SQL Statement and Retrieve the identifier used to track the run\n",
    "\n",
    "sqlText = sqlScriptCreateEmployee\n",
    "runID = databaseAPI.getJSON(databaseAPI.runSQL(sqlText))['id'] \n",
    "print(runID) "
   ]
  },
  {
   "cell_type": "code",
   "execution_count": 13,
   "metadata": {},
   "outputs": [],
   "source": [
    "# We need to create a loop to check for results \n",
    "# Each time we retrieve new results they are added to the fulljson result set\n",
    "\n",
    "json = databaseAPI.getJSON(databaseAPI.getSQLJobResult(runID))\n",
    "fulljson = json\n",
    "\n",
    "while json['results'] != [] or json['status'] != \"completed\" :\n",
    "    json = databaseAPI.getJSON(databaseAPI.getSQLJobResult(runID))\n",
    "    for results in json['results'] :\n",
    "        fulljson['results'].append(results)\n",
    "    time.sleep(1) "
   ]
  },
  {
   "cell_type": "code",
   "execution_count": 14,
   "metadata": {},
   "outputs": [
    {
     "name": "stdout",
     "output_type": "stream",
     "text": [
      "Statement: 0: CREATE TABLE IF NOT EXISTS EMPLOYEES (ENO INTEGER, DEPTNO INTEGER, LASTNAME VARCHAR(30),\n",
      "    HIREDATA DATE, SALARY INTEGER)\n",
      "Runtime ms: 19.999999552965164\n",
      "No errors. Row Affected: 0\n",
      "\n",
      "* * * * * * * * * * * * * * *\n",
      "Statement: 1: INSERT INTO EMPLOYEES\n",
      "-- generate 500000 records\n",
      "    WITH DT(ENO) AS (VALUES(1) UNION ALL SELECT ENO+1 FROM DT WHERE ENO < 500000)\n",
      "\n",
      "-- Now, use the generated records in DT to create other columns\n",
      "-- of the employee record.\n",
      "    SELECT ENO,\n",
      "    RAND() * 500,\n",
      "    TRANSLATE(CHAR(INTEGER(RAND()+500000)),\n",
      "    CASE MOD(ENO,5) WHEN 0 THEN 'aeiou' || 'bcdfg'\n",
      "        WHEN 1 THEN 'aeiou' || 'hjklm'\n",
      "        WHEN 2 THEN 'aeiou' || 'npqrs'\n",
      "        WHEN 3 THEN 'fredr' || 'annab'\n",
      "        ELSE 'aeiou' || 'twxyz' END,\n",
      "        '1234567890') AS LASTNAME,\n",
      "   CURRENT DATE - (RAND()*10957) DAYS AS HIREDATE,\n",
      "   INTEGER(1000*RAND()*200) AS SALARY\n",
      "   FROM DT\n",
      "Runtime ms: 1611.9999885559082\n",
      "No errors. Row Affected: 500000\n",
      "\n",
      "* * * * * * * * * * * * * * *\n",
      "Statement: 2: SELECT COUNT FROM EMPLOYEES\n",
      "Runtime ms: 305.0000071525574\n",
      "        1\n",
      "0  500000\n",
      "\n",
      "* * * * * * * * * * * * * * *\n",
      "Statement: 3: SELECT * FROM EMPLOYEES ORDER BY ENO\n",
      "Runtime ms: 86.0000029206276\n",
      "  ENO DEPTNO     LASTNAME    HIREDATA  SALARY\n",
      "0   1    184  ummmmm       2014-07-30   29180\n",
      "1   2    155  usssss       2002-04-29   33587\n",
      "2   3    456  rbbbbb       2019-11-11   57032\n",
      "3   4     57  uzzzzz       1994-02-18   79555\n",
      "4   5    327  uggggg       2000-03-18  174999\n",
      "5   6    310  ummmmm       2002-01-15  143479\n",
      "6   7    362  usssss       1999-07-13   61762\n",
      "7   8    397  rbbbbb       1996-05-07   51960\n",
      "8   9    498  uzzzzz       2013-07-31  169789\n",
      "9  10    126  uggggg       2014-07-22  110940\n",
      "\n",
      "* * * * * * * * * * * * * * *\n"
     ]
    }
   ],
   "source": [
    "# We need to unpack the entire JSON result set\n",
    "# and display if each statement ran successfully and how long it took\n",
    "# we also extract how many rows were affected for insert statements\n",
    "\n",
    "for results in fulljson['results']:\n",
    "    print('Statement: '+str(results['index'])+': '+results['command'])\n",
    "    print('Runtime ms: '+str(results['runtime_seconds']*1000))\n",
    "    if 'error' in results : \n",
    "        print(results['error'])\n",
    "    elif 'rows' in results :\n",
    "        df = pd.DataFrame(results['rows'],columns=results['columns'])\n",
    "        print(df)\n",
    "    else :\n",
    "        print('No errors. Row Affected: '+str(results['rows_affected']))\n",
    "    print()\n",
    "    print('* * * * * * * * * * * * * * *')"
   ]
  },
  {
   "cell_type": "markdown",
   "metadata": {},
   "source": [
    "### Creating a Routine to Run an SQL Script\n",
    "To make things easier we can create reusable routines that will included everything we have developed so far. By running the next two steps, you create two routines that you can call by passing parameters to them. \n",
    "\n",
    "While we could create a single routine to run SQL and then display the results, we are creating two different routines so that we can display the results differently later in the lab. "
   ]
  },
  {
   "cell_type": "code",
   "execution_count": 20,
   "metadata": {},
   "outputs": [],
   "source": [
    "def runSQL(profile,user, password, sqlText):\n",
    "    \n",
    "    if databaseAPI.authenticate(user, password, profile) :\n",
    "\n",
    "        runID = databaseAPI.getJSON(databaseAPI.runSQL(sqlText))['id'] \n",
    "\n",
    "        json = databaseAPI.getJSON(databaseAPI.getSQLJobResult(runID))\n",
    "        fulljson = json\n",
    "\n",
    "        while json['results'] == [] or json['status'] != \"completed\" :\n",
    "            json = databaseAPI.getJSON(databaseAPI.getSQLJobResult(runID))\n",
    "            for results in json['results'] :\n",
    "                fulljson['results'].append(results)\n",
    "            time.sleep(1) \n",
    "        return fulljson\n",
    "    else :\n",
    "        print('Could not authenticate')"
   ]
  },
  {
   "cell_type": "code",
   "execution_count": 21,
   "metadata": {},
   "outputs": [],
   "source": [
    "def displayResults(json):\n",
    "\n",
    "    for results in json['results']:\n",
    "        print('Statement: '+str(results['index'])+': '+results['command'])\n",
    "        print('Runtime ms: '+str(results['runtime_seconds']*1000))\n",
    "        if 'error' in results : \n",
    "            print(results['error'])\n",
    "        elif 'rows' in results :\n",
    "            df = pd.DataFrame(results['rows'],columns=results['columns'])\n",
    "            print(df)\n",
    "        else :\n",
    "            print('No errors. Row Affected: '+str(results['rows_affected']))\n",
    "        print()"
   ]
  },
  {
   "cell_type": "markdown",
   "metadata": {},
   "source": [
    "Now call the new routine using the parameters to define the connection profile to use, the userid and password and the SQL Text. In this example we will drop the table we just created. Try running it a second time. You can see that it correctly returns an error message. "
   ]
  },
  {
   "cell_type": "code",
   "execution_count": 17,
   "metadata": {},
   "outputs": [
    {
     "name": "stdout",
     "output_type": "stream",
     "text": [
      "Statement: 0: DROP TABLE EMPLOYEES\n",
      "Runtime ms: 27.000000700354576\n",
      "No errors. Row Affected: 0\n",
      "\n"
     ]
    }
   ],
   "source": [
    "profile = 'SAMPLE'\n",
    "user = 'DB2INST1'\n",
    "password = 'db2inst1'\n",
    "sqlText = 'DROP TABLE EMPLOYEES'\n",
    "displayResults(runSQL(profile, user, password, sqlText))"
   ]
  },
  {
   "cell_type": "markdown",
   "metadata": {},
   "source": [
    "### Running Multiple Scripts across Multiple Databases\n",
    "Now we will use our new routines to create the Employees and the Department tables across two databases. In this lab we can use the SAMPLE and the HISTOROY database. The example below loops through two databases and two scripts to create the required tables."
   ]
  },
  {
   "cell_type": "code",
   "execution_count": 22,
   "metadata": {},
   "outputs": [
    {
     "name": "stdout",
     "output_type": "stream",
     "text": [
      "* * * * * * * * * * * * * * * * * * * * * * * * * * *\n",
      "Running Scripts against profile: SAMPLE\n",
      "Statement: 0: CREATE TABLE IF NOT EXISTS EMPLOYEES (ENO INTEGER, DEPTNO INTEGER, LASTNAME VARCHAR(30),\n",
      "    HIREDATA DATE, SALARY INTEGER)\n",
      "Runtime ms: 14.000000432133675\n",
      "No errors. Row Affected: 0\n",
      "\n",
      "Statement: 1: INSERT INTO EMPLOYEES\n",
      "-- generate 500000 records\n",
      "    WITH DT(ENO) AS (VALUES(1) UNION ALL SELECT ENO+1 FROM DT WHERE ENO < 500000)\n",
      "\n",
      "-- Now, use the generated records in DT to create other columns\n",
      "-- of the employee record.\n",
      "    SELECT ENO,\n",
      "    RAND() * 500,\n",
      "    TRANSLATE(CHAR(INTEGER(RAND()+500000)),\n",
      "    CASE MOD(ENO,5) WHEN 0 THEN 'aeiou' || 'bcdfg'\n",
      "        WHEN 1 THEN 'aeiou' || 'hjklm'\n",
      "        WHEN 2 THEN 'aeiou' || 'npqrs'\n",
      "        WHEN 3 THEN 'fredr' || 'annab'\n",
      "        ELSE 'aeiou' || 'twxyz' END,\n",
      "        '1234567890') AS LASTNAME,\n",
      "   CURRENT DATE - (RAND()*10957) DAYS AS HIREDATE,\n",
      "   INTEGER(1000*RAND()*200) AS SALARY\n",
      "   FROM DT\n",
      "Runtime ms: 1845.0000286102295\n",
      "No errors. Row Affected: 500000\n",
      "\n",
      "Statement: 2: SELECT COUNT FROM EMPLOYEES\n",
      "Runtime ms: 312.99999356269836\n",
      "        1\n",
      "0  500000\n",
      "\n",
      "Statement: 3: SELECT * FROM EMPLOYEES ORDER BY ENO\n",
      "Runtime ms: 98.9999994635582\n",
      "  ENO DEPTNO     LASTNAME    HIREDATA  SALARY\n",
      "0   1     18  ummmmm       2003-12-28   96834\n",
      "1   2     35  usssss       2013-08-13  134145\n",
      "2   3    395  rbbbbb       2017-05-27  182292\n",
      "3   4     78  uzzzzz       1995-12-09  104785\n",
      "4   5    403  uggggg       2013-02-03   88578\n",
      "5   6    393  ummmmm       1996-04-17   63191\n",
      "6   7     15  usssss       2012-10-21   38439\n",
      "7   8     11  rbbbbb       2006-12-04   60753\n",
      "8   9    108  uzzzzz       2003-03-07   89463\n",
      "9  10    321  uggggg       2010-04-19   90321\n",
      "\n",
      "Statement: 0: CREATE TABLE IF NOT EXISTS DEPARTMENTS (DEPTNO INTEGER, DEPTNAME VARCHAR(30), REVENUE INTEGER)\n",
      "Runtime ms: 32.999999821186066\n",
      "No errors. Row Affected: 0\n",
      "\n",
      "Statement: 1: INSERT INTO DEPARTMENTS\n",
      "-- generate 500 department records\n",
      "WITH DT(DEPTNO) AS (VALUES(1) UNION ALL SELECT DEPTNO+1 FROM DT WHERE DEPTNO < 500 )\n",
      "\n",
      "    SELECT DEPTNO,\n",
      "        TRANSLATE(CHAR(INTEGER(RAND()+500000)),\n",
      "            CASE MOD(DEPTNO,5) WHEN 0 THEN 'aeiou' || 'bcdfg'\n",
      "                WHEN 1 THEN 'aeiou' || 'hjklm'\n",
      "                WHEN 2 THEN 'aeiou' || 'npqrs'\n",
      "                WHEN 3 THEN 'fredr' || 'annab'\n",
      "                ELSE 'aeiou' || 'twxyz' END,\n",
      "                '1234567890') AS DEPTNAME,\n",
      "        INTEGER(10000*RAND()*50000) AS REVENUE\n",
      "        FROM DT\n",
      "Runtime ms: 4.000000189989805\n",
      "No errors. Row Affected: 500\n",
      "\n",
      "Statement: 2: SELECT COUNT FROM DEPARTMENTS\n",
      "Runtime ms: 4.000000189989805\n",
      "     1\n",
      "0  500\n",
      "\n",
      "Statement: 3: SELECT * FROM DEPARTMENTS\n",
      "Runtime ms: 4.000000189989805\n",
      "  DEPTNO     DEPTNAME    REVENUE\n",
      "0      1  ummmmm       237418836\n",
      "1      2  usssss        77728272\n",
      "2      3  rbbbbb       301759476\n",
      "3      4  uzzzzz       393262057\n",
      "4      5  uggggg       287083286\n",
      "5      6  ummmmm       202820881\n",
      "6      7  usssss       248132485\n",
      "7      8  rbbbbb       140842140\n",
      "8      9  uzzzzz        80631842\n",
      "9     10  uggggg        89773418\n",
      "\n",
      "* * * * * * * * * * * * * * * * * * * * * * * * * * *\n",
      "Running Scripts against profile: HISTORY\n",
      "Statement: 0: CREATE TABLE IF NOT EXISTS EMPLOYEES (ENO INTEGER, DEPTNO INTEGER, LASTNAME VARCHAR(30),\n",
      "    HIREDATA DATE, SALARY INTEGER)\n",
      "Runtime ms: 18.99999938905239\n",
      "No errors. Row Affected: 0\n",
      "\n",
      "Statement: 1: INSERT INTO EMPLOYEES\n",
      "-- generate 500000 records\n",
      "    WITH DT(ENO) AS (VALUES(1) UNION ALL SELECT ENO+1 FROM DT WHERE ENO < 500000)\n",
      "\n",
      "-- Now, use the generated records in DT to create other columns\n",
      "-- of the employee record.\n",
      "    SELECT ENO,\n",
      "    RAND() * 500,\n",
      "    TRANSLATE(CHAR(INTEGER(RAND()+500000)),\n",
      "    CASE MOD(ENO,5) WHEN 0 THEN 'aeiou' || 'bcdfg'\n",
      "        WHEN 1 THEN 'aeiou' || 'hjklm'\n",
      "        WHEN 2 THEN 'aeiou' || 'npqrs'\n",
      "        WHEN 3 THEN 'fredr' || 'annab'\n",
      "        ELSE 'aeiou' || 'twxyz' END,\n",
      "        '1234567890') AS LASTNAME,\n",
      "   CURRENT DATE - (RAND()*10957) DAYS AS HIREDATE,\n",
      "   INTEGER(1000*RAND()*200) AS SALARY\n",
      "   FROM DT\n",
      "Runtime ms: 1764.9999856948853\n",
      "No errors. Row Affected: 500000\n",
      "\n",
      "Statement: 2: SELECT COUNT FROM EMPLOYEES\n",
      "Runtime ms: 314.0000104904175\n",
      "        1\n",
      "0  500000\n",
      "\n",
      "Statement: 3: SELECT * FROM EMPLOYEES ORDER BY ENO\n",
      "Runtime ms: 209.99999344348907\n",
      "  ENO DEPTNO     LASTNAME    HIREDATA  SALARY\n",
      "0   1    370  ummmmm       2007-05-08   98112\n",
      "1   2    184  usssss       2008-11-08  104678\n",
      "2   3    333  rbbbbb       1999-01-06  150503\n",
      "3   4    370  uzzzzz       2018-06-24   62645\n",
      "4   5    187  uggggg       2006-12-05   87891\n",
      "5   6     97  ummmmm       2009-06-24  133447\n",
      "6   7    409  usssss       2001-06-20  177061\n",
      "7   8    219  rbbbbb       2006-11-05  145495\n",
      "8   9    205  uzzzzz       2014-11-20  161165\n",
      "9  10    143  uggggg       2010-05-02   59461\n",
      "\n",
      "Statement: 0: CREATE TABLE IF NOT EXISTS DEPARTMENTS (DEPTNO INTEGER, DEPTNAME VARCHAR(30), REVENUE INTEGER)\n",
      "Runtime ms: 26.000000536441803\n",
      "No errors. Row Affected: 0\n",
      "\n",
      "Statement: 1: INSERT INTO DEPARTMENTS\n",
      "-- generate 500 department records\n",
      "WITH DT(DEPTNO) AS (VALUES(1) UNION ALL SELECT DEPTNO+1 FROM DT WHERE DEPTNO < 500 )\n",
      "\n",
      "    SELECT DEPTNO,\n",
      "        TRANSLATE(CHAR(INTEGER(RAND()+500000)),\n",
      "            CASE MOD(DEPTNO,5) WHEN 0 THEN 'aeiou' || 'bcdfg'\n",
      "                WHEN 1 THEN 'aeiou' || 'hjklm'\n",
      "                WHEN 2 THEN 'aeiou' || 'npqrs'\n",
      "                WHEN 3 THEN 'fredr' || 'annab'\n",
      "                ELSE 'aeiou' || 'twxyz' END,\n",
      "                '1234567890') AS DEPTNAME,\n",
      "        INTEGER(10000*RAND()*50000) AS REVENUE\n",
      "        FROM DT\n",
      "Runtime ms: 4.999999888241291\n",
      "No errors. Row Affected: 500\n",
      "\n",
      "Statement: 2: SELECT COUNT FROM DEPARTMENTS\n",
      "Runtime ms: 3.000000026077032\n",
      "     1\n",
      "0  500\n",
      "\n",
      "Statement: 3: SELECT * FROM DEPARTMENTS\n",
      "Runtime ms: 1.0000000474974513\n",
      "  DEPTNO     DEPTNAME    REVENUE\n",
      "0      1  ummmmm       279521338\n",
      "1      2  usssss       411911932\n",
      "2      3  rbbbbb       215717196\n",
      "3      4  uzzzzz       125233388\n",
      "4      5  uggggg       424030491\n",
      "5      6  ummmmm       336721738\n",
      "6      7  usssss       321336977\n",
      "7      8  rbbbbb       461610496\n",
      "8      9  uzzzzz       156206913\n",
      "9     10  uggggg       226941621\n",
      "\n",
      "done\n"
     ]
    }
   ],
   "source": [
    "profileList = ['SAMPLE','HISTORY']\n",
    "scriptList = [sqlScriptCreateEmployee, sqlScriptCreateDepartment]\n",
    "user = 'DB2INST1'\n",
    "password = 'db2inst1'\n",
    "\n",
    "for profile in profileList :\n",
    "    print('* * * * * * * * * * * * * * * * * * * * * * * * * * *')\n",
    "    print('Running Scripts against profile: '+profile)\n",
    "    for script in scriptList :\n",
    "        json = runSQL(profile, user, password, script)\n",
    "        displayResults(json)\n",
    "print('done')"
   ]
  },
  {
   "cell_type": "markdown",
   "metadata": {},
   "source": [
    "### Running multiple scripts across multiple databases - Summarized Results\n",
    "Now that we have our tables created on both databases, we can run workloads and measure their performance. By repeatedly running the scripts across multiple databases in a single Db2 instance we can simulate a real database environemt. \n",
    "\n",
    "Instead of using the displayResults routine we are going to capture runtime metrics for each run of the SQL Query workloads so that we can analyze performance. The appendResults routine builds this dataframe with each pass.\n",
    "\n",
    "runScripts lets use define the database connection profiles we want to run against, the scripts to run, and now many times to repeat the runs for each profile and for each script."
   ]
  },
  {
   "cell_type": "code",
   "execution_count": 23,
   "metadata": {},
   "outputs": [],
   "source": [
    "# This routine builds up a Data Frame containing the run results as we run workloads across databases\n",
    "def appendResults(df, profile, json) :\n",
    "    \n",
    "    error = ''\n",
    "    rows = 0\n",
    "    for results in json['results']:\n",
    "        if 'error' in results : \n",
    "            error = results['error']\n",
    "        if 'rows_affected' in results : \n",
    "            rows = results['rows_affected']\n",
    "        df = df.append({'profile':profile,'index':results['index'], 'statement':results['command'], 'error':error, 'rows_affected': rows, 'runtime_ms':(results['runtime_seconds']*1000)}, ignore_index=True)\n",
    "    return df"
   ]
  },
  {
   "cell_type": "code",
   "execution_count": 24,
   "metadata": {},
   "outputs": [],
   "source": [
    "\n",
    "def runScripts(profileList, scriptList, user, password, profileReps, scriptReps) :\n",
    "\n",
    "    df = pd.DataFrame(columns=['profile', 'index', 'statement', 'error', 'rows_affected', 'runtime_ms'])\n",
    "    \n",
    "    for x in range(0, profileReps):\n",
    "        for profile in profileList :\n",
    "            for y in range(0, scriptReps) :\n",
    "                for script in scriptList :\n",
    "                    json = runSQL(profile, user, password, script)\n",
    "                    df = appendResults(df, profile, json)\n",
    "                        \n",
    "    return df"
   ]
  },
  {
   "cell_type": "code",
   "execution_count": 25,
   "metadata": {},
   "outputs": [],
   "source": [
    "# Retrieve the current package cache list \n",
    "# Show the first ten as sorted by the statement execution time\n",
    "def getCurrentPackageCacheListDF(profile) :\n",
    "    databaseAPI.authenticate(user, password, profile)\n",
    "    r = databaseAPI.getCurrentPackageCacheList(\"false\")\n",
    "    if (databaseAPI.getStatusCode(r)==200):\n",
    "        json = databaseAPI.getJSON(r)\n",
    "        if json['count'] > 0:  \n",
    "            df = pd.DataFrame(json_normalize(json['resources']))\n",
    "            df = df.sort_values(by='stmt_exec_time_ms', ascending=False)\n",
    "            return df\n",
    "        else: \n",
    "            print('No data returned')  \n",
    "    else:\n",
    "        print(databaseAPI.getStatusCode(r))"
   ]
  },
  {
   "cell_type": "markdown",
   "metadata": {},
   "source": [
    "The next cell loops through a list of databases as well as a list of scripts and run then repeatedly.\n",
    "\n",
    "We can then collect the most recent package cache information to get another view of performance information. \n",
    "\n",
    "**Note:** There is a delay while the Db2 Data Management Console collects this information. The following script may not find any rows immediately."
   ]
  },
  {
   "cell_type": "code",
   "execution_count": 26,
   "metadata": {},
   "outputs": [
    {
     "data": {
      "text/html": [
       "<div>\n",
       "<style scoped>\n",
       "    .dataframe tbody tr th:only-of-type {\n",
       "        vertical-align: middle;\n",
       "    }\n",
       "\n",
       "    .dataframe tbody tr th {\n",
       "        vertical-align: top;\n",
       "    }\n",
       "\n",
       "    .dataframe thead th {\n",
       "        text-align: right;\n",
       "    }\n",
       "</style>\n",
       "<table border=\"1\" class=\"dataframe\">\n",
       "  <thead>\n",
       "    <tr style=\"text-align: right;\">\n",
       "      <th></th>\n",
       "      <th>profile</th>\n",
       "      <th>index</th>\n",
       "      <th>statement</th>\n",
       "      <th>error</th>\n",
       "      <th>rows_affected</th>\n",
       "      <th>runtime_ms</th>\n",
       "    </tr>\n",
       "  </thead>\n",
       "  <tbody>\n",
       "    <tr>\n",
       "      <td>0</td>\n",
       "      <td>SAMPLE</td>\n",
       "      <td>0</td>\n",
       "      <td>WITH SALARYBY (DEPTNO, TOTAL) AS\\n    (SELECT ...</td>\n",
       "      <td></td>\n",
       "      <td>0</td>\n",
       "      <td>416.999996</td>\n",
       "    </tr>\n",
       "    <tr>\n",
       "      <td>1</td>\n",
       "      <td>SAMPLE</td>\n",
       "      <td>0</td>\n",
       "      <td>SELECT DEPT.DEPTNO DNO, SUM(FLOAT(EMP.SALARY))...</td>\n",
       "      <td></td>\n",
       "      <td>0</td>\n",
       "      <td>141.000003</td>\n",
       "    </tr>\n",
       "    <tr>\n",
       "      <td>2</td>\n",
       "      <td>SAMPLE</td>\n",
       "      <td>1</td>\n",
       "      <td>SELECT DEPT.DEPTNO DNO, SUM(FLOAT(EMP.SALARY))...</td>\n",
       "      <td></td>\n",
       "      <td>0</td>\n",
       "      <td>61.999999</td>\n",
       "    </tr>\n",
       "    <tr>\n",
       "      <td>3</td>\n",
       "      <td>SAMPLE</td>\n",
       "      <td>2</td>\n",
       "      <td>SELECT DEPT.DEPTNO, DEPT.REVENUE\\n  FROM DEPAR...</td>\n",
       "      <td></td>\n",
       "      <td>0</td>\n",
       "      <td>3.000000</td>\n",
       "    </tr>\n",
       "    <tr>\n",
       "      <td>4</td>\n",
       "      <td>SAMPLE</td>\n",
       "      <td>0</td>\n",
       "      <td>WITH SALARYBY (DEPTNO, TOTAL) AS\\n    (SELECT ...</td>\n",
       "      <td></td>\n",
       "      <td>0</td>\n",
       "      <td>48.999999</td>\n",
       "    </tr>\n",
       "    <tr>\n",
       "      <td>5</td>\n",
       "      <td>SAMPLE</td>\n",
       "      <td>0</td>\n",
       "      <td>SELECT DEPT.DEPTNO DNO, SUM(FLOAT(EMP.SALARY))...</td>\n",
       "      <td></td>\n",
       "      <td>0</td>\n",
       "      <td>78.000002</td>\n",
       "    </tr>\n",
       "    <tr>\n",
       "      <td>6</td>\n",
       "      <td>SAMPLE</td>\n",
       "      <td>1</td>\n",
       "      <td>SELECT DEPT.DEPTNO DNO, SUM(FLOAT(EMP.SALARY))...</td>\n",
       "      <td></td>\n",
       "      <td>0</td>\n",
       "      <td>61.000001</td>\n",
       "    </tr>\n",
       "    <tr>\n",
       "      <td>7</td>\n",
       "      <td>SAMPLE</td>\n",
       "      <td>2</td>\n",
       "      <td>SELECT DEPT.DEPTNO, DEPT.REVENUE\\n  FROM DEPAR...</td>\n",
       "      <td></td>\n",
       "      <td>0</td>\n",
       "      <td>1.000000</td>\n",
       "    </tr>\n",
       "    <tr>\n",
       "      <td>8</td>\n",
       "      <td>HISTORY</td>\n",
       "      <td>0</td>\n",
       "      <td>WITH SALARYBY (DEPTNO, TOTAL) AS\\n    (SELECT ...</td>\n",
       "      <td></td>\n",
       "      <td>0</td>\n",
       "      <td>52.000001</td>\n",
       "    </tr>\n",
       "    <tr>\n",
       "      <td>9</td>\n",
       "      <td>HISTORY</td>\n",
       "      <td>0</td>\n",
       "      <td>SELECT DEPT.DEPTNO DNO, SUM(FLOAT(EMP.SALARY))...</td>\n",
       "      <td></td>\n",
       "      <td>0</td>\n",
       "      <td>57.000000</td>\n",
       "    </tr>\n",
       "    <tr>\n",
       "      <td>10</td>\n",
       "      <td>HISTORY</td>\n",
       "      <td>1</td>\n",
       "      <td>SELECT DEPT.DEPTNO DNO, SUM(FLOAT(EMP.SALARY))...</td>\n",
       "      <td></td>\n",
       "      <td>0</td>\n",
       "      <td>79.000004</td>\n",
       "    </tr>\n",
       "    <tr>\n",
       "      <td>11</td>\n",
       "      <td>HISTORY</td>\n",
       "      <td>2</td>\n",
       "      <td>SELECT DEPT.DEPTNO, DEPT.REVENUE\\n  FROM DEPAR...</td>\n",
       "      <td></td>\n",
       "      <td>0</td>\n",
       "      <td>2.000000</td>\n",
       "    </tr>\n",
       "    <tr>\n",
       "      <td>12</td>\n",
       "      <td>HISTORY</td>\n",
       "      <td>0</td>\n",
       "      <td>WITH SALARYBY (DEPTNO, TOTAL) AS\\n    (SELECT ...</td>\n",
       "      <td></td>\n",
       "      <td>0</td>\n",
       "      <td>46.000000</td>\n",
       "    </tr>\n",
       "    <tr>\n",
       "      <td>13</td>\n",
       "      <td>HISTORY</td>\n",
       "      <td>0</td>\n",
       "      <td>SELECT DEPT.DEPTNO DNO, SUM(FLOAT(EMP.SALARY))...</td>\n",
       "      <td></td>\n",
       "      <td>0</td>\n",
       "      <td>57.000000</td>\n",
       "    </tr>\n",
       "    <tr>\n",
       "      <td>14</td>\n",
       "      <td>HISTORY</td>\n",
       "      <td>1</td>\n",
       "      <td>SELECT DEPT.DEPTNO DNO, SUM(FLOAT(EMP.SALARY))...</td>\n",
       "      <td></td>\n",
       "      <td>0</td>\n",
       "      <td>77.000000</td>\n",
       "    </tr>\n",
       "    <tr>\n",
       "      <td>15</td>\n",
       "      <td>HISTORY</td>\n",
       "      <td>2</td>\n",
       "      <td>SELECT DEPT.DEPTNO, DEPT.REVENUE\\n  FROM DEPAR...</td>\n",
       "      <td></td>\n",
       "      <td>0</td>\n",
       "      <td>0.000000</td>\n",
       "    </tr>\n",
       "    <tr>\n",
       "      <td>16</td>\n",
       "      <td>SAMPLE</td>\n",
       "      <td>0</td>\n",
       "      <td>WITH SALARYBY (DEPTNO, TOTAL) AS\\n    (SELECT ...</td>\n",
       "      <td></td>\n",
       "      <td>0</td>\n",
       "      <td>52.000001</td>\n",
       "    </tr>\n",
       "    <tr>\n",
       "      <td>17</td>\n",
       "      <td>SAMPLE</td>\n",
       "      <td>0</td>\n",
       "      <td>SELECT DEPT.DEPTNO DNO, SUM(FLOAT(EMP.SALARY))...</td>\n",
       "      <td></td>\n",
       "      <td>0</td>\n",
       "      <td>63.000001</td>\n",
       "    </tr>\n",
       "    <tr>\n",
       "      <td>18</td>\n",
       "      <td>SAMPLE</td>\n",
       "      <td>1</td>\n",
       "      <td>SELECT DEPT.DEPTNO DNO, SUM(FLOAT(EMP.SALARY))...</td>\n",
       "      <td></td>\n",
       "      <td>0</td>\n",
       "      <td>77.000000</td>\n",
       "    </tr>\n",
       "    <tr>\n",
       "      <td>19</td>\n",
       "      <td>SAMPLE</td>\n",
       "      <td>2</td>\n",
       "      <td>SELECT DEPT.DEPTNO, DEPT.REVENUE\\n  FROM DEPAR...</td>\n",
       "      <td></td>\n",
       "      <td>0</td>\n",
       "      <td>3.000000</td>\n",
       "    </tr>\n",
       "    <tr>\n",
       "      <td>20</td>\n",
       "      <td>SAMPLE</td>\n",
       "      <td>0</td>\n",
       "      <td>WITH SALARYBY (DEPTNO, TOTAL) AS\\n    (SELECT ...</td>\n",
       "      <td></td>\n",
       "      <td>0</td>\n",
       "      <td>57.000000</td>\n",
       "    </tr>\n",
       "    <tr>\n",
       "      <td>21</td>\n",
       "      <td>SAMPLE</td>\n",
       "      <td>0</td>\n",
       "      <td>SELECT DEPT.DEPTNO DNO, SUM(FLOAT(EMP.SALARY))...</td>\n",
       "      <td></td>\n",
       "      <td>0</td>\n",
       "      <td>75.000003</td>\n",
       "    </tr>\n",
       "    <tr>\n",
       "      <td>22</td>\n",
       "      <td>SAMPLE</td>\n",
       "      <td>1</td>\n",
       "      <td>SELECT DEPT.DEPTNO DNO, SUM(FLOAT(EMP.SALARY))...</td>\n",
       "      <td></td>\n",
       "      <td>0</td>\n",
       "      <td>64.000003</td>\n",
       "    </tr>\n",
       "    <tr>\n",
       "      <td>23</td>\n",
       "      <td>SAMPLE</td>\n",
       "      <td>2</td>\n",
       "      <td>SELECT DEPT.DEPTNO, DEPT.REVENUE\\n  FROM DEPAR...</td>\n",
       "      <td></td>\n",
       "      <td>0</td>\n",
       "      <td>3.000000</td>\n",
       "    </tr>\n",
       "    <tr>\n",
       "      <td>24</td>\n",
       "      <td>HISTORY</td>\n",
       "      <td>0</td>\n",
       "      <td>WITH SALARYBY (DEPTNO, TOTAL) AS\\n    (SELECT ...</td>\n",
       "      <td></td>\n",
       "      <td>0</td>\n",
       "      <td>52.000001</td>\n",
       "    </tr>\n",
       "    <tr>\n",
       "      <td>25</td>\n",
       "      <td>HISTORY</td>\n",
       "      <td>0</td>\n",
       "      <td>SELECT DEPT.DEPTNO DNO, SUM(FLOAT(EMP.SALARY))...</td>\n",
       "      <td></td>\n",
       "      <td>0</td>\n",
       "      <td>56.000002</td>\n",
       "    </tr>\n",
       "    <tr>\n",
       "      <td>26</td>\n",
       "      <td>HISTORY</td>\n",
       "      <td>1</td>\n",
       "      <td>SELECT DEPT.DEPTNO DNO, SUM(FLOAT(EMP.SALARY))...</td>\n",
       "      <td></td>\n",
       "      <td>0</td>\n",
       "      <td>71.999997</td>\n",
       "    </tr>\n",
       "    <tr>\n",
       "      <td>27</td>\n",
       "      <td>HISTORY</td>\n",
       "      <td>2</td>\n",
       "      <td>SELECT DEPT.DEPTNO, DEPT.REVENUE\\n  FROM DEPAR...</td>\n",
       "      <td></td>\n",
       "      <td>0</td>\n",
       "      <td>1.000000</td>\n",
       "    </tr>\n",
       "    <tr>\n",
       "      <td>28</td>\n",
       "      <td>HISTORY</td>\n",
       "      <td>0</td>\n",
       "      <td>WITH SALARYBY (DEPTNO, TOTAL) AS\\n    (SELECT ...</td>\n",
       "      <td></td>\n",
       "      <td>0</td>\n",
       "      <td>48.999999</td>\n",
       "    </tr>\n",
       "    <tr>\n",
       "      <td>29</td>\n",
       "      <td>HISTORY</td>\n",
       "      <td>0</td>\n",
       "      <td>SELECT DEPT.DEPTNO DNO, SUM(FLOAT(EMP.SALARY))...</td>\n",
       "      <td></td>\n",
       "      <td>0</td>\n",
       "      <td>61.000001</td>\n",
       "    </tr>\n",
       "    <tr>\n",
       "      <td>30</td>\n",
       "      <td>HISTORY</td>\n",
       "      <td>1</td>\n",
       "      <td>SELECT DEPT.DEPTNO DNO, SUM(FLOAT(EMP.SALARY))...</td>\n",
       "      <td></td>\n",
       "      <td>0</td>\n",
       "      <td>68.999998</td>\n",
       "    </tr>\n",
       "    <tr>\n",
       "      <td>31</td>\n",
       "      <td>HISTORY</td>\n",
       "      <td>2</td>\n",
       "      <td>SELECT DEPT.DEPTNO, DEPT.REVENUE\\n  FROM DEPAR...</td>\n",
       "      <td></td>\n",
       "      <td>0</td>\n",
       "      <td>1.000000</td>\n",
       "    </tr>\n",
       "  </tbody>\n",
       "</table>\n",
       "</div>"
      ],
      "text/plain": [
       "    profile index                                          statement error  \\\n",
       "0    SAMPLE     0  WITH SALARYBY (DEPTNO, TOTAL) AS\\n    (SELECT ...         \n",
       "1    SAMPLE     0  SELECT DEPT.DEPTNO DNO, SUM(FLOAT(EMP.SALARY))...         \n",
       "2    SAMPLE     1  SELECT DEPT.DEPTNO DNO, SUM(FLOAT(EMP.SALARY))...         \n",
       "3    SAMPLE     2  SELECT DEPT.DEPTNO, DEPT.REVENUE\\n  FROM DEPAR...         \n",
       "4    SAMPLE     0  WITH SALARYBY (DEPTNO, TOTAL) AS\\n    (SELECT ...         \n",
       "5    SAMPLE     0  SELECT DEPT.DEPTNO DNO, SUM(FLOAT(EMP.SALARY))...         \n",
       "6    SAMPLE     1  SELECT DEPT.DEPTNO DNO, SUM(FLOAT(EMP.SALARY))...         \n",
       "7    SAMPLE     2  SELECT DEPT.DEPTNO, DEPT.REVENUE\\n  FROM DEPAR...         \n",
       "8   HISTORY     0  WITH SALARYBY (DEPTNO, TOTAL) AS\\n    (SELECT ...         \n",
       "9   HISTORY     0  SELECT DEPT.DEPTNO DNO, SUM(FLOAT(EMP.SALARY))...         \n",
       "10  HISTORY     1  SELECT DEPT.DEPTNO DNO, SUM(FLOAT(EMP.SALARY))...         \n",
       "11  HISTORY     2  SELECT DEPT.DEPTNO, DEPT.REVENUE\\n  FROM DEPAR...         \n",
       "12  HISTORY     0  WITH SALARYBY (DEPTNO, TOTAL) AS\\n    (SELECT ...         \n",
       "13  HISTORY     0  SELECT DEPT.DEPTNO DNO, SUM(FLOAT(EMP.SALARY))...         \n",
       "14  HISTORY     1  SELECT DEPT.DEPTNO DNO, SUM(FLOAT(EMP.SALARY))...         \n",
       "15  HISTORY     2  SELECT DEPT.DEPTNO, DEPT.REVENUE\\n  FROM DEPAR...         \n",
       "16   SAMPLE     0  WITH SALARYBY (DEPTNO, TOTAL) AS\\n    (SELECT ...         \n",
       "17   SAMPLE     0  SELECT DEPT.DEPTNO DNO, SUM(FLOAT(EMP.SALARY))...         \n",
       "18   SAMPLE     1  SELECT DEPT.DEPTNO DNO, SUM(FLOAT(EMP.SALARY))...         \n",
       "19   SAMPLE     2  SELECT DEPT.DEPTNO, DEPT.REVENUE\\n  FROM DEPAR...         \n",
       "20   SAMPLE     0  WITH SALARYBY (DEPTNO, TOTAL) AS\\n    (SELECT ...         \n",
       "21   SAMPLE     0  SELECT DEPT.DEPTNO DNO, SUM(FLOAT(EMP.SALARY))...         \n",
       "22   SAMPLE     1  SELECT DEPT.DEPTNO DNO, SUM(FLOAT(EMP.SALARY))...         \n",
       "23   SAMPLE     2  SELECT DEPT.DEPTNO, DEPT.REVENUE\\n  FROM DEPAR...         \n",
       "24  HISTORY     0  WITH SALARYBY (DEPTNO, TOTAL) AS\\n    (SELECT ...         \n",
       "25  HISTORY     0  SELECT DEPT.DEPTNO DNO, SUM(FLOAT(EMP.SALARY))...         \n",
       "26  HISTORY     1  SELECT DEPT.DEPTNO DNO, SUM(FLOAT(EMP.SALARY))...         \n",
       "27  HISTORY     2  SELECT DEPT.DEPTNO, DEPT.REVENUE\\n  FROM DEPAR...         \n",
       "28  HISTORY     0  WITH SALARYBY (DEPTNO, TOTAL) AS\\n    (SELECT ...         \n",
       "29  HISTORY     0  SELECT DEPT.DEPTNO DNO, SUM(FLOAT(EMP.SALARY))...         \n",
       "30  HISTORY     1  SELECT DEPT.DEPTNO DNO, SUM(FLOAT(EMP.SALARY))...         \n",
       "31  HISTORY     2  SELECT DEPT.DEPTNO, DEPT.REVENUE\\n  FROM DEPAR...         \n",
       "\n",
       "   rows_affected  runtime_ms  \n",
       "0              0  416.999996  \n",
       "1              0  141.000003  \n",
       "2              0   61.999999  \n",
       "3              0    3.000000  \n",
       "4              0   48.999999  \n",
       "5              0   78.000002  \n",
       "6              0   61.000001  \n",
       "7              0    1.000000  \n",
       "8              0   52.000001  \n",
       "9              0   57.000000  \n",
       "10             0   79.000004  \n",
       "11             0    2.000000  \n",
       "12             0   46.000000  \n",
       "13             0   57.000000  \n",
       "14             0   77.000000  \n",
       "15             0    0.000000  \n",
       "16             0   52.000001  \n",
       "17             0   63.000001  \n",
       "18             0   77.000000  \n",
       "19             0    3.000000  \n",
       "20             0   57.000000  \n",
       "21             0   75.000003  \n",
       "22             0   64.000003  \n",
       "23             0    3.000000  \n",
       "24             0   52.000001  \n",
       "25             0   56.000002  \n",
       "26             0   71.999997  \n",
       "27             0    1.000000  \n",
       "28             0   48.999999  \n",
       "29             0   61.000001  \n",
       "30             0   68.999998  \n",
       "31             0    1.000000  "
      ]
     },
     "metadata": {},
     "output_type": "display_data"
    },
    {
     "name": "stdout",
     "output_type": "stream",
     "text": [
      "Profile: SAMPLE\n"
     ]
    },
    {
     "data": {
      "text/html": [
       "<div>\n",
       "<style scoped>\n",
       "    .dataframe tbody tr th:only-of-type {\n",
       "        vertical-align: middle;\n",
       "    }\n",
       "\n",
       "    .dataframe tbody tr th {\n",
       "        vertical-align: top;\n",
       "    }\n",
       "\n",
       "    .dataframe thead th {\n",
       "        text-align: right;\n",
       "    }\n",
       "</style>\n",
       "<table border=\"1\" class=\"dataframe\">\n",
       "  <thead>\n",
       "    <tr style=\"text-align: right;\">\n",
       "      <th></th>\n",
       "      <th>stmt_text</th>\n",
       "      <th>stmt_exec_time_ms</th>\n",
       "      <th>stmtid</th>\n",
       "    </tr>\n",
       "  </thead>\n",
       "  <tbody>\n",
       "    <tr>\n",
       "      <td>3</td>\n",
       "      <td>SELECT DEPT.DEPTNO DNO, SUM(FLOAT(EMP.SALARY))...</td>\n",
       "      <td>2947</td>\n",
       "      <td>-140115937412306713</td>\n",
       "    </tr>\n",
       "    <tr>\n",
       "      <td>0</td>\n",
       "      <td>WITH SALARYBY (DEPTNO, TOTAL) AS (SELECT DEPT....</td>\n",
       "      <td>587</td>\n",
       "      <td>2635305026549059699</td>\n",
       "    </tr>\n",
       "    <tr>\n",
       "      <td>1</td>\n",
       "      <td>SELECT DEPT.DEPTNO, DEPT.REVENUE FROM DEPARTME...</td>\n",
       "      <td>10</td>\n",
       "      <td>-6291622876202073758</td>\n",
       "    </tr>\n",
       "    <tr>\n",
       "      <td>2</td>\n",
       "      <td>call SYSIBM.SQLCAMESSAGECCSID(?,?,?,?,?,?,?,?,...</td>\n",
       "      <td>0</td>\n",
       "      <td>8110287721056492873</td>\n",
       "    </tr>\n",
       "  </tbody>\n",
       "</table>\n",
       "</div>"
      ],
      "text/plain": [
       "                                           stmt_text  stmt_exec_time_ms  \\\n",
       "3  SELECT DEPT.DEPTNO DNO, SUM(FLOAT(EMP.SALARY))...               2947   \n",
       "0  WITH SALARYBY (DEPTNO, TOTAL) AS (SELECT DEPT....                587   \n",
       "1  SELECT DEPT.DEPTNO, DEPT.REVENUE FROM DEPARTME...                 10   \n",
       "2  call SYSIBM.SQLCAMESSAGECCSID(?,?,?,?,?,?,?,?,...                  0   \n",
       "\n",
       "                 stmtid  \n",
       "3   -140115937412306713  \n",
       "0   2635305026549059699  \n",
       "1  -6291622876202073758  \n",
       "2   8110287721056492873  "
      ]
     },
     "metadata": {},
     "output_type": "display_data"
    },
    {
     "name": "stdout",
     "output_type": "stream",
     "text": [
      "Profile: HISTORY\n"
     ]
    },
    {
     "data": {
      "text/html": [
       "<div>\n",
       "<style scoped>\n",
       "    .dataframe tbody tr th:only-of-type {\n",
       "        vertical-align: middle;\n",
       "    }\n",
       "\n",
       "    .dataframe tbody tr th {\n",
       "        vertical-align: top;\n",
       "    }\n",
       "\n",
       "    .dataframe thead th {\n",
       "        text-align: right;\n",
       "    }\n",
       "</style>\n",
       "<table border=\"1\" class=\"dataframe\">\n",
       "  <thead>\n",
       "    <tr style=\"text-align: right;\">\n",
       "      <th></th>\n",
       "      <th>stmt_text</th>\n",
       "      <th>stmt_exec_time_ms</th>\n",
       "      <th>stmtid</th>\n",
       "    </tr>\n",
       "  </thead>\n",
       "  <tbody>\n",
       "    <tr>\n",
       "      <td>3</td>\n",
       "      <td>SELECT DEPT.DEPTNO DNO, SUM(FLOAT(EMP.SALARY))...</td>\n",
       "      <td>517</td>\n",
       "      <td>-140115937412306713</td>\n",
       "    </tr>\n",
       "    <tr>\n",
       "      <td>0</td>\n",
       "      <td>WITH SALARYBY (DEPTNO, TOTAL) AS (SELECT DEPT....</td>\n",
       "      <td>191</td>\n",
       "      <td>2635305026549059699</td>\n",
       "    </tr>\n",
       "    <tr>\n",
       "      <td>1</td>\n",
       "      <td>SELECT DEPT.DEPTNO, DEPT.REVENUE FROM DEPARTME...</td>\n",
       "      <td>0</td>\n",
       "      <td>-6291622876202073758</td>\n",
       "    </tr>\n",
       "    <tr>\n",
       "      <td>2</td>\n",
       "      <td>call SYSIBM.SQLCAMESSAGECCSID(?,?,?,?,?,?,?,?,...</td>\n",
       "      <td>0</td>\n",
       "      <td>8110287721056492873</td>\n",
       "    </tr>\n",
       "  </tbody>\n",
       "</table>\n",
       "</div>"
      ],
      "text/plain": [
       "                                           stmt_text  stmt_exec_time_ms  \\\n",
       "3  SELECT DEPT.DEPTNO DNO, SUM(FLOAT(EMP.SALARY))...                517   \n",
       "0  WITH SALARYBY (DEPTNO, TOTAL) AS (SELECT DEPT....                191   \n",
       "1  SELECT DEPT.DEPTNO, DEPT.REVENUE FROM DEPARTME...                  0   \n",
       "2  call SYSIBM.SQLCAMESSAGECCSID(?,?,?,?,?,?,?,?,...                  0   \n",
       "\n",
       "                 stmtid  \n",
       "3   -140115937412306713  \n",
       "0   2635305026549059699  \n",
       "1  -6291622876202073758  \n",
       "2   8110287721056492873  "
      ]
     },
     "metadata": {},
     "output_type": "display_data"
    }
   ],
   "source": [
    "profileList = ['SAMPLE','HISTORY']\n",
    "scriptList = [sqlScriptWorkload1, sqlScriptWorkload2]\n",
    "user = 'DB2INST1'\n",
    "password = 'db2inst1'\n",
    "profileReps = 2\n",
    "scriptReps = 2\n",
    "\n",
    "df = runScripts(profileList, scriptList, user, password, profileReps, scriptReps)\n",
    "\n",
    "display(df)\n",
    "\n",
    "for profile in profileList:\n",
    "    print('Profile: '+profile)\n",
    "    packageCacheDF = getCurrentPackageCacheListDF(profile)\n",
    "    display(packageCacheDF[['stmt_text','stmt_exec_time_ms','stmtid']])"
   ]
  },
  {
   "cell_type": "markdown",
   "metadata": {},
   "source": [
    "### Analyze Results\n",
    "Now we can use the results in the dataframe to look at the results statistically. First we can see the average runtime for each statement across the databases."
   ]
  },
  {
   "cell_type": "code",
   "execution_count": 27,
   "metadata": {},
   "outputs": [
    {
     "name": "stdout",
     "output_type": "stream",
     "text": [
      "Mean runtime in ms\n",
      "                                                                                                      runtime_ms\n",
      "statement                                                                                                       \n",
      "SELECT DEPT.DEPTNO DNO, SUM(FLOAT(EMP.SALARY)) TOTAL_SALARY\\n  FROM EMPLOYEES EMP, DEPARTMENTS DE...   70.125000\n",
      "SELECT DEPT.DEPTNO DNO, SUM(FLOAT(EMP.SALARY)) TOTAL_SALARY\\n  FROM EMPLOYEES EMP, DEPARTMENTS DE...   73.500001\n",
      "SELECT DEPT.DEPTNO, DEPT.REVENUE\\n  FROM DEPARTMENTS DEPT WHERE DEPT.REVENUE > 450000000                1.750000\n",
      "WITH SALARYBY (DEPTNO, TOTAL) AS\\n    (SELECT DEPT.DEPTNO DNO, SUM(BIGINT(EMP.SALARY)) TOTAL_SALA...   96.750000\n"
     ]
    }
   ],
   "source": [
    "print('Mean runtime in ms')\n",
    "pd.set_option('display.max_colwidth', 100)\n",
    "stmtMean = df.groupby(['statement']).mean()\n",
    "print(stmtMean)"
   ]
  },
  {
   "cell_type": "markdown",
   "metadata": {},
   "source": [
    "We can also display the total runtime for each statement across databases."
   ]
  },
  {
   "cell_type": "code",
   "execution_count": 28,
   "metadata": {},
   "outputs": [
    {
     "name": "stdout",
     "output_type": "stream",
     "text": [
      "Total runtime in ms\n",
      "                                                                                                      runtime_ms\n",
      "statement                                                                                                       \n",
      "SELECT DEPT.DEPTNO DNO, SUM(FLOAT(EMP.SALARY)) TOTAL_SALARY\\n  FROM EMPLOYEES EMP, DEPARTMENTS DE...  561.000001\n",
      "SELECT DEPT.DEPTNO DNO, SUM(FLOAT(EMP.SALARY)) TOTAL_SALARY\\n  FROM EMPLOYEES EMP, DEPARTMENTS DE...  588.000011\n",
      "SELECT DEPT.DEPTNO, DEPT.REVENUE\\n  FROM DEPARTMENTS DEPT WHERE DEPT.REVENUE > 450000000               14.000000\n",
      "WITH SALARYBY (DEPTNO, TOTAL) AS\\n    (SELECT DEPT.DEPTNO DNO, SUM(BIGINT(EMP.SALARY)) TOTAL_SALA...  773.999996\n"
     ]
    }
   ],
   "source": [
    "print('Total runtime in ms')\n",
    "pd.set_option('display.max_colwidth', 100)\n",
    "stmtSum = df.groupby(['statement']).sum()\n",
    "print(stmtSum)"
   ]
  },
  {
   "cell_type": "markdown",
   "metadata": {},
   "source": [
    "We can even graph the total run time for all the statements can compare database performance. Since the History database is actively being used to collect monitoring data it is usually the slower of the two. "
   ]
  },
  {
   "cell_type": "code",
   "execution_count": null,
   "metadata": {},
   "outputs": [],
   "source": [
    "import matplotlib.pyplot as plt\n",
    "print('Mean runtime in ms')\n",
    "pd.set_option('display.max_colwidth', 100)\n",
    "profileSum = df.groupby(['profile']).sum()\n",
    "profileSum.plot(kind='bar')\n",
    "plt.show()"
   ]
  },
  {
   "cell_type": "markdown",
   "metadata": {},
   "source": [
    "You can also use the Db2 Data Management Console directly to look at the package cache and the package cache history.\n",
    "\n",
    "Run the following cell and log in using **DB2INST1** as the userid and password. The cell calls the console as a micro-service and includes part of the live user interface into a IFrame directly in this notebook.\n",
    "\n",
    "Change the timeframe from **Latest** to **Last 1 hour** so you can see a history of package cache monitoring."
   ]
  },
  {
   "cell_type": "code",
   "execution_count": null,
   "metadata": {},
   "outputs": [],
   "source": [
    "IFrame(database+'/console/?mode=compact#monitor/package_cache'+profileURL, width=1400, height=480)"
   ]
  },
  {
   "cell_type": "markdown",
   "metadata": {},
   "source": [
    "## Analyze a Single Statement\n",
    "You can identify the slowest SQL statement and the slowest database to focus your attention. The next two cells will to that by scanning through our previous results."
   ]
  },
  {
   "cell_type": "code",
   "execution_count": null,
   "metadata": {},
   "outputs": [],
   "source": [
    "print('Slowest SQL Statement')\n",
    "slowestSQL = stmtSum['runtime_ms'].idxmax()\n",
    "print(slowestSQL)"
   ]
  },
  {
   "cell_type": "code",
   "execution_count": null,
   "metadata": {},
   "outputs": [],
   "source": [
    "print('Slowest Database')\n",
    "slowestProfile = profileSum['runtime_ms'].idxmax()\n",
    "print(slowestProfile)"
   ]
  },
  {
   "cell_type": "markdown",
   "metadata": {},
   "source": [
    "A very powerful tool that you can include directly into your notebook is Visual Explain. Just like being able to explore the package cache history you can call the micro-service that provides a live intertive interface. In this example we will take the slowest statment on the slowest database and explain the statement. "
   ]
  },
  {
   "cell_type": "code",
   "execution_count": null,
   "metadata": {},
   "outputs": [],
   "source": [
    "# Visually explain the access plan for an SQL Statement\n",
    "profileURL = \"?profile=\"+slowestProfile\n",
    "stmt = slowestSQL.replace('\\n', ' ').replace('\\r', '')\n",
    "IFrame(database+'/console/?mode=compact#sql/explain/create/'+stmt +profileURL, width=1400, height=480)"
   ]
  },
  {
   "cell_type": "markdown",
   "metadata": {},
   "source": [
    "### Comparing Results\n",
    "Now we can create indexes to see if we can improve the overall performance of the workloads. The next cell will create indexes on the SALARY column of the Employees table as well as the DEPTO of both the DEPARTMENTS and EMPLOYEES tables. "
   ]
  },
  {
   "cell_type": "code",
   "execution_count": null,
   "metadata": {},
   "outputs": [],
   "source": [
    "createIndexes = \\\n",
    "'''\n",
    "CREATE INDEX ix_salary\n",
    "ON EMPLOYEES(SALARY);\n",
    "\n",
    "CREATE INDEX ix_empdept\n",
    "ON EMPLOYEES(DEPTNO);\n",
    "\n",
    "CREATE INDEX ix_dept\n",
    "ON DEPARTMENTS(DEPTNO);\n",
    "'''\n",
    "profileList = ['SAMPLE','HISTORY']\n",
    "scriptList = [createIndexes]\n",
    "user = 'DB2INST1'\n",
    "password = 'db2inst1'\n",
    "\n",
    "for profile in profileList :\n",
    "    print('Profile: '+profile)\n",
    "    for script in scriptList :\n",
    "        json = runSQL(profile, user, password, script)\n",
    "        displayResults(json)\n",
    "print('done')"
   ]
  },
  {
   "cell_type": "markdown",
   "metadata": {},
   "source": [
    "Lets see if visual explain predicts any improvements."
   ]
  },
  {
   "cell_type": "code",
   "execution_count": null,
   "metadata": {},
   "outputs": [],
   "source": [
    "# Visually explain the access plan for an SQL Statement\n",
    "profileURL = \"?profile=\"+slowestProfile\n",
    "stmt = slowestSQL.replace('\\n', ' ').replace('\\r', '')\n",
    "IFrame(database+'/console/?mode=compact#sql/explain/create/'+stmt +profileURL, width=1400, height=480)"
   ]
  },
  {
   "cell_type": "markdown",
   "metadata": {},
   "source": [
    "Now we will repeat the original workload performance run to see if there is a measureable difference in performance. "
   ]
  },
  {
   "cell_type": "code",
   "execution_count": null,
   "metadata": {},
   "outputs": [],
   "source": [
    "profileList = ['SAMPLE','HISTORY']\n",
    "scriptList = [sqlScriptWorkload1, sqlScriptWorkload2]\n",
    "user = 'DB2INST1'\n",
    "password = 'db2inst1'\n",
    "profileReps = 2\n",
    "scriptReps = 2\n",
    "\n",
    "df = runScripts(profileList, scriptList, user, password, profileReps, scriptReps)\n",
    "\n",
    "display(df)\n",
    "\n",
    "for profile in profileList:\n",
    "    print('Profile: '+profile)\n",
    "    packageCacheDF = getCurrentPackageCacheListDF(profile)\n",
    "    display(packageCacheDF[['stmt_text','stmt_exec_time_ms','stmtid']])"
   ]
  },
  {
   "cell_type": "code",
   "execution_count": null,
   "metadata": {},
   "outputs": [],
   "source": [
    "print('Total runtime in ms')\n",
    "pd.set_option('display.max_colwidth', 100)\n",
    "stmtSum = df.groupby(['statement']).sum()\n",
    "print(stmtSum)"
   ]
  },
  {
   "cell_type": "markdown",
   "metadata": {},
   "source": [
    "Compare these results to your original performance without indexes."
   ]
  },
  {
   "cell_type": "code",
   "execution_count": null,
   "metadata": {},
   "outputs": [],
   "source": [
    "import matplotlib.pyplot as plt\n",
    "print('Mean runtime in ms')\n",
    "pd.set_option('display.max_colwidth', 100)\n",
    "profileSum = df.groupby(['profile']).sum()\n",
    "profileSum.plot(kind='bar')\n",
    "plt.show()"
   ]
  },
  {
   "cell_type": "markdown",
   "metadata": {},
   "source": [
    "### Clean Up\n",
    "\n",
    "If you want to run the lab again, or try with different indexes, you can use the cells below to drop either the current indexes or the original tables. \n",
    "\n",
    "Experiment with different SQL Statements, and different tables to see what your results look like. You can even try to create new cells that will run different workloads on different databases. "
   ]
  },
  {
   "cell_type": "code",
   "execution_count": null,
   "metadata": {},
   "outputs": [],
   "source": [
    "dropIndexes = \\\n",
    "'''\n",
    "DROP INDEX ix_salary;\n",
    "DROP INDEX ix_empdept;\n",
    "DROP INDEX ix_dept;\n",
    "'''\n",
    "profileList = ['SAMPLE','HISTORY']\n",
    "scriptList = [dropIndexes]\n",
    "user = 'DB2INST1'\n",
    "password = 'db2inst1'\n",
    "\n",
    "for profile in profileList :\n",
    "    print('Profile: '+profile)\n",
    "    for script in scriptList :\n",
    "        json = runSQL(profile, user, password, script)\n",
    "        displayResults(json)\n",
    "print('done')"
   ]
  },
  {
   "cell_type": "code",
   "execution_count": 19,
   "metadata": {},
   "outputs": [
    {
     "name": "stdout",
     "output_type": "stream",
     "text": [
      "Profile: SAMPLE\n",
      "Statement: 0: DROP TABLE EMPLOYEES\n",
      "Runtime ms: 30.99999949336052\n",
      "No errors. Row Affected: 0\n",
      "\n",
      "Statement: 1: DROP TABLE DEPARTMENTS\n",
      "Runtime ms: 10.999999940395355\n",
      "No errors. Row Affected: 0\n",
      "\n",
      "Profile: HISTORY\n",
      "Statement: 0: DROP TABLE EMPLOYEES\n",
      "Runtime ms: 16.00000075995922\n",
      "No errors. Row Affected: 0\n",
      "\n",
      "Statement: 1: DROP TABLE DEPARTMENTS\n",
      "Runtime ms: 8.00000037997961\n",
      "No errors. Row Affected: 0\n",
      "\n",
      "done\n"
     ]
    }
   ],
   "source": [
    "dropTables = \\\n",
    "'''\n",
    "DROP TABLE EMPLOYEES;\n",
    "DROP TABLE DEPARTMENTS;\n",
    "'''\n",
    "profileList = ['SAMPLE','HISTORY']\n",
    "scriptList = [dropTables]\n",
    "user = 'DB2INST1'\n",
    "password = 'db2inst1'\n",
    "\n",
    "for profile in profileList :\n",
    "    print('Profile: '+profile)\n",
    "    for script in scriptList :\n",
    "        json = runSQL(profile, user, password, script)\n",
    "        displayResults(json)\n",
    "print('done')"
   ]
  },
  {
   "cell_type": "markdown",
   "metadata": {},
   "source": [
    "#### Credits: IBM 2019, Peter Kohlmann [kohlmann@ca.ibm.com]"
   ]
  }
 ],
 "metadata": {
  "kernelspec": {
   "display_name": "Python 3",
   "language": "python",
   "name": "python3"
  },
  "language_info": {
   "codemirror_mode": {
    "name": "ipython",
    "version": 3
   },
   "file_extension": ".py",
   "mimetype": "text/x-python",
   "name": "python",
   "nbconvert_exporter": "python",
   "pygments_lexer": "ipython3",
   "version": "3.7.4"
  }
 },
 "nbformat": 4,
 "nbformat_minor": 2
}
