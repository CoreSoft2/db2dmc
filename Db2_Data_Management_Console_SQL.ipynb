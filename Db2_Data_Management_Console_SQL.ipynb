{
 "cells": [
  {
   "cell_type": "markdown",
   "metadata": {},
   "source": [
    "# Running SQL with the Db2 Data Management Console\n",
    "\n",
    "This Jupyter Notebook contains examples of how to use the Open APIs to run SQL and use Visual Exaplain in the Db2 Data Management Console. "
   ]
  },
  {
   "cell_type": "markdown",
   "metadata": {},
   "source": [
    "### Import Helper Classes\n",
    "For more information on these classes, see the Lab on Db2 Data Management Console Overview"
   ]
  },
  {
   "cell_type": "code",
   "execution_count": 53,
   "metadata": {},
   "outputs": [],
   "source": [
    "%run ./dmc_setup.ipynb"
   ]
  },
  {
   "cell_type": "markdown",
   "metadata": {},
   "source": [
    "### Db2 Data Management Console Connection\n",
    "To connect to the Db2 Data Management Console service you need to provide the URL, the service name (v4) and profile the console user name and password as well as the name of the connection profile used in the console to connect to the database you want to work with. For this lab we are assuming that the following values are used for the connection:\n",
    "* Userid: db2inst1\n",
    "* Password: db2inst1\n",
    "* Connection: sample"
   ]
  },
  {
   "cell_type": "code",
   "execution_count": 54,
   "metadata": {},
   "outputs": [],
   "source": [
    "# Connect to the Db2 Data Management Console service\n",
    "Console  = 'http://localhost:11080'\n",
    "profile  = 'SAMPLE'\n",
    "user     = 'DB2INST1'\n",
    "password = 'db2inst1'\n",
    "\n",
    "# Set up the required connection\n",
    "profileURL = \"?profile=\"+profile\n",
    "databaseAPI = Db2(Console+'/dbapi/v4')\n",
    "databaseAPI.authenticate(user, password, profile)\n",
    "database = Console"
   ]
  },
  {
   "cell_type": "markdown",
   "metadata": {},
   "source": [
    "### Confirm the connection\n",
    "To confirm that your connection is working you can check the status of the moitoring service. You can also check your console connection to get the details of the specific database connection you are working with. Since your console user id and password are may be limited as to which databases they can access you need to provide the connection profile name to drill down on any detailed information for the database."
   ]
  },
  {
   "cell_type": "code",
   "execution_count": 57,
   "metadata": {},
   "outputs": [
    {
     "name": "stdout",
     "output_type": "stream",
     "text": [
      "{'name': 'SAMPLE', 'disableDataCollection': 'false', 'databaseVersion': '11.5.0', 'databaseName': 'SAMPLE', 'timeZone': '-50000', 'DB2Instance': 'db2inst1', 'db2license': 'AESE,DEC', 'isInstPureScale': 'false', 'databaseVersion_VRMF': '11.5.0.0', 'sslConnection': 'false', 'userProfileRole': 'OWNER', 'isCredentialsValid': 'true', 'timeZoneDiff': '0', 'host': 'localhost', '_PROFILE_INIT_': 'true', 'dataServerType': 'DB2LUW', 'port': '50000', 'URL': 'jdbc:db2://localhost:50000/SAMPLE', 'edition': 'AESE,DEC', 'isInstPartitionable': 'false', 'dataServerExternalType': 'DB2LUW', 'capabilities': '[\"DSM_ENTERPRISE_LUW\"]', 'OSType': 'Linux', 'location': ''}\n"
     ]
    }
   ],
   "source": [
    "# List Monitoring Profile\n",
    "r = databaseAPI.getProfile(profile)\n",
    "json = databaseAPI.getJSON(r)\n",
    "print(json)"
   ]
  },
  {
   "cell_type": "markdown",
   "metadata": {},
   "source": [
    "### Running SQL\n",
    "You can use the console API to run single SQL statement or sets of statements in a single call. In the following example we run three statements in a single API call. When the statement is started we get a run handle we can use to access the results of the SQL execution. This example runs each statement five times. "
   ]
  },
  {
   "cell_type": "code",
   "execution_count": 58,
   "metadata": {},
   "outputs": [
    {
     "name": "stdout",
     "output_type": "stream",
     "text": [
      "1574793472823_180266582: running\n",
      "1574793473265_404614086: running\n",
      "1574793473423_1795940241: running\n",
      "1574793473582_1645737640: running\n",
      "1574793473719_1153904568: running\n",
      "1574793474367_186070770: running\n",
      "1574793474551_75098522: running\n",
      "1574793474722_1987475525: running\n",
      "1574793474881_1185956597: running\n",
      "1574793475331_780686608: running\n",
      "1574793475496_1360113948: running\n",
      "1574793475652_1830756861: running\n",
      "1574793475836_1115375890: running\n",
      "1574793476598_287610537: running\n",
      "1574793476746_1849704723: running\n",
      "1574793476913_477834377: running\n",
      "1574793477145_973890715: running\n",
      "1574793478592_1311322513: running\n",
      "1574793478769_769393703: running\n",
      "1574793478933_1848881579: running\n",
      "Done\n"
     ]
    }
   ],
   "source": [
    "#Run SQL Statements\n",
    "runtimes = 5\n",
    "sqlList = ['select SYSIBM.SYSTABLES.* from SYSIBM.SYSTABLES, SYSIBM.SYSCOLUMNS,SYSIBM.SYSINDEXES,SYSIBM.SYSVIEWS,SYSIBM.SYSVIEWDEP,SYSIBM.SYSPLAN,SYSIBM.SYSPLANDEP,SYSIBM.SYSSTMT,SYSIBM.SYSPLANAUTH',\n",
    "           'select * from SYSIBM.SYSINDEXES','select * from syscat.tables', \n",
    "           'Select * from syscat.indexes']\n",
    "runIndex = []\n",
    "for x in range(0, runtimes):\n",
    "    for sqlText in sqlList:\n",
    "        r = databaseAPI.runSQL(sqlText)\n",
    "        statusCode = databaseAPI.getStatusCode(r);\n",
    "        if (databaseAPI.getStatusCode(r)==201):\n",
    "            print(databaseAPI.getJSON(r)['id']+': running')\n",
    "            runIndex.append(databaseAPI.getJSON(r)['id'])     \n",
    "print('Done')"
   ]
  },
  {
   "cell_type": "markdown",
   "metadata": {},
   "source": [
    "You can then cycle through the list of run handles and collect the results of each run."
   ]
  },
  {
   "cell_type": "code",
   "execution_count": 59,
   "metadata": {},
   "outputs": [],
   "source": [
    "#Collect the run results of each statement into an array\n",
    "indexLength = len(runIndex)\n",
    "jsonArray = []\n",
    "for x in range(0, indexLength ):\n",
    "    r = databaseAPI.getSQLJobResult(runIndex[x])\n",
    "    jsonArray.append(databaseAPI.getJSON(r))"
   ]
  },
  {
   "cell_type": "markdown",
   "metadata": {},
   "source": [
    "For each statement we collect the runtime can convert to ms. We can then collect a dataframe to show how each statement performs over several iterations. "
   ]
  },
  {
   "cell_type": "code",
   "execution_count": 60,
   "metadata": {},
   "outputs": [
    {
     "data": {
      "text/html": [
       "<div>\n",
       "<style scoped>\n",
       "    .dataframe tbody tr th:only-of-type {\n",
       "        vertical-align: middle;\n",
       "    }\n",
       "\n",
       "    .dataframe tbody tr th {\n",
       "        vertical-align: top;\n",
       "    }\n",
       "\n",
       "    .dataframe thead th {\n",
       "        text-align: right;\n",
       "    }\n",
       "</style>\n",
       "<table border=\"1\" class=\"dataframe\">\n",
       "  <thead>\n",
       "    <tr style=\"text-align: right;\">\n",
       "      <th></th>\n",
       "      <th>SQL Text</th>\n",
       "      <th>Runtime</th>\n",
       "    </tr>\n",
       "  </thead>\n",
       "  <tbody>\n",
       "    <tr>\n",
       "      <td>7</td>\n",
       "      <td>Select * from syscat.indexes</td>\n",
       "      <td>20.000000</td>\n",
       "    </tr>\n",
       "    <tr>\n",
       "      <td>3</td>\n",
       "      <td>Select * from syscat.indexes</td>\n",
       "      <td>26.000001</td>\n",
       "    </tr>\n",
       "    <tr>\n",
       "      <td>19</td>\n",
       "      <td>Select * from syscat.indexes</td>\n",
       "      <td>35.000000</td>\n",
       "    </tr>\n",
       "    <tr>\n",
       "      <td>11</td>\n",
       "      <td>Select * from syscat.indexes</td>\n",
       "      <td>39.000001</td>\n",
       "    </tr>\n",
       "    <tr>\n",
       "      <td>15</td>\n",
       "      <td>Select * from syscat.indexes</td>\n",
       "      <td>41.999999</td>\n",
       "    </tr>\n",
       "    <tr>\n",
       "      <td>1</td>\n",
       "      <td>select * from SYSIBM.SYSINDEXES</td>\n",
       "      <td>6.000000</td>\n",
       "    </tr>\n",
       "    <tr>\n",
       "      <td>5</td>\n",
       "      <td>select * from SYSIBM.SYSINDEXES</td>\n",
       "      <td>6.000000</td>\n",
       "    </tr>\n",
       "    <tr>\n",
       "      <td>9</td>\n",
       "      <td>select * from SYSIBM.SYSINDEXES</td>\n",
       "      <td>7.000000</td>\n",
       "    </tr>\n",
       "    <tr>\n",
       "      <td>13</td>\n",
       "      <td>select * from SYSIBM.SYSINDEXES</td>\n",
       "      <td>7.000000</td>\n",
       "    </tr>\n",
       "    <tr>\n",
       "      <td>17</td>\n",
       "      <td>select * from SYSIBM.SYSINDEXES</td>\n",
       "      <td>15.000000</td>\n",
       "    </tr>\n",
       "    <tr>\n",
       "      <td>18</td>\n",
       "      <td>select * from syscat.tables</td>\n",
       "      <td>34.000002</td>\n",
       "    </tr>\n",
       "    <tr>\n",
       "      <td>6</td>\n",
       "      <td>select * from syscat.tables</td>\n",
       "      <td>37.999999</td>\n",
       "    </tr>\n",
       "    <tr>\n",
       "      <td>10</td>\n",
       "      <td>select * from syscat.tables</td>\n",
       "      <td>44.000000</td>\n",
       "    </tr>\n",
       "    <tr>\n",
       "      <td>2</td>\n",
       "      <td>select * from syscat.tables</td>\n",
       "      <td>90.999998</td>\n",
       "    </tr>\n",
       "    <tr>\n",
       "      <td>14</td>\n",
       "      <td>select * from syscat.tables</td>\n",
       "      <td>160.999998</td>\n",
       "    </tr>\n",
       "    <tr>\n",
       "      <td>0</td>\n",
       "      <td>select SYSIBM.SYSTABLES.* from SYSIBM.SYSTABLE...</td>\n",
       "      <td>294.000000</td>\n",
       "    </tr>\n",
       "    <tr>\n",
       "      <td>8</td>\n",
       "      <td>select SYSIBM.SYSTABLES.* from SYSIBM.SYSTABLE...</td>\n",
       "      <td>298.000008</td>\n",
       "    </tr>\n",
       "    <tr>\n",
       "      <td>16</td>\n",
       "      <td>select SYSIBM.SYSTABLES.* from SYSIBM.SYSTABLE...</td>\n",
       "      <td>310.000002</td>\n",
       "    </tr>\n",
       "    <tr>\n",
       "      <td>4</td>\n",
       "      <td>select SYSIBM.SYSTABLES.* from SYSIBM.SYSTABLE...</td>\n",
       "      <td>314.999998</td>\n",
       "    </tr>\n",
       "    <tr>\n",
       "      <td>12</td>\n",
       "      <td>select SYSIBM.SYSTABLES.* from SYSIBM.SYSTABLE...</td>\n",
       "      <td>425.000012</td>\n",
       "    </tr>\n",
       "  </tbody>\n",
       "</table>\n",
       "</div>"
      ],
      "text/plain": [
       "                                             SQL Text     Runtime\n",
       "7                        Select * from syscat.indexes   20.000000\n",
       "3                        Select * from syscat.indexes   26.000001\n",
       "19                       Select * from syscat.indexes   35.000000\n",
       "11                       Select * from syscat.indexes   39.000001\n",
       "15                       Select * from syscat.indexes   41.999999\n",
       "1                     select * from SYSIBM.SYSINDEXES    6.000000\n",
       "5                     select * from SYSIBM.SYSINDEXES    6.000000\n",
       "9                     select * from SYSIBM.SYSINDEXES    7.000000\n",
       "13                    select * from SYSIBM.SYSINDEXES    7.000000\n",
       "17                    select * from SYSIBM.SYSINDEXES   15.000000\n",
       "18                        select * from syscat.tables   34.000002\n",
       "6                         select * from syscat.tables   37.999999\n",
       "10                        select * from syscat.tables   44.000000\n",
       "2                         select * from syscat.tables   90.999998\n",
       "14                        select * from syscat.tables  160.999998\n",
       "0   select SYSIBM.SYSTABLES.* from SYSIBM.SYSTABLE...  294.000000\n",
       "8   select SYSIBM.SYSTABLES.* from SYSIBM.SYSTABLE...  298.000008\n",
       "16  select SYSIBM.SYSTABLES.* from SYSIBM.SYSTABLE...  310.000002\n",
       "4   select SYSIBM.SYSTABLES.* from SYSIBM.SYSTABLE...  314.999998\n",
       "12  select SYSIBM.SYSTABLES.* from SYSIBM.SYSTABLE...  425.000012"
      ]
     },
     "metadata": {},
     "output_type": "display_data"
    }
   ],
   "source": [
    "resultsDF = pd.DataFrame(columns=['SQL Text', 'Runtime'])\n",
    "for x in range(0, indexLength):\n",
    "    runtime = jsonArray[x]['results'][0]['runtime_seconds'] * 1000\n",
    "    sql = jsonArray[x]['results'][0]['command']\n",
    "    s = pd.Series([sql,runtime], index=['SQL Text','Runtime'])\n",
    "    resultsDF = resultsDF.append(s, ignore_index=True)    \n",
    "display(resultsDF.sort_values(by=['SQL Text','Runtime']))"
   ]
  },
  {
   "cell_type": "markdown",
   "metadata": {},
   "source": [
    "We can then collect the most recent package cache information. "
   ]
  },
  {
   "cell_type": "code",
   "execution_count": 61,
   "metadata": {},
   "outputs": [
    {
     "name": "stdout",
     "output_type": "stream",
     "text": [
      "Available Data Frame Columns\n",
      "timestamp, sql_hash_id, num_exec_with_metrics, stmtid, planid, semantic_env_id, stmt_text, estimated_sort_shrheap_top, sort_shrheap_top, sort_overflows, hash_join_overflows, hash_grpby_overflows, olap_func_overflows, col_vector_consumer_overflows, post_threshold_sorts, post_threshold_hash_joins, post_threshold_olap_funcs, post_threshold_hash_grpbys, post_threshold_col_vector_consumers, pool_writes, total_cpu_time_ms, rows_read, rows_returned, logical_reads, physical_reads, temp_reads, pool_data_l_reads, pool_index_l_reads, lock_escals, stmt_type_id, fed_rows_deleted, fed_rows_inserted, fed_rows_updated, fed_rows_read, fed_waits_total, lock_waits, rows_modified, ext_table_read_volume_kb, ext_table_write_volume_kb, ext_table_send_volume_kb, ext_table_recv_volume_kb, sql_text_summary, coord_stmt_exec_time_ms, estimated_runtime_ms, pool_read_time_ms, pool_write_time_ms, prefetch_wait_time_ms, stmt_exec_time_ms, total_act_wait_time_ms, lock_wait_time_ms, fed_wait_time_ms\n"
     ]
    },
    {
     "data": {
      "text/html": [
       "<div>\n",
       "<style scoped>\n",
       "    .dataframe tbody tr th:only-of-type {\n",
       "        vertical-align: middle;\n",
       "    }\n",
       "\n",
       "    .dataframe tbody tr th {\n",
       "        vertical-align: top;\n",
       "    }\n",
       "\n",
       "    .dataframe thead th {\n",
       "        text-align: right;\n",
       "    }\n",
       "</style>\n",
       "<table border=\"1\" class=\"dataframe\">\n",
       "  <thead>\n",
       "    <tr style=\"text-align: right;\">\n",
       "      <th></th>\n",
       "      <th>stmt_text</th>\n",
       "      <th>stmt_exec_time_ms</th>\n",
       "      <th>stmtid</th>\n",
       "    </tr>\n",
       "  </thead>\n",
       "  <tbody>\n",
       "    <tr>\n",
       "      <td>0</td>\n",
       "      <td>call SYSIBM.SQLCAMESSAGECCSID(?,?,?,?,?,?,?,?,...</td>\n",
       "      <td>1</td>\n",
       "      <td>8110287721056492873</td>\n",
       "    </tr>\n",
       "  </tbody>\n",
       "</table>\n",
       "</div>"
      ],
      "text/plain": [
       "                                           stmt_text  stmt_exec_time_ms  \\\n",
       "0  call SYSIBM.SQLCAMESSAGECCSID(?,?,?,?,?,?,?,?,...                  1   \n",
       "\n",
       "                stmtid  \n",
       "0  8110287721056492873  "
      ]
     },
     "metadata": {},
     "output_type": "display_data"
    }
   ],
   "source": [
    "# Retrieve the current package cache list \n",
    "# Show the first ten as sorted by the statement execution time\n",
    "r = databaseAPI.getCurrentPackageCacheList(\"false\")\n",
    "if (databaseAPI.getStatusCode(r)==200):\n",
    "    json = databaseAPI.getJSON(r)\n",
    "    if json['count'] > 0:  \n",
    "        df = pd.DataFrame(json_normalize(json['resources']))\n",
    "        print('Available Data Frame Columns')\n",
    "        print(', '.join(list(df)))\n",
    "        df = df.sort_values(by='stmt_exec_time_ms', ascending=False)\n",
    "        display(df[['stmt_text','stmt_exec_time_ms','stmtid']].head(100))\n",
    "    else: \n",
    "        print('No data returned')  \n",
    "else:\n",
    "    print(databaseAPI.getStatusCode(r))"
   ]
  },
  {
   "cell_type": "markdown",
   "metadata": {},
   "source": [
    "Using one statement we can compare the statements we ran with the contents of the package cache to just see the performance of the statements we ran and filter out any other statements. "
   ]
  },
  {
   "cell_type": "code",
   "execution_count": 62,
   "metadata": {},
   "outputs": [
    {
     "data": {
      "text/html": [
       "<div>\n",
       "<style scoped>\n",
       "    .dataframe tbody tr th:only-of-type {\n",
       "        vertical-align: middle;\n",
       "    }\n",
       "\n",
       "    .dataframe tbody tr th {\n",
       "        vertical-align: top;\n",
       "    }\n",
       "\n",
       "    .dataframe thead th {\n",
       "        text-align: right;\n",
       "    }\n",
       "</style>\n",
       "<table border=\"1\" class=\"dataframe\">\n",
       "  <thead>\n",
       "    <tr style=\"text-align: right;\">\n",
       "      <th></th>\n",
       "      <th>stmt_text</th>\n",
       "      <th>stmt_exec_time_ms</th>\n",
       "      <th>stmtid</th>\n",
       "    </tr>\n",
       "  </thead>\n",
       "  <tbody>\n",
       "  </tbody>\n",
       "</table>\n",
       "</div>"
      ],
      "text/plain": [
       "Empty DataFrame\n",
       "Columns: [stmt_text, stmt_exec_time_ms, stmtid]\n",
       "Index: []"
      ]
     },
     "metadata": {},
     "output_type": "display_data"
    }
   ],
   "source": [
    "display(df[['stmt_text','stmt_exec_time_ms','stmtid']].loc[df['stmt_text'].isin(sqlList)])"
   ]
  },
  {
   "cell_type": "markdown",
   "metadata": {},
   "source": [
    "You can always also use the console user interface to see the latest statements in the package cache."
   ]
  },
  {
   "cell_type": "code",
   "execution_count": 26,
   "metadata": {},
   "outputs": [
    {
     "data": {
      "text/html": [
       "\n",
       "        <iframe\n",
       "            width=\"1400\"\n",
       "            height=\"480\"\n",
       "            src=\"http://localhost:11080/console/?mode=compact#monitor/package_cache?profile=SAMPLE\"\n",
       "            frameborder=\"0\"\n",
       "            allowfullscreen\n",
       "        ></iframe>\n",
       "        "
      ],
      "text/plain": [
       "<IPython.lib.display.IFrame at 0x7f3ed0cc8a90>"
      ]
     },
     "execution_count": 26,
     "metadata": {},
     "output_type": "execute_result"
    }
   ],
   "source": [
    "IFrame(database+'/console/?mode=compact#monitor/package_cache'+profileURL, width=1400, height=480)"
   ]
  },
  {
   "cell_type": "markdown",
   "metadata": {},
   "source": [
    "### Analyzing Statements\n",
    "You can use both the microservices built into the console as well as the monitoring APIs to anaylze the performance of single SQL statement or identify statement that need your attention. You can visually explain any statement by calling the explain/create service and imbed the interactive interface in any IFrame. **Note:** This may take a minute to run."
   ]
  },
  {
   "cell_type": "code",
   "execution_count": null,
   "metadata": {},
   "outputs": [],
   "source": [
    "# Visually explain the access plan for an SQL Statement\n",
    "SQLStatement = 'select * from syscat.tables'\n",
    "IFrame(database+'/console/?mode=compact#sql/explain/create/'+SQLStatement+profileURL, width=1400, height=480)"
   ]
  },
  {
   "cell_type": "markdown",
   "metadata": {},
   "source": [
    "You can also track which statements are running right now using either the microservice User Interface or a direct API call."
   ]
  },
  {
   "cell_type": "code",
   "execution_count": null,
   "metadata": {},
   "outputs": [],
   "source": [
    "IFrame(database+'/console/?mode=compact#monitor/inflight_executions'+profileURL, width=1400, height=360)"
   ]
  },
  {
   "cell_type": "code",
   "execution_count": null,
   "metadata": {},
   "outputs": [],
   "source": [
    "# Retrieve the current statements running now\n",
    "# Display the top 10 by execution time\n",
    "r = databaseAPI.getInflightCurrentList()\n",
    "if (databaseAPI.getStatusCode(r)==200):\n",
    "    json = databaseAPI.getJSON(r)\n",
    "    if json['count'] > 0:\n",
    "        df = pd.DataFrame(json_normalize(json['resources']))\n",
    "        print('Columns')\n",
    "        print(', '.join(list(df)))\n",
    "        df = df.sort_values(by='exec_time_ms', ascending=False)\n",
    "        display(df[['application_name','stmt_text','exec_time_ms','estimated_runtime_ms']].head(10))\n",
    "    else:\n",
    "        print('No data returned')\n",
    "else:\n",
    "    code = databaseAPI.getStatusCode(r)\n",
    "    databaseAPI.printResponse(r, code)"
   ]
  },
  {
   "cell_type": "markdown",
   "metadata": {},
   "source": [
    "If you have individual statement monitoring enabled you can see a list of all the statements that ran on your system either through a micro service UI or an API call."
   ]
  },
  {
   "cell_type": "code",
   "execution_count": null,
   "metadata": {},
   "outputs": [],
   "source": [
    "IFrame(database+'/console/?mode=compact#monitor/individual'+profileURL, width=1400, height=480)"
   ]
  },
  {
   "cell_type": "code",
   "execution_count": null,
   "metadata": {},
   "outputs": [],
   "source": [
    "# Retrieve the statements that ran over the last day.\n",
    "# Retrieve the first 10000 statements\n",
    "# Show the top ten by Total CPU TIME\n",
    "startTimeMinusWeek = endTime - oneDay\n",
    "r = databaseAPI.getIndividualStatementExecution(startTimeMinusWeek, endTime, 10000)\n",
    "if (databaseAPI.getStatusCode(r)==200):\n",
    "    json = databaseAPI.getJSON(r)\n",
    "    if json['count'] > 0:     \n",
    "        df = pd.DataFrame(json_normalize(json['resources']))\n",
    "        print('Columns')\n",
    "        print(', '.join(list(df)))\n",
    "        df = df.sort_values(by='total_cpu_time', ascending=False)\n",
    "        display(df[['sql_text','total_cpu_time','wlm_queue_time_total','stmt_exec_time']].head(10))\n",
    "    else: \n",
    "        print('No data returned')  \n",
    "else:\n",
    "    code = databaseAPI.getStatusCode(r)\n",
    "    databaseAPI.printResponse(r, code)"
   ]
  },
  {
   "cell_type": "markdown",
   "metadata": {},
   "source": [
    "In one last example you can take a higher level look at the applications connected to your database to see which application is driving the most work."
   ]
  },
  {
   "cell_type": "code",
   "execution_count": null,
   "metadata": {},
   "outputs": [],
   "source": [
    "IFrame(database+'/console/?mode=compact#monitor/connections'+profileURL, width=1400, height=480)"
   ]
  },
  {
   "cell_type": "code",
   "execution_count": null,
   "metadata": {},
   "outputs": [],
   "source": [
    "# Display the 10 most recently started Database Connections\n",
    "r = databaseAPI.getCurrentApplicationsConnections()\n",
    "if (databaseAPI.getStatusCode(r)==200):\n",
    "    json = databaseAPI.getJSON(r)\n",
    "    if json['count'] > 0: \n",
    "        df = pd.DataFrame(json_normalize(json['resources']))\n",
    "        print(', '.join(list(df)))\n",
    "        df = df.sort_values(by='connection_start_time', ascending=False)\n",
    "        df['connection_start_time'] = df['connection_start_time'].apply(epochtotimeseries)\n",
    "        display(df[['application_name','application_handle','connection_start_time']].head(10))\n",
    "    else: \n",
    "        print('No data returned')  \n",
    "else:\n",
    "    print(databaseAPI.getStatusCode(r))"
   ]
  },
  {
   "cell_type": "markdown",
   "metadata": {},
   "source": [
    "#### Credits: IBM 2019, Peter Kohlmann [kohlmann@ca.ibm.com]"
   ]
  }
 ],
 "metadata": {
  "kernelspec": {
   "display_name": "Python 3",
   "language": "python",
   "name": "python3"
  },
  "language_info": {
   "codemirror_mode": {
    "name": "ipython",
    "version": 3
   },
   "file_extension": ".py",
   "mimetype": "text/x-python",
   "name": "python",
   "nbconvert_exporter": "python",
   "pygments_lexer": "ipython3",
   "version": "3.7.4"
  }
 },
 "nbformat": 4,
 "nbformat_minor": 2
}
