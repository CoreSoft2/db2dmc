{
 "cells": [
  {
   "cell_type": "markdown",
   "metadata": {},
   "source": [
    "# Running SQL with the Db2 Data Management Console\n",
    "\n",
    "This Jupyter Notebook contains examples of how to use the Open APIs to run SQL and use Visual Exaplain in the Db2 Data Management Console. "
   ]
  },
  {
   "cell_type": "markdown",
   "metadata": {},
   "source": [
    "### Import Helper Classes\n",
    "For more information on these classes, see the Lab on Db2 Data Management Console Overview"
   ]
  },
  {
   "cell_type": "code",
   "execution_count": null,
   "metadata": {},
   "outputs": [],
   "source": [
    "%run ./dmc_setup.ipynb"
   ]
  },
  {
   "cell_type": "markdown",
   "metadata": {},
   "source": [
    "### Db2 Data Management Console Connection\n",
    "To connect to the Db2 Data Management Console service you need to provide the URL, the service name (v4) and profile the console user name and password as well as the name of the connection profile used in the console to connect to the database you want to work with. For this lab we are assuming that the following values are used for the connection:\n",
    "* Userid: db2inst1\n",
    "* Password: db2inst1\n",
    "* Connection: sample\n",
    "\n",
    "**Note:** If the Db2 Data Management Console has not completed initialization, the connection below will fail. Wait for a few moments and then try it again."
   ]
  },
  {
   "cell_type": "code",
   "execution_count": null,
   "metadata": {},
   "outputs": [],
   "source": [
    "# Connect to the Db2 Data Management Console service\n",
    "Console  = 'http://localhost:11080'\n",
    "profile  = 'SAMPLE'\n",
    "user     = 'DB2INST1'\n",
    "password = 'db2inst1'\n",
    "\n",
    "# Set up the required connection\n",
    "profileURL = \"?profile=\"+profile\n",
    "databaseAPI = Db2(Console+'/dbapi/v4')\n",
    "databaseAPI.authenticate(user, password, profile)\n",
    "database = Console"
   ]
  },
  {
   "cell_type": "markdown",
   "metadata": {},
   "source": [
    "### Confirm the connection\n",
    "To confirm that your connection is working you can check the status of the moitoring service. You can also check your console connection to get the details of the specific database connection you are working with. Since your console user id and password are may be limited as to which databases they can access you need to provide the connection profile name to drill down on any detailed information for the database."
   ]
  },
  {
   "cell_type": "code",
   "execution_count": null,
   "metadata": {},
   "outputs": [],
   "source": [
    "# List Monitoring Profile\n",
    "r = databaseAPI.getProfile(profile)\n",
    "json = databaseAPI.getJSON(r)\n",
    "print(json)"
   ]
  },
  {
   "cell_type": "markdown",
   "metadata": {},
   "source": [
    "### Running SQL\n",
    "You can use the console API to run single SQL statement or sets of statements in a single call. In the following example we run three statements in a single API call. When the statement is started we get a run handle we can use to access the results of the SQL execution. This example runs each statement five times. "
   ]
  },
  {
   "cell_type": "code",
   "execution_count": null,
   "metadata": {},
   "outputs": [],
   "source": [
    "#Run SQL Statements\n",
    "runtimes = 5\n",
    "sqlList = ['select SYSIBM.SYSTABLES.* from SYSIBM.SYSTABLES, SYSIBM.SYSCOLUMNS,SYSIBM.SYSINDEXES,SYSIBM.SYSVIEWS,SYSIBM.SYSVIEWDEP,SYSIBM.SYSPLAN,SYSIBM.SYSPLANDEP,SYSIBM.SYSSTMT,SYSIBM.SYSPLANAUTH',\n",
    "           'select * from SYSIBM.SYSINDEXES','select * from syscat.tables', \n",
    "           'Select * from syscat.indexes']\n",
    "runIndex = []\n",
    "for x in range(0, runtimes):\n",
    "    for sqlText in sqlList:\n",
    "        r = databaseAPI.runSQL(sqlText)\n",
    "        statusCode = databaseAPI.getStatusCode(r);\n",
    "        if (databaseAPI.getStatusCode(r)==201):\n",
    "            print(databaseAPI.getJSON(r)['id']+': running')\n",
    "            runIndex.append(databaseAPI.getJSON(r)['id'])     \n",
    "print('Done')"
   ]
  },
  {
   "cell_type": "markdown",
   "metadata": {},
   "source": [
    "You can then cycle through the list of run handles and collect the results of each run."
   ]
  },
  {
   "cell_type": "code",
   "execution_count": null,
   "metadata": {},
   "outputs": [],
   "source": [
    "#Collect the run results of each statement into an array\n",
    "indexLength = len(runIndex)\n",
    "jsonArray = []\n",
    "for x in range(0, indexLength ):\n",
    "    r = databaseAPI.getSQLJobResult(runIndex[x])\n",
    "    jsonArray.append(databaseAPI.getJSON(r))"
   ]
  },
  {
   "cell_type": "markdown",
   "metadata": {},
   "source": [
    "For each statement we collect the runtime can convert to ms. We can then collect a dataframe to show how each statement performs over several iterations. "
   ]
  },
  {
   "cell_type": "code",
   "execution_count": null,
   "metadata": {},
   "outputs": [],
   "source": [
    "resultsDF = pd.DataFrame(columns=['SQL Text', 'Runtime'])\n",
    "for x in range(0, indexLength):\n",
    "    runtime = jsonArray[x]['results'][0]['runtime_seconds'] * 1000\n",
    "    sql = jsonArray[x]['results'][0]['command']\n",
    "    s = pd.Series([sql,runtime], index=['SQL Text','Runtime'])\n",
    "    resultsDF = resultsDF.append(s, ignore_index=True)    \n",
    "display(resultsDF.sort_values(by=['SQL Text','Runtime']))"
   ]
  },
  {
   "cell_type": "markdown",
   "metadata": {},
   "source": [
    "We can then collect the most recent package cache information. \n",
    "\n",
    "**Note:** There is a delay while the Db2 Data Management Console collects this information. The following script may not find any rows immediately."
   ]
  },
  {
   "cell_type": "code",
   "execution_count": null,
   "metadata": {},
   "outputs": [],
   "source": [
    "# Retrieve the current package cache list \n",
    "# Show the first ten as sorted by the statement execution time\n",
    "r = databaseAPI.getCurrentPackageCacheList(\"false\")\n",
    "if (databaseAPI.getStatusCode(r)==200):\n",
    "    json = databaseAPI.getJSON(r)\n",
    "    if json['count'] > 0:  \n",
    "        df = pd.DataFrame(json_normalize(json['resources']))\n",
    "        print('Available Data Frame Columns')\n",
    "        print(', '.join(list(df)))\n",
    "        df = df.sort_values(by='stmt_exec_time_ms', ascending=False)\n",
    "        display(df[['stmt_text','stmt_exec_time_ms','stmtid']].head(100))\n",
    "    else: \n",
    "        print('No data returned')  \n",
    "else:\n",
    "    print(databaseAPI.getStatusCode(r))"
   ]
  },
  {
   "cell_type": "markdown",
   "metadata": {},
   "source": [
    "Using one statement we can compare the statements we ran with the contents of the package cache to just see the performance of the statements we ran and filter out any other statements. "
   ]
  },
  {
   "cell_type": "code",
   "execution_count": null,
   "metadata": {},
   "outputs": [],
   "source": [
    "try:\n",
    "    display(df[['stmt_text','stmt_exec_time_ms','stmtid']].loc[df['stmt_text'].isin(sqlList)])\n",
    "except:\n",
    "    print(\"No data available\")"
   ]
  },
  {
   "cell_type": "markdown",
   "metadata": {},
   "source": [
    "You can always also use the console user interface to see the latest statements in the package cache."
   ]
  },
  {
   "cell_type": "code",
   "execution_count": null,
   "metadata": {},
   "outputs": [],
   "source": [
    "IFrame(database+'/console/?mode=compact#monitor/package_cache'+profileURL, width=1400, height=480)"
   ]
  },
  {
   "cell_type": "markdown",
   "metadata": {},
   "source": [
    "### Analyzing Statements\n",
    "You can use both the microservices built into the console as well as the monitoring APIs to anaylze the performance of single SQL statement or identify statement that need your attention. You can visually explain any statement by calling the explain/create service and imbed the interactive interface in any IFrame. **Note:** This may take a minute to run."
   ]
  },
  {
   "cell_type": "code",
   "execution_count": null,
   "metadata": {},
   "outputs": [],
   "source": [
    "# Visually explain the access plan for an SQL Statement\n",
    "SQLStatement = 'select * from syscat.tables'\n",
    "IFrame(database+'/console/?mode=compact#sql/explain/create/'+SQLStatement+profileURL, width=1400, height=480)"
   ]
  },
  {
   "cell_type": "markdown",
   "metadata": {},
   "source": [
    "You can also track which statements are running right now using either the microservice User Interface or a direct API call."
   ]
  },
  {
   "cell_type": "code",
   "execution_count": null,
   "metadata": {},
   "outputs": [],
   "source": [
    "IFrame(database+'/console/?mode=compact#monitor/inflight_executions'+profileURL, width=1400, height=360)"
   ]
  },
  {
   "cell_type": "code",
   "execution_count": null,
   "metadata": {},
   "outputs": [],
   "source": [
    "# Retrieve the current statements running now\n",
    "# Display the top 10 by execution time\n",
    "r = databaseAPI.getInflightCurrentList()\n",
    "if (databaseAPI.getStatusCode(r)==200):\n",
    "    json = databaseAPI.getJSON(r)\n",
    "    if json['count'] > 0:\n",
    "        df = pd.DataFrame(json_normalize(json['resources']))\n",
    "        print('Columns')\n",
    "        print(', '.join(list(df)))\n",
    "        df = df.sort_values(by='exec_time_ms', ascending=False)\n",
    "        display(df[['application_name','stmt_text','exec_time_ms','estimated_runtime_ms']].head(10))\n",
    "    else:\n",
    "        print('No data returned')\n",
    "else:\n",
    "    code = databaseAPI.getStatusCode(r)\n",
    "    databaseAPI.printResponse(r, code)"
   ]
  },
  {
   "cell_type": "markdown",
   "metadata": {},
   "source": [
    "If you have individual statement monitoring enabled you can see a list of all the statements that ran on your system either through a micro service UI or an API call."
   ]
  },
  {
   "cell_type": "code",
   "execution_count": null,
   "metadata": {},
   "outputs": [],
   "source": [
    "IFrame(database+'/console/?mode=compact#monitor/individual'+profileURL, width=1400, height=480)"
   ]
  },
  {
   "cell_type": "code",
   "execution_count": null,
   "metadata": {},
   "outputs": [],
   "source": [
    "# Retrieve the statements that ran over the last day.\n",
    "# Retrieve the first 10000 statements\n",
    "# Show the top ten by Total CPU TIME\n",
    "startTimeMinusWeek = endTime - oneDay\n",
    "r = databaseAPI.getIndividualStatementExecution(startTimeMinusWeek, endTime, 10000)\n",
    "if (databaseAPI.getStatusCode(r)==200):\n",
    "    json = databaseAPI.getJSON(r)\n",
    "    if json['count'] > 0:     \n",
    "        df = pd.DataFrame(json_normalize(json['resources']))\n",
    "        print('Columns')\n",
    "        print(', '.join(list(df)))\n",
    "        df = df.sort_values(by='total_cpu_time', ascending=False)\n",
    "        display(df[['sql_text','total_cpu_time','wlm_queue_time_total','stmt_exec_time']].head(10))\n",
    "    else: \n",
    "        print('No data returned')  \n",
    "else:\n",
    "    code = databaseAPI.getStatusCode(r)\n",
    "    databaseAPI.printResponse(r, code)"
   ]
  },
  {
   "cell_type": "markdown",
   "metadata": {},
   "source": [
    "In one last example you can take a higher level look at the applications connected to your database to see which application is driving the most work."
   ]
  },
  {
   "cell_type": "code",
   "execution_count": null,
   "metadata": {},
   "outputs": [],
   "source": [
    "IFrame(database+'/console/?mode=compact#monitor/connections'+profileURL, width=1400, height=480)"
   ]
  },
  {
   "cell_type": "code",
   "execution_count": null,
   "metadata": {},
   "outputs": [],
   "source": [
    "# Display the 10 most recently started Database Connections\n",
    "r = databaseAPI.getCurrentApplicationsConnections()\n",
    "if (databaseAPI.getStatusCode(r)==200):\n",
    "    json = databaseAPI.getJSON(r)\n",
    "    if json['count'] > 0: \n",
    "        df = pd.DataFrame(json_normalize(json['resources']))\n",
    "        print(', '.join(list(df)))\n",
    "        df = df.sort_values(by='connection_start_time', ascending=False)\n",
    "        df['connection_start_time'] = df['connection_start_time'].apply(epochtotimeseries)\n",
    "        display(df[['application_name','application_handle','connection_start_time']].head(10))\n",
    "    else: \n",
    "        print('No data returned')  \n",
    "else:\n",
    "    print(databaseAPI.getStatusCode(r))"
   ]
  },
  {
   "cell_type": "markdown",
   "metadata": {},
   "source": [
    "#### Credits: IBM 2019, Peter Kohlmann [kohlmann@ca.ibm.com]"
   ]
  }
 ],
 "metadata": {
  "kernelspec": {
   "display_name": "Python 3",
   "language": "python",
   "name": "python3"
  },
  "language_info": {
   "codemirror_mode": {
    "name": "ipython",
    "version": 3
   },
   "file_extension": ".py",
   "mimetype": "text/x-python",
   "name": "python",
   "nbconvert_exporter": "python",
   "pygments_lexer": "ipython3",
   "version": "3.7.4"
  }
 },
 "nbformat": 4,
 "nbformat_minor": 2
}
