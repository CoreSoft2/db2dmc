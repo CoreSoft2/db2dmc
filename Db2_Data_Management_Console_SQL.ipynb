{
 "cells": [
  {
   "cell_type": "markdown",
   "metadata": {},
   "source": [
    "# Analyzing SQL Workloads\n",
    "\n",
    "This Jupyter Notebook contains examples of how to use the open APIs of the Db2 Data Management Console to run SQL scripts and use Visual Explain in to analyze SQL. You will start with single SQL statements and work up to running multiple statements against multiple databases to simulate a production workload. By measuring performance over several runs you can identify the slowest statement and the slowest database. Finally you can experiment with different indexes to see if you can improve the performance of the workload. \n",
    "\n",
    "The Db2 Data Management Console is more than a graphical user interface. It is a set of microservices that you can use to build custom applications to automate your use of Db2.\n",
    "\n",
    "This Jupyter Notebook contains examples of how to use the Open APIs and the composable interface that are available in the Db2 Data Management Console. Everything in the User Interface is also available through an open and fully documented RESTful Services API. The full set of APIs are documented as part of the Db2 Data Management Console user interface. In this hands on lab you can connect to the documentation directly through this link: [Db2 Data Management Console RESTful APIs](http://localhost:11080/dbapi/api/index_enterprise.html). \n",
    "\n",
    "You can also embed elements of the full user interface into an IFrame by constructing the appropriate URL.\n",
    "\n",
    "This hands on lab will be calling the Db2 Data Management Console as a service. However you can explore it through the user interface as well. Just click on the following link to try out the console that is already and setup in this lab: http://localhost:11080/console. If you have not already logged in you can use the following:\n",
    "* Userid: db2inst1\n",
    "* Password: db2inst1"
   ]
  },
  {
   "cell_type": "markdown",
   "metadata": {},
   "source": [
    "### Where to find this sample online\n",
    "You can find a copy of this notebook at https://github.com/Db2-DTE-POC/db2dmc."
   ]
  },
  {
   "cell_type": "markdown",
   "metadata": {},
   "source": [
    "### Import Helper Classes\n",
    "For more information on these classes, see the lab: [Automate Db2 with Open Console Services](http://localhost:8888/notebooks/Db2_Data_Management_Console_Overview.ipynb)"
   ]
  },
  {
   "cell_type": "code",
   "execution_count": 1,
   "metadata": {},
   "outputs": [],
   "source": [
    "%run ./dmc_setup.ipynb"
   ]
  },
  {
   "cell_type": "markdown",
   "metadata": {},
   "source": [
    "### Db2 Data Management Console Connection\n",
    "To connect to the Db2 Data Management Console service you need to provide the URL, the service name (v4) and profile the console user name and password as well as the name of the connection profile used in the console to connect to the database you want to work with. For this lab we are assuming that the following values are used for the connection:\n",
    "* Userid: db2inst1\n",
    "* Password: db2inst1\n",
    "* Connection: sample\n",
    "\n",
    "**Note:** If the Db2 Data Management Console has not completed initialization, the connection below will fail. Wait for a few moments and then try it again."
   ]
  },
  {
   "cell_type": "code",
   "execution_count": 2,
   "metadata": {},
   "outputs": [
    {
     "name": "stdout",
     "output_type": "stream",
     "text": [
      "Token Created\n"
     ]
    }
   ],
   "source": [
    "# Connect to the Db2 Data Management Console service\n",
    "Console  = 'http://localhost:11080'\n",
    "profile  = 'SAMPLE'\n",
    "user     = 'DB2INST1'\n",
    "password = 'db2inst1'\n",
    "\n",
    "# Set up the required connection\n",
    "profileURL = \"?profile=\"+profile\n",
    "databaseAPI = Db2(Console+'/dbapi/v4')\n",
    "\n",
    "if databaseAPI.authenticate(user, password, profile) :\n",
    "    print(\"Token Created\")\n",
    "else : \n",
    "    print(\"Token Creation Failed\")\n",
    "database = Console"
   ]
  },
  {
   "cell_type": "markdown",
   "metadata": {},
   "source": [
    "### Confirm the connection\n",
    "To confirm that your connection is working you can check the status of the moitoring service. You can also check your console connection to get the details of the specific database connection you are working with. Since your console user id and password may be limited as to which databases they can access you need to provide the connection profile name to drill down on any detailed information for the database."
   ]
  },
  {
   "cell_type": "code",
   "execution_count": 3,
   "metadata": {},
   "outputs": [
    {
     "name": "stdout",
     "output_type": "stream",
     "text": [
      "{'name': 'SAMPLE', 'disableDataCollection': 'false', 'databaseVersion': '11.5.0', 'databaseName': 'SAMPLE', 'timeZone': '-50000', 'DB2Instance': 'db2inst1', 'db2license': 'AESE,DEC', 'isInstPureScale': 'false', 'databaseVersion_VRMF': '11.5.0.0', 'sslConnection': 'false', 'userProfileRole': 'OWNER', 'timeZoneDiff': '0', 'host': 'localhost', '_PROFILE_INIT_': 'true', 'dataServerType': 'DB2LUW', 'port': '50000', 'URL': 'jdbc:db2://localhost:50000/SAMPLE', 'edition': 'AESE,DEC', 'isInstPartitionable': 'false', 'dataServerExternalType': 'DB2LUW', 'capabilities': '[\"DSM_ENTERPRISE_LUW\"]', 'OSType': 'Linux', 'location': ''}\n"
     ]
    }
   ],
   "source": [
    "# List Monitoring Profile\n",
    "r = databaseAPI.getProfile(profile)\n",
    "json = databaseAPI.getJSON(r)\n",
    "print(json)"
   ]
  },
  {
   "cell_type": "markdown",
   "metadata": {},
   "source": [
    "### Using the Db2 class to run SQL\n",
    "You can use the console API to run single SQL statement or sets of statements in a single call. A step by step explanation of running SQL through the Db2 Data Management Console SQL service is available in the [Db2 SQL with RESTful Services](http://localhost:8888/notebooks/Db2_RESTful_APIS.ipynb) Jupyter notebook. These examples use the Db2 class defined in [dmc_setup.ipynb](http://localhost:8888/notebooks/dmc_setup.ipynb). The Db2 class takes care of creating a reusable authentication key from your login information. It includes two routines **runSQL** and **getSQLJobResult** that make submitting SQL scripts easy. **runSQL** uses the console service to run one or more statements in the background, saving the result. **getSQLJobResult** lets you access the results of each statement.  "
   ]
  },
  {
   "cell_type": "markdown",
   "metadata": {},
   "source": [
    "In this first example we will run a single statement. The first step defines a single statement, runs the SQL and retrieves a unique id to identify the SQL running in the background. Using that id you can check the job results to see if it is still running or complete. "
   ]
  },
  {
   "cell_type": "code",
   "execution_count": 4,
   "metadata": {},
   "outputs": [
    {
     "name": "stdout",
     "output_type": "stream",
     "text": [
      "1580838630993_893901443 running\n"
     ]
    }
   ],
   "source": [
    "#Run SQL Statement and Retrieve the identifier used to track the run\n",
    "\n",
    "# Define the SQL to Run\n",
    "sqlText = 'select TABSCHEMA, TABNAME from syscat.tables'\n",
    "\n",
    "# Run SQL throught the Console SQL Editor REST Service\n",
    "r = databaseAPI.runSQL(sqlText)\n",
    "\n",
    "# Retrieve the run identifier from the SQL Editor Service\n",
    "runID = databaseAPI.getJSON(r)['id'] \n",
    "\n",
    "# Using the saved runID retrieve a JSON description of the run\n",
    "json = databaseAPI.getJSON(databaseAPI.getSQLJobResult(runID)) \n",
    "\n",
    "# Extract the status of the run from the JSON return and print the runID as well as its status\n",
    "if json['results'] == [] :\n",
    "    print(runID+\" \"+json['status']) \n",
    "else :\n",
    "    print('JSON Results')\n",
    "    print(json['results']) "
   ]
  },
  {
   "cell_type": "markdown",
   "metadata": {},
   "source": [
    "In the next step we check that the statement has finished running. Then we check for three possible conditions. First, if there was an error in the SQL Statement. If so, we print the error message. Second, did the statement run successfully and is there a result set. If so, we print out the results as a table. And third, there are no errors but also no results are returned. Try running different SQL Statements to see the different results. "
   ]
  },
  {
   "cell_type": "code",
   "execution_count": 5,
   "metadata": {},
   "outputs": [
    {
     "name": "stdout",
     "output_type": "stream",
     "text": [
      "{'id': '1580838630993_893901443', 'results': [{'exceed_size': 'yes', 'rows_count': 11, 'runtime_seconds': 0.05999999865889549, 'columns': ['TABSCHEMA', 'TABNAME'], 'columns_type': ['string', 'string'], 'limit': 10, 'index': 0, 'rows': [['DB2INST1', 'ACT'], ['DB2INST1', 'ADEFUSR'], ['DB2INST1', 'AS_EMP'], ['DB2INST1', 'BASE_EMP_TXS'], ['DB2INST1', 'CENTRAL_LINE'], ['DB2INST1', 'CL_SCHED'], ['DB2INST1', 'CUSTOMERS'], ['DB2INST1', 'DEMO_TABLE'], ['DB2INST1', 'DEPARTMENT'], ['DB2INST1', 'DEPT']], 'command': 'select TABSCHEMA, TABNAME from syscat.tables'}], 'status': 'completed'}\n"
     ]
    }
   ],
   "source": [
    "# ONLY RUN THIS STEP IF THERE WERE NO RESULTS FROM THE PREVIOUS STEP\n",
    "# Even if the status is running. You need to extract and process the results before you get more results.\n",
    "# Once you have retrieved the results you cannot run the same call a second time successfully.\n",
    "# The JSON structure is only available on the first call.\n",
    "json = databaseAPI.getJSON(databaseAPI.getSQLJobResult(runID))\n",
    "print(json)"
   ]
  },
  {
   "cell_type": "markdown",
   "metadata": {},
   "source": [
    "Now let us unpack the JSON that returned in the cell above. The code below checks that the statement completed and checks for errors. If there are no errors and rows were returned in a result set, then the rows are extracted to a dataframe and displayed. Dataframes are a very powerful part of the Python Panda's library. They let us easily manupulate data sets that come back from Db2. "
   ]
  },
  {
   "cell_type": "code",
   "execution_count": 6,
   "metadata": {},
   "outputs": [
    {
     "name": "stdout",
     "output_type": "stream",
     "text": [
      "  TABSCHEMA       TABNAME\n",
      "0  DB2INST1           ACT\n",
      "1  DB2INST1       ADEFUSR\n",
      "2  DB2INST1        AS_EMP\n",
      "3  DB2INST1  BASE_EMP_TXS\n",
      "4  DB2INST1  CENTRAL_LINE\n",
      "5  DB2INST1      CL_SCHED\n",
      "6  DB2INST1     CUSTOMERS\n",
      "7  DB2INST1    DEMO_TABLE\n",
      "8  DB2INST1    DEPARTMENT\n",
      "9  DB2INST1          DEPT\n"
     ]
    }
   ],
   "source": [
    "if json['results'] != []:\n",
    "        results = json['results'][0]\n",
    "        if 'error' in results : \n",
    "            print(results['error'])\n",
    "        elif 'rows' in results :\n",
    "            df = pd.DataFrame(results['rows'],columns=results['columns'])\n",
    "            print(df)\n",
    "        else :\n",
    "            print('No errors. No results')"
   ]
  },
  {
   "cell_type": "markdown",
   "metadata": {},
   "source": [
    "You do not want to have to continously check to see if a statement is complete. So let us use a simple loop to do the checking for us. "
   ]
  },
  {
   "cell_type": "code",
   "execution_count": 7,
   "metadata": {},
   "outputs": [
    {
     "name": "stdout",
     "output_type": "stream",
     "text": [
      "Run Identifier: 1580838637398_2115617913\n",
      "  TABSCHEMA             TABNAME\n",
      "0  SYSCAT         CASTFUNCTIONS\n",
      "1  SYSCAT                CHECKS\n",
      "2  SYSCAT               COLAUTH\n",
      "3  SYSCAT             COLCHECKS\n",
      "4  SYSCAT               COLDIST\n",
      "5  SYSCAT          COLGROUPCOLS\n",
      "6  SYSCAT          COLGROUPDIST\n",
      "7  SYSCAT    COLGROUPDISTCOUNTS\n",
      "8  SYSCAT             COLGROUPS\n",
      "9  SYSCAT    COLIDENTATTRIBUTES\n"
     ]
    }
   ],
   "source": [
    "# Run SQL Statement and Retrieve the identifier used to track the run\n",
    "sqlText = 'select TABSCHEMA, TABNAME from syscat.tables'\n",
    "runID = databaseAPI.getJSON(databaseAPI.runSQL(sqlText))['id'] \n",
    "print('Run Identifier: '+str(runID))\n",
    "\n",
    "# Check to see if the statement finished running\n",
    "json = databaseAPI.getJSON(databaseAPI.getSQLJobResult(runID))\n",
    "\n",
    "# If the statement still has not finished wait in one second intervals\n",
    "# we check for results because depending on timing it is possible to retrieve results without the status being complete.\n",
    "# Once we retrieve the results there are removed from the service. \n",
    "while json['results'] == [] :\n",
    "    json = databaseAPI.getJSON(databaseAPI.getSQLJobResult(runID))\n",
    "    time.sleep(1) \n",
    "    \n",
    "# Assuming we only have one statement, unpack the results    \n",
    "results = json['results'][0]\n",
    "if 'error' in results : \n",
    "    print(results['error'])\n",
    "elif 'rows' in results :\n",
    "    df = pd.DataFrame(results['rows'],columns=results['columns'])\n",
    "    print(df)\n",
    "else :\n",
    "    print('No errors. No results')"
   ]
  },
  {
   "cell_type": "markdown",
   "metadata": {},
   "source": [
    "### SQL Scripts Used in the Lab\n",
    "We are going to define a few scripts that we will use during this lab. The first two will define tables that are used during the rest of the lab. The third defines a workload we will reuse. Notice that these scripts contain multiple SQL statements. We are going to have to update our code to handle that."
   ]
  },
  {
   "cell_type": "code",
   "execution_count": 8,
   "metadata": {},
   "outputs": [
    {
     "name": "stdout",
     "output_type": "stream",
     "text": [
      "Defined Create Employee Script\n"
     ]
    }
   ],
   "source": [
    "sqlScriptCreateEmployee = \\\n",
    "'''\n",
    "CREATE TABLE EMPLOYEES (ENO INTEGER, DEPTNO INTEGER, LASTNAME VARCHAR(30),\n",
    "    HIREDATA DATE, SALARY INTEGER);\n",
    "\n",
    "INSERT INTO EMPLOYEES\n",
    "-- generate 500000 records\n",
    "    WITH DT(ENO) AS (VALUES(1) UNION ALL SELECT ENO+1 FROM DT WHERE ENO < 500000)\n",
    "\n",
    "-- Now, use the generated records in DT to create other columns\n",
    "-- of the employee record.\n",
    "    SELECT ENO,\n",
    "    RAND() * 500,\n",
    "    TRANSLATE(CHAR(INTEGER(RAND()+500000)),\n",
    "    CASE MOD(ENO,5) WHEN 0 THEN 'aeiou' || 'bcdfg'\n",
    "        WHEN 1 THEN 'aeiou' || 'hjklm'\n",
    "        WHEN 2 THEN 'aeiou' || 'npqrs'\n",
    "        WHEN 3 THEN 'fredr' || 'annab'\n",
    "        ELSE 'aeiou' || 'twxyz' END,\n",
    "        '1234567890') AS LASTNAME,\n",
    "   CURRENT DATE - (RAND()*10957) DAYS AS HIREDATE,\n",
    "   INTEGER(1000*RAND()*200) AS SALARY\n",
    "   FROM DT;\n",
    "\n",
    "SELECT COUNT FROM EMPLOYEES;\n",
    "\n",
    "SELECT * FROM EMPLOYEES ORDER BY ENO;\n",
    "'''\n",
    "print(\"Defined Create Employee Script\")"
   ]
  },
  {
   "cell_type": "code",
   "execution_count": 9,
   "metadata": {},
   "outputs": [
    {
     "name": "stdout",
     "output_type": "stream",
     "text": [
      "Defined Create Department Script\n"
     ]
    }
   ],
   "source": [
    "sqlScriptCreateDepartment = \\\n",
    "'''\n",
    "CREATE TABLE DEPARTMENTS (DEPTNO INTEGER, DEPTNAME VARCHAR(30), REVENUE BIGINT);\n",
    "\n",
    "INSERT INTO DEPARTMENTS\n",
    "-- generate 500 department records\n",
    "WITH DT(DEPTNO) AS (VALUES(1) UNION ALL SELECT DEPTNO+1 FROM DT WHERE DEPTNO < 500 )\n",
    "\n",
    "    SELECT DEPTNO,\n",
    "        TRANSLATE(CHAR(INTEGER(RAND()+100000)),\n",
    "            CASE MOD(DEPTNO,5) WHEN 0 THEN 'aeiou' || 'bcdfg'\n",
    "                WHEN 1 THEN 'aeiou' || 'hjklm'\n",
    "                WHEN 2 THEN 'aeiou' || 'npqrs'\n",
    "                WHEN 3 THEN 'fredr' || 'annab'\n",
    "                ELSE 'aeiou' || 'twxyz' END,\n",
    "                '1234567890') AS DEPTNAME,\n",
    "        BIGINT(100000*RAND()*50000) AS REVENUE\n",
    "        FROM DT;\n",
    "\n",
    "SELECT COUNT FROM DEPARTMENTS;\n",
    "\n",
    "SELECT * FROM DEPARTMENTS;\n",
    "'''\n",
    "print(\"Defined Create Department Script\")"
   ]
  },
  {
   "cell_type": "code",
   "execution_count": 10,
   "metadata": {},
   "outputs": [
    {
     "name": "stdout",
     "output_type": "stream",
     "text": [
      "Defined Workload 1 Script\n"
     ]
    }
   ],
   "source": [
    "sqlScriptWorkload1 = \\\n",
    "'''\n",
    "WITH SALARYBY (DEPTNO, TOTAL) AS\n",
    "    (SELECT DEPT.DEPTNO DNO, SUM(BIGINT(EMP.SALARY)) TOTAL_SALARY\n",
    "        FROM EMPLOYEES EMP, DEPARTMENTS DEPT\n",
    "        WHERE DEPT.DEPTNO = EMP.DEPTNO AND EMP.SALARY > 190000\n",
    "        GROUP BY DEPT.DEPTNO\n",
    "        ORDER BY DNO)\n",
    "SELECT DEPT.DEPTNAME NAME, SALARYBY.TOTAL COST, DEPT.REVENUE, DEPT.REVENUE-SALARYBY.TOTAL PROFIT\n",
    "FROM SALARYBY, DEPARTMENTS DEPT\n",
    "WHERE DEPT.DEPTNO = SALARYBY.DEPTNO\n",
    "AND REVENUE > TOTAL\n",
    "ORDER BY PROFIT\n",
    "'''\n",
    "print(\"Defined Workload 1 Script\")"
   ]
  },
  {
   "cell_type": "code",
   "execution_count": 11,
   "metadata": {},
   "outputs": [
    {
     "name": "stdout",
     "output_type": "stream",
     "text": [
      "Defined Workload 2 Script\n"
     ]
    }
   ],
   "source": [
    "sqlScriptWorkload2 = \\\n",
    "'''\n",
    "SELECT DEPT.DEPTNO DNO, SUM(FLOAT(EMP.SALARY)) TOTAL_SALARY\n",
    "  FROM EMPLOYEES EMP, DEPARTMENTS DEPT \n",
    "  WHERE DEPT.DEPTNO = EMP.DEPTNO \n",
    "      AND EMP.SALARY < 50000\n",
    "      AND YEAR(EMP.HIREDATA) > 2010\n",
    "  GROUP BY DEPT.DEPTNO\n",
    "  ORDER BY DNO;\n",
    "\n",
    "SELECT DEPT.DEPTNO DNO, SUM(FLOAT(EMP.SALARY)) TOTAL_SALARY\n",
    "  FROM EMPLOYEES EMP, DEPARTMENTS DEPT \n",
    "  WHERE DEPT.DEPTNO = EMP.DEPTNO \n",
    "      AND EMP.SALARY < 190000\n",
    "      AND YEAR(EMP.HIREDATA) > 2010\n",
    "  GROUP BY DEPT.DEPTNO\n",
    "  ORDER BY DNO;\n",
    "\n",
    "SELECT DEPT.DEPTNO, DEPT.REVENUE\n",
    "  FROM DEPARTMENTS DEPT WHERE DEPT.REVENUE > 450000000;\n",
    "'''\n",
    "print(\"Defined Workload 2 Script\")"
   ]
  },
  {
   "cell_type": "code",
   "execution_count": 12,
   "metadata": {},
   "outputs": [
    {
     "name": "stdout",
     "output_type": "stream",
     "text": [
      "Defined Add More Rows Script\n"
     ]
    }
   ],
   "source": [
    "addMoreRows = \\\n",
    "'''\n",
    "INSERT INTO EMPLOYEES\n",
    "-- generate 500000 records\n",
    "    WITH DT(ENO) AS (VALUES(1) UNION ALL SELECT ENO+1 FROM DT WHERE ENO < 500000)\n",
    "\n",
    "-- Now, use the generated records in DT to create other columns\n",
    "-- of the employee record.\n",
    "    SELECT ENO,\n",
    "    RAND() * 500,\n",
    "    TRANSLATE(CHAR(INTEGER(RAND()+500000)),\n",
    "    CASE MOD(ENO,5) WHEN 0 THEN 'aeiou' || 'bcdfg'\n",
    "        WHEN 1 THEN 'aeiou' || 'hjklm'\n",
    "        WHEN 2 THEN 'aeiou' || 'npqrs'\n",
    "        WHEN 3 THEN 'fredr' || 'annab'\n",
    "        ELSE 'aeiou' || 'twxyz' END,\n",
    "        '1234567890') AS LASTNAME,\n",
    "   CURRENT DATE - (RAND()*10957) DAYS AS HIREDATE,\n",
    "   INTEGER(1000*RAND()*200) AS SALARY\n",
    "   FROM DT;\n",
    "'''\n",
    "print(\"Defined Add More Rows Script\")"
   ]
  },
  {
   "cell_type": "markdown",
   "metadata": {},
   "source": [
    "### Running Multiple SQL Statements in a Single Script\n",
    "In the following example we run multiple statements in a single API call. When the statement is started we get a run handle we can use to access the results of the SQL execution. Running the script works the same as running a single statement. However, retrieving results is more complex. Each time you check for results you may get the results of one or more statements. Like before, you can only retrieve the results for each statement once. "
   ]
  },
  {
   "cell_type": "code",
   "execution_count": 13,
   "metadata": {},
   "outputs": [
    {
     "name": "stdout",
     "output_type": "stream",
     "text": [
      "1580838647645_5988288\n"
     ]
    }
   ],
   "source": [
    "# Run SQL Statement and Retrieve the identifier used to track the run\n",
    "\n",
    "sqlText = sqlScriptCreateEmployee\n",
    "runID = databaseAPI.getJSON(databaseAPI.runSQL(sqlText))['id'] \n",
    "print(runID) "
   ]
  },
  {
   "cell_type": "code",
   "execution_count": 14,
   "metadata": {},
   "outputs": [
    {
     "name": "stdout",
     "output_type": "stream",
     "text": [
      "Check for Results\n",
      "Check for results\n",
      "Check for results\n",
      "Check for results\n",
      "Done\n"
     ]
    }
   ],
   "source": [
    "# We need to create a loop to check for results \n",
    "# Each time we retrieve new results they are added to the fulljson result set\n",
    "\n",
    "json = databaseAPI.getJSON(databaseAPI.getSQLJobResult(runID))\n",
    "print(\"Check for Results\")\n",
    "fulljson = json\n",
    "\n",
    "while json['results'] != [] or (json['status'] != \"completed\" and json['status'] != \"failed\") :\n",
    "    json = databaseAPI.getJSON(databaseAPI.getSQLJobResult(runID))\n",
    "    print(\"Check for results\")\n",
    "    for results in json['results'] :\n",
    "        fulljson['results'].append(results)\n",
    "    time.sleep(1) \n",
    "print('Done')"
   ]
  },
  {
   "cell_type": "code",
   "execution_count": 15,
   "metadata": {},
   "outputs": [
    {
     "name": "stdout",
     "output_type": "stream",
     "text": [
      "Statement: 0: CREATE TABLE EMPLOYEES (ENO INTEGER, DEPTNO INTEGER, LASTNAME VARCHAR(30),\n",
      "    HIREDATA DATE, SALARY INTEGER)\n",
      "Runtime ms: 108.0000028014183\n",
      "No errors. Row Affected: 0\n",
      "\n",
      "* * * * * * * * * * * * * * *\n",
      "Statement: 1: INSERT INTO EMPLOYEES\n",
      "-- generate 500000 records\n",
      "    WITH DT(ENO) AS (VALUES(1) UNION ALL SELECT ENO+1 FROM DT WHERE ENO < 500000)\n",
      "\n",
      "-- Now, use the generated records in DT to create other columns\n",
      "-- of the employee record.\n",
      "    SELECT ENO,\n",
      "    RAND() * 500,\n",
      "    TRANSLATE(CHAR(INTEGER(RAND()+500000)),\n",
      "    CASE MOD(ENO,5) WHEN 0 THEN 'aeiou' || 'bcdfg'\n",
      "        WHEN 1 THEN 'aeiou' || 'hjklm'\n",
      "        WHEN 2 THEN 'aeiou' || 'npqrs'\n",
      "        WHEN 3 THEN 'fredr' || 'annab'\n",
      "        ELSE 'aeiou' || 'twxyz' END,\n",
      "        '1234567890') AS LASTNAME,\n",
      "   CURRENT DATE - (RAND()*10957) DAYS AS HIREDATE,\n",
      "   INTEGER(1000*RAND()*200) AS SALARY\n",
      "   FROM DT\n",
      "Runtime ms: 1924.0000247955322\n",
      "No errors. Row Affected: 500000\n",
      "\n",
      "* * * * * * * * * * * * * * *\n",
      "Statement: 2: SELECT COUNT FROM EMPLOYEES\n",
      "Runtime ms: 57.999998331069946\n",
      "        1\n",
      "0  500000\n",
      "\n",
      "* * * * * * * * * * * * * * *\n",
      "Statement: 3: SELECT * FROM EMPLOYEES ORDER BY ENO\n",
      "Runtime ms: 204.99999821186066\n",
      "  ENO DEPTNO     LASTNAME    HIREDATA  SALARY\n",
      "0   1     81  ummmmm       1994-08-19   23924\n",
      "1   2    485  usssss       2015-06-22   87875\n",
      "2   3     72  rbbbbb       2005-02-14   90583\n",
      "3   4    272  uzzzzz       1997-04-23   31728\n",
      "4   5    335  uggggg       2018-11-28  156668\n",
      "5   6     51  ummmmm       2014-08-19   63589\n",
      "6   7    321  usssss       1997-07-29  128768\n",
      "7   8    347  rbbbbb       1991-01-07  150140\n",
      "8   9    169  uzzzzz       2015-09-08  111214\n",
      "9  10    325  uggggg       2018-06-07  161841\n",
      "\n",
      "* * * * * * * * * * * * * * *\n"
     ]
    }
   ],
   "source": [
    "# We need to unpack the entire JSON result set\n",
    "# and display if each statement ran successfully and how long it took\n",
    "# we also extract how many rows were affected for insert statements\n",
    "\n",
    "for results in fulljson['results']:\n",
    "    print('Statement: '+str(results['index'])+': '+results['command'])\n",
    "    print('Runtime ms: '+str(results['runtime_seconds']*1000))\n",
    "    if 'error' in results : \n",
    "        print(results['error'])\n",
    "    elif 'rows' in results :\n",
    "        df = pd.DataFrame(results['rows'],columns=results['columns'])\n",
    "        print(df)\n",
    "    else :\n",
    "        print('No errors. Row Affected: '+str(results['rows_affected']))\n",
    "    print()\n",
    "    print('* * * * * * * * * * * * * * *')"
   ]
  },
  {
   "cell_type": "markdown",
   "metadata": {},
   "source": [
    "### Creating a Routine to Run an SQL Script\n",
    "To make things easier we can create reusable routines that will included everything we have developed so far. By running the next two steps, you create two routines that you can call by passing parameters to them. \n",
    "\n",
    "While we could create a single routine to run SQL and then display the results, we are creating two different routines so that we can display the results differently later in the lab. "
   ]
  },
  {
   "cell_type": "code",
   "execution_count": 16,
   "metadata": {},
   "outputs": [
    {
     "name": "stdout",
     "output_type": "stream",
     "text": [
      "runSQL routine defined\n"
     ]
    }
   ],
   "source": [
    "def runSQL(profile,user, password, sqlText):\n",
    "    \n",
    "    if databaseAPI.authenticate(user, password, profile) :\n",
    "\n",
    "        # Run the SQL Script and return the runID for later reference \n",
    "        runID = databaseAPI.getJSON(databaseAPI.runSQL(sqlText))['id'] \n",
    "\n",
    "        # See if there are any results yet for this job\n",
    "        json = databaseAPI.getJSON(databaseAPI.getSQLJobResult(runID))\n",
    "        \n",
    "        # If the REST call returns an error return the json with the error to the calling routine\n",
    "        if 'errors' in json :\n",
    "            return json\n",
    "        # Append the results from each statement in the script to the overall combined JSON result set\n",
    "        fulljson = json\n",
    "\n",
    "        while json['results'] != [] or (json['status'] != \"completed\" and json['status'] != \"failed\") :\n",
    "            json = databaseAPI.getJSON(databaseAPI.getSQLJobResult(runID))\n",
    "\n",
    "            # Get the results from each statement as they return and append the results to the full JSON \n",
    "            for results in json['results'] :\n",
    "                fulljson['results'].append(results)\n",
    "            # Wait 250 ms for more results\n",
    "            time.sleep(0.25) \n",
    "        return fulljson\n",
    "    else :\n",
    "        print('Could not authenticate')\n",
    "print('runSQL routine defined')"
   ]
  },
  {
   "cell_type": "code",
   "execution_count": 17,
   "metadata": {},
   "outputs": [
    {
     "name": "stdout",
     "output_type": "stream",
     "text": [
      "displayResults routine defined\n"
     ]
    }
   ],
   "source": [
    "def displayResults(json):\n",
    "\n",
    "    for results in json['results']:\n",
    "        print('Statement: '+str(results['index'])+': '+results['command'])\n",
    "        print('Runtime ms: '+str(results['runtime_seconds']*1000))\n",
    "        if 'error' in results : \n",
    "            print(results['error'])\n",
    "        elif 'rows' in results :\n",
    "            df = pd.DataFrame(results['rows'],columns=results['columns'])\n",
    "            print(df)\n",
    "        else :\n",
    "            print('No errors. Row Affected: '+str(results['rows_affected']))\n",
    "        print()\n",
    "print('displayResults routine defined')"
   ]
  },
  {
   "cell_type": "markdown",
   "metadata": {},
   "source": [
    "Now call the new routine using the parameters to define the connection profile to use, the userid and password and the SQL Text. In this example we will drop the table we just created. Try running it a second time. You can see that it correctly returns an error message. "
   ]
  },
  {
   "cell_type": "code",
   "execution_count": 18,
   "metadata": {},
   "outputs": [
    {
     "name": "stdout",
     "output_type": "stream",
     "text": [
      "Statement: 0: DROP TABLE EMPLOYEES\n",
      "Runtime ms: 56.0000017285347\n",
      "No errors. Row Affected: 0\n",
      "\n"
     ]
    }
   ],
   "source": [
    "profile = 'SAMPLE'\n",
    "user = 'DB2INST1'\n",
    "password = 'db2inst1'\n",
    "sqlText = 'DROP TABLE EMPLOYEES'\n",
    "displayResults(runSQL(profile, user, password, sqlText))"
   ]
  },
  {
   "cell_type": "markdown",
   "metadata": {},
   "source": [
    "### Running Multiple Scripts across Multiple Databases\n",
    "Now we will use our new routines to create the Employees and the Department tables across two databases. In this lab we can use the SAMPLE and the HISTORY database. The example below loops through two databases and two scripts to create the required tables."
   ]
  },
  {
   "cell_type": "code",
   "execution_count": 19,
   "metadata": {},
   "outputs": [
    {
     "name": "stdout",
     "output_type": "stream",
     "text": [
      "* * * * * * * * * * * * * * * * * * * * * * * * * * *\n",
      "Running Scripts against profile: SAMPLE\n",
      "Statement: 0: CREATE TABLE EMPLOYEES (ENO INTEGER, DEPTNO INTEGER, LASTNAME VARCHAR(30),\n",
      "    HIREDATA DATE, SALARY INTEGER)\n",
      "Runtime ms: 48.00000041723251\n",
      "No errors. Row Affected: 0\n",
      "\n",
      "Statement: 1: INSERT INTO EMPLOYEES\n",
      "-- generate 500000 records\n",
      "    WITH DT(ENO) AS (VALUES(1) UNION ALL SELECT ENO+1 FROM DT WHERE ENO < 500000)\n",
      "\n",
      "-- Now, use the generated records in DT to create other columns\n",
      "-- of the employee record.\n",
      "    SELECT ENO,\n",
      "    RAND() * 500,\n",
      "    TRANSLATE(CHAR(INTEGER(RAND()+500000)),\n",
      "    CASE MOD(ENO,5) WHEN 0 THEN 'aeiou' || 'bcdfg'\n",
      "        WHEN 1 THEN 'aeiou' || 'hjklm'\n",
      "        WHEN 2 THEN 'aeiou' || 'npqrs'\n",
      "        WHEN 3 THEN 'fredr' || 'annab'\n",
      "        ELSE 'aeiou' || 'twxyz' END,\n",
      "        '1234567890') AS LASTNAME,\n",
      "   CURRENT DATE - (RAND()*10957) DAYS AS HIREDATE,\n",
      "   INTEGER(1000*RAND()*200) AS SALARY\n",
      "   FROM DT\n",
      "Runtime ms: 1593.999981880188\n",
      "No errors. Row Affected: 500000\n",
      "\n",
      "Statement: 2: SELECT COUNT FROM EMPLOYEES\n",
      "Runtime ms: 54.999999701976776\n",
      "        1\n",
      "0  500000\n",
      "\n",
      "Statement: 3: SELECT * FROM EMPLOYEES ORDER BY ENO\n",
      "Runtime ms: 130.99999725818634\n",
      "  ENO DEPTNO     LASTNAME    HIREDATA  SALARY\n",
      "0   1    399  ummmmm       1991-03-23   95692\n",
      "1   2     42  usssss       2019-03-16   12105\n",
      "2   3    416  rbbbbb       1994-10-27   67286\n",
      "3   4    462  uzzzzz       2000-05-18    7317\n",
      "4   5    224  uggggg       2002-05-07   14685\n",
      "5   6      4  ummmmm       2002-07-20  199343\n",
      "6   7     70  usssss       2014-04-29  180907\n",
      "7   8    152  rbbbbb       1998-03-24   65991\n",
      "8   9    494  uzzzzz       2012-05-22  118619\n",
      "9  10    196  uggggg       1992-08-08   24902\n",
      "\n",
      "Statement: 0: CREATE TABLE DEPARTMENTS (DEPTNO INTEGER, DEPTNAME VARCHAR(30), REVENUE BIGINT)\n",
      "Runtime ms: 39.99999910593033\n",
      "No errors. Row Affected: 0\n",
      "\n",
      "Statement: 1: INSERT INTO DEPARTMENTS\n",
      "-- generate 500 department records\n",
      "WITH DT(DEPTNO) AS (VALUES(1) UNION ALL SELECT DEPTNO+1 FROM DT WHERE DEPTNO < 500 )\n",
      "\n",
      "    SELECT DEPTNO,\n",
      "        TRANSLATE(CHAR(INTEGER(RAND()+100000)),\n",
      "            CASE MOD(DEPTNO,5) WHEN 0 THEN 'aeiou' || 'bcdfg'\n",
      "                WHEN 1 THEN 'aeiou' || 'hjklm'\n",
      "                WHEN 2 THEN 'aeiou' || 'npqrs'\n",
      "                WHEN 3 THEN 'fredr' || 'annab'\n",
      "                ELSE 'aeiou' || 'twxyz' END,\n",
      "                '1234567890') AS DEPTNAME,\n",
      "        BIGINT(100000*RAND()*50000) AS REVENUE\n",
      "        FROM DT\n",
      "Runtime ms: 4.999999888241291\n",
      "No errors. Row Affected: 500\n",
      "\n",
      "Statement: 2: SELECT COUNT FROM DEPARTMENTS\n",
      "Runtime ms: 9.999999776482582\n",
      "     1\n",
      "0  500\n",
      "\n",
      "Statement: 3: SELECT * FROM DEPARTMENTS\n",
      "Runtime ms: 3.000000026077032\n",
      "  DEPTNO     DEPTNAME     REVENUE\n",
      "0      1  ammmmm       4706307842\n",
      "1      2  asssss       4231781554\n",
      "2      3  fbbbbb       2883190919\n",
      "3      4  azzzzz       4063429999\n",
      "4      5  aggggg        235116807\n",
      "5      6  ammmmm       4969650516\n",
      "6      7  asssss       2858371002\n",
      "7      8  fbbbbb       4548029275\n",
      "8      9  azzzzz        896140151\n",
      "9     10  aggggg       3235958289\n",
      "\n",
      "* * * * * * * * * * * * * * * * * * * * * * * * * * *\n",
      "Running Scripts against profile: HISTORY\n",
      "Statement: 0: CREATE TABLE EMPLOYEES (ENO INTEGER, DEPTNO INTEGER, LASTNAME VARCHAR(30),\n",
      "    HIREDATA DATE, SALARY INTEGER)\n",
      "Runtime ms: 19.999999552965164\n",
      "No errors. Row Affected: 0\n",
      "\n",
      "Statement: 1: INSERT INTO EMPLOYEES\n",
      "-- generate 500000 records\n",
      "    WITH DT(ENO) AS (VALUES(1) UNION ALL SELECT ENO+1 FROM DT WHERE ENO < 500000)\n",
      "\n",
      "-- Now, use the generated records in DT to create other columns\n",
      "-- of the employee record.\n",
      "    SELECT ENO,\n",
      "    RAND() * 500,\n",
      "    TRANSLATE(CHAR(INTEGER(RAND()+500000)),\n",
      "    CASE MOD(ENO,5) WHEN 0 THEN 'aeiou' || 'bcdfg'\n",
      "        WHEN 1 THEN 'aeiou' || 'hjklm'\n",
      "        WHEN 2 THEN 'aeiou' || 'npqrs'\n",
      "        WHEN 3 THEN 'fredr' || 'annab'\n",
      "        ELSE 'aeiou' || 'twxyz' END,\n",
      "        '1234567890') AS LASTNAME,\n",
      "   CURRENT DATE - (RAND()*10957) DAYS AS HIREDATE,\n",
      "   INTEGER(1000*RAND()*200) AS SALARY\n",
      "   FROM DT\n",
      "Runtime ms: 2605.0000190734863\n",
      "No errors. Row Affected: 500000\n",
      "\n",
      "Statement: 2: SELECT COUNT FROM EMPLOYEES\n",
      "Runtime ms: 211.99999749660492\n",
      "        1\n",
      "0  500000\n",
      "\n",
      "Statement: 3: SELECT * FROM EMPLOYEES ORDER BY ENO\n",
      "Runtime ms: 317.9999887943268\n",
      "  ENO DEPTNO     LASTNAME    HIREDATA  SALARY\n",
      "0   1    390  ummmmm       2002-09-06  170921\n",
      "1   2    196  usssss       2015-12-13  137584\n",
      "2   3    219  rbbbbb       1993-04-01  179147\n",
      "3   4    205  uzzzzz       1996-09-19   11056\n",
      "4   5    446  uggggg       2006-06-13  139393\n",
      "5   6    180  ummmmm       2013-10-18  143491\n",
      "6   7    358  usssss       2010-12-11   75883\n",
      "7   8     11  rbbbbb       2011-01-27   81816\n",
      "8   9    488  uzzzzz       1994-09-29  136390\n",
      "9  10    291  uggggg       2007-01-12    1956\n",
      "\n",
      "Statement: 0: CREATE TABLE DEPARTMENTS (DEPTNO INTEGER, DEPTNAME VARCHAR(30), REVENUE BIGINT)\n",
      "Runtime ms: 20.999999716877937\n",
      "No errors. Row Affected: 0\n",
      "\n",
      "Statement: 1: INSERT INTO DEPARTMENTS\n",
      "-- generate 500 department records\n",
      "WITH DT(DEPTNO) AS (VALUES(1) UNION ALL SELECT DEPTNO+1 FROM DT WHERE DEPTNO < 500 )\n",
      "\n",
      "    SELECT DEPTNO,\n",
      "        TRANSLATE(CHAR(INTEGER(RAND()+100000)),\n",
      "            CASE MOD(DEPTNO,5) WHEN 0 THEN 'aeiou' || 'bcdfg'\n",
      "                WHEN 1 THEN 'aeiou' || 'hjklm'\n",
      "                WHEN 2 THEN 'aeiou' || 'npqrs'\n",
      "                WHEN 3 THEN 'fredr' || 'annab'\n",
      "                ELSE 'aeiou' || 'twxyz' END,\n",
      "                '1234567890') AS DEPTNAME,\n",
      "        BIGINT(100000*RAND()*50000) AS REVENUE\n",
      "        FROM DT\n",
      "Runtime ms: 4.000000189989805\n",
      "No errors. Row Affected: 500\n",
      "\n",
      "Statement: 2: SELECT COUNT FROM DEPARTMENTS\n",
      "Runtime ms: 4.000000189989805\n",
      "     1\n",
      "0  500\n",
      "\n",
      "Statement: 3: SELECT * FROM DEPARTMENTS\n",
      "Runtime ms: 2.0000000949949026\n",
      "  DEPTNO     DEPTNAME     REVENUE\n",
      "0      1  ammmmm       1253936060\n",
      "1      2  asssss       1027936840\n",
      "2      3  fbbbbb        849366879\n",
      "3      4  azzzzz       2132358645\n",
      "4      5  aggggg       3324590946\n",
      "5      6  ammmmm       1578369912\n",
      "6      7  asssss       2888448256\n",
      "7      8  fbbbbb       2945627392\n",
      "8      9  azzzzz       3167650619\n",
      "9     10  aggggg        169349375\n",
      "\n",
      "done\n"
     ]
    }
   ],
   "source": [
    "profileList = ['SAMPLE','HISTORY']\n",
    "scriptList = [sqlScriptCreateEmployee, sqlScriptCreateDepartment]\n",
    "user = 'DB2INST1'\n",
    "password = 'db2inst1'\n",
    "\n",
    "for profile in profileList :\n",
    "    print('* * * * * * * * * * * * * * * * * * * * * * * * * * *')\n",
    "    print('Running Scripts against profile: '+profile)\n",
    "    for script in scriptList :\n",
    "        json = runSQL(profile, user, password, script)\n",
    "        displayResults(json)\n",
    "print('done')"
   ]
  },
  {
   "cell_type": "markdown",
   "metadata": {},
   "source": [
    "### Repeating a script across multiple databases\n",
    "**Step 1:** If we insert too many rows in one step to the EMPLOYEES table we will exceed the capacity of the transaction log, as it is currently configured. So let's add 1 million more rows to the employee table in both HISTORY and SAMPLE by adding 500,000 2 times. Run the cell below.\n",
    "\n",
    "**Step 2:** To make things more interesting we will measure the difference in performance between the HISTORY and SAMPLE databases. We can make the job harder for one database by adding more rows just to one database. Delete the HISTORY database from the profile list in the cell below. Then change the number of profileReps from 2 to 4 and run the cell again. \n"
   ]
  },
  {
   "cell_type": "code",
   "execution_count": 20,
   "metadata": {},
   "outputs": [
    {
     "name": "stdout",
     "output_type": "stream",
     "text": [
      "Repetition number: 0\n",
      "Running Scripts against profile: SAMPLE\n",
      "Repetition number: 1\n",
      "Running Scripts against profile: SAMPLE\n",
      "Repetition number: 2\n",
      "Running Scripts against profile: SAMPLE\n",
      "Repetition number: 3\n",
      "Running Scripts against profile: SAMPLE\n",
      "done\n"
     ]
    }
   ],
   "source": [
    "profileList = ['SAMPLE']\n",
    "scriptList = [addMoreRows]\n",
    "user = 'DB2INST1'\n",
    "password = 'db2inst1'\n",
    "profileReps = 4\n",
    "\n",
    "for profile in profileList :\n",
    "    for x in range(0, profileReps):\n",
    "        print('Repetition number: '+str(x))\n",
    "        print('Running Scripts against profile: '+profile)\n",
    "        for script in scriptList :\n",
    "            json = runSQL(profile, user, password, script)\n",
    "print('done')"
   ]
  },
  {
   "cell_type": "markdown",
   "metadata": {},
   "source": [
    "Now we can check the number of rows in the employees table in the SAMPLE and the HISTORY database. There should be 3,500,000 rows in SAMPLE and 1,500,000 in HISTORY"
   ]
  },
  {
   "cell_type": "code",
   "execution_count": 21,
   "metadata": {},
   "outputs": [
    {
     "name": "stdout",
     "output_type": "stream",
     "text": [
      "Running Scripts against profile: SAMPLE\n",
      "Statement: 0: select count(*) from employees\n",
      "Runtime ms: 381.99999928474426\n",
      "         1\n",
      "0  2500000\n",
      "\n",
      "Running Scripts against profile: HISTORY\n",
      "Statement: 0: select count(*) from employees\n",
      "Runtime ms: 65.99999964237213\n",
      "        1\n",
      "0  500000\n",
      "\n",
      "done\n"
     ]
    }
   ],
   "source": [
    "profileList = ['SAMPLE','HISTORY']\n",
    "scriptList = ['select count(*) from employees']\n",
    "user = 'DB2INST1'\n",
    "password = 'db2inst1'\n",
    "\n",
    "for profile in profileList :\n",
    "    print('Running Scripts against profile: '+profile)\n",
    "    for script in scriptList :\n",
    "        json = runSQL(profile, user, password, script)\n",
    "        displayResults(json)\n",
    "print('done')"
   ]
  },
  {
   "cell_type": "markdown",
   "metadata": {},
   "source": [
    "### Running multiple scripts across multiple databases - Summarized Results\n",
    "Now that we have our tables created on both databases, we can run workloads and measure their performance. By repeatedly running the scripts across multiple databases in a single Db2 instance we can simulate a real database environemt. \n",
    "\n",
    "Instead of using the displayResults routine we are going to capture runtime metrics for each run of the SQL Query workloads so that we can analyze performance. The appendResults routine builds this dataframe with each pass.\n",
    "\n",
    "runScripts lets use define the database connection profiles we want to run against, the scripts to run, and now many times to repeat the runs for each profile and for each script."
   ]
  },
  {
   "cell_type": "code",
   "execution_count": 22,
   "metadata": {},
   "outputs": [
    {
     "name": "stdout",
     "output_type": "stream",
     "text": [
      "appendResults routine defined\n"
     ]
    }
   ],
   "source": [
    "# This routine builds up a Data Frame containing the run results as we run workloads across databases\n",
    "def appendResults(df, profile, json) :\n",
    "    \n",
    "    error = ''\n",
    "    rows = 0\n",
    "    if 'error' in json :\n",
    "        print('SQL Service Failed')\n",
    "    else :\n",
    "        for results in json['results']:\n",
    "            if 'error' in results : \n",
    "                error = results['error']\n",
    "            if 'rows_affected' in results : \n",
    "                rows = results['rows_affected']\n",
    "            df = df.append({'profile':profile,'index':results['index'], 'statement':results['command'], 'error':error, 'rows_affected': rows, 'runtime_ms':(results['runtime_seconds']*1000)}, ignore_index=True)\n",
    "        return df\n",
    "print('appendResults routine defined')"
   ]
  },
  {
   "cell_type": "code",
   "execution_count": 23,
   "metadata": {},
   "outputs": [
    {
     "name": "stdout",
     "output_type": "stream",
     "text": [
      "runScripts routine defined\n"
     ]
    }
   ],
   "source": [
    "# This routine runs multistatment scripts across multiple databases. \n",
    "# The scripts are run repeatedly for each profile (database)\n",
    "def runScripts(profileList, scriptList, user, password, profileReps, scriptReps) :\n",
    "\n",
    "    df = pd.DataFrame(columns=['profile', 'index', 'statement', 'error', 'rows_affected', 'runtime_ms'])\n",
    "    \n",
    "    for x in range(0, profileReps):\n",
    "        print(\"Running repetition: \"+str(x))\n",
    "        for profile in profileList :\n",
    "            print(\"  Running scripts against: \"+profile)\n",
    "            for y in range(0, scriptReps) :\n",
    "                print(\"    Running script repetition: \"+str(y))\n",
    "                for script in scriptList :\n",
    "                    json = runSQL(profile, user, password, script)\n",
    "                    while 'errors' in json:\n",
    "                        print('    * Trying again *')\n",
    "                        json = runSQL(profile, user, password, script)\n",
    "                    df = appendResults(df, profile, json)\n",
    "                        \n",
    "    return df\n",
    "print('runScripts routine defined')"
   ]
  },
  {
   "cell_type": "code",
   "execution_count": 24,
   "metadata": {},
   "outputs": [],
   "source": [
    "# Retrieve the current package cache list \n",
    "# Show the first ten as sorted by the statement execution time\n",
    "def getCurrentPackageCacheListDF(profile) :\n",
    "    databaseAPI.authenticate(user, password, profile)\n",
    "    r = databaseAPI.getCurrentPackageCacheList(\"false\")\n",
    "    if (databaseAPI.getStatusCode(r)==200):\n",
    "        json = databaseAPI.getJSON(r)\n",
    "        if json['count'] > 0:  \n",
    "            df = pd.DataFrame(json_normalize(json['resources']))\n",
    "            df = df.sort_values(by='stmt_exec_time_ms', ascending=False)\n",
    "            return df\n",
    "        else: \n",
    "            print('No data returned') \n",
    "            return pd.DataFrame()\n",
    "    else:\n",
    "        print(databaseAPI.getStatusCode(r))"
   ]
  },
  {
   "cell_type": "markdown",
   "metadata": {},
   "source": [
    "The next cell loops through a list of databases as well as a list of scripts and run then repeatedly. You an set the number of times the scripts are run against each database and the number of times the runs against both databases is repeated."
   ]
  },
  {
   "cell_type": "code",
   "execution_count": 25,
   "metadata": {},
   "outputs": [
    {
     "name": "stdout",
     "output_type": "stream",
     "text": [
      "Running repetition: 0\n",
      "  Running scripts against: SAMPLE\n",
      "    Running script repetition: 0\n",
      "    Running script repetition: 1\n",
      "    Running script repetition: 2\n",
      "    Running script repetition: 3\n",
      "  Running scripts against: HISTORY\n",
      "    Running script repetition: 0\n",
      "    Running script repetition: 1\n",
      "    * Trying again *\n",
      "    * Trying again *\n",
      "    Running script repetition: 2\n",
      "    Running script repetition: 3\n",
      "Running repetition: 1\n",
      "  Running scripts against: SAMPLE\n",
      "    Running script repetition: 0\n",
      "    Running script repetition: 1\n",
      "    Running script repetition: 2\n",
      "    Running script repetition: 3\n",
      "  Running scripts against: HISTORY\n",
      "    Running script repetition: 0\n",
      "    Running script repetition: 1\n",
      "    Running script repetition: 2\n",
      "    Running script repetition: 3\n",
      "    * Trying again *\n"
     ]
    },
    {
     "data": {
      "text/html": [
       "<div>\n",
       "<style scoped>\n",
       "    .dataframe tbody tr th:only-of-type {\n",
       "        vertical-align: middle;\n",
       "    }\n",
       "\n",
       "    .dataframe tbody tr th {\n",
       "        vertical-align: top;\n",
       "    }\n",
       "\n",
       "    .dataframe thead th {\n",
       "        text-align: right;\n",
       "    }\n",
       "</style>\n",
       "<table border=\"1\" class=\"dataframe\">\n",
       "  <thead>\n",
       "    <tr style=\"text-align: right;\">\n",
       "      <th></th>\n",
       "      <th>profile</th>\n",
       "      <th>index</th>\n",
       "      <th>statement</th>\n",
       "      <th>error</th>\n",
       "      <th>rows_affected</th>\n",
       "      <th>runtime_ms</th>\n",
       "    </tr>\n",
       "  </thead>\n",
       "  <tbody>\n",
       "    <tr>\n",
       "      <td>0</td>\n",
       "      <td>SAMPLE</td>\n",
       "      <td>0</td>\n",
       "      <td>WITH SALARYBY (DEPTNO, TOTAL) AS\\n    (SELECT ...</td>\n",
       "      <td></td>\n",
       "      <td>0</td>\n",
       "      <td>360.000014</td>\n",
       "    </tr>\n",
       "    <tr>\n",
       "      <td>1</td>\n",
       "      <td>SAMPLE</td>\n",
       "      <td>0</td>\n",
       "      <td>SELECT DEPT.DEPTNO DNO, SUM(FLOAT(EMP.SALARY))...</td>\n",
       "      <td></td>\n",
       "      <td>0</td>\n",
       "      <td>266.999990</td>\n",
       "    </tr>\n",
       "    <tr>\n",
       "      <td>2</td>\n",
       "      <td>SAMPLE</td>\n",
       "      <td>1</td>\n",
       "      <td>SELECT DEPT.DEPTNO DNO, SUM(FLOAT(EMP.SALARY))...</td>\n",
       "      <td></td>\n",
       "      <td>0</td>\n",
       "      <td>726.999998</td>\n",
       "    </tr>\n",
       "    <tr>\n",
       "      <td>3</td>\n",
       "      <td>SAMPLE</td>\n",
       "      <td>2</td>\n",
       "      <td>SELECT DEPT.DEPTNO, DEPT.REVENUE\\n  FROM DEPAR...</td>\n",
       "      <td></td>\n",
       "      <td>0</td>\n",
       "      <td>4.000000</td>\n",
       "    </tr>\n",
       "    <tr>\n",
       "      <td>4</td>\n",
       "      <td>SAMPLE</td>\n",
       "      <td>0</td>\n",
       "      <td>WITH SALARYBY (DEPTNO, TOTAL) AS\\n    (SELECT ...</td>\n",
       "      <td></td>\n",
       "      <td>0</td>\n",
       "      <td>328.999996</td>\n",
       "    </tr>\n",
       "    <tr>\n",
       "      <td>...</td>\n",
       "      <td>...</td>\n",
       "      <td>...</td>\n",
       "      <td>...</td>\n",
       "      <td>...</td>\n",
       "      <td>...</td>\n",
       "      <td>...</td>\n",
       "    </tr>\n",
       "    <tr>\n",
       "      <td>59</td>\n",
       "      <td>HISTORY</td>\n",
       "      <td>2</td>\n",
       "      <td>SELECT DEPT.DEPTNO, DEPT.REVENUE\\n  FROM DEPAR...</td>\n",
       "      <td></td>\n",
       "      <td>0</td>\n",
       "      <td>0.000000</td>\n",
       "    </tr>\n",
       "    <tr>\n",
       "      <td>60</td>\n",
       "      <td>HISTORY</td>\n",
       "      <td>0</td>\n",
       "      <td>WITH SALARYBY (DEPTNO, TOTAL) AS\\n    (SELECT ...</td>\n",
       "      <td></td>\n",
       "      <td>0</td>\n",
       "      <td>108.000003</td>\n",
       "    </tr>\n",
       "    <tr>\n",
       "      <td>61</td>\n",
       "      <td>HISTORY</td>\n",
       "      <td>0</td>\n",
       "      <td>SELECT DEPT.DEPTNO DNO, SUM(FLOAT(EMP.SALARY))...</td>\n",
       "      <td></td>\n",
       "      <td>0</td>\n",
       "      <td>500.000000</td>\n",
       "    </tr>\n",
       "    <tr>\n",
       "      <td>62</td>\n",
       "      <td>HISTORY</td>\n",
       "      <td>1</td>\n",
       "      <td>SELECT DEPT.DEPTNO DNO, SUM(FLOAT(EMP.SALARY))...</td>\n",
       "      <td></td>\n",
       "      <td>0</td>\n",
       "      <td>79.000004</td>\n",
       "    </tr>\n",
       "    <tr>\n",
       "      <td>63</td>\n",
       "      <td>HISTORY</td>\n",
       "      <td>2</td>\n",
       "      <td>SELECT DEPT.DEPTNO, DEPT.REVENUE\\n  FROM DEPAR...</td>\n",
       "      <td></td>\n",
       "      <td>0</td>\n",
       "      <td>2.000000</td>\n",
       "    </tr>\n",
       "  </tbody>\n",
       "</table>\n",
       "<p>64 rows × 6 columns</p>\n",
       "</div>"
      ],
      "text/plain": [
       "    profile index                                          statement error  \\\n",
       "0    SAMPLE     0  WITH SALARYBY (DEPTNO, TOTAL) AS\\n    (SELECT ...         \n",
       "1    SAMPLE     0  SELECT DEPT.DEPTNO DNO, SUM(FLOAT(EMP.SALARY))...         \n",
       "2    SAMPLE     1  SELECT DEPT.DEPTNO DNO, SUM(FLOAT(EMP.SALARY))...         \n",
       "3    SAMPLE     2  SELECT DEPT.DEPTNO, DEPT.REVENUE\\n  FROM DEPAR...         \n",
       "4    SAMPLE     0  WITH SALARYBY (DEPTNO, TOTAL) AS\\n    (SELECT ...         \n",
       "..      ...   ...                                                ...   ...   \n",
       "59  HISTORY     2  SELECT DEPT.DEPTNO, DEPT.REVENUE\\n  FROM DEPAR...         \n",
       "60  HISTORY     0  WITH SALARYBY (DEPTNO, TOTAL) AS\\n    (SELECT ...         \n",
       "61  HISTORY     0  SELECT DEPT.DEPTNO DNO, SUM(FLOAT(EMP.SALARY))...         \n",
       "62  HISTORY     1  SELECT DEPT.DEPTNO DNO, SUM(FLOAT(EMP.SALARY))...         \n",
       "63  HISTORY     2  SELECT DEPT.DEPTNO, DEPT.REVENUE\\n  FROM DEPAR...         \n",
       "\n",
       "   rows_affected  runtime_ms  \n",
       "0              0  360.000014  \n",
       "1              0  266.999990  \n",
       "2              0  726.999998  \n",
       "3              0    4.000000  \n",
       "4              0  328.999996  \n",
       "..           ...         ...  \n",
       "59             0    0.000000  \n",
       "60             0  108.000003  \n",
       "61             0  500.000000  \n",
       "62             0   79.000004  \n",
       "63             0    2.000000  \n",
       "\n",
       "[64 rows x 6 columns]"
      ]
     },
     "metadata": {},
     "output_type": "display_data"
    }
   ],
   "source": [
    "profileList = ['SAMPLE','HISTORY']\n",
    "scriptList = [sqlScriptWorkload1, sqlScriptWorkload2]\n",
    "user = 'DB2INST1'\n",
    "password = 'db2inst1'\n",
    "profileReps = 2\n",
    "scriptReps = 4\n",
    "\n",
    "df = runScripts(profileList, scriptList, user, password, profileReps, scriptReps)\n",
    "\n",
    "display(df)"
   ]
  },
  {
   "cell_type": "markdown",
   "metadata": {},
   "source": [
    "Now lets get the contents of the package cache from both databases. You can compare the package cache measurement to your actual runtimes. If you wait too long between your run and when you check the package cache your statements may have already been pushed out of the package cache. You can always try the test run in the cell above again."
   ]
  },
  {
   "cell_type": "code",
   "execution_count": 26,
   "metadata": {},
   "outputs": [
    {
     "name": "stdout",
     "output_type": "stream",
     "text": [
      "Profile: SAMPLE\n"
     ]
    },
    {
     "data": {
      "text/html": [
       "<div>\n",
       "<style scoped>\n",
       "    .dataframe tbody tr th:only-of-type {\n",
       "        vertical-align: middle;\n",
       "    }\n",
       "\n",
       "    .dataframe tbody tr th {\n",
       "        vertical-align: top;\n",
       "    }\n",
       "\n",
       "    .dataframe thead th {\n",
       "        text-align: right;\n",
       "    }\n",
       "</style>\n",
       "<table border=\"1\" class=\"dataframe\">\n",
       "  <thead>\n",
       "    <tr style=\"text-align: right;\">\n",
       "      <th></th>\n",
       "      <th>stmt_text</th>\n",
       "      <th>stmt_exec_time_ms</th>\n",
       "      <th>stmtid</th>\n",
       "    </tr>\n",
       "  </thead>\n",
       "  <tbody>\n",
       "    <tr>\n",
       "      <td>12</td>\n",
       "      <td>SELECT DEPT.DEPTNO DNO, SUM(FLOAT(EMP.SALARY))...</td>\n",
       "      <td>4910</td>\n",
       "      <td>-1087111204057320405</td>\n",
       "    </tr>\n",
       "    <tr>\n",
       "      <td>2</td>\n",
       "      <td>WITH SALARYBY (DEPTNO, TOTAL) AS (SELECT DEPT....</td>\n",
       "      <td>346</td>\n",
       "      <td>2635305026549059699</td>\n",
       "    </tr>\n",
       "    <tr>\n",
       "      <td>7</td>\n",
       "      <td>INSERT INTO SYSTOOLS.ADMINTASKS       (NAME, O...</td>\n",
       "      <td>7</td>\n",
       "      <td>-5571932961183795009</td>\n",
       "    </tr>\n",
       "    <tr>\n",
       "      <td>15</td>\n",
       "      <td>SELECT MAX(POSSTR(D_USER || D_GROUP || D_PUBLI...</td>\n",
       "      <td>4</td>\n",
       "      <td>-5288211380747054176</td>\n",
       "    </tr>\n",
       "    <tr>\n",
       "      <td>4</td>\n",
       "      <td>SELECT DEPT.DEPTNO, DEPT.REVENUE FROM DEPARTME...</td>\n",
       "      <td>2</td>\n",
       "      <td>-6291622876202073758</td>\n",
       "    </tr>\n",
       "    <tr>\n",
       "      <td>11</td>\n",
       "      <td>SELECT VALID INTO :H00030 FROM SYSCAT.VIEWS WH...</td>\n",
       "      <td>2</td>\n",
       "      <td>-4153226471511106674</td>\n",
       "    </tr>\n",
       "    <tr>\n",
       "      <td>9</td>\n",
       "      <td>SELECT OWNER, OWNERTYPE INTO :H00003 , :H00004...</td>\n",
       "      <td>1</td>\n",
       "      <td>4740668028373057270</td>\n",
       "    </tr>\n",
       "    <tr>\n",
       "      <td>17</td>\n",
       "      <td>VALUES (SELECT BOUNDBY FROM SYSCAT.PACKAGES   ...</td>\n",
       "      <td>1</td>\n",
       "      <td>8839810961097546076</td>\n",
       "    </tr>\n",
       "    <tr>\n",
       "      <td>5</td>\n",
       "      <td>call SYSIBM.SQLCAMESSAGECCSID(?,?,?,?,?,?,?,?,...</td>\n",
       "      <td>1</td>\n",
       "      <td>8110287721056492873</td>\n",
       "    </tr>\n",
       "    <tr>\n",
       "      <td>3</td>\n",
       "      <td>SELECT VALUE INTO :H00019 FROM SYSIBMADM.DBCFG...</td>\n",
       "      <td>1</td>\n",
       "      <td>5248569807767203954</td>\n",
       "    </tr>\n",
       "    <tr>\n",
       "      <td>8</td>\n",
       "      <td>DELETE FROM SYSTOOLS.ADMINTASKS WHERE         ...</td>\n",
       "      <td>0</td>\n",
       "      <td>6813762244623274112</td>\n",
       "    </tr>\n",
       "    <tr>\n",
       "      <td>1</td>\n",
       "      <td>SELECT TASKID INTO :H00005        FROM SYSTOOL...</td>\n",
       "      <td>0</td>\n",
       "      <td>-2476332659559803522</td>\n",
       "    </tr>\n",
       "    <tr>\n",
       "      <td>10</td>\n",
       "      <td>SELECT TASKID INTO :H00005        FROM SYSTOOL...</td>\n",
       "      <td>0</td>\n",
       "      <td>-2476332659559803522</td>\n",
       "    </tr>\n",
       "    <tr>\n",
       "      <td>6</td>\n",
       "      <td>DELETE FROM SYSTOOLS.ADMINTASKSTATUS WHERE    ...</td>\n",
       "      <td>0</td>\n",
       "      <td>2454009649317803899</td>\n",
       "    </tr>\n",
       "    <tr>\n",
       "      <td>13</td>\n",
       "      <td>VALUES (SESSION_USER) INTO :H00051</td>\n",
       "      <td>0</td>\n",
       "      <td>3394202530487568767</td>\n",
       "    </tr>\n",
       "    <tr>\n",
       "      <td>14</td>\n",
       "      <td>DECLARE TASKS1 CURSOR FOR         SELECT TASKI...</td>\n",
       "      <td>0</td>\n",
       "      <td>-2690808192854394350</td>\n",
       "    </tr>\n",
       "    <tr>\n",
       "      <td>16</td>\n",
       "      <td>SELECT COUNT(*) INTO :H00055 FROM SYSTOOLS.ADM...</td>\n",
       "      <td>0</td>\n",
       "      <td>2637235918716894068</td>\n",
       "    </tr>\n",
       "    <tr>\n",
       "      <td>0</td>\n",
       "      <td>VALUES (CURRENT TIMESTAMP - CAST (? AS INT) SE...</td>\n",
       "      <td>0</td>\n",
       "      <td>8596665776586647237</td>\n",
       "    </tr>\n",
       "  </tbody>\n",
       "</table>\n",
       "</div>"
      ],
      "text/plain": [
       "                                            stmt_text  stmt_exec_time_ms  \\\n",
       "12  SELECT DEPT.DEPTNO DNO, SUM(FLOAT(EMP.SALARY))...               4910   \n",
       "2   WITH SALARYBY (DEPTNO, TOTAL) AS (SELECT DEPT....                346   \n",
       "7   INSERT INTO SYSTOOLS.ADMINTASKS       (NAME, O...                  7   \n",
       "15  SELECT MAX(POSSTR(D_USER || D_GROUP || D_PUBLI...                  4   \n",
       "4   SELECT DEPT.DEPTNO, DEPT.REVENUE FROM DEPARTME...                  2   \n",
       "11  SELECT VALID INTO :H00030 FROM SYSCAT.VIEWS WH...                  2   \n",
       "9   SELECT OWNER, OWNERTYPE INTO :H00003 , :H00004...                  1   \n",
       "17  VALUES (SELECT BOUNDBY FROM SYSCAT.PACKAGES   ...                  1   \n",
       "5   call SYSIBM.SQLCAMESSAGECCSID(?,?,?,?,?,?,?,?,...                  1   \n",
       "3   SELECT VALUE INTO :H00019 FROM SYSIBMADM.DBCFG...                  1   \n",
       "8   DELETE FROM SYSTOOLS.ADMINTASKS WHERE         ...                  0   \n",
       "1   SELECT TASKID INTO :H00005        FROM SYSTOOL...                  0   \n",
       "10  SELECT TASKID INTO :H00005        FROM SYSTOOL...                  0   \n",
       "6   DELETE FROM SYSTOOLS.ADMINTASKSTATUS WHERE    ...                  0   \n",
       "13                 VALUES (SESSION_USER) INTO :H00051                  0   \n",
       "14  DECLARE TASKS1 CURSOR FOR         SELECT TASKI...                  0   \n",
       "16  SELECT COUNT(*) INTO :H00055 FROM SYSTOOLS.ADM...                  0   \n",
       "0   VALUES (CURRENT TIMESTAMP - CAST (? AS INT) SE...                  0   \n",
       "\n",
       "                  stmtid  \n",
       "12  -1087111204057320405  \n",
       "2    2635305026549059699  \n",
       "7   -5571932961183795009  \n",
       "15  -5288211380747054176  \n",
       "4   -6291622876202073758  \n",
       "11  -4153226471511106674  \n",
       "9    4740668028373057270  \n",
       "17   8839810961097546076  \n",
       "5    8110287721056492873  \n",
       "3    5248569807767203954  \n",
       "8    6813762244623274112  \n",
       "1   -2476332659559803522  \n",
       "10  -2476332659559803522  \n",
       "6    2454009649317803899  \n",
       "13   3394202530487568767  \n",
       "14  -2690808192854394350  \n",
       "16   2637235918716894068  \n",
       "0    8596665776586647237  "
      ]
     },
     "metadata": {},
     "output_type": "display_data"
    },
    {
     "name": "stdout",
     "output_type": "stream",
     "text": [
      "Profile: HISTORY\n"
     ]
    },
    {
     "data": {
      "text/html": [
       "<div>\n",
       "<style scoped>\n",
       "    .dataframe tbody tr th:only-of-type {\n",
       "        vertical-align: middle;\n",
       "    }\n",
       "\n",
       "    .dataframe tbody tr th {\n",
       "        vertical-align: top;\n",
       "    }\n",
       "\n",
       "    .dataframe thead th {\n",
       "        text-align: right;\n",
       "    }\n",
       "</style>\n",
       "<table border=\"1\" class=\"dataframe\">\n",
       "  <thead>\n",
       "    <tr style=\"text-align: right;\">\n",
       "      <th></th>\n",
       "      <th>stmt_text</th>\n",
       "      <th>stmt_exec_time_ms</th>\n",
       "      <th>stmtid</th>\n",
       "    </tr>\n",
       "  </thead>\n",
       "  <tbody>\n",
       "    <tr>\n",
       "      <td>7</td>\n",
       "      <td>SELECT DEPT.DEPTNO DNO, SUM(FLOAT(EMP.SALARY))...</td>\n",
       "      <td>2659</td>\n",
       "      <td>-1087111204057320405</td>\n",
       "    </tr>\n",
       "    <tr>\n",
       "      <td>1</td>\n",
       "      <td>WITH SALARYBY (DEPTNO, TOTAL) AS (SELECT DEPT....</td>\n",
       "      <td>1387</td>\n",
       "      <td>2635305026549059699</td>\n",
       "    </tr>\n",
       "    <tr>\n",
       "      <td>3</td>\n",
       "      <td>SELECT DEPT.DEPTNO, DEPT.REVENUE FROM DEPARTME...</td>\n",
       "      <td>1</td>\n",
       "      <td>-6291622876202073758</td>\n",
       "    </tr>\n",
       "    <tr>\n",
       "      <td>6</td>\n",
       "      <td>SELECT TABSCHEMA, TABNAME, PROPERTY FROM SYSCA...</td>\n",
       "      <td>1</td>\n",
       "      <td>2001190231133714730</td>\n",
       "    </tr>\n",
       "    <tr>\n",
       "      <td>0</td>\n",
       "      <td>VALUES (CURRENT TIMESTAMP - CAST (? AS INT) SE...</td>\n",
       "      <td>0</td>\n",
       "      <td>8596665776586647237</td>\n",
       "    </tr>\n",
       "    <tr>\n",
       "      <td>2</td>\n",
       "      <td>SELECT VALUE INTO :H00019 FROM SYSIBMADM.DBCFG...</td>\n",
       "      <td>0</td>\n",
       "      <td>5248569807767203954</td>\n",
       "    </tr>\n",
       "    <tr>\n",
       "      <td>4</td>\n",
       "      <td>SELECT OWNER, OWNERTYPE INTO :H00003 , :H00004...</td>\n",
       "      <td>0</td>\n",
       "      <td>4740668028373057270</td>\n",
       "    </tr>\n",
       "    <tr>\n",
       "      <td>5</td>\n",
       "      <td>SELECT VALID INTO :H00030 FROM SYSCAT.VIEWS WH...</td>\n",
       "      <td>0</td>\n",
       "      <td>-4153226471511106674</td>\n",
       "    </tr>\n",
       "    <tr>\n",
       "      <td>8</td>\n",
       "      <td>VALUES (SESSION_USER) INTO :H00051</td>\n",
       "      <td>0</td>\n",
       "      <td>3394202530487568767</td>\n",
       "    </tr>\n",
       "    <tr>\n",
       "      <td>9</td>\n",
       "      <td>CREATE TABLE DEPARTMENTS (DEPTNO INTEGER, DEPT...</td>\n",
       "      <td>0</td>\n",
       "      <td>-1041783843310298517</td>\n",
       "    </tr>\n",
       "    <tr>\n",
       "      <td>10</td>\n",
       "      <td>SELECT MAX(POSSTR(D_USER || D_GROUP || D_PUBLI...</td>\n",
       "      <td>0</td>\n",
       "      <td>-5288211380747054176</td>\n",
       "    </tr>\n",
       "    <tr>\n",
       "      <td>11</td>\n",
       "      <td>CREATE TABLE EMPLOYEES (ENO INTEGER, DEPTNO IN...</td>\n",
       "      <td>0</td>\n",
       "      <td>7215293786307695799</td>\n",
       "    </tr>\n",
       "    <tr>\n",
       "      <td>12</td>\n",
       "      <td>VALUES (SELECT BOUNDBY FROM SYSCAT.PACKAGES   ...</td>\n",
       "      <td>0</td>\n",
       "      <td>8839810961097546076</td>\n",
       "    </tr>\n",
       "  </tbody>\n",
       "</table>\n",
       "</div>"
      ],
      "text/plain": [
       "                                            stmt_text  stmt_exec_time_ms  \\\n",
       "7   SELECT DEPT.DEPTNO DNO, SUM(FLOAT(EMP.SALARY))...               2659   \n",
       "1   WITH SALARYBY (DEPTNO, TOTAL) AS (SELECT DEPT....               1387   \n",
       "3   SELECT DEPT.DEPTNO, DEPT.REVENUE FROM DEPARTME...                  1   \n",
       "6   SELECT TABSCHEMA, TABNAME, PROPERTY FROM SYSCA...                  1   \n",
       "0   VALUES (CURRENT TIMESTAMP - CAST (? AS INT) SE...                  0   \n",
       "2   SELECT VALUE INTO :H00019 FROM SYSIBMADM.DBCFG...                  0   \n",
       "4   SELECT OWNER, OWNERTYPE INTO :H00003 , :H00004...                  0   \n",
       "5   SELECT VALID INTO :H00030 FROM SYSCAT.VIEWS WH...                  0   \n",
       "8                  VALUES (SESSION_USER) INTO :H00051                  0   \n",
       "9   CREATE TABLE DEPARTMENTS (DEPTNO INTEGER, DEPT...                  0   \n",
       "10  SELECT MAX(POSSTR(D_USER || D_GROUP || D_PUBLI...                  0   \n",
       "11  CREATE TABLE EMPLOYEES (ENO INTEGER, DEPTNO IN...                  0   \n",
       "12  VALUES (SELECT BOUNDBY FROM SYSCAT.PACKAGES   ...                  0   \n",
       "\n",
       "                  stmtid  \n",
       "7   -1087111204057320405  \n",
       "1    2635305026549059699  \n",
       "3   -6291622876202073758  \n",
       "6    2001190231133714730  \n",
       "0    8596665776586647237  \n",
       "2    5248569807767203954  \n",
       "4    4740668028373057270  \n",
       "5   -4153226471511106674  \n",
       "8    3394202530487568767  \n",
       "9   -1041783843310298517  \n",
       "10  -5288211380747054176  \n",
       "11   7215293786307695799  \n",
       "12   8839810961097546076  "
      ]
     },
     "metadata": {},
     "output_type": "display_data"
    }
   ],
   "source": [
    "for profile in profileList:\n",
    "    print('Profile: '+profile)\n",
    "    packageCacheDF = getCurrentPackageCacheListDF(profile)\n",
    "    if packageCacheDF.empty == True :\n",
    "        print(\"No statements in the package cache\")\n",
    "    else :\n",
    "        display(packageCacheDF[['stmt_text','stmt_exec_time_ms','stmtid']])"
   ]
  },
  {
   "cell_type": "markdown",
   "metadata": {},
   "source": [
    "### Analyze Results\n",
    "Now we can use the results in the dataframe to look at the results statistically. First we can see the average runtime for each statement across the databases."
   ]
  },
  {
   "cell_type": "code",
   "execution_count": 27,
   "metadata": {},
   "outputs": [
    {
     "name": "stdout",
     "output_type": "stream",
     "text": [
      "Mean runtime in ms\n",
      "                                                                                                      runtime_ms\n",
      "statement                                                                                                       \n",
      "SELECT DEPT.DEPTNO DNO, SUM(FLOAT(EMP.SALARY)) TOTAL_SALARY\\n  FROM EMPLOYEES EMP, DEPARTMENTS DE...  261.937498\n",
      "SELECT DEPT.DEPTNO DNO, SUM(FLOAT(EMP.SALARY)) TOTAL_SALARY\\n  FROM EMPLOYEES EMP, DEPARTMENTS DE...  326.937496\n",
      "SELECT DEPT.DEPTNO, DEPT.REVENUE\\n  FROM DEPARTMENTS DEPT WHERE DEPT.REVENUE > 450000000                2.312500\n",
      "WITH SALARYBY (DEPTNO, TOTAL) AS\\n    (SELECT DEPT.DEPTNO DNO, SUM(BIGINT(EMP.SALARY)) TOTAL_SALA...  285.187503\n"
     ]
    }
   ],
   "source": [
    "print('Mean runtime in ms')\n",
    "pd.set_option('display.max_colwidth', 100)\n",
    "stmtMean = df.groupby(['statement']).mean()\n",
    "print(stmtMean)"
   ]
  },
  {
   "cell_type": "markdown",
   "metadata": {},
   "source": [
    "We can also display the total runtime for each statement across databases."
   ]
  },
  {
   "cell_type": "code",
   "execution_count": 28,
   "metadata": {},
   "outputs": [
    {
     "name": "stdout",
     "output_type": "stream",
     "text": [
      "Total runtime in ms\n",
      "                                                                                                       runtime_ms\n",
      "statement                                                                                                        \n",
      "SELECT DEPT.DEPTNO DNO, SUM(FLOAT(EMP.SALARY)) TOTAL_SALARY\\n  FROM EMPLOYEES EMP, DEPARTMENTS DE...  4190.999970\n",
      "SELECT DEPT.DEPTNO DNO, SUM(FLOAT(EMP.SALARY)) TOTAL_SALARY\\n  FROM EMPLOYEES EMP, DEPARTMENTS DE...  5230.999932\n",
      "SELECT DEPT.DEPTNO, DEPT.REVENUE\\n  FROM DEPARTMENTS DEPT WHERE DEPT.REVENUE > 450000000                37.000001\n",
      "WITH SALARYBY (DEPTNO, TOTAL) AS\\n    (SELECT DEPT.DEPTNO DNO, SUM(BIGINT(EMP.SALARY)) TOTAL_SALA...  4563.000053\n"
     ]
    }
   ],
   "source": [
    "print('Total runtime in ms')\n",
    "pd.set_option('display.max_colwidth', 100)\n",
    "stmtSum = df.groupby(['statement']).sum()\n",
    "print(stmtSum)"
   ]
  },
  {
   "cell_type": "markdown",
   "metadata": {},
   "source": [
    "We can even graph the total run time for all the statements can compare database performance. Since there are more rows in the employees table in the SAMPLE database it takes longer for the queries to run."
   ]
  },
  {
   "cell_type": "code",
   "execution_count": 29,
   "metadata": {},
   "outputs": [
    {
     "name": "stdout",
     "output_type": "stream",
     "text": [
      "Mean runtime in ms\n"
     ]
    },
    {
     "data": {
      "image/png": "[encoded data removed]",
      "text/plain": [
       "<Figure size 432x288 with 1 Axes>"
      ]
     },
     "metadata": {
      "needs_background": "light"
     },
     "output_type": "display_data"
    }
   ],
   "source": [
    "print('Mean runtime in ms')\n",
    "pd.set_option('display.max_colwidth', 100)\n",
    "profileSum = df.groupby(['profile']).sum()\n",
    "profileSum.plot(kind='bar')\n",
    "plt.show()"
   ]
  },
  {
   "cell_type": "markdown",
   "metadata": {},
   "source": [
    "You can also use the Db2 Data Management Console directly to look at the package cache and the package cache history.\n",
    "\n",
    "Run the following cell and log in using **DB2INST1** as the userid and password. The cell calls the console as a micro-service and includes part of the live user interface into a IFrame directly in this notebook.\n",
    "\n",
    "Change the timeframe from **Latest** to **Last 1 hour** so you can see a history of package cache monitoring."
   ]
  },
  {
   "cell_type": "code",
   "execution_count": 30,
   "metadata": {},
   "outputs": [
    {
     "name": "stdout",
     "output_type": "stream",
     "text": [
      "http://localhost:11080/console/?mode=compact#monitor/package_cache?profile=SAMPLE\n"
     ]
    },
    {
     "data": {
      "text/html": [
       "\n",
       "        <iframe\n",
       "            width=\"1400\"\n",
       "            height=\"500\"\n",
       "            src=\"http://localhost:11080/console/?mode=compact#monitor/package_cache?profile=SAMPLE\"\n",
       "            frameborder=\"0\"\n",
       "            allowfullscreen\n",
       "        ></iframe>\n",
       "        "
      ],
      "text/plain": [
       "<IPython.lib.display.IFrame at 0x7f2ac3520510>"
      ]
     },
     "execution_count": 30,
     "metadata": {},
     "output_type": "execute_result"
    }
   ],
   "source": [
    "URL = database+'/console/?mode=compact#monitor/package_cache'+profileURL\n",
    "print(URL)\n",
    "IFrame(URL, width=1400, height=500)"
   ]
  },
  {
   "cell_type": "markdown",
   "metadata": {},
   "source": [
    "## Analyze a Single Statement\n",
    "You can identify the slowest SQL statement and the slowest database to focus your attention. The next two cells will to that by scanning through our previous results."
   ]
  },
  {
   "cell_type": "code",
   "execution_count": 31,
   "metadata": {},
   "outputs": [
    {
     "name": "stdout",
     "output_type": "stream",
     "text": [
      "Slowest SQL Statement\n",
      "SELECT DEPT.DEPTNO DNO, SUM(FLOAT(EMP.SALARY)) TOTAL_SALARY\n",
      "  FROM EMPLOYEES EMP, DEPARTMENTS DEPT \n",
      "  WHERE DEPT.DEPTNO = EMP.DEPTNO \n",
      "      AND EMP.SALARY < 50000\n",
      "      AND YEAR(EMP.HIREDATA) > 2010\n",
      "  GROUP BY DEPT.DEPTNO\n",
      "  ORDER BY DNO\n"
     ]
    }
   ],
   "source": [
    "print('Slowest SQL Statement')\n",
    "slowestSQL = stmtSum['runtime_ms'].idxmax()\n",
    "print(slowestSQL)"
   ]
  },
  {
   "cell_type": "code",
   "execution_count": 32,
   "metadata": {},
   "outputs": [
    {
     "name": "stdout",
     "output_type": "stream",
     "text": [
      "Slowest Database\n",
      "SAMPLE\n"
     ]
    }
   ],
   "source": [
    "print('Slowest Database')\n",
    "slowestProfile = profileSum['runtime_ms'].idxmax()\n",
    "print(slowestProfile)"
   ]
  },
  {
   "cell_type": "markdown",
   "metadata": {},
   "source": [
    "A very powerful tool that you can include directly into your notebook is Visual Explain. Just like being able to explore the package cache history you can call the micro-service that provides a live intertive interface. In this example we will take the slowest statment on the slowest database and explain the statement. \n",
    "\n",
    "**3.1.1 Note:** Unfortunately there was a regression in ability to call this function directly through a URL. It is supported in 3.1 and will be addressed in 3.1.2. If you are currently using 3.1.1 please copy the SQL statement above, copy it into the Db2 Console SQL Editor and select the Visual Explain tool."
   ]
  },
  {
   "cell_type": "code",
   "execution_count": 33,
   "metadata": {},
   "outputs": [
    {
     "name": "stdout",
     "output_type": "stream",
     "text": [
      "http://localhost:11080/console/?mode=compact#sql/explain/create/SELECT * FROM SYSCAT.TABLES?profile=HISTORY\n"
     ]
    },
    {
     "data": {
      "text/html": [
       "\n",
       "        <iframe\n",
       "            width=\"1400\"\n",
       "            height=\"500\"\n",
       "            src=\"http://localhost:11080/console/?mode=compact#sql/explain/create/SELECT * FROM SYSCAT.TABLES?profile=HISTORY\"\n",
       "            frameborder=\"0\"\n",
       "            allowfullscreen\n",
       "        ></iframe>\n",
       "        "
      ],
      "text/plain": [
       "<IPython.lib.display.IFrame at 0x7f2ac3e5d1d0>"
      ]
     },
     "execution_count": 33,
     "metadata": {},
     "output_type": "execute_result"
    }
   ],
   "source": [
    "# Visually explain the access plan for an SQL Statement\n",
    "slowestProfile='HISTORY'\n",
    "slowestSQL='SELECT * FROM SYSCAT.TABLES'\n",
    "profileURL = \"?profile=\"+slowestProfile\n",
    "stmt = slowestSQL.replace('\\n', ' ').replace('\\r', '')\n",
    "URL = database+'/console/?mode=compact#sql/explain/create/'+stmt +profileURL\n",
    "print(URL)\n",
    "IFrame(URL, width=1400, height=500)"
   ]
  },
  {
   "cell_type": "markdown",
   "metadata": {},
   "source": [
    "### Comparing Results\n",
    "Now we can create indexes to see if we can improve the overall performance of the workloads. The next cell will create indexes on the SALARY column of the Employees table as well as the DEPTO of both the DEPARTMENTS and EMPLOYEES tables. We can also update statistics to make sure the optimizer has the best results to work with. "
   ]
  },
  {
   "cell_type": "code",
   "execution_count": 34,
   "metadata": {},
   "outputs": [
    {
     "name": "stdout",
     "output_type": "stream",
     "text": [
      "Creating Indexes for Profile: SAMPLE\n",
      "Statement: 0: CREATE INDEX ix_salary\n",
      "ON EMPLOYEES(SALARY)\n",
      "Runtime ms: 3967.9999351501465\n",
      "No errors. Row Affected: 0\n",
      "\n",
      "Statement: 1: CREATE INDEX ix_empdept\n",
      "ON EMPLOYEES(DEPTNO)\n",
      "Runtime ms: 2454.9999237060547\n",
      "No errors. Row Affected: 0\n",
      "\n",
      "Statement: 2: CREATE INDEX ix_dept\n",
      "ON DEPARTMENTS(DEPTNO)\n",
      "Runtime ms: 32.999999821186066\n",
      "No errors. Row Affected: 0\n",
      "\n",
      "Creating Indexes for Profile: HISTORY\n",
      "Statement: 0: CREATE INDEX ix_salary\n",
      "ON EMPLOYEES(SALARY)\n",
      "Runtime ms: 971.0000157356262\n",
      "No errors. Row Affected: 0\n",
      "\n",
      "Statement: 1: CREATE INDEX ix_empdept\n",
      "ON EMPLOYEES(DEPTNO)\n",
      "Runtime ms: 261.00000739097595\n",
      "No errors. Row Affected: 0\n",
      "\n",
      "Statement: 2: CREATE INDEX ix_dept\n",
      "ON DEPARTMENTS(DEPTNO)\n",
      "Runtime ms: 48.99999871850014\n",
      "No errors. Row Affected: 0\n",
      "\n",
      "done\n"
     ]
    }
   ],
   "source": [
    "createIndexes = \\\n",
    "'''\n",
    "CREATE INDEX ix_salary\n",
    "ON EMPLOYEES(SALARY);\n",
    "\n",
    "CREATE INDEX ix_empdept\n",
    "ON EMPLOYEES(DEPTNO);\n",
    "\n",
    "CREATE INDEX ix_dept\n",
    "ON DEPARTMENTS(DEPTNO);\n",
    "'''\n",
    "profileList = ['SAMPLE','HISTORY']\n",
    "scriptList = [createIndexes]\n",
    "user = 'DB2INST1'\n",
    "password = 'db2inst1'\n",
    "\n",
    "for profile in profileList :\n",
    "    print('Creating Indexes for Profile: '+profile)\n",
    "    for script in scriptList :\n",
    "        json = runSQL(profile, user, password, script)\n",
    "        displayResults(json)\n",
    "print('done')"
   ]
  },
  {
   "cell_type": "code",
   "execution_count": 35,
   "metadata": {},
   "outputs": [
    {
     "name": "stdout",
     "output_type": "stream",
     "text": [
      "Updating Statistics for Profile: SAMPLE\n",
      "Statement: 0: call sysproc.admin_cmd('RUNSTATS ON TABLE db2inst1.employees ON KEY COLUMNS and INDEXES ALL')\n",
      "Runtime ms: 547.9999780654907\n",
      "No errors. Row Affected: 0\n",
      "\n",
      "Statement: 1: call sysproc.admin_cmd('RUNSTATS ON TABLE db2inst1.departments ON KEY COLUMNS and INDEXES ALL')\n",
      "Runtime ms: 7.000000216066837\n",
      "No errors. Row Affected: 0\n",
      "\n",
      "Updating Statistics for Profile: HISTORY\n",
      "Statement: 0: call sysproc.admin_cmd('RUNSTATS ON TABLE db2inst1.employees ON KEY COLUMNS and INDEXES ALL')\n",
      "Runtime ms: 141.00000262260437\n",
      "No errors. Row Affected: 0\n",
      "\n",
      "Statement: 1: call sysproc.admin_cmd('RUNSTATS ON TABLE db2inst1.departments ON KEY COLUMNS and INDEXES ALL')\n",
      "Runtime ms: 7.000000216066837\n",
      "No errors. Row Affected: 0\n",
      "\n",
      "done\n"
     ]
    }
   ],
   "source": [
    "updateStats = \\\n",
    "'''\n",
    "call sysproc.admin_cmd('RUNSTATS ON TABLE db2inst1.employees ON KEY COLUMNS and INDEXES ALL');\n",
    "call sysproc.admin_cmd('RUNSTATS ON TABLE db2inst1.departments ON KEY COLUMNS and INDEXES ALL');\n",
    "'''\n",
    "profileList = ['SAMPLE','HISTORY']\n",
    "scriptList = [updateStats]\n",
    "user = 'DB2INST1'\n",
    "password = 'db2inst1'\n",
    "\n",
    "for profile in profileList :\n",
    "    print('Updating Statistics for Profile: '+profile)\n",
    "    for script in scriptList :\n",
    "        json = runSQL(profile, user, password, script)\n",
    "        displayResults(json)\n",
    "print('done')"
   ]
  },
  {
   "cell_type": "markdown",
   "metadata": {},
   "source": [
    "Lets see if visual explain predicts any improvements.\n",
    "\n",
    "**3.1.1 Note:** Unfortunately there was a regression in ability to call this function directly through a URL. It is supported in 3.1 and will be addressed in 3.1.2. If you are currently using 3.1.1 please rerun the visual explain analysis through the Db2 Console."
   ]
  },
  {
   "cell_type": "code",
   "execution_count": 36,
   "metadata": {},
   "outputs": [
    {
     "data": {
      "text/html": [
       "\n",
       "        <iframe\n",
       "            width=\"1400\"\n",
       "            height=\"480\"\n",
       "            src=\"http://localhost:11080/console/?mode=compact#sql/explain/create/SELECT * FROM SYSCAT.TABLES?profile=HISTORY\"\n",
       "            frameborder=\"0\"\n",
       "            allowfullscreen\n",
       "        ></iframe>\n",
       "        "
      ],
      "text/plain": [
       "<IPython.lib.display.IFrame at 0x7f2ac31a61d0>"
      ]
     },
     "execution_count": 36,
     "metadata": {},
     "output_type": "execute_result"
    }
   ],
   "source": [
    "# Visually explain the access plan for an SQL Statement\n",
    "slowestProfile='HISTORY'\n",
    "slowestSQL='SELECT * FROM SYSCAT.TABLES'\n",
    "profileURL = \"?profile=\"+slowestProfile\n",
    "stmt = slowestSQL.replace('\\n', ' ').replace('\\r', '')\n",
    "IFrame(database+'/console/?mode=compact#sql/explain/create/'+stmt +profileURL, width=1400, height=480)"
   ]
  },
  {
   "cell_type": "markdown",
   "metadata": {},
   "source": [
    "Now we will repeat the original workload performance run to see if there is a measureable difference in performance. "
   ]
  },
  {
   "cell_type": "code",
   "execution_count": 37,
   "metadata": {},
   "outputs": [
    {
     "name": "stdout",
     "output_type": "stream",
     "text": [
      "Running repetition: 0\n",
      "  Running scripts against: SAMPLE\n",
      "    Running script repetition: 0\n",
      "    Running script repetition: 1\n",
      "    Running script repetition: 2\n",
      "    Running script repetition: 3\n",
      "  Running scripts against: HISTORY\n",
      "    Running script repetition: 0\n",
      "    Running script repetition: 1\n",
      "    Running script repetition: 2\n",
      "    Running script repetition: 3\n",
      "Running repetition: 1\n",
      "  Running scripts against: SAMPLE\n",
      "    Running script repetition: 0\n",
      "    Running script repetition: 1\n",
      "    Running script repetition: 2\n",
      "    Running script repetition: 3\n",
      "  Running scripts against: HISTORY\n",
      "    Running script repetition: 0\n",
      "    Running script repetition: 1\n",
      "    Running script repetition: 2\n",
      "    Running script repetition: 3\n"
     ]
    },
    {
     "data": {
      "text/html": [
       "<div>\n",
       "<style scoped>\n",
       "    .dataframe tbody tr th:only-of-type {\n",
       "        vertical-align: middle;\n",
       "    }\n",
       "\n",
       "    .dataframe tbody tr th {\n",
       "        vertical-align: top;\n",
       "    }\n",
       "\n",
       "    .dataframe thead th {\n",
       "        text-align: right;\n",
       "    }\n",
       "</style>\n",
       "<table border=\"1\" class=\"dataframe\">\n",
       "  <thead>\n",
       "    <tr style=\"text-align: right;\">\n",
       "      <th></th>\n",
       "      <th>profile</th>\n",
       "      <th>index</th>\n",
       "      <th>statement</th>\n",
       "      <th>error</th>\n",
       "      <th>rows_affected</th>\n",
       "      <th>runtime_ms</th>\n",
       "    </tr>\n",
       "  </thead>\n",
       "  <tbody>\n",
       "    <tr>\n",
       "      <td>0</td>\n",
       "      <td>SAMPLE</td>\n",
       "      <td>0</td>\n",
       "      <td>WITH SALARYBY (DEPTNO, TOTAL) AS\\n    (SELECT DEPT.DEPTNO DNO, SUM(BIGINT(EMP.SALARY)) TOTAL_SAL...</td>\n",
       "      <td></td>\n",
       "      <td>0</td>\n",
       "      <td>263.999999</td>\n",
       "    </tr>\n",
       "    <tr>\n",
       "      <td>1</td>\n",
       "      <td>SAMPLE</td>\n",
       "      <td>0</td>\n",
       "      <td>SELECT DEPT.DEPTNO DNO, SUM(FLOAT(EMP.SALARY)) TOTAL_SALARY\\n  FROM EMPLOYEES EMP, DEPARTMENTS D...</td>\n",
       "      <td></td>\n",
       "      <td>0</td>\n",
       "      <td>425.999999</td>\n",
       "    </tr>\n",
       "    <tr>\n",
       "      <td>2</td>\n",
       "      <td>SAMPLE</td>\n",
       "      <td>1</td>\n",
       "      <td>SELECT DEPT.DEPTNO DNO, SUM(FLOAT(EMP.SALARY)) TOTAL_SALARY\\n  FROM EMPLOYEES EMP, DEPARTMENTS D...</td>\n",
       "      <td></td>\n",
       "      <td>0</td>\n",
       "      <td>560.999990</td>\n",
       "    </tr>\n",
       "    <tr>\n",
       "      <td>3</td>\n",
       "      <td>SAMPLE</td>\n",
       "      <td>2</td>\n",
       "      <td>SELECT DEPT.DEPTNO, DEPT.REVENUE\\n  FROM DEPARTMENTS DEPT WHERE DEPT.REVENUE &gt; 450000000</td>\n",
       "      <td></td>\n",
       "      <td>0</td>\n",
       "      <td>4.000000</td>\n",
       "    </tr>\n",
       "    <tr>\n",
       "      <td>4</td>\n",
       "      <td>SAMPLE</td>\n",
       "      <td>0</td>\n",
       "      <td>WITH SALARYBY (DEPTNO, TOTAL) AS\\n    (SELECT DEPT.DEPTNO DNO, SUM(BIGINT(EMP.SALARY)) TOTAL_SAL...</td>\n",
       "      <td></td>\n",
       "      <td>0</td>\n",
       "      <td>275.000006</td>\n",
       "    </tr>\n",
       "    <tr>\n",
       "      <td>...</td>\n",
       "      <td>...</td>\n",
       "      <td>...</td>\n",
       "      <td>...</td>\n",
       "      <td>...</td>\n",
       "      <td>...</td>\n",
       "      <td>...</td>\n",
       "    </tr>\n",
       "    <tr>\n",
       "      <td>60</td>\n",
       "      <td>HISTORY</td>\n",
       "      <td>2</td>\n",
       "      <td>SELECT DEPT.DEPTNO, DEPT.REVENUE\\n  FROM DEPARTMENTS DEPT WHERE DEPT.REVENUE &gt; 450000000</td>\n",
       "      <td></td>\n",
       "      <td>0</td>\n",
       "      <td>1.000000</td>\n",
       "    </tr>\n",
       "    <tr>\n",
       "      <td>61</td>\n",
       "      <td>HISTORY</td>\n",
       "      <td>0</td>\n",
       "      <td>WITH SALARYBY (DEPTNO, TOTAL) AS\\n    (SELECT DEPT.DEPTNO DNO, SUM(BIGINT(EMP.SALARY)) TOTAL_SAL...</td>\n",
       "      <td></td>\n",
       "      <td>0</td>\n",
       "      <td>61.999999</td>\n",
       "    </tr>\n",
       "    <tr>\n",
       "      <td>62</td>\n",
       "      <td>HISTORY</td>\n",
       "      <td>0</td>\n",
       "      <td>SELECT DEPT.DEPTNO DNO, SUM(FLOAT(EMP.SALARY)) TOTAL_SALARY\\n  FROM EMPLOYEES EMP, DEPARTMENTS D...</td>\n",
       "      <td></td>\n",
       "      <td>0</td>\n",
       "      <td>81.000000</td>\n",
       "    </tr>\n",
       "    <tr>\n",
       "      <td>63</td>\n",
       "      <td>HISTORY</td>\n",
       "      <td>1</td>\n",
       "      <td>SELECT DEPT.DEPTNO DNO, SUM(FLOAT(EMP.SALARY)) TOTAL_SALARY\\n  FROM EMPLOYEES EMP, DEPARTMENTS D...</td>\n",
       "      <td></td>\n",
       "      <td>0</td>\n",
       "      <td>55.000000</td>\n",
       "    </tr>\n",
       "    <tr>\n",
       "      <td>64</td>\n",
       "      <td>HISTORY</td>\n",
       "      <td>2</td>\n",
       "      <td>SELECT DEPT.DEPTNO, DEPT.REVENUE\\n  FROM DEPARTMENTS DEPT WHERE DEPT.REVENUE &gt; 450000000</td>\n",
       "      <td></td>\n",
       "      <td>0</td>\n",
       "      <td>0.000000</td>\n",
       "    </tr>\n",
       "  </tbody>\n",
       "</table>\n",
       "<p>65 rows × 6 columns</p>\n",
       "</div>"
      ],
      "text/plain": [
       "    profile index  \\\n",
       "0    SAMPLE     0   \n",
       "1    SAMPLE     0   \n",
       "2    SAMPLE     1   \n",
       "3    SAMPLE     2   \n",
       "4    SAMPLE     0   \n",
       "..      ...   ...   \n",
       "60  HISTORY     2   \n",
       "61  HISTORY     0   \n",
       "62  HISTORY     0   \n",
       "63  HISTORY     1   \n",
       "64  HISTORY     2   \n",
       "\n",
       "                                                                                              statement  \\\n",
       "0   WITH SALARYBY (DEPTNO, TOTAL) AS\\n    (SELECT DEPT.DEPTNO DNO, SUM(BIGINT(EMP.SALARY)) TOTAL_SAL...   \n",
       "1   SELECT DEPT.DEPTNO DNO, SUM(FLOAT(EMP.SALARY)) TOTAL_SALARY\\n  FROM EMPLOYEES EMP, DEPARTMENTS D...   \n",
       "2   SELECT DEPT.DEPTNO DNO, SUM(FLOAT(EMP.SALARY)) TOTAL_SALARY\\n  FROM EMPLOYEES EMP, DEPARTMENTS D...   \n",
       "3              SELECT DEPT.DEPTNO, DEPT.REVENUE\\n  FROM DEPARTMENTS DEPT WHERE DEPT.REVENUE > 450000000   \n",
       "4   WITH SALARYBY (DEPTNO, TOTAL) AS\\n    (SELECT DEPT.DEPTNO DNO, SUM(BIGINT(EMP.SALARY)) TOTAL_SAL...   \n",
       "..                                                                                                  ...   \n",
       "60             SELECT DEPT.DEPTNO, DEPT.REVENUE\\n  FROM DEPARTMENTS DEPT WHERE DEPT.REVENUE > 450000000   \n",
       "61  WITH SALARYBY (DEPTNO, TOTAL) AS\\n    (SELECT DEPT.DEPTNO DNO, SUM(BIGINT(EMP.SALARY)) TOTAL_SAL...   \n",
       "62  SELECT DEPT.DEPTNO DNO, SUM(FLOAT(EMP.SALARY)) TOTAL_SALARY\\n  FROM EMPLOYEES EMP, DEPARTMENTS D...   \n",
       "63  SELECT DEPT.DEPTNO DNO, SUM(FLOAT(EMP.SALARY)) TOTAL_SALARY\\n  FROM EMPLOYEES EMP, DEPARTMENTS D...   \n",
       "64             SELECT DEPT.DEPTNO, DEPT.REVENUE\\n  FROM DEPARTMENTS DEPT WHERE DEPT.REVENUE > 450000000   \n",
       "\n",
       "   error rows_affected  runtime_ms  \n",
       "0                    0  263.999999  \n",
       "1                    0  425.999999  \n",
       "2                    0  560.999990  \n",
       "3                    0    4.000000  \n",
       "4                    0  275.000006  \n",
       "..   ...           ...         ...  \n",
       "60                   0    1.000000  \n",
       "61                   0   61.999999  \n",
       "62                   0   81.000000  \n",
       "63                   0   55.000000  \n",
       "64                   0    0.000000  \n",
       "\n",
       "[65 rows x 6 columns]"
      ]
     },
     "metadata": {},
     "output_type": "display_data"
    }
   ],
   "source": [
    "profileList = ['SAMPLE','HISTORY']\n",
    "scriptList = [sqlScriptWorkload1, sqlScriptWorkload2]\n",
    "user = 'DB2INST1'\n",
    "password = 'db2inst1'\n",
    "profileReps = 2\n",
    "scriptReps = 4\n",
    "\n",
    "df = runScripts(profileList, scriptList, user, password, profileReps, scriptReps)\n",
    "\n",
    "display(df)"
   ]
  },
  {
   "cell_type": "code",
   "execution_count": 38,
   "metadata": {},
   "outputs": [
    {
     "name": "stdout",
     "output_type": "stream",
     "text": [
      "Total runtime in ms\n",
      "                                                                                                       runtime_ms\n",
      "statement                                                                                                        \n",
      "SELECT DEPT.DEPTNO DNO, SUM(FLOAT(EMP.SALARY)) TOTAL_SALARY\\n  FROM EMPLOYEES EMP, DEPARTMENTS DE...  3550.999977\n",
      "SELECT DEPT.DEPTNO DNO, SUM(FLOAT(EMP.SALARY)) TOTAL_SALARY\\n  FROM EMPLOYEES EMP, DEPARTMENTS DE...  4893.999986\n",
      "SELECT DEPT.DEPTNO, DEPT.REVENUE\\n  FROM DEPARTMENTS DEPT WHERE DEPT.REVENUE > 450000000                40.000001\n",
      "WITH SALARYBY (DEPTNO, TOTAL) AS\\n    (SELECT DEPT.DEPTNO DNO, SUM(BIGINT(EMP.SALARY)) TOTAL_SALA...  2988.999993\n"
     ]
    }
   ],
   "source": [
    "print('Total runtime in ms')\n",
    "pd.set_option('display.max_colwidth', 100)\n",
    "stmtSum = df.groupby(['statement']).sum()\n",
    "print(stmtSum)"
   ]
  },
  {
   "cell_type": "markdown",
   "metadata": {},
   "source": [
    "Compare these results to your original performance without indexes."
   ]
  },
  {
   "cell_type": "code",
   "execution_count": 39,
   "metadata": {},
   "outputs": [
    {
     "name": "stdout",
     "output_type": "stream",
     "text": [
      "Mean runtime in ms\n"
     ]
    },
    {
     "data": {
      "image/png": "[encoded data removed]",
      "text/plain": [
       "<Figure size 432x288 with 1 Axes>"
      ]
     },
     "metadata": {
      "needs_background": "light"
     },
     "output_type": "display_data"
    }
   ],
   "source": [
    "print('Mean runtime in ms')\n",
    "pd.set_option('display.max_colwidth', 100)\n",
    "profileSum = df.groupby(['profile']).sum()\n",
    "profileSum.plot(kind='bar')\n",
    "plt.show()"
   ]
  },
  {
   "cell_type": "markdown",
   "metadata": {},
   "source": [
    "### Clean Up\n",
    "\n",
    "If you want to run the lab again, or try with different indexes, you can use the cells below to drop either the current indexes or the original tables. \n",
    "\n",
    "Experiment with different SQL Statements, and different tables to see what your results look like. You can even try to create new cells that will run different workloads on different databases. "
   ]
  },
  {
   "cell_type": "code",
   "execution_count": 40,
   "metadata": {},
   "outputs": [
    {
     "name": "stdout",
     "output_type": "stream",
     "text": [
      "Profile: SAMPLE\n",
      "Statement: 0: DROP INDEX ix_salary\n",
      "Runtime ms: 56.0000017285347\n",
      "No errors. Row Affected: 0\n",
      "\n",
      "Statement: 1: DROP INDEX ix_empdept\n",
      "Runtime ms: 16.00000075995922\n",
      "No errors. Row Affected: 0\n",
      "\n",
      "Statement: 2: DROP INDEX ix_dept\n",
      "Runtime ms: 7.000000216066837\n",
      "No errors. Row Affected: 0\n",
      "\n",
      "Profile: HISTORY\n",
      "Statement: 0: DROP INDEX ix_salary\n",
      "Runtime ms: 18.99999938905239\n",
      "No errors. Row Affected: 0\n",
      "\n",
      "Statement: 1: DROP INDEX ix_empdept\n",
      "Runtime ms: 7.000000216066837\n",
      "No errors. Row Affected: 0\n",
      "\n",
      "Statement: 2: DROP INDEX ix_dept\n",
      "Runtime ms: 4.999999888241291\n",
      "No errors. Row Affected: 0\n",
      "\n",
      "done\n"
     ]
    }
   ],
   "source": [
    "dropIndexes = \\\n",
    "'''\n",
    "DROP INDEX ix_salary;\n",
    "DROP INDEX ix_empdept;\n",
    "DROP INDEX ix_dept;\n",
    "'''\n",
    "profileList = ['SAMPLE','HISTORY']\n",
    "scriptList = [dropIndexes]\n",
    "user = 'DB2INST1'\n",
    "password = 'db2inst1'\n",
    "\n",
    "for profile in profileList :\n",
    "    print('Profile: '+profile)\n",
    "    for script in scriptList :\n",
    "        json = runSQL(profile, user, password, script)\n",
    "        displayResults(json)\n",
    "print('done')"
   ]
  },
  {
   "cell_type": "code",
   "execution_count": 41,
   "metadata": {},
   "outputs": [
    {
     "name": "stdout",
     "output_type": "stream",
     "text": [
      "Profile: SAMPLE\n",
      "Statement: 0: DROP TABLE EMPLOYEES\n",
      "Runtime ms: 81.00000023841858\n",
      "No errors. Row Affected: 0\n",
      "\n",
      "Statement: 1: DROP TABLE DEPARTMENTS\n",
      "Runtime ms: 12.000000104308128\n",
      "No errors. Row Affected: 0\n",
      "\n",
      "Profile: HISTORY\n",
      "Statement: 0: DROP TABLE EMPLOYEES\n",
      "Runtime ms: 21.99999988079071\n",
      "No errors. Row Affected: 0\n",
      "\n",
      "Statement: 1: DROP TABLE DEPARTMENTS\n",
      "Runtime ms: 3.000000026077032\n",
      "No errors. Row Affected: 0\n",
      "\n",
      "done\n"
     ]
    }
   ],
   "source": [
    "dropTables = \\\n",
    "'''\n",
    "DROP TABLE EMPLOYEES;\n",
    "DROP TABLE DEPARTMENTS;\n",
    "'''\n",
    "profileList = ['SAMPLE','HISTORY']\n",
    "scriptList = [dropTables]\n",
    "user = 'DB2INST1'\n",
    "password = 'db2inst1'\n",
    "\n",
    "for profile in profileList :\n",
    "    print('Profile: '+profile)\n",
    "    for script in scriptList :\n",
    "        json = runSQL(profile, user, password, script)\n",
    "        displayResults(json)\n",
    "print('done')"
   ]
  },
  {
   "cell_type": "markdown",
   "metadata": {},
   "source": [
    "#### Credits: IBM 2019, Peter Kohlmann [kohlmann@ca.ibm.com]"
   ]
  }
 ],
 "metadata": {
  "kernelspec": {
   "display_name": "Python 3",
   "language": "python",
   "name": "python3"
  },
  "language_info": {
   "codemirror_mode": {
    "name": "ipython",
    "version": 3
   },
   "file_extension": ".py",
   "mimetype": "text/x-python",
   "name": "python",
   "nbconvert_exporter": "python",
   "pygments_lexer": "ipython3",
   "version": "3.7.4"
  }
 },
 "nbformat": 4,
 "nbformat_minor": 2
}
