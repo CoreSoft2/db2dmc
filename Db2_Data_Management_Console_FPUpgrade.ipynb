{
 "cells": [
  {
   "cell_type": "markdown",
   "metadata": {
    "slideshow": {
     "slide_type": "slide"
    }
   },
   "source": [
    "# Fix Pack Upgrade of the Db2 Data Management Console\n",
    "Fix Pack updates are regularly available for the Db2 Data Management Console. These fix packs include both code fixes as well as new capabilities. Click [What's New in 3.1.1](https://www.ibm.com/support/pages/ibm-db2-data-management-console-version-31x-releases-new-features-and-enhancements) to see a list of the new features.\n",
    "\n",
    "This notebook will walk you through an update of the IBM Db2 Data Management Console in this virtual machine from 3.1 to 3.1.1. You can find the full instructions in the [Db2 Data Management Console Knowledge Center](https://www.ibm.com/support/knowledgecenter/SS5Q8A_3.1.x/com.ibm.datatools.dsweb.ots.upgrade.doc/topics/upgrade_dmctolatestver.html)\n",
    "\n",
    "The Db2 Console installed in this demonstration platform, is at the 3.1 level. While most notebooks in this Hands-On lab work with both 3.1 and 3.1.1 some require that you upgrade to 3.1.1 before running the lab.\n",
    "\n",
    "Let's start by checking the Version you are using now. You may want to arrange these instructions on the page so you can follow along as you move from the browser, to the Db2 Console to a OS Terminal and back. \n",
    "\n",
    "1. Click http://localhost:11080/console and log in:\n",
    "    - Userid: db2inst1\n",
    "    - Password: db2inst1\n",
    "2. Click the **D** icon at the very top right of the Db2 Console\n",
    "3. Select **About**. You should see Version 3.1.0.0."
   ]
  },
  {
   "cell_type": "markdown",
   "metadata": {},
   "source": [
    "## Download the Lastest Db2 Data Management Console 3.1.1\n",
    "The first step is to download the latest fixpack from IBM Fix Central.\n",
    "\n",
    "1. Click https://www.ibm.com/support/fixcentral/\n",
    "2. Enter **Db2 Data Management Console** in the **Product Selector** field\n",
    "3. Click **IBM Db2 Data Management Console** in the search list\n",
    "4. Select **3.1.1.0** in the list of available versions\n",
    "5. Select **Linux** in the list of Platforms\n",
    "6. Click **Continue**\n",
    "7. Click **Browse for fixes**\n",
    "8. Click **Continue** to search for available images\n",
    "9. Click the checkbox beside **3.1.1.0-ibm-datamgtconsole-linux** to select the download image\n",
    "10. Click **Continue**\n",
    "11. If you are not already logged into IBM, log in using your IBMid or create a new IBMid\n",
    "12. Select **Download using your browser (HTTPS)**\n",
    "13. Click **Continue**\n",
    "14. Click **3.1.1.0-ibm-datamgtconsole-linux.tgz** to start the download. Depending on your network speed, this should take anywhere from 1 to 15 minutes. "
   ]
  },
  {
   "cell_type": "markdown",
   "metadata": {},
   "source": [
    "## Stop the Db2 Data Management Console\n",
    "To install the fix pack update you must first stop the Db2 Console. \n",
    "1. Click the **Terminal** icon at the bottom left of the Linux screen\n",
    "2. Enter **cd dmc** to navigate to the Db2 Console install directory\n",
    "3. Enter **./bin/stop.sh** to stop the Db2 Console service\n",
    "4. Enter **./bin/status.sh** to check the Db2 Console service status\n",
    "\n",
    "![Stopping DMC](media/Stop_and_Status.png \"How to Stop the Db2 Console\")\n"
   ]
  },
  {
   "cell_type": "markdown",
   "metadata": {},
   "source": [
    "## Extract the Db2 Console 3.1.1 Code\n",
    "Now that the Db2 Console is stopped you can extract the new code into the install directory. \n",
    "\n",
    "1. Click the **Files** icon at the bottom left of the screen\n",
    "2. Select **Downloads**. You should see the original Db2 Data Management Consile install file as well as the 3.1.1.0 fixpack you just downloaded, listed as **ibm-datamgtconsole-linux(1).tgz**.\n",
    "4. Double click the **ibm-datamgtconsole-linux(1).tgz** file. The Archive Manager opens. \n",
    "5. Double click file icon in the Name column\n",
    "6. Double click **ibm-datamgmtconsole**\n",
    "7. Select all the files in the **ibm-datamgmtconsole** directory\n",
    "![Select the Db2 Console Files](media/Select_All.png \"Select all the files\")\n",
    "8. Select **Extract** at the top left of the Archive Manager.\n",
    "9. Click **Home** \n",
    "10. Click **dmc**\n",
    "![Select the Db2 Console Files](media/Extract_to_dmc.png \"Select all the files\")\n",
    "11. Make sure that  **Selected files** is checked under the Extract options\n",
    "12. Make sure that **Keep directory structure** is also checked\n",
    "13. Click **Extract**\n",
    "14. Click the **Terminal** icon at the bottom left of the Linux screen\n",
    "15. Make sure you are in the **dmc** directory\n",
    "16. Enter **ls -l** to see the creation time of the files in the directory. The setup.sh should have a date of **Jan 20**."
   ]
  },
  {
   "cell_type": "markdown",
   "metadata": {},
   "source": [
    "## Restarting the Db2 Console\n",
    "Now that the files have been extracted you can run the setup.sh script to update the Db2 Console and restart it.\n",
    "1. Click the Terminal icon at the bottom left of the Linux screen. \n",
    "2. Make sure you are in the dmc directory\n",
    "3. Enter **./setup.sh**\n",
    "4. Enter **1** to accept the License Terms. The installation program will add new tables, views and aliases to the repository database as required. Only new tables are added with 3.1.1.\n",
    "![Restarting](media/Restarting.png \"Restarting\")\n",
    "When the restart is complete you will see a message that the **dsweb** server has started.\n",
    "![Restart Complete](media/Restart_Complete.png \"Restart Complete\")\n",
    "\n",
    "To check the status of the Db2 Console service, run the **bin/Status.sh** command from the command line.\n",
    "![Db2 Console Status](media/Running_Status.png \"Db2 Console Status\")\n"
   ]
  },
  {
   "cell_type": "markdown",
   "metadata": {},
   "source": [
    "## Checking the 3.1.1 Console Operation\n",
    "Now that the code is updated and the Db2 Console service is restarted you can open the console and export some of the new function.\n",
    "1. Click http://localhost:11080/console and log in:\n",
    "    - Userid: db2inst1\n",
    "    - Password: db2inst1\n",
    "2. Click the **D** icon at the very top right of the Db2 Console\n",
    "3. Select **About**. You should see Version 3.1.1.0\n",
    "4. Click the **Bell** icon at the top right side of the Db2 Console to see the new notification center. \n",
    "5. Click the **Gear** icon at the top right of the Db2 Console to see the new SNMP and Email alert options. \n",
    "6. Click the **?** icon to see the new help option\n",
    "\n",
    "For a full list of what is new, click [What's New in 3.1.1](https://www.ibm.com/support/pages/ibm-db2-data-management-console-version-31x-releases-new-features-and-enhancements).\n"
   ]
  },
  {
   "cell_type": "markdown",
   "metadata": {},
   "source": [
    "#### Credits: IBM 2019, 2020, Peter Kohlmann [kohlmann@ca.ibm.com]"
   ]
  }
 ],
 "metadata": {
  "kernelspec": {
   "display_name": "Python 3",
   "language": "python",
   "name": "python3"
  },
  "language_info": {
   "codemirror_mode": {
    "name": "ipython",
    "version": 3
   },
   "file_extension": ".py",
   "mimetype": "text/x-python",
   "name": "python",
   "nbconvert_exporter": "python",
   "pygments_lexer": "ipython3",
   "version": "3.7.4"
  }
 },
 "nbformat": 4,
 "nbformat_minor": 2
}
