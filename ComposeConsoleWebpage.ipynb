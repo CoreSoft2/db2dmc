{
 "cells": [
  {
   "cell_type": "markdown",
   "metadata": {
    "hide_input": false
   },
   "source": [
    "# Building a custom Db2 Console Webpage\n",
    "\n",
    "The user interface of the Db2 Console is built on a micro-services architecture that allows you to share and compose parts of the interface in new ways. You can send other users of the console a link to the same service you are using. Or you can re-use different parts of the user interface in your own customized webpage. \n",
    "\n",
    "In this notebook you will learn:\n",
    "1. How a specific URL lets you navigate to exactly the part of the user interface you want to access\n",
    "2. How to update a URL to only use the core part of a microservice without the full console navigation\n",
    "3. How to build your own customer webpage using a sample html file\n",
    "4. How to install Apache to share you new page with other users"
   ]
  },
  {
   "cell_type": "markdown",
   "metadata": {},
   "source": [
    "### Where to find this sample online\n",
    "You can find a copy of this notebook at https://github.com/Db2-DTE-POC/db2dmc."
   ]
  },
  {
   "cell_type": "markdown",
   "metadata": {},
   "source": [
    "## IMPORTANT - Prerequisite - IMPORTANT\n",
    "Before you try this lab you should update the environment to 3.1.1.  Complete the [Applying a Fix Pack to the Db2 Console](http://localhost:8888/notebooks/Db2_Data_Management_Console_FPUpgrade.ipynb) lab. It is important that you complete the last step of the upgrade lab: **Update the 3.1.1 Console to Support IFrame Embedding**. There are additional security settings added to 3.1.1 that you should understand before you start this lab. "
   ]
  },
  {
   "cell_type": "markdown",
   "metadata": {},
   "source": [
    "### Prepare the notebook\n",
    "Click on the next cell and press Shift-Return to refresh all of the examples in this notebook. This sets up the notebook example code."
   ]
  },
  {
   "cell_type": "code",
   "execution_count": null,
   "metadata": {},
   "outputs": [],
   "source": [
    "%run refresh.ipynb"
   ]
  },
  {
   "cell_type": "markdown",
   "metadata": {},
   "source": [
    "### How to Copy Code and Examples\n",
    "Throughout this lab there are code samples that need to be copied and modified in a text editor. Any commands that need to be executed from a command line are found in grey boxes (an example is found below) has been designed to be easily copied.\n",
    "1. Click on the next cell"
   ]
  },
  {
   "cell_type": "code",
   "execution_count": 2,
   "metadata": {
    "hide_input": true,
    "tags": [
     "refresh"
    ]
   },
   "outputs": [
    {
     "data": {
      "text/html": [
       "<div style=\"margin-left: 35px; border-style: solid; border-width: 1px; background-color:#F2F2F2; padding: 10px;\" >\n",
       "<pre id=111 onmousedown=\"window.clipline(111)\" onmouseup=\"window.reset(111)\">\n",
       "Sample commands are found in cells like this.\n",
       "</pre>\n",
       "</div>\n"
      ],
      "text/plain": [
       "<IPython.core.display.HTML object>"
      ]
     },
     "metadata": {},
     "output_type": "display_data"
    }
   ],
   "source": [
    "%%html\n",
    "<div style=\"margin-left: 35px; border-style: solid; border-width: 1px; background-color:#F2F2F2; padding: 10px;\" >\n",
    "<pre id=111 onmousedown=\"window.clipline(111)\" onmouseup=\"window.reset(111)\">\n",
    "Sample commands are found in cells like this.\n",
    "</pre>\n",
    "</div>"
   ]
  },
  {
   "cell_type": "markdown",
   "metadata": {},
   "source": [
    "The entire contents of the text in the cell will be automatically copied when you click on the cell. The color of the background will change color briefly to indicate that the copy has completed. To paste commands into a terminal window, use the key combination Control-Shift-v.\n",
    "\n",
    "It may be easier to keep a terminal window on top of the Jupyter notebook when running these commands. When you have a terminal window displayed, right click on the title bar and select Always on Top to keep the screen visible during the duration of the lab.\n"
   ]
  },
  {
   "cell_type": "markdown",
   "metadata": {},
   "source": [
    "## Understanding how the Db2 Console URLs work\n",
    "Each time you select a new page the URL in the browser navigation field uniquely identifies a specific part of the Db2 Console interface. You can:\n",
    "1. Send a copy of that URL to another Db2 Console user so they can quickly navigate to the same page you are seeing. \n",
    "2. Include the URL in a email note, Slack message or GIT issue for later reference\n",
    "3. Bookmark the URL so you can quickly navigate to it later\n",
    "4. Copy the URL to another browser window or tab so that you can quickly switch between differnt parts of the console\n",
    "\n",
    "You can try this yourself. Go to the console:\n",
    "\n",
    "Click the following link: http://localhost:11080/console and enter the following log on information:\n",
    "\n",
    "Userid: db2inst1\n",
    "Password: db2inst1\n",
    "\n",
    "1. Click the Explore icon at the left of the console\n",
    "2. Click Tables\n",
    "3. Select the URL at the top of the web-browser and copy it using Ctrl-C\n",
    "4. Open a new browser window\n",
    "5. Paste the URL into the new browswer window using Ctrl-V\n",
    "6. Hit Enter\n",
    "\n",
    "The table explorer window should now open in the new browser window."
   ]
  },
  {
   "cell_type": "markdown",
   "metadata": {},
   "source": [
    "### Team Collaboration\n",
    "\n",
    "Have you noticed the **share icon**? <img align=\"left\" src=\"media/ShareIcon.png\">\n",
    "\n",
    "Along with being able to forward URLs, you can send more detailed URLs that capture all your choices on a specific page. Look for the \"share\" icon (three circle connected by two lines) on most page in the user interface. \n",
    "\n",
    "You can try this yourself. Go to the console:\n",
    "\n",
    "1. Click the Monitor icon at the left of the console screen\n",
    "2. Click Monitor\n",
    "3. Select Buffer Pools\n",
    "4. Click the clock icon at the top of the page\n",
    "5. Select Last 1 hour\n",
    "6. Select the filer icon a the top right of the table of buffer pools\n",
    "7. Create a new filter to only include buffer pools with the number of logical reads per hour greater than 1000\n",
    "8. Select **Apply**\n",
    "9. Click the share icon beside Buffer Pools. The icon has three circles connected by two lines.\n",
    "10. Click the copy icon to the right of the long URL\n",
    "11. Open a new browser window\n",
    "12. Paste the URL into the new browswer window using Ctrl-V\n",
    "13. Hit Enter. A prompt window appears to let you know were the URL is from\n",
    "14. Click **this window**\n",
    "\n",
    "The console page that appears should include the timeframe as well as the filter criteria you set. "
   ]
  },
  {
   "cell_type": "markdown",
   "metadata": {},
   "source": [
    "### Using Embedded User Interface Microservices\n",
    "With a small modification to the URL you can just embed that page into your own IFrame in your own webpage or Jupyter notebook. So if you just want to include our SQL Editor in your own webpage and don't want the whole console you now can. The next steps show an example of how to embed those micro-services.\n",
    "\n",
    "This notebook includes the IPython IFrame library that lets you embed parts of the console user interface as microservices. You can use the same technique to include the same parts of the interface into Python, JavaScript or HTML code. \n",
    "\n",
    "Notice that the URL at the top of the console webpage changes each time you move to a new part of the console interface. We are using those same pages, with one small difference. In the examples below we include **?mode=compact** in teh URL being embedded in the IFrame. \n",
    "\n",
    "Run the next cells. \n",
    "\n",
    "1. Click the next cell\n",
    "2. Click the **Run** button in the menu above\n",
    "3. Continue clicking **Run** to complete the remaining cells"
   ]
  },
  {
   "cell_type": "code",
   "execution_count": null,
   "metadata": {},
   "outputs": [],
   "source": [
    "# Import the class libraries \n",
    "from IPython.display import IFrame\n",
    "from IPython.display import display, HTML"
   ]
  },
  {
   "cell_type": "code",
   "execution_count": null,
   "metadata": {},
   "outputs": [],
   "source": [
    "# Define the parts of the URL string to used to embed a component of the user interface\n",
    "Console  = 'http://localhost:11080/console/?mode=compact#'"
   ]
  },
  {
   "cell_type": "markdown",
   "metadata": {},
   "source": [
    "In this first example we will create the URL to explore tables and call it through an IFrame class.\n",
    "\n",
    "If you haven't already logged in, use the following userid and password:\n",
    "\n",
    "* Userid: db2inst1\n",
    "* Password: db2inst1"
   ]
  },
  {
   "cell_type": "code",
   "execution_count": null,
   "metadata": {
    "scrolled": true
   },
   "outputs": [],
   "source": [
    "# Embed the Table Explorer\n",
    "databaseprofile  = 'SAMPLE'\n",
    "url = Console+'explore/table'+'?profile='+databaseprofile\n",
    "print(\"URL: \"+ url)\n",
    "# Call the URL inside its own IFrame\n",
    "IFrame(url, width=1400, height=300)"
   ]
  },
  {
   "cell_type": "markdown",
   "metadata": {},
   "source": [
    "1. Click the checkbox beside **DB2INST1** in the embedded page above\n",
    "2. Click **EMPLOYEE**"
   ]
  },
  {
   "cell_type": "markdown",
   "metadata": {},
   "source": [
    "## Exploring the Sample Custom Webpage\n",
    "With some simple CSS and HTML coding you can create your own custom webpage for a specific database. \n",
    "\n",
    "1. Click the Files icon at the bottom left of the screen\n",
    "2. Double-click **notebooks**\n",
    "3. Double-click **index.html**\n",
    "\n",
    "This opens the sample webpage into the web browser. There are multiple cells each with a log in panel. \n",
    "\n",
    "4. Log into one panel with the following userid and password:\n",
    "    * Userid: db2inst1\n",
    "    * Password: db2inst1\n",
    "    \n",
    "5. Click the **Reload** icon to the left of the URL navigation field at the top of the browser window. This uses the login information from the one panel across all the panels.\n",
    "There are four segments to this sample page. The top area includes the SQL Editor. Below that are two segments side by side. To the left is the table browser. To ther right is a set of Key Performance Metrics (KPI) for the console. If you scroll down the web page, you will find the fourth segment that contains a list of SQL Statements in the Package Cache. "
   ]
  },
  {
   "cell_type": "markdown",
   "metadata": {},
   "source": [
    "### Exploring the CSS and HTML code of the Sample Webpage\n",
    "Lets have a look at the index.html file source code. \n",
    "To open the file:\n",
    "1. Click the **Files** icon at the bottom left of the screen\n",
    "2. Double-click **+Other Locations**\n",
    "3. Double-click **Computer**\n",
    "4. Double-click **var**\n",
    "5. Double-click **www**\n",
    "6. Double-click **html**\n",
    "7. Right-click **index.html**\n",
    "8. Select **Open with Other Application**\n",
    "9. Click **View all Applications**\n",
    "10. Click **Text Editor**\n",
    "11. Click **Select**\n",
    "\n",
    "The sample index.html page should open in the Text Editor. The file contains two main sections. The first section starts after the **head** tag. It includes the embedded CSS style information, which is inside the **style** tags.\n",
    "    \n",
    "The important thing to notice is that each section will fill the whole width of the screen. However level level is a pre-defined height. 400 px for the editor, 500 px for the mid section and 700 px for the bottom section. You can adjust these, save the file and reload the webpage to see the change."
   ]
  },
  {
   "cell_type": "code",
   "execution_count": null,
   "metadata": {},
   "outputs": [],
   "source": [
    "<!DOCTYPE html>\n",
    "<html lang=\"en\">\n",
    "<head>\n",
    "<meta charset=\"utf-8\">\n",
    "<meta name=\"viewport\" content=\"width=device-width, initial-scale=1\">\n",
    "<style>\n",
    "* {\n",
    "  box-sizing: border-box;\n",
    "}\n",
    "\n",
    "body {\n",
    "  font-family: Arial, Helvetica, sans-serif;\n",
    "}\n",
    "\n",
    ".editor {\n",
    "   height: 400px;\n",
    "   left: 0;\n",
    "   top: 0;\n",
    "   width: 100%;\n",
    "}\n",
    "\n",
    ".editor iframe {\n",
    "   height: 100%;\n",
    "   width: 100%;\n",
    "   left: 0;\n",
    "   top: 0;\n",
    "}\n",
    "\n",
    ".split {\n",
    "  height: 500px;\n",
    "  width: 100%;\n",
    "  left: 0;\n",
    "  top: 0\n",
    "}\n",
    "\n",
    ".split iframe {\n",
    "   height: 100%\n",
    "   width: 50%\n",
    "   float: left\n",
    "   top: 0;\n",
    "}\n",
    "\n",
    ".bottom {\n",
    "   height: 700px;\n",
    "   width: 100%;\n",
    "   left: 0;\n",
    "   top: 0;\n",
    "}\n",
    "\n",
    ".bottom iframe {\n",
    "   height: 700px;\n",
    "   width: 100%;\n",
    "   left: 0;\n",
    "   top: 0;\n",
    "}\n",
    "\n",
    "</style>\n",
    "</head>"
   ]
  },
  {
   "cell_type": "markdown",
   "metadata": {},
   "source": [
    "The next section is the body of the webpage. It includes the three main divisions that seperate the top, middle and bottom of the page. \n",
    "\n",
    "Each Db2 Console microservice call is included in an IFrame. The Iframe includes the **sandbox** attribute\n",
    "that lifts some of the default restrictions of IFrames. We recommend using the following attributes:\n",
    "\n",
    "* allow-popups: Allows popups\n",
    "* allow-same-origin: If this token is not used, the resource is treated as being from a special origin that always fails the same-origin policy.\n",
    "* allow-scripts: Lets the resource run scripts (but not create popup windows).\n",
    "* allow-top-navigation: Lets the resource navigate the top-level browsing context.\n",
    "\n",
    "The first 3 IFrames include simple links to the Db2 Console services. We will use the first to explain each part:\n",
    "http://localhost:11080/console/?mode=compact#sql/editor?profile=SAMPLE\n",
    "1. **http://localhost:11080/console/** this is the location of the Db2 Console service\n",
    "2. **?mode=compact** this specifies that the service should only display the SQL Editor without the full Console navigation\n",
    "3. **#sql/editor** this specifies that you want to include the SQL Editor\n",
    "4. **?profile=SAMPLE**\n",
    "\n",
    "The next two IFrames follow the same structure. \n",
    "\n",
    "The last IFrame includes more detail. This was retrieved from the Db2 Console using the share icon\n",
    "<img align=\"left\" src=\"media/ShareIcon.png\"> in package cache monitoring page. The additional detail following **/share/link** is generated by the share function and includes details like the timeframe of the monitoring results, the columns included and sort order. "
   ]
  },
  {
   "cell_type": "code",
   "execution_count": null,
   "metadata": {},
   "outputs": [],
   "source": [
    "<body>\n",
    "<div class='editor'>\n",
    "\t<iframe \n",
    "  \t\tsandbox=\"allow-same-origin allow-scripts allow-popups allow-forms allow-top-navigation\"\n",
    "  \t\tsrc=\"http://localhost:11080/console/?mode=compact#sql/editor?profile=SAMPLE\">\n",
    "\t</iframe>\n",
    "</div>\n",
    "\n",
    "<div class='split'>\n",
    "\t<iframe\n",
    "\t\talign=\"left\"\n",
    "\t\theight=\"100%\" width=\"50%\" \n",
    "  \t\tsandbox=\"allow-same-origin allow-scripts allow-popups allow-forms allow-top-navigation\"\n",
    "  \t\tsrc=\"http://localhost:11080/console/?mode=compact#explore/table?profile=SAMPLE\">\n",
    "\t</iframe>\n",
    "\t<iframe\n",
    "\t\talign=\"right\"\n",
    "\t\theight=\"100%\" width=\"50%\" \n",
    "  \t\tsandbox=\"allow-same-origin allow-scripts allow-popups allow-forms allow-top-navigation\"\n",
    "  \t\tsrc=\"http://localhost:11080/console/?mode=compact#monitor/resourceUsage?profile=SAMPLE\">\n",
    "\t</iframe>\n",
    "</div>\n",
    "\n",
    "<div class='bottom'>\n",
    "\t<iframe \n",
    "\t\theight=\"100%\"\n",
    "  \t\tsandbox=\"allow-same-origin allow-scripts allow-popups allow-forms allow-top-navigation\"\n",
    "  \t\tsrc=\"http://localhost:11080/console/?mode=compact#/share/link/%7B%22p%22%3A%22%2Fmonitor%2Fpackage_cache%3Fprofile%3DSAMPLE%22%2C%22c%22%3A%7B%22time%22%3A%7B%22start%22%3A1582293467678%2C%22end%22%3A1582297067678%7D%2C%22detailObjectList%22%3A%7B%22sql_hash_id%22%3Anull%7D%2C%22contextPara%22%3A%7B%22showSystemStmt%22%3Afalse%2C%22loadTime%22%3A1%2C%22sort%22%3A%7B%22orderColumn%22%3A%22stmt_exec_time_ms%22%2C%22orderBy%22%3A%22desc%22%7D%2C%22is_average%22%3A%22byAvg%22%7D%2C%22otherPara%22%3A%7B%22is_average%22%3A%22byAvg%22%7D%7D%2C%22r%22%3A%7B%22shell%22%3A%7B%22localTime%22%3Atrue%7D%7D%7D\"\t\n",
    "\t</iframe>\n",
    "</div>\n",
    "\n",
    "\n",
    "</body>\n",
    "</html>"
   ]
  },
  {
   "cell_type": "markdown",
   "metadata": {},
   "source": [
    "## Modifying the Sample Webpage\n",
    "You can easily update the sample webpage to include different components. In this example we will edit a simple URL. You can find these at the top of any Db2 Console page in the URL browser:\n",
    "1. Click on the Text Editor icon at the bottom of the screen to return to the index.html file\n",
    "2. Update the first IFrame and change **#sql/editor** to **monitor/overview**. The line should now look like this:\n",
    "   src=\"http://localhost:11080/console/?mode=compact#monitor/overview?profile=SAMPLE\"\n",
    "3. Click **Save**\n",
    "4. Return to the **home/db2pot/notebooks/index.html** page in the browser\n",
    "5. Reload the page by clicking the reload icon to the left of the URL browser or use **Ctrl-R**\n",
    "You should now see you new page with the Data Time Spent screen at the top of your page instead of the SQL Editor."
   ]
  },
  {
   "cell_type": "markdown",
   "metadata": {},
   "source": [
    "## Using a Share Link\n",
    "You can also update the sample html page using a share link from the console. \n",
    "1. Return to the full Db2 Console: http://localhost:11080/console\n",
    "2. Select the **Monitor** icon at the top left of console menu\n",
    "3. Expand the monitor menu and select **Storage**\n",
    "4. Select **Storage** from the submenu\n",
    "5. Switch from **Tables** to **Schemas** using the drop down menu\n",
    "6. Click the **share icon** beside the Storage title\n",
    "7. Click **Html**\n",
    "8. Click the **Copy to Clipboard** icon at the right of the html\n",
    "9. Click on the Text Editor icon at the bottom of the screen to return to the index.html file\n",
    "10. Highlight the **last** IFrame from **<IFrame** to **/IFrame>**\n",
    "11. Right-click and select **paste**\n",
    "12. Click **Save**\n",
    "13. Return to the **home/db2pot/notebooks/index.html** page in the browser\n",
    "14. Reload the page by clicking the reload icon to the left of the URL browser or use **Ctrl-R**\n",
    "You should now see you new page with the Storage screen at the bottom of your page. You may need to scroll down to see it. Notice that the display is by **Schema**. This option was included in the html that you copied from the share."
   ]
  },
  {
   "cell_type": "markdown",
   "metadata": {},
   "source": [
    "## Sharing your new page outside of your Desktop\n",
    "So far you have only been viewing a webpage that is available through your filesystem. If you want to share your page with someone else you need to install simple web server.\n",
    "\n",
    "### Install Apache2\n",
    "You can install a web server in just a few minutes into the Hands-on Lab environment using the **apt** command. \n",
    "\n",
    "1. Click the Terminal Icon in the bottom left of the screen\n",
    "2. Enter **sudo apt update** to ensure that all your installed Linux software is at the more current level. Click the cell below to copy it to your clipboard. Then paste it into the terminal window."
   ]
  },
  {
   "cell_type": "code",
   "execution_count": 3,
   "metadata": {
    "hide_input": true,
    "tags": [
     "refresh"
    ]
   },
   "outputs": [
    {
     "data": {
      "text/html": [
       "<div style=\"margin-left: 35px; border-style: solid; border-width: 1px; background-color:#F2F2F2; padding: 10px;\" >\n",
       "<pre id=112 onmousedown=\"window.clipline(112)\" onmouseup=\"window.reset(112)\">\n",
       "sudo apt update\n",
       "</pre>\n",
       "</div>\n"
      ],
      "text/plain": [
       "<IPython.core.display.HTML object>"
      ]
     },
     "metadata": {},
     "output_type": "display_data"
    }
   ],
   "source": [
    "%%html\n",
    "<div style=\"margin-left: 35px; border-style: solid; border-width: 1px; background-color:#F2F2F2; padding: 10px;\" >\n",
    "<pre id=112 onmousedown=\"window.clipline(112)\" onmouseup=\"window.reset(112)\">\n",
    "sudo apt update\n",
    "</pre>\n",
    "</div>"
   ]
  },
  {
   "cell_type": "markdown",
   "metadata": {
    "hide_input": true
   },
   "source": [
    "3. Enter **sudo apt install apache2** to install Apache. Copy the command from the cell below or type it directly into the command line terminal."
   ]
  },
  {
   "cell_type": "code",
   "execution_count": 4,
   "metadata": {
    "hide_input": true,
    "tags": [
     "refresh"
    ]
   },
   "outputs": [
    {
     "data": {
      "text/html": [
       "<div style=\"margin-left: 35px; border-style: solid; border-width: 1px; background-color:#F2F2F2; padding: 10px;\" >\n",
       "<pre id=112 onmousedown=\"window.clipline(112)\" onmouseup=\"window.reset(112)\">\n",
       "sudo apt install apache2\n",
       "</pre>\n",
       "</div>\n"
      ],
      "text/plain": [
       "<IPython.core.display.HTML object>"
      ]
     },
     "metadata": {},
     "output_type": "display_data"
    }
   ],
   "source": [
    "%%html\n",
    "<div style=\"margin-left: 35px; border-style: solid; border-width: 1px; background-color:#F2F2F2; padding: 10px;\" >\n",
    "<pre id=112 onmousedown=\"window.clipline(112)\" onmouseup=\"window.reset(112)\">\n",
    "sudo apt install apache2\n",
    "</pre>\n",
    "</div>"
   ]
  },
  {
   "cell_type": "markdown",
   "metadata": {},
   "source": [
    "4. Enter **Y** when prompted\n",
    "5. Click https://help.ubuntu.com/lts/serverguide/apt.html to find out more about the apt command\n",
    "6. Click http://localhost:80 to confirm that Apache is up and running"
   ]
  },
  {
   "cell_type": "markdown",
   "metadata": {},
   "source": [
    "### Copy the Sample HTML file to the Apache Directory\n",
    "Now that Apache is up and running you can replace the default index.html page with the sample include in the notebooks directory.\n",
    "\n",
    "1. Return to the Terminal Window from the previous step\n",
    "2. Click on the next cell to copy the commands and paste them into the terminal "
   ]
  },
  {
   "cell_type": "code",
   "execution_count": 5,
   "metadata": {
    "hide_input": true,
    "tags": [
     "refresh"
    ]
   },
   "outputs": [
    {
     "data": {
      "text/html": [
       "<div style=\"margin-left: 35px; border-style: solid; border-width: 1px; background-color:#F2F2F2; padding: 10px;\" >\n",
       "<pre id=113 onmousedown=\"window.clipline(113)\" onmouseup=\"window.reset(113)\">\n",
       "sudo chnod ugo+rwx /var/www/html\n",
       "sudo rm /var/www/html/index.html\n",
       "sudo cp /home/db2pot/notebooks/index.html /var/www/html\n",
       "</pre>\n",
       "</div>\n"
      ],
      "text/plain": [
       "<IPython.core.display.HTML object>"
      ]
     },
     "metadata": {},
     "output_type": "display_data"
    }
   ],
   "source": [
    "%%html\n",
    "<div style=\"margin-left: 35px; border-style: solid; border-width: 1px; background-color:#F2F2F2; padding: 10px;\" >\n",
    "<pre id=113 onmousedown=\"window.clipline(113)\" onmouseup=\"window.reset(113)\">\n",
    "sudo chnod ugo+rwx /var/www/html\n",
    "sudo rm /var/www/html/index.html\n",
    "sudo cp /home/db2pot/notebooks/index.html /var/www/html\n",
    "</pre>\n",
    "</div>"
   ]
  },
  {
   "cell_type": "markdown",
   "metadata": {},
   "source": [
    "3. Click http://localhost:80 to confirm that the new index.html sample page is up and running\n",
    "4. If you don't see the change, you may need to reload the browser page. Click on the broswer and type **Ctrl+R** \n",
    "\n",
    "If you make additional changes to your webpage make sure you are changing the right file. There is now a copy in the **notebooks** directory and one in the Apache var/www/html directory. You will only see changes through the web server if you change the file in the **var/www/html** directory."
   ]
  },
  {
   "cell_type": "markdown",
   "metadata": {
    "hide_input": false
   },
   "source": [
    "## Next Steps\n",
    "This is only the start, you can build more elaborate webpages. Try changing the **?profile=SAMPLE** part of the URLs to access other database connection profiles. Remember this refers to the database connection profile name, not the database name itself. \n",
    "\n",
    "If you want to learn more about configuring the Db2 Console and adding additional database connections try the [Managing the Console Setting](http://localhost:8888/notebooks/Db2_Data_Management_Console_Management.ipynb) lab."
   ]
  },
  {
   "cell_type": "markdown",
   "metadata": {},
   "source": [
    "#### Credits: IBM 2020, Peter Kohlmann [kohlmann@ca.ibm.com]"
   ]
  }
 ],
 "metadata": {
  "celltoolbar": "Tags",
  "kernelspec": {
   "display_name": "Python 3",
   "language": "python",
   "name": "python3"
  },
  "language_info": {
   "codemirror_mode": {
    "name": "ipython",
    "version": 3
   },
   "file_extension": ".py",
   "mimetype": "text/x-python",
   "name": "python",
   "nbconvert_exporter": "python",
   "pygments_lexer": "ipython3",
   "version": "3.7.4"
  }
 },
 "nbformat": 4,
 "nbformat_minor": 2
}
