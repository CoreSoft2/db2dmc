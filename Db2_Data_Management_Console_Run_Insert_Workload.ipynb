{
 "cells": [
  {
   "cell_type": "markdown",
   "metadata": {},
   "source": [
    "# DRAFT - Run SQL Workloads - Insert and Update Data - DRAFT\n",
    "\n",
    "This Jupyter Notebook contains code to run SQL workloads across databases. \n",
    "\n",
    "The Db2 Data Management Console is more than a graphical user interface. It is a set of microservices that you can use to build custom applications to automate your use of Db2.\n",
    "\n",
    "This Jupyter Notebook contains examples of how to use the Open APIs and the composable interface that are available in the Db2 Data Management Console. Everything in the User Interface is also available through an open and fully documented RESTful Services API. The full set of APIs are documented as part of the Db2 Data Management Console user interface. In this hands on lab you can connect to the documentation directly through this link: [Db2 Data Management Console RESTful APIs](http://localhost:11080/dbapi/api/index_enterprise.html). \n",
    "\n",
    "You can also embed elements of the full user interface into an IFrame by constructing the appropriate URL.\n",
    "\n",
    "This hands on lab will be calling the Db2 Data Management Console as a service. However you can explore it through the user interface as well. Just click on the following link to try out the console that is already and setup in this lab: http://localhost:11080/console. If you have not already logged in you can use the following:\n",
    "* Userid: db2inst1\n",
    "* Password: db2inst1"
   ]
  },
  {
   "cell_type": "markdown",
   "metadata": {},
   "source": [
    "### Import Helper Classes\n",
    "For more information on these classes, see the lab: [Automate Db2 with Open Console Services](http://localhost:8888/notebooks/Db2_Data_Management_Console_Overview.ipynb)"
   ]
  },
  {
   "cell_type": "code",
   "execution_count": null,
   "metadata": {},
   "outputs": [],
   "source": [
    "%run ./dmc_setup.ipynb"
   ]
  },
  {
   "cell_type": "markdown",
   "metadata": {},
   "source": [
    "### Db2 Data Management Console Connection\n",
    "To connect to the Db2 Data Management Console service you need to provide the URL, the service name (v4) and profile the console user name and password as well as the name of the connection profile used in the console to connect to the database you want to work with. For this lab we are assuming that the following values are used for the connection:\n",
    "* Userid: db2inst1\n",
    "* Password: db2inst1\n",
    "* Connection: sample\n",
    "\n",
    "**Note:** If the Db2 Data Management Console has not completed initialization, the connection below will fail. Wait for a few moments and then try it again."
   ]
  },
  {
   "cell_type": "code",
   "execution_count": null,
   "metadata": {},
   "outputs": [],
   "source": [
    "# Connect to the Db2 Data Management Console service\n",
    "Console  = 'http://localhost:11080'\n",
    "profile  = 'SAMPLE'\n",
    "user     = 'DB2INST1'\n",
    "password = 'db2inst1'\n",
    "\n",
    "# Set up the required connection\n",
    "profileURL = \"?profile=\"+profile\n",
    "databaseAPI = Db2(Console+'/dbapi/v4')\n",
    "\n",
    "if databaseAPI.authenticate(user, password, profile) :\n",
    "    print(\"Token Created\")\n",
    "else : \n",
    "    print(\"Token Creation Failed\")\n",
    "database = Console"
   ]
  },
  {
   "cell_type": "markdown",
   "metadata": {},
   "source": [
    "### Confirm the connection\n",
    "To confirm that your connection is working you can check the status of the moitoring service. You can also check your console connection to get the details of the specific database connection you are working with. Since your console user id and password may be limited as to which databases they can access you need to provide the connection profile name to drill down on any detailed information for the database."
   ]
  },
  {
   "cell_type": "code",
   "execution_count": null,
   "metadata": {},
   "outputs": [],
   "source": [
    "# List Monitoring Profile\n",
    "r = databaseAPI.getProfile(profile)\n",
    "json = databaseAPI.getJSON(r)\n",
    "print(json)"
   ]
  },
  {
   "cell_type": "markdown",
   "metadata": {},
   "source": [
    "### SQL Scripts Used to Generate Work\n",
    "We are going to define a scripts that we will use during this lab to insert and update rows. "
   ]
  },
  {
   "cell_type": "code",
   "execution_count": null,
   "metadata": {},
   "outputs": [],
   "source": [
    "def addEmployees(startingENO, addENO) :\n",
    "    addMoreRows = \\\n",
    "    'INSERT INTO EMPLOYEES ' \\\n",
    "    'WITH DT(ENO) AS (VALUES('+str(startingENO)+') UNION ALL SELECT ENO+1 FROM DT WHERE ENO < '+str(startingENO+addENO-1)+')' \\\n",
    "    '''\n",
    "        SELECT ENO,\n",
    "        RAND() * 500,\n",
    "        TRANSLATE(CHAR(INTEGER(RAND()+500000)),\n",
    "        CASE MOD(ENO,5) WHEN 0 THEN 'aeiou' || 'bcdfg'\n",
    "            WHEN 1 THEN 'aeiou' || 'hjklm'\n",
    "            WHEN 2 THEN 'aeiou' || 'npqrs'\n",
    "            WHEN 3 THEN 'fredr' || 'annab'\n",
    "            ELSE 'aeiou' || 'twxyz' END,\n",
    "            '1234567890') AS LASTNAME,\n",
    "       CURRENT DATE - (RAND()*10957) DAYS AS HIREDATE,\n",
    "       INTEGER(1000*RAND()*200) AS SALARY\n",
    "       FROM DT;\n",
    "    UPDATE  DEPARTMENTS SET REVENUE = REVENUE + INT(100*RAND()*50);    \n",
    "    '''\n",
    "    return addMoreRows\n",
    "print(\"Defined Add More Rows String Routine\")\n"
   ]
  },
  {
   "cell_type": "markdown",
   "metadata": {},
   "source": [
    "### Creating a Routine to Run an SQL Script\n",
    "To make things easier we can create reusable routines that will included everything we have developed so far. By running the next two steps, you create two routines that you can call by passing parameters to them. \n",
    "\n",
    "While we could create a single routine to run SQL and then display the results, we are creating two different routines so that we can display the results differently later in the lab. "
   ]
  },
  {
   "cell_type": "code",
   "execution_count": null,
   "metadata": {},
   "outputs": [],
   "source": [
    "def runSQL(profile,user, password, sqlText):\n",
    "    \n",
    "    if databaseAPI.authenticate(user, password, profile) :\n",
    "\n",
    "        # Run the SQL Script and return the runID for later reference \n",
    "        runID = databaseAPI.getJSON(databaseAPI.runSQL(sqlText))['id'] \n",
    "\n",
    "        # See if there are any results yet for this job\n",
    "        json = databaseAPI.getJSON(databaseAPI.getSQLJobResult(runID))\n",
    "        \n",
    "        # If the REST call returns an error return the json with the error to the calling routine\n",
    "        if 'errors' in json :\n",
    "            return json\n",
    "        # Append the results from each statement in the script to the overall combined JSON result set\n",
    "        fulljson = json\n",
    "\n",
    "        while json['results'] != [] or (json['status'] != \"completed\" and json['status'] != \"failed\") :\n",
    "            json = databaseAPI.getJSON(databaseAPI.getSQLJobResult(runID))\n",
    "\n",
    "            # Get the results from each statement as they return and append the results to the full JSON \n",
    "            for results in json['results'] :\n",
    "                fulljson['results'].append(results)\n",
    "            # Wait 250 ms for more results\n",
    "            time.sleep(0.25) \n",
    "        return fulljson\n",
    "    else :\n",
    "        print('Could not authenticate')\n",
    "print('runSQL routine defined')"
   ]
  },
  {
   "cell_type": "markdown",
   "metadata": {},
   "source": [
    "For each pass through the script to add employees and update department revenue we first need to determine the current maximum employee number."
   ]
  },
  {
   "cell_type": "code",
   "execution_count": null,
   "metadata": {},
   "outputs": [],
   "source": [
    "def maxEmployees(profile) :\n",
    "    json = runSQL(profile, user, password, 'SELECT MAX(ENO) AS COUNT FROM EMPLOYEES')\n",
    "    return json['results'][0]['rows'][0][0]\n",
    "\n",
    "profileList = ['SAMPLE','HISTORY']\n",
    "for profile in profileList :\n",
    "    print(profile + \": \" + maxEmployees(profile))"
   ]
  },
  {
   "cell_type": "markdown",
   "metadata": {},
   "source": [
    "The next cell loops through a list of databases and runs then repeatedly. You can set the number of new employees to add for each repetition and now many times to repeat the cycle. You can also set a time for how long to wait between updates. "
   ]
  },
  {
   "cell_type": "code",
   "execution_count": null,
   "metadata": {},
   "outputs": [],
   "source": [
    "profileList = ['SAMPLE','HISTORY']\n",
    "\n",
    "reps = 50\n",
    "waitTimeSec = 2\n",
    "addRows = 100\n",
    "\n",
    "for x in range(0, reps):\n",
    "    for profile in profileList :\n",
    "        json = runSQL(profile, user, password, addEmployees(int(maxEmployees(profile))+1, addRows))\n",
    "        while 'errors' in json:\n",
    "            print('    * Trying again *')\n",
    "            json = runSQL(profile, user, password, addEmployees(int(maxEmployees(profile))+1, addRows))\n",
    "        print(str(json['results'][0]['rows_affected']) + ' rows added to ' + profile)\n",
    "    time.sleep(waitTimeSec)"
   ]
  },
  {
   "cell_type": "markdown",
   "metadata": {},
   "source": [
    "#### Credits: IBM 2019, Peter Kohlmann [kohlmann@ca.ibm.com]"
   ]
  },
  {
   "cell_type": "code",
   "execution_count": null,
   "metadata": {},
   "outputs": [],
   "source": []
  }
 ],
 "metadata": {
  "kernelspec": {
   "display_name": "Python 3",
   "language": "python",
   "name": "python3"
  },
  "language_info": {
   "codemirror_mode": {
    "name": "ipython",
    "version": 3
   },
   "file_extension": ".py",
   "mimetype": "text/x-python",
   "name": "python",
   "nbconvert_exporter": "python",
   "pygments_lexer": "ipython3",
   "version": "3.7.4"
  }
 },
 "nbformat": 4,
 "nbformat_minor": 2
}
